{
 "cells": [
  {
   "cell_type": "markdown",
   "id": "393fecc1",
   "metadata": {},
   "source": [
    "# House Rocket Sales "
   ]
  },
  {
   "cell_type": "markdown",
   "id": "5fa05d2e",
   "metadata": {},
   "source": [
    "## 0.0 IMPORTS\n"
   ]
  },
  {
   "cell_type": "code",
   "execution_count": 45,
   "id": "5c8ea495",
   "metadata": {
    "ExecuteTime": {
     "end_time": "2021-11-13T22:35:24.523735Z",
     "start_time": "2021-11-13T22:35:24.517752Z"
    }
   },
   "outputs": [],
   "source": [
    "import pandas as pd\n",
    "import numpy as np\n",
    "import time\n",
    "from multiprocessing import Pool\n",
    "import ipywidgets as widgets\n",
    "from ipywidgets import interact, interactive, fixed, interact_manual\n",
    "from matplotlib import pyplot as plt\n",
    "from matplotlib import gridspec\n",
    "from IPython.core.display import HTML\n",
    "from geopy.geocoders import Nominatim\n",
    "from IPython.core.display import HTML\n",
    "import seaborn as sns\n",
    "import warnings\n",
    "import plotly.express as px\n",
    "warnings.simplefilter(action=\"ignore\", category=FutureWarning)"
   ]
  },
  {
   "cell_type": "code",
   "execution_count": 46,
   "id": "11fe7f01",
   "metadata": {
    "ExecuteTime": {
     "end_time": "2021-11-13T22:35:24.539717Z",
     "start_time": "2021-11-13T22:35:24.525729Z"
    }
   },
   "outputs": [],
   "source": [
    "pd.set_option('display.float_format', lambda x: '%.2f' % x)"
   ]
  },
  {
   "cell_type": "markdown",
   "id": "b1be08d3",
   "metadata": {},
   "source": [
    "## 0.1 Helper Functions"
   ]
  },
  {
   "cell_type": "code",
   "execution_count": 47,
   "id": "dd465c37",
   "metadata": {
    "ExecuteTime": {
     "end_time": "2021-11-13T22:35:24.570644Z",
     "start_time": "2021-11-13T22:35:24.540691Z"
    }
   },
   "outputs": [
    {
     "name": "stdout",
     "output_type": "stream",
     "text": [
      "Populating the interactive namespace from numpy and matplotlib\n"
     ]
    },
    {
     "name": "stderr",
     "output_type": "stream",
     "text": [
      "C:\\Users\\fabic\\Anaconda3\\envs\\houserocketsales\\lib\\site-packages\\IPython\\core\\magics\\pylab.py:159: UserWarning: pylab import has clobbered these variables: ['unique', 'interactive']\n",
      "`%matplotlib` prevents importing * from pylab and numpy\n",
      "  warn(\"pylab import has clobbered these variables: %s\"  % clobbered +\n"
     ]
    },
    {
     "data": {
      "text/html": [
       "<style>.container { width:100% !important; }</style>"
      ],
      "text/plain": [
       "<IPython.core.display.HTML object>"
      ]
     },
     "metadata": {},
     "output_type": "display_data"
    }
   ],
   "source": [
    "def jupyter_settings():\n",
    "    %matplotlib inline\n",
    "    %pylab inline\n",
    "    \n",
    "    plt.style.use( 'bmh' )\n",
    "    plt.rcParams['figure.figsize'] = [25, 12]\n",
    "    plt.rcParams['font.size'] = 24\n",
    "    \n",
    "    display( HTML( '<style>.container { width:100% !important; }</style>') )\n",
    "    pd.options.display.max_columns = None\n",
    "    pd.options.display.max_rows = None\n",
    "    pd.set_option( 'display.expand_frame_repr', False )\n",
    "    \n",
    "    sns.set()\n",
    "    \n",
    "jupyter_settings()"
   ]
  },
  {
   "cell_type": "markdown",
   "id": "c276f9f2",
   "metadata": {},
   "source": [
    "## 0.2 Loading Data"
   ]
  },
  {
   "cell_type": "code",
   "execution_count": 48,
   "id": "c16497d1",
   "metadata": {
    "ExecuteTime": {
     "end_time": "2021-11-13T22:35:24.634438Z",
     "start_time": "2021-11-13T22:35:24.572604Z"
    }
   },
   "outputs": [],
   "source": [
    "data = pd.read_csv('data/kc_house_data.csv')"
   ]
  },
  {
   "cell_type": "markdown",
   "id": "48a75d77",
   "metadata": {},
   "source": [
    "# 1.0 DATA DESCRIPTION"
   ]
  },
  {
   "cell_type": "code",
   "execution_count": 49,
   "id": "250a912a",
   "metadata": {
    "ExecuteTime": {
     "end_time": "2021-11-13T22:35:24.650395Z",
     "start_time": "2021-11-13T22:35:24.635475Z"
    }
   },
   "outputs": [],
   "source": [
    "df1 = data.copy()"
   ]
  },
  {
   "cell_type": "markdown",
   "id": "0ad53ae0",
   "metadata": {},
   "source": [
    "## 1.1 Data Types and Dimensions"
   ]
  },
  {
   "cell_type": "code",
   "execution_count": 50,
   "id": "f71cf14c",
   "metadata": {
    "ExecuteTime": {
     "end_time": "2021-11-13T22:35:24.666352Z",
     "start_time": "2021-11-13T22:35:24.651392Z"
    }
   },
   "outputs": [
    {
     "name": "stdout",
     "output_type": "stream",
     "text": [
      "Number of rows: 21613\n",
      "Number of columns: 21\n"
     ]
    }
   ],
   "source": [
    "print('Number of rows: {}'.format(df1.shape[0]))\n",
    "print('Number of columns: {}'.format(df1.shape[1]))"
   ]
  },
  {
   "cell_type": "code",
   "execution_count": 51,
   "id": "cd336d8c",
   "metadata": {
    "ExecuteTime": {
     "end_time": "2021-11-13T22:35:24.682311Z",
     "start_time": "2021-11-13T22:35:24.667350Z"
    }
   },
   "outputs": [
    {
     "data": {
      "text/plain": [
       "id                 int64\n",
       "date              object\n",
       "price            float64\n",
       "bedrooms           int64\n",
       "bathrooms        float64\n",
       "sqft_living        int64\n",
       "sqft_lot           int64\n",
       "floors           float64\n",
       "waterfront         int64\n",
       "view               int64\n",
       "condition          int64\n",
       "grade              int64\n",
       "sqft_above         int64\n",
       "sqft_basement      int64\n",
       "yr_built           int64\n",
       "yr_renovated       int64\n",
       "zipcode            int64\n",
       "lat              float64\n",
       "long             float64\n",
       "sqft_living15      int64\n",
       "sqft_lot15         int64\n",
       "dtype: object"
      ]
     },
     "execution_count": 51,
     "metadata": {},
     "output_type": "execute_result"
    }
   ],
   "source": [
    "df1.dtypes"
   ]
  },
  {
   "cell_type": "markdown",
   "id": "78c19441",
   "metadata": {},
   "source": [
    "## 1.2 Check NA"
   ]
  },
  {
   "cell_type": "code",
   "execution_count": 52,
   "id": "3f75150e",
   "metadata": {
    "ExecuteTime": {
     "end_time": "2021-11-13T22:35:24.698267Z",
     "start_time": "2021-11-13T22:35:24.684305Z"
    }
   },
   "outputs": [
    {
     "data": {
      "text/plain": [
       "id               0\n",
       "date             0\n",
       "price            0\n",
       "bedrooms         0\n",
       "bathrooms        0\n",
       "sqft_living      0\n",
       "sqft_lot         0\n",
       "floors           0\n",
       "waterfront       0\n",
       "view             0\n",
       "condition        0\n",
       "grade            0\n",
       "sqft_above       0\n",
       "sqft_basement    0\n",
       "yr_built         0\n",
       "yr_renovated     0\n",
       "zipcode          0\n",
       "lat              0\n",
       "long             0\n",
       "sqft_living15    0\n",
       "sqft_lot15       0\n",
       "dtype: int64"
      ]
     },
     "execution_count": 52,
     "metadata": {},
     "output_type": "execute_result"
    }
   ],
   "source": [
    "df1.isna().sum()"
   ]
  },
  {
   "cell_type": "markdown",
   "id": "a441a295",
   "metadata": {},
   "source": [
    "## 1.3 Change Data Types"
   ]
  },
  {
   "cell_type": "code",
   "execution_count": 53,
   "id": "c916dc24",
   "metadata": {
    "ExecuteTime": {
     "end_time": "2021-11-13T22:35:24.841032Z",
     "start_time": "2021-11-13T22:35:24.700261Z"
    }
   },
   "outputs": [
    {
     "data": {
      "text/plain": [
       "id                       object\n",
       "date             datetime64[ns]\n",
       "price                   float64\n",
       "bedrooms                  int64\n",
       "bathrooms               float64\n",
       "sqft_living               int64\n",
       "sqft_lot                  int64\n",
       "floors                  float64\n",
       "waterfront               object\n",
       "view                     object\n",
       "condition                object\n",
       "grade                     int64\n",
       "sqft_above                int64\n",
       "sqft_basement             int64\n",
       "yr_built                 object\n",
       "yr_renovated             object\n",
       "zipcode                  object\n",
       "lat                      object\n",
       "long                     object\n",
       "sqft_living15             int64\n",
       "sqft_lot15                int64\n",
       "dtype: object"
      ]
     },
     "execution_count": 53,
     "metadata": {},
     "output_type": "execute_result"
    }
   ],
   "source": [
    "# id, yr_built, yr_renovated, zipcode\n",
    "df1[['id', 'waterfront', 'view', 'condition', 'yr_built', 'yr_renovated', 'zipcode']] = df1[['id', 'waterfront', 'view', 'condition', 'yr_built', 'yr_renovated', 'zipcode']].astype(str)\n",
    "\n",
    "# lat, long\n",
    "df1[['lat', 'long']] = df1[['lat', 'long']].astype(str)\n",
    "\n",
    "# Date\n",
    "df1['date'] = pd.to_datetime(df1['date'])\n",
    "df1.dtypes"
   ]
  },
  {
   "cell_type": "markdown",
   "id": "8cbf45ab",
   "metadata": {},
   "source": [
    "## 1.4 Descriptive Statistics"
   ]
  },
  {
   "cell_type": "code",
   "execution_count": 54,
   "id": "39606bfc",
   "metadata": {
    "ExecuteTime": {
     "end_time": "2021-11-13T22:35:24.872989Z",
     "start_time": "2021-11-13T22:35:24.845066Z"
    }
   },
   "outputs": [],
   "source": [
    "# numerical attributes\n",
    "num_attributes = df1.select_dtypes(include=['int64', 'float64'])\n",
    "\n",
    "# categorical attributes\n",
    "cat_attributes = df1.select_dtypes(exclude=['int64', 'float64', 'datetime64[ns]'])"
   ]
  },
  {
   "cell_type": "markdown",
   "id": "5ef61bc5",
   "metadata": {},
   "source": [
    "### 1.4.1 Numerical Attributes"
   ]
  },
  {
   "cell_type": "code",
   "execution_count": 55,
   "id": "5e15c5cf",
   "metadata": {
    "ExecuteTime": {
     "end_time": "2021-11-13T22:35:24.934810Z",
     "start_time": "2021-11-13T22:35:24.874955Z"
    }
   },
   "outputs": [
    {
     "data": {
      "text/html": [
       "<div>\n",
       "<style scoped>\n",
       "    .dataframe tbody tr th:only-of-type {\n",
       "        vertical-align: middle;\n",
       "    }\n",
       "\n",
       "    .dataframe tbody tr th {\n",
       "        vertical-align: top;\n",
       "    }\n",
       "\n",
       "    .dataframe thead th {\n",
       "        text-align: right;\n",
       "    }\n",
       "</style>\n",
       "<table border=\"1\" class=\"dataframe\">\n",
       "  <thead>\n",
       "    <tr style=\"text-align: right;\">\n",
       "      <th></th>\n",
       "      <th>attributes</th>\n",
       "      <th>min</th>\n",
       "      <th>max</th>\n",
       "      <th>range</th>\n",
       "      <th>mean</th>\n",
       "      <th>median</th>\n",
       "      <th>std</th>\n",
       "      <th>skew</th>\n",
       "      <th>kurtosis</th>\n",
       "    </tr>\n",
       "  </thead>\n",
       "  <tbody>\n",
       "    <tr>\n",
       "      <th>0</th>\n",
       "      <td>price</td>\n",
       "      <td>75000.00</td>\n",
       "      <td>7700000.00</td>\n",
       "      <td>7625000.00</td>\n",
       "      <td>540088.14</td>\n",
       "      <td>450000.00</td>\n",
       "      <td>367118.70</td>\n",
       "      <td>4.02</td>\n",
       "      <td>34.59</td>\n",
       "    </tr>\n",
       "    <tr>\n",
       "      <th>1</th>\n",
       "      <td>bedrooms</td>\n",
       "      <td>0.00</td>\n",
       "      <td>33.00</td>\n",
       "      <td>33.00</td>\n",
       "      <td>3.37</td>\n",
       "      <td>3.00</td>\n",
       "      <td>0.93</td>\n",
       "      <td>1.97</td>\n",
       "      <td>49.06</td>\n",
       "    </tr>\n",
       "    <tr>\n",
       "      <th>2</th>\n",
       "      <td>bathrooms</td>\n",
       "      <td>0.00</td>\n",
       "      <td>8.00</td>\n",
       "      <td>8.00</td>\n",
       "      <td>2.11</td>\n",
       "      <td>2.25</td>\n",
       "      <td>0.77</td>\n",
       "      <td>0.51</td>\n",
       "      <td>1.28</td>\n",
       "    </tr>\n",
       "    <tr>\n",
       "      <th>3</th>\n",
       "      <td>sqft_living</td>\n",
       "      <td>290.00</td>\n",
       "      <td>13540.00</td>\n",
       "      <td>13250.00</td>\n",
       "      <td>2079.90</td>\n",
       "      <td>1910.00</td>\n",
       "      <td>918.42</td>\n",
       "      <td>1.47</td>\n",
       "      <td>5.24</td>\n",
       "    </tr>\n",
       "    <tr>\n",
       "      <th>4</th>\n",
       "      <td>sqft_lot</td>\n",
       "      <td>520.00</td>\n",
       "      <td>1651359.00</td>\n",
       "      <td>1650839.00</td>\n",
       "      <td>15106.97</td>\n",
       "      <td>7618.00</td>\n",
       "      <td>41419.55</td>\n",
       "      <td>13.06</td>\n",
       "      <td>285.08</td>\n",
       "    </tr>\n",
       "    <tr>\n",
       "      <th>5</th>\n",
       "      <td>floors</td>\n",
       "      <td>1.00</td>\n",
       "      <td>3.50</td>\n",
       "      <td>2.50</td>\n",
       "      <td>1.49</td>\n",
       "      <td>1.50</td>\n",
       "      <td>0.54</td>\n",
       "      <td>0.62</td>\n",
       "      <td>-0.48</td>\n",
       "    </tr>\n",
       "    <tr>\n",
       "      <th>6</th>\n",
       "      <td>grade</td>\n",
       "      <td>1.00</td>\n",
       "      <td>13.00</td>\n",
       "      <td>12.00</td>\n",
       "      <td>7.66</td>\n",
       "      <td>7.00</td>\n",
       "      <td>1.18</td>\n",
       "      <td>0.77</td>\n",
       "      <td>1.19</td>\n",
       "    </tr>\n",
       "    <tr>\n",
       "      <th>7</th>\n",
       "      <td>sqft_above</td>\n",
       "      <td>290.00</td>\n",
       "      <td>9410.00</td>\n",
       "      <td>9120.00</td>\n",
       "      <td>1788.39</td>\n",
       "      <td>1560.00</td>\n",
       "      <td>828.07</td>\n",
       "      <td>1.45</td>\n",
       "      <td>3.40</td>\n",
       "    </tr>\n",
       "    <tr>\n",
       "      <th>8</th>\n",
       "      <td>sqft_basement</td>\n",
       "      <td>0.00</td>\n",
       "      <td>4820.00</td>\n",
       "      <td>4820.00</td>\n",
       "      <td>291.51</td>\n",
       "      <td>0.00</td>\n",
       "      <td>442.56</td>\n",
       "      <td>1.58</td>\n",
       "      <td>2.72</td>\n",
       "    </tr>\n",
       "    <tr>\n",
       "      <th>9</th>\n",
       "      <td>sqft_living15</td>\n",
       "      <td>399.00</td>\n",
       "      <td>6210.00</td>\n",
       "      <td>5811.00</td>\n",
       "      <td>1986.55</td>\n",
       "      <td>1840.00</td>\n",
       "      <td>685.38</td>\n",
       "      <td>1.11</td>\n",
       "      <td>1.60</td>\n",
       "    </tr>\n",
       "    <tr>\n",
       "      <th>10</th>\n",
       "      <td>sqft_lot15</td>\n",
       "      <td>651.00</td>\n",
       "      <td>871200.00</td>\n",
       "      <td>870549.00</td>\n",
       "      <td>12768.46</td>\n",
       "      <td>7620.00</td>\n",
       "      <td>27303.55</td>\n",
       "      <td>9.51</td>\n",
       "      <td>150.76</td>\n",
       "    </tr>\n",
       "  </tbody>\n",
       "</table>\n",
       "</div>"
      ],
      "text/plain": [
       "       attributes      min        max      range      mean    median       std  skew  kurtosis\n",
       "0           price 75000.00 7700000.00 7625000.00 540088.14 450000.00 367118.70  4.02     34.59\n",
       "1        bedrooms     0.00      33.00      33.00      3.37      3.00      0.93  1.97     49.06\n",
       "2       bathrooms     0.00       8.00       8.00      2.11      2.25      0.77  0.51      1.28\n",
       "3     sqft_living   290.00   13540.00   13250.00   2079.90   1910.00    918.42  1.47      5.24\n",
       "4        sqft_lot   520.00 1651359.00 1650839.00  15106.97   7618.00  41419.55 13.06    285.08\n",
       "5          floors     1.00       3.50       2.50      1.49      1.50      0.54  0.62     -0.48\n",
       "6           grade     1.00      13.00      12.00      7.66      7.00      1.18  0.77      1.19\n",
       "7      sqft_above   290.00    9410.00    9120.00   1788.39   1560.00    828.07  1.45      3.40\n",
       "8   sqft_basement     0.00    4820.00    4820.00    291.51      0.00    442.56  1.58      2.72\n",
       "9   sqft_living15   399.00    6210.00    5811.00   1986.55   1840.00    685.38  1.11      1.60\n",
       "10     sqft_lot15   651.00  871200.00  870549.00  12768.46   7620.00  27303.55  9.51    150.76"
      ]
     },
     "execution_count": 55,
     "metadata": {},
     "output_type": "execute_result"
    }
   ],
   "source": [
    "# Central Tendency - mean, median\n",
    "ct1 = pd.DataFrame(num_attributes.apply(np.mean)).T\n",
    "ct2 = pd.DataFrame(num_attributes.apply(np.median)).T\n",
    "\n",
    "# dispersion - std, min, max, range, skew, kurtosis\n",
    "d1 = pd.DataFrame(num_attributes.apply(np.std)).T\n",
    "d2 = pd.DataFrame(num_attributes.apply(min)).T\n",
    "d3 = pd.DataFrame(num_attributes.apply(max)).T\n",
    "d4 = pd.DataFrame(num_attributes.apply(lambda x: x.max() - x.min())).T\n",
    "d5 = pd.DataFrame( num_attributes.apply( lambda x: x.skew() ) ).T\n",
    "d6 = pd.DataFrame( num_attributes.apply( lambda x: x.kurtosis() ) ).T\n",
    "\n",
    "# concatenate\n",
    "m = pd.concat([d2, d3, d4, ct1, ct2, d1, d5, d6]).T.reset_index()\n",
    "m.columns = ['attributes', 'min', 'max', 'range', 'mean', 'median', 'std', 'skew', 'kurtosis']\n",
    "m"
   ]
  },
  {
   "cell_type": "markdown",
   "id": "0538ea45",
   "metadata": {},
   "source": [
    "### 1.4.2 Categorical Attributes"
   ]
  },
  {
   "cell_type": "code",
   "execution_count": 56,
   "id": "c6f10c21",
   "metadata": {
    "ExecuteTime": {
     "end_time": "2021-11-13T22:35:24.965710Z",
     "start_time": "2021-11-13T22:35:24.935783Z"
    }
   },
   "outputs": [
    {
     "data": {
      "text/plain": [
       "id              21436\n",
       "waterfront          2\n",
       "view                5\n",
       "condition           5\n",
       "yr_built          116\n",
       "yr_renovated       70\n",
       "zipcode            70\n",
       "lat              5034\n",
       "long              752\n",
       "dtype: int64"
      ]
     },
     "execution_count": 56,
     "metadata": {},
     "output_type": "execute_result"
    }
   ],
   "source": [
    "cat_attributes.apply(lambda x: x.unique().shape[0])"
   ]
  },
  {
   "cell_type": "code",
   "execution_count": 57,
   "id": "cd281c61",
   "metadata": {
    "ExecuteTime": {
     "end_time": "2021-11-13T22:35:25.312905Z",
     "start_time": "2021-11-13T22:35:24.967698Z"
    }
   },
   "outputs": [
    {
     "data": {
      "text/plain": [
       "<AxesSubplot:xlabel='condition', ylabel='count'>"
      ]
     },
     "execution_count": 57,
     "metadata": {},
     "output_type": "execute_result"
    },
    {
     "data": {
      "image/png": "[encoded data removed]",
      "text/plain": [
       "<Figure size 1800x864 with 3 Axes>"
      ]
     },
     "metadata": {},
     "output_type": "display_data"
    }
   ],
   "source": [
    "plt.subplot(1, 3, 1)\n",
    "sns.countplot(df1['waterfront'])\n",
    "\n",
    "plt.subplot(1, 3, 2)\n",
    "sns.countplot(df1['view'])\n",
    "\n",
    "plt.subplot(1, 3, 3)\n",
    "sns.countplot(df1['condition'])"
   ]
  },
  {
   "cell_type": "markdown",
   "id": "0e8dca0a",
   "metadata": {},
   "source": [
    "# 2.0 FEATURE ENGINEERING"
   ]
  },
  {
   "cell_type": "code",
   "execution_count": 58,
   "id": "28d73fe2",
   "metadata": {
    "ExecuteTime": {
     "end_time": "2021-11-13T22:35:25.328807Z",
     "start_time": "2021-11-13T22:35:25.315843Z"
    }
   },
   "outputs": [],
   "source": [
    "df2 = df1.copy()"
   ]
  },
  {
   "cell_type": "code",
   "execution_count": 59,
   "id": "94ab3e1d",
   "metadata": {
    "ExecuteTime": {
     "end_time": "2021-11-13T22:35:25.344765Z",
     "start_time": "2021-11-13T22:35:25.330802Z"
    }
   },
   "outputs": [
    {
     "name": "stdout",
     "output_type": "stream",
     "text": [
      "Number of rows: 21613\n",
      "Number of IDs: 21436\n"
     ]
    }
   ],
   "source": [
    "# Search for duplicates\n",
    "print('Number of rows: {}'.format(df2.shape[0]))\n",
    "print('Number of IDs: {}'.format(len(df2['id'].unique())))"
   ]
  },
  {
   "cell_type": "code",
   "execution_count": 60,
   "id": "a543bf2b",
   "metadata": {
    "ExecuteTime": {
     "end_time": "2021-11-13T22:35:25.360722Z",
     "start_time": "2021-11-13T22:35:25.345761Z"
    }
   },
   "outputs": [],
   "source": [
    "# Drop duplicate ID's\n",
    "df2 = df2.drop_duplicates(subset = ['id'], keep = 'last')"
   ]
  },
  {
   "cell_type": "code",
   "execution_count": 61,
   "id": "2831fc7b",
   "metadata": {
    "ExecuteTime": {
     "end_time": "2021-11-13T22:35:25.391639Z",
     "start_time": "2021-11-13T22:35:25.362717Z"
    }
   },
   "outputs": [],
   "source": [
    "# Drop NA\n",
    "df2 = df2.dropna()\n",
    "df2 = df2.reset_index(drop=True)"
   ]
  },
  {
   "cell_type": "code",
   "execution_count": 62,
   "id": "1af02cc8",
   "metadata": {
    "ExecuteTime": {
     "end_time": "2021-11-13T22:35:25.407644Z",
     "start_time": "2021-11-13T22:35:25.393641Z"
    }
   },
   "outputs": [
    {
     "name": "stdout",
     "output_type": "stream",
     "text": [
      "Attribute: bedrooms - [3, 2, 4, 5, 1, 6, 7, 0, 8, 9, 11, 10, 33]\n",
      "Attribute: bathrooms - [1.0, 2.25, 3.0, 2.0, 4.5, 1.5, 2.5, 1.75, 2.75, 3.25, 4.0, 3.5, 0.75, 4.75, 5.0, 4.25, 3.75, 0.0, 1.25, 5.25, 6.0, 0.5, 5.5, 6.75, 5.75, 8.0, 7.5, 7.75, 6.25, 6.5]\n",
      "Attribute: floors - [1.0, 2.0, 1.5, 3.0, 2.5, 3.5]\n",
      "Attribute: waterfront - ['0', '1']\n",
      "Attribute: view - ['0', '3', '4', '2', '1']\n",
      "Attribute: condition - ['3', '5', '4', '1', '2']\n",
      "Attribute: grade - [7, 6, 8, 11, 9, 5, 10, 12, 4, 3, 13, 1]\n"
     ]
    }
   ],
   "source": [
    "# Watching for outliers\n",
    "\n",
    "unique = df2[['bedrooms','bathrooms','floors','waterfront','view','condition','grade']]\n",
    "\n",
    "for i in unique:\n",
    "    print('Attribute: {} - {}'.format(i, df2[i].unique().tolist()))"
   ]
  },
  {
   "cell_type": "code",
   "execution_count": 63,
   "id": "259de480",
   "metadata": {
    "ExecuteTime": {
     "end_time": "2021-11-13T22:35:25.423595Z",
     "start_time": "2021-11-13T22:35:25.408593Z"
    }
   },
   "outputs": [],
   "source": [
    "# Removing outlier from 'bedrooms' column\n",
    "df2.drop(df2.loc[df2['bedrooms'] == 33].index, inplace = True)"
   ]
  },
  {
   "cell_type": "markdown",
   "id": "140c6c91",
   "metadata": {},
   "source": [
    "## Creating new features"
   ]
  },
  {
   "cell_type": "code",
   "execution_count": 64,
   "id": "defe02c7",
   "metadata": {
    "ExecuteTime": {
     "end_time": "2021-11-13T22:35:25.643432Z",
     "start_time": "2021-11-13T22:35:25.424591Z"
    }
   },
   "outputs": [],
   "source": [
    "# year\n",
    "df2['year'] = df2['date'].dt.year\n",
    "\n",
    "# month\n",
    "df2['month'] = df2['date'].dt.month\n",
    "\n",
    "# day\n",
    "df2['day'] = df2['date'].dt.day\n",
    "\n",
    "# week of year\n",
    "df2['week_of_year'] = df2['date'].dt.weekofyear\n",
    "\n",
    "# year-week\n",
    "df2['year_week'] = df2['date'].dt.strftime( '%Y-%W' )\n",
    "\n",
    "# house age\n",
    "df2['house_age'] = 'NA'\n",
    "df2.loc[df2['date'] > '2014-01-01', 'house_age'] = 'new_house'\n",
    "df2.loc[df2['date'] < '2014-01-01', 'house_age'] = 'old_house'\n",
    "\n",
    "# condition type\n",
    "df2['condition'] = df2['condition'].astype(int64)\n",
    "df2['condition_type'] = df2['condition'].apply(lambda x: 'bad' if x<=2 else 'regular' if (x==3)| (x==4) else 'good')\n",
    "\n",
    "# Basement\n",
    "df2['basement'] = df2['sqft_basement'].apply(lambda x: 'no' if x == 0 else 'yes')        \n",
    "\n",
    "# Season\n",
    "df2['season'] = df2['month'].apply(lambda x: 'summer' if (x > 5) & (x < 8)  else\n",
    "                                             'spring' if (x > 2) & (x < 5)  else\n",
    "                                             'fall'   if (x > 8) & (x < 12) else\n",
    "                                             'winter')\n",
    "# Renovated\n",
    "df2['renovated'] = df2['yr_renovated'].apply(lambda x: 'no' if x == 0 else 'yes')\n",
    "\n",
    "# Year of Construction\n",
    "df2['yr_built'] = df2['yr_built'].astype(int64)\n",
    "df2['construction'] = df2['yr_built'].apply(lambda x: '<1955' if x <= 1955 else '>1955')\n",
    "\n",
    "# Describe condition\n",
    "df2['describe_condition'] = df2['condition'].apply(lambda x: 'too bad' if x == 1 else\n",
    "                                                             'bad'     if x == 2 else\n",
    "                                                             'median'  if x == 3 else\n",
    "                                                             'good'    if x == 4 else\n",
    "                                                             'excellent')"
   ]
  },
  {
   "cell_type": "code",
   "execution_count": 65,
   "id": "02f40948",
   "metadata": {
    "ExecuteTime": {
     "end_time": "2021-11-13T22:35:34.000717Z",
     "start_time": "2021-11-13T22:35:25.644381Z"
    }
   },
   "outputs": [],
   "source": [
    "# Describe price level\n",
    "df2['price_level'] = 'NA'  \n",
    "for i in range(len(df2)):\n",
    "    if (df2.iloc[i, 2] > 0) & (df2.iloc[i, 2] < 321950):\n",
    "        df2.loc[i, 'price_level'] = 0\n",
    "    elif (df2.iloc[i, 2] >= 321950) & (df2.iloc[i, 2] < 450000):\n",
    "        df2.loc[i, 'price_level'] = 1\n",
    "    elif (df2.iloc[i, 2] >= 450000) & (df2.iloc[i, 2] < 645000):\n",
    "        df2.loc[i, 'price_level'] = 2\n",
    "    else:\n",
    "        df2.loc[i, 'price_level'] = 3"
   ]
  },
  {
   "cell_type": "code",
   "execution_count": 66,
   "id": "840ca007",
   "metadata": {
    "ExecuteTime": {
     "end_time": "2021-11-13T22:35:36.918272Z",
     "start_time": "2021-11-13T22:35:34.002745Z"
    }
   },
   "outputs": [],
   "source": [
    "# Describe standard (price < 540,000) and high standard (price > 540,000)\n",
    "df2['standard'] = 'standard'  \n",
    "for i in range(len(df2)):\n",
    "    if (df2.iloc[i, 2] > 540000):\n",
    "        df2.loc[i, 'standard'] = 'high_standard'"
   ]
  },
  {
   "cell_type": "markdown",
   "id": "1f8ec442",
   "metadata": {},
   "source": [
    "### Using API geolocator, add the following features to dataset:\n",
    "- Place ID: property location identification\n",
    "- OSM Type: Open Street Map type\n",
    "- County: name of the county\n",
    "- Postal Code: postal code of the property"
   ]
  },
  {
   "cell_type": "code",
   "execution_count": 67,
   "id": "2f3e4ad4",
   "metadata": {
    "ExecuteTime": {
     "end_time": "2021-11-13T22:35:37.157405Z",
     "start_time": "2021-11-13T22:35:36.920269Z"
    }
   },
   "outputs": [],
   "source": [
    "df2['query'] = df2[['lat', 'long']].apply(lambda x: str(x['lat']) + ',' + str(x['long']), axis=1)"
   ]
  },
  {
   "cell_type": "code",
   "execution_count": 68,
   "id": "7b40765d",
   "metadata": {
    "ExecuteTime": {
     "end_time": "2021-11-13T22:35:37.173214Z",
     "start_time": "2021-11-13T22:35:37.161197Z"
    }
   },
   "outputs": [],
   "source": [
    "# As Jupyter Notebook doesn't run multi-thread parallelism processes, this function is saved in a separate file \n",
    "# and has been imported as a module in the next snippet. \n",
    "\n",
    "# def get_data(x):\n",
    "#     index, row = x\n",
    "#     time.sleep(1)\n",
    "    \n",
    "#     # API call\n",
    "#     response = geolocator.reverse(row['query'])\n",
    "    \n",
    "#     place_id = response.raw['place_id']\n",
    "#     osm_type = response.raw['osm_type']\n",
    "#     county = response.raw['address']['county']\n",
    "#     postal_code = response.raw['address']['postcode']\n",
    "        \n",
    "#     return place_id, osm_type, county, postal_code"
   ]
  },
  {
   "cell_type": "code",
   "execution_count": 69,
   "id": "3c291fcc",
   "metadata": {
    "ExecuteTime": {
     "end_time": "2021-11-13T22:35:53.177440Z",
     "start_time": "2021-11-13T22:35:37.174162Z"
    }
   },
   "outputs": [
    {
     "ename": "GeocoderTimedOut",
     "evalue": "Service timed out",
     "output_type": "error",
     "traceback": [
      "\u001b[1;31m---------------------------------------------------------------------------\u001b[0m",
      "\u001b[1;31mRemoteTraceback\u001b[0m                           Traceback (most recent call last)",
      "\u001b[1;31mRemoteTraceback\u001b[0m: \n\"\"\"\nTraceback (most recent call last):\n  File \"C:\\Users\\fabic\\Anaconda3\\envs\\houserocketsales\\lib\\site-packages\\geopy\\adapters.py\", line 297, in get_text\n    page = self.urlopen(req, timeout=timeout)\n  File \"C:\\Users\\fabic\\Anaconda3\\envs\\houserocketsales\\lib\\urllib\\request.py\", line 517, in open\n    response = self._open(req, data)\n  File \"C:\\Users\\fabic\\Anaconda3\\envs\\houserocketsales\\lib\\urllib\\request.py\", line 534, in _open\n    result = self._call_chain(self.handle_open, protocol, protocol +\n  File \"C:\\Users\\fabic\\Anaconda3\\envs\\houserocketsales\\lib\\urllib\\request.py\", line 494, in _call_chain\n    result = func(*args)\n  File \"C:\\Users\\fabic\\Anaconda3\\envs\\houserocketsales\\lib\\urllib\\request.py\", line 1389, in https_open\n    return self.do_open(http.client.HTTPSConnection, req,\n  File \"C:\\Users\\fabic\\Anaconda3\\envs\\houserocketsales\\lib\\urllib\\request.py\", line 1350, in do_open\n    r = h.getresponse()\n  File \"C:\\Users\\fabic\\Anaconda3\\envs\\houserocketsales\\lib\\http\\client.py\", line 1371, in getresponse\n    response.begin()\n  File \"C:\\Users\\fabic\\Anaconda3\\envs\\houserocketsales\\lib\\http\\client.py\", line 319, in begin\n    version, status, reason = self._read_status()\n  File \"C:\\Users\\fabic\\Anaconda3\\envs\\houserocketsales\\lib\\http\\client.py\", line 280, in _read_status\n    line = str(self.fp.readline(_MAXLINE + 1), \"iso-8859-1\")\n  File \"C:\\Users\\fabic\\Anaconda3\\envs\\houserocketsales\\lib\\socket.py\", line 704, in readinto\n    return self._sock.recv_into(b)\n  File \"C:\\Users\\fabic\\Anaconda3\\envs\\houserocketsales\\lib\\ssl.py\", line 1241, in recv_into\n    return self.read(nbytes, buffer)\n  File \"C:\\Users\\fabic\\Anaconda3\\envs\\houserocketsales\\lib\\ssl.py\", line 1099, in read\n    return self._sslobj.read(len, buffer)\nsocket.timeout: The read operation timed out\n\nDuring handling of the above exception, another exception occurred:\n\nTraceback (most recent call last):\n  File \"C:\\Users\\fabic\\Anaconda3\\envs\\houserocketsales\\lib\\multiprocessing\\pool.py\", line 125, in worker\n    result = (True, func(*args, **kwds))\n  File \"C:\\Users\\fabic\\Anaconda3\\envs\\houserocketsales\\lib\\multiprocessing\\pool.py\", line 48, in mapstar\n    return list(map(*args))\n  File \"C:\\Users\\fabic\\repos\\House_Rocket_Sales\\defs.py\", line 11, in get_data\n    response = geolocator.reverse(row['query'])\n  File \"C:\\Users\\fabic\\Anaconda3\\envs\\houserocketsales\\lib\\site-packages\\geopy\\geocoders\\nominatim.py\", line 362, in reverse\n    return self._call_geocoder(url, callback, timeout=timeout)\n  File \"C:\\Users\\fabic\\Anaconda3\\envs\\houserocketsales\\lib\\site-packages\\geopy\\geocoders\\base.py\", line 368, in _call_geocoder\n    result = self.adapter.get_json(url, timeout=timeout, headers=req_headers)\n  File \"C:\\Users\\fabic\\Anaconda3\\envs\\houserocketsales\\lib\\site-packages\\geopy\\adapters.py\", line 286, in get_json\n    text = self.get_text(url, timeout=timeout, headers=headers)\n  File \"C:\\Users\\fabic\\Anaconda3\\envs\\houserocketsales\\lib\\site-packages\\geopy\\adapters.py\", line 319, in get_text\n    raise GeocoderTimedOut(\"Service timed out\")\ngeopy.exc.GeocoderTimedOut: Service timed out\n\"\"\"",
      "\nThe above exception was the direct cause of the following exception:\n",
      "\u001b[1;31mGeocoderTimedOut\u001b[0m                          Traceback (most recent call last)",
      "\u001b[1;32m~\\AppData\\Local\\Temp/ipykernel_16840/358198390.py\u001b[0m in \u001b[0;36m<module>\u001b[1;34m\u001b[0m\n\u001b[0;32m      6\u001b[0m \u001b[1;33m\u001b[0m\u001b[0m\n\u001b[0;32m      7\u001b[0m \u001b[0mstart\u001b[0m \u001b[1;33m=\u001b[0m \u001b[0mtime\u001b[0m\u001b[1;33m.\u001b[0m\u001b[0mprocess_time\u001b[0m\u001b[1;33m(\u001b[0m\u001b[1;33m)\u001b[0m\u001b[1;33m\u001b[0m\u001b[1;33m\u001b[0m\u001b[0m\n\u001b[1;32m----> 8\u001b[1;33m \u001b[0mdf_api\u001b[0m\u001b[1;33m[\u001b[0m\u001b[1;33m[\u001b[0m\u001b[1;34m'place_id'\u001b[0m\u001b[1;33m,\u001b[0m \u001b[1;34m'osm_type'\u001b[0m\u001b[1;33m,\u001b[0m \u001b[1;34m'county'\u001b[0m\u001b[1;33m,\u001b[0m \u001b[1;34m'postal_code'\u001b[0m\u001b[1;33m]\u001b[0m\u001b[1;33m]\u001b[0m \u001b[1;33m=\u001b[0m \u001b[0mp\u001b[0m\u001b[1;33m.\u001b[0m\u001b[0mmap\u001b[0m\u001b[1;33m(\u001b[0m\u001b[0mdefs\u001b[0m\u001b[1;33m.\u001b[0m\u001b[0mget_data\u001b[0m\u001b[1;33m,\u001b[0m \u001b[0mdf_api\u001b[0m\u001b[1;33m.\u001b[0m\u001b[0miterrows\u001b[0m\u001b[1;33m(\u001b[0m\u001b[1;33m)\u001b[0m\u001b[1;33m)\u001b[0m\u001b[1;33m\u001b[0m\u001b[1;33m\u001b[0m\u001b[0m\n\u001b[0m\u001b[0;32m      9\u001b[0m \u001b[0mend\u001b[0m \u001b[1;33m=\u001b[0m \u001b[0mtime\u001b[0m\u001b[1;33m.\u001b[0m\u001b[0mprocess_time\u001b[0m\u001b[1;33m(\u001b[0m\u001b[1;33m)\u001b[0m\u001b[1;33m\u001b[0m\u001b[1;33m\u001b[0m\u001b[0m\n\u001b[0;32m     10\u001b[0m \u001b[1;33m\u001b[0m\u001b[0m\n",
      "\u001b[1;32m~\\Anaconda3\\envs\\houserocketsales\\lib\\multiprocessing\\pool.py\u001b[0m in \u001b[0;36mmap\u001b[1;34m(self, func, iterable, chunksize)\u001b[0m\n\u001b[0;32m    362\u001b[0m         \u001b[1;32min\u001b[0m \u001b[0ma\u001b[0m \u001b[0mlist\u001b[0m \u001b[0mthat\u001b[0m \u001b[1;32mis\u001b[0m \u001b[0mreturned\u001b[0m\u001b[1;33m.\u001b[0m\u001b[1;33m\u001b[0m\u001b[1;33m\u001b[0m\u001b[0m\n\u001b[0;32m    363\u001b[0m         '''\n\u001b[1;32m--> 364\u001b[1;33m         \u001b[1;32mreturn\u001b[0m \u001b[0mself\u001b[0m\u001b[1;33m.\u001b[0m\u001b[0m_map_async\u001b[0m\u001b[1;33m(\u001b[0m\u001b[0mfunc\u001b[0m\u001b[1;33m,\u001b[0m \u001b[0miterable\u001b[0m\u001b[1;33m,\u001b[0m \u001b[0mmapstar\u001b[0m\u001b[1;33m,\u001b[0m \u001b[0mchunksize\u001b[0m\u001b[1;33m)\u001b[0m\u001b[1;33m.\u001b[0m\u001b[0mget\u001b[0m\u001b[1;33m(\u001b[0m\u001b[1;33m)\u001b[0m\u001b[1;33m\u001b[0m\u001b[1;33m\u001b[0m\u001b[0m\n\u001b[0m\u001b[0;32m    365\u001b[0m \u001b[1;33m\u001b[0m\u001b[0m\n\u001b[0;32m    366\u001b[0m     \u001b[1;32mdef\u001b[0m \u001b[0mstarmap\u001b[0m\u001b[1;33m(\u001b[0m\u001b[0mself\u001b[0m\u001b[1;33m,\u001b[0m \u001b[0mfunc\u001b[0m\u001b[1;33m,\u001b[0m \u001b[0miterable\u001b[0m\u001b[1;33m,\u001b[0m \u001b[0mchunksize\u001b[0m\u001b[1;33m=\u001b[0m\u001b[1;32mNone\u001b[0m\u001b[1;33m)\u001b[0m\u001b[1;33m:\u001b[0m\u001b[1;33m\u001b[0m\u001b[1;33m\u001b[0m\u001b[0m\n",
      "\u001b[1;32m~\\Anaconda3\\envs\\houserocketsales\\lib\\multiprocessing\\pool.py\u001b[0m in \u001b[0;36mget\u001b[1;34m(self, timeout)\u001b[0m\n\u001b[0;32m    769\u001b[0m             \u001b[1;32mreturn\u001b[0m \u001b[0mself\u001b[0m\u001b[1;33m.\u001b[0m\u001b[0m_value\u001b[0m\u001b[1;33m\u001b[0m\u001b[1;33m\u001b[0m\u001b[0m\n\u001b[0;32m    770\u001b[0m         \u001b[1;32melse\u001b[0m\u001b[1;33m:\u001b[0m\u001b[1;33m\u001b[0m\u001b[1;33m\u001b[0m\u001b[0m\n\u001b[1;32m--> 771\u001b[1;33m             \u001b[1;32mraise\u001b[0m \u001b[0mself\u001b[0m\u001b[1;33m.\u001b[0m\u001b[0m_value\u001b[0m\u001b[1;33m\u001b[0m\u001b[1;33m\u001b[0m\u001b[0m\n\u001b[0m\u001b[0;32m    772\u001b[0m \u001b[1;33m\u001b[0m\u001b[0m\n\u001b[0;32m    773\u001b[0m     \u001b[1;32mdef\u001b[0m \u001b[0m_set\u001b[0m\u001b[1;33m(\u001b[0m\u001b[0mself\u001b[0m\u001b[1;33m,\u001b[0m \u001b[0mi\u001b[0m\u001b[1;33m,\u001b[0m \u001b[0mobj\u001b[0m\u001b[1;33m)\u001b[0m\u001b[1;33m:\u001b[0m\u001b[1;33m\u001b[0m\u001b[1;33m\u001b[0m\u001b[0m\n",
      "\u001b[1;31mGeocoderTimedOut\u001b[0m: Service timed out"
     ]
    }
   ],
   "source": [
    "import defs\n",
    "\n",
    "df_api = df2[['id', 'query']].sample(5).copy()\n",
    "\n",
    "p = Pool(3)\n",
    "\n",
    "start = time.process_time()\n",
    "df_api[['place_id', 'osm_type', 'county', 'postal_code']] = p.map(defs.get_data, df_api.iterrows())\n",
    "end = time.process_time()\n",
    "\n",
    "print('Time elapsed: {}'.format(end - start))"
   ]
  },
  {
   "cell_type": "code",
   "execution_count": null,
   "id": "ad3ebcc8",
   "metadata": {
    "ExecuteTime": {
     "end_time": "2021-11-13T22:35:53.178429Z",
     "start_time": "2021-11-13T22:35:53.178429Z"
    }
   },
   "outputs": [],
   "source": [
    "df_api.head(5).T"
   ]
  },
  {
   "cell_type": "markdown",
   "id": "3f26c1fd",
   "metadata": {},
   "source": [
    "# 3.0 EDA - Exploratory Data Analysis"
   ]
  },
  {
   "cell_type": "code",
   "execution_count": null,
   "id": "7767f9a5",
   "metadata": {
    "ExecuteTime": {
     "end_time": "2021-11-13T22:35:53.180421Z",
     "start_time": "2021-11-13T22:35:53.180421Z"
    }
   },
   "outputs": [],
   "source": [
    "df3 = df2.copy()"
   ]
  },
  {
   "cell_type": "markdown",
   "id": "3f5df731",
   "metadata": {},
   "source": [
    "## 3.1 Hipothesis & Insights"
   ]
  },
  {
   "cell_type": "markdown",
   "id": "ee752824",
   "metadata": {},
   "source": [
    "### H1: Properties with water view would be more expensive"
   ]
  },
  {
   "cell_type": "code",
   "execution_count": null,
   "id": "85f10822",
   "metadata": {
    "ExecuteTime": {
     "end_time": "2021-11-13T22:35:53.181420Z",
     "start_time": "2021-11-13T22:35:53.181420Z"
    },
    "code_folding": []
   },
   "outputs": [],
   "source": [
    "h1 = df3[['price','waterfront']].groupby('waterfront').mean().reset_index()\n",
    "plt.figure(figsize=(10,6))\n",
    "sns.barplot(h1['waterfront'],h1['price'])"
   ]
  },
  {
   "cell_type": "code",
   "execution_count": null,
   "id": "88c7cd22",
   "metadata": {
    "ExecuteTime": {
     "end_time": "2021-11-13T22:35:53.182418Z",
     "start_time": "2021-11-13T22:35:53.182418Z"
    }
   },
   "outputs": [],
   "source": [
    "h1_percent = (h1.loc[1,'price'] - h1.loc[0,'price']) / h1.loc[0,'price']\n",
    "print('H1 is True: properties with waterview are in the mean {0:.0%} more expensive'.format(h1_percent))"
   ]
  },
  {
   "cell_type": "markdown",
   "id": "e000a5c2",
   "metadata": {},
   "source": [
    "### H2: Properties constructed before 1955 would be less expensive"
   ]
  },
  {
   "cell_type": "code",
   "execution_count": null,
   "id": "f0d2ea73",
   "metadata": {
    "ExecuteTime": {
     "end_time": "2021-11-13T22:35:53.182418Z",
     "start_time": "2021-11-13T22:35:53.182418Z"
    }
   },
   "outputs": [],
   "source": [
    "h2 = df3[['price','construction']].groupby('construction').mean().reset_index()\n",
    "plt.figure(figsize=(10,6))\n",
    "sns.barplot(h2['construction'],h2['price'])"
   ]
  },
  {
   "cell_type": "code",
   "execution_count": null,
   "id": "dea098bd",
   "metadata": {
    "ExecuteTime": {
     "end_time": "2021-11-13T22:35:53.183416Z",
     "start_time": "2021-11-13T22:35:53.183416Z"
    }
   },
   "outputs": [],
   "source": [
    "h2_percent = (h2.loc[1,'price'] - h2.loc[0,'price']) / h2.loc[1,'price']\n",
    "print('H2 is False: properties constructed before 1955 are in the mean only {0:.0%} less expensive'.format(h2_percent))"
   ]
  },
  {
   "cell_type": "markdown",
   "id": "232a0858",
   "metadata": {},
   "source": [
    "### H3: Properties without basement would have larger square footage"
   ]
  },
  {
   "cell_type": "code",
   "execution_count": null,
   "id": "4f2d769c",
   "metadata": {
    "ExecuteTime": {
     "end_time": "2021-11-13T22:35:53.184413Z",
     "start_time": "2021-11-13T22:35:53.184413Z"
    },
    "code_folding": []
   },
   "outputs": [],
   "source": [
    "h3 = df3[['sqft_lot','basement']].groupby('basement').mean().reset_index()\n",
    "\n",
    "plt.figure(figsize=(10,6))\n",
    "sns.barplot(h3['basement'],h3['sqft_lot'])"
   ]
  },
  {
   "cell_type": "code",
   "execution_count": null,
   "id": "5c203f8b",
   "metadata": {
    "ExecuteTime": {
     "end_time": "2021-11-13T22:35:53.185411Z",
     "start_time": "2021-11-13T22:35:53.185411Z"
    }
   },
   "outputs": [],
   "source": [
    "h3_percent = (h3.loc[0,'sqft_lot'] - h3.loc[1,'sqft_lot']) / h3.loc[1,'sqft_lot']\n",
    "print('H3 is True: properties with no basement have square footage {0:.0%} larger'.format(h3_percent))"
   ]
  },
  {
   "cell_type": "markdown",
   "id": "a171e517",
   "metadata": {},
   "source": [
    "### H4: Prices would have rised up YoY (Year over Year)"
   ]
  },
  {
   "cell_type": "code",
   "execution_count": null,
   "id": "7128e800",
   "metadata": {
    "ExecuteTime": {
     "end_time": "2021-11-13T22:35:53.186406Z",
     "start_time": "2021-11-13T22:35:53.186406Z"
    },
    "code_folding": []
   },
   "outputs": [],
   "source": [
    "h4 = df3[['price','year']].groupby('year').mean().reset_index()\n",
    "plt.figure(figsize=(10,6))\n",
    "sns.barplot(h4['year'],h4['price'])"
   ]
  },
  {
   "cell_type": "code",
   "execution_count": null,
   "id": "2c0e4f98",
   "metadata": {
    "ExecuteTime": {
     "end_time": "2021-11-13T22:35:53.187404Z",
     "start_time": "2021-11-13T22:35:53.187404Z"
    }
   },
   "outputs": [],
   "source": [
    "h4_percent = (h4.loc[1,'price'] - h4.loc[0,'price']) / h4.loc[0,'price']\n",
    "print('H4 is False: price growth from 2014 to 2015 was {0:.0%}'.format(h4_percent))"
   ]
  },
  {
   "cell_type": "markdown",
   "id": "381a9891",
   "metadata": {
    "ExecuteTime": {
     "end_time": "2021-09-04T19:46:11.631088Z",
     "start_time": "2021-09-04T19:46:11.312707Z"
    }
   },
   "source": [
    "### H5: Properties with more bedrooms would be more expensive"
   ]
  },
  {
   "cell_type": "code",
   "execution_count": null,
   "id": "53d4a3c5",
   "metadata": {
    "ExecuteTime": {
     "end_time": "2021-11-13T22:35:53.189399Z",
     "start_time": "2021-11-13T22:35:53.189399Z"
    },
    "code_folding": []
   },
   "outputs": [],
   "source": [
    "h5 = df3[['price','bedrooms']].groupby('bedrooms').mean().reset_index()\n",
    "\n",
    "plt.figure(figsize=(15,5))\n",
    "sns.barplot(h5['bedrooms'],h5['price'])\n",
    "\n",
    "median = h5['bedrooms'].median()\n",
    "\n",
    "bed_above = h5['price'][h5['bedrooms'] > median].mean()\n",
    "bed_below = h5['price'][h5['bedrooms'] < median].mean()"
   ]
  },
  {
   "cell_type": "code",
   "execution_count": null,
   "id": "5f886aca",
   "metadata": {
    "ExecuteTime": {
     "end_time": "2021-11-13T22:35:53.190396Z",
     "start_time": "2021-11-13T22:35:53.190396Z"
    }
   },
   "outputs": [],
   "source": [
    "h5_percent = (bed_above - bed_below) / bed_below\n",
    "print('H5 is True: properties with more than 5 beds are {0:.0%} more expensive.'.format(h5_percent))"
   ]
  },
  {
   "cell_type": "markdown",
   "id": "9da6a474",
   "metadata": {},
   "source": [
    "# 4.0 BUSINESS QUESTIONS & SOLUTIONS"
   ]
  },
  {
   "cell_type": "code",
   "execution_count": 101,
   "id": "52259400",
   "metadata": {
    "ExecuteTime": {
     "end_time": "2021-11-13T23:03:35.382447Z",
     "start_time": "2021-11-13T23:03:35.339523Z"
    }
   },
   "outputs": [],
   "source": [
    "df4 = df2.copy()\n",
    "df4 = df4.dropna(axis=0)"
   ]
  },
  {
   "cell_type": "markdown",
   "id": "21aaae77",
   "metadata": {},
   "source": [
    "## 4.1 Map showing where the houses are geographically located"
   ]
  },
  {
   "cell_type": "code",
   "execution_count": 102,
   "id": "5939ef1f",
   "metadata": {
    "ExecuteTime": {
     "end_time": "2021-11-13T23:03:36.770187Z",
     "start_time": "2021-11-13T23:03:36.736284Z"
    }
   },
   "outputs": [],
   "source": [
    "df4['lat'] = df4['lat'].astype(float64)\n",
    "df4['long'] = df4['long'].astype(float64)"
   ]
  },
  {
   "cell_type": "code",
   "execution_count": 103,
   "id": "0d36d47c",
   "metadata": {
    "ExecuteTime": {
     "end_time": "2021-11-13T23:03:44.751784Z",
     "start_time": "2021-11-13T23:03:44.741784Z"
    }
   },
   "outputs": [],
   "source": [
    "df4['price'].fillna(0, inplace=True)"
   ]
  },
  {
   "cell_type": "code",
   "execution_count": 104,
   "id": "156edfb7",
   "metadata": {
    "ExecuteTime": {
     "end_time": "2021-11-13T23:03:45.934524Z",
     "start_time": "2021-11-13T23:03:45.914580Z"
    }
   },
   "outputs": [],
   "source": [
    "df4['waterfront'] = df4['waterfront'].apply(lambda x: \"yes\" if x==\"1\" else \"no\")"
   ]
  },
  {
   "cell_type": "code",
   "execution_count": 105,
   "id": "c87fd992",
   "metadata": {
    "ExecuteTime": {
     "end_time": "2021-11-13T23:03:47.170249Z",
     "start_time": "2021-11-13T23:03:47.111684Z"
    }
   },
   "outputs": [],
   "source": [
    "# Interactive buttons - widgets to control data\n",
    "\n",
    "style = {'description_width': 'initial'}\n",
    "\n",
    "# filter by waterfront\n",
    "waterfront_bar = widgets.Dropdown(\n",
    "    options=df4['waterfront'].unique().tolist(),\n",
    "    value='no',\n",
    "    description='Water View',\n",
    "    disable=False)\n",
    "\n",
    "# limit by price\n",
    "price_limit = widgets.IntSlider(\n",
    "    value=int(df4['price'].mean()),\n",
    "    min=int(df4['price'].min()),\n",
    "    max=int(df4['price'].max()),\n",
    "    step=1,\n",
    "    description='Maximum Price',\n",
    "    disable=False,\n",
    "    style={'description_width': 'initial'})\n",
    "\n",
    "# limit living room squarefootage\n",
    "livingroom_limit = widgets.IntSlider(\n",
    "    value=int(df4['sqft_living'].mean()),\n",
    "    min=df4['sqft_living'].min(),\n",
    "    max=df4['sqft_living'].max(),\n",
    "    step=1,\n",
    "    description='Minimum Living Room Size',\n",
    "    disable=False,\n",
    "    style={'description_width': 'initial'})\n",
    "\n",
    "# limit by bathrooms\n",
    "bathroom_limit = widgets.IntSlider(\n",
    "    value=df4['bathrooms'].min(),\n",
    "    min=df4['bathrooms'].min(),\n",
    "    max=df4['bathrooms'].max(),\n",
    "    step=1,\n",
    "    description='Minimum Number of Bathrooms',\n",
    "    disable=False,\n",
    "    style={'description_width': 'initial'})\n",
    "\n",
    "# limit basement squarefootage\n",
    "basement_limit = widgets.IntSlider(\n",
    "    value=int(df4['sqft_basement'].mean()),\n",
    "    min=df4['sqft_basement'].min(),\n",
    "    max=df4['sqft_basement'].max(),\n",
    "    step=1,\n",
    "    description='Maximum Basement Size',\n",
    "    disable=False,\n",
    "    style={'description_width': 'initial'})\n",
    "\n",
    "# limit property condition\n",
    "condition_limit = widgets.IntSlider(\n",
    "    value=df4['condition'].min(),\n",
    "    min=df4['condition'].min(),\n",
    "    max=df4['condition'].max(),\n",
    "    step=1,\n",
    "    description='Property Minimum Condition',\n",
    "    disable=False,\n",
    "    style={'description_width': 'initial'})\n",
    "\n",
    "# limit construction year\n",
    "construction_limit = widgets.IntSlider(\n",
    "    value=int(df4['yr_built'].mean()),\n",
    "    min=df4['yr_built'].min(),\n",
    "    max=df4['yr_built'].max(),\n",
    "    step=1,\n",
    "    description='Year of Construction from',\n",
    "    disable=False,\n",
    "    style={'description_width': 'initial'})"
   ]
  },
  {
   "cell_type": "code",
   "execution_count": 106,
   "id": "9bf35b9e",
   "metadata": {
    "ExecuteTime": {
     "end_time": "2021-11-13T23:03:48.434016Z",
     "start_time": "2021-11-13T23:03:48.416062Z"
    }
   },
   "outputs": [],
   "source": [
    "def update_map (df4, waterfront, limit, livingroom_limit, bathroom_limit, basement_limit, condition_limit, construction_limit):\n",
    "    \n",
    "    houses = df4[(df4['waterfront'] == waterfront) &\n",
    "                 (df4['price'] <= limit) & \n",
    "                 (df4['sqft_living'] >= livingroom_limit) &\n",
    "                 (df4['bathrooms'] >= bathroom_limit) &\n",
    "                 (df4['sqft_basement'] <= basement_limit) &\n",
    "                 (df4['condition'] >= condition_limit) &\n",
    "                 (df4['yr_built'] >= construction_limit)\n",
    "                ][['id', 'lat', 'long', 'price', 'price_level', 'sqft_living', 'bathrooms', 'sqft_basement', 'condition', 'yr_built']].copy()\n",
    "    \n",
    "    fig = px.scatter_mapbox(houses, lat='lat', lon='long', color='price_level', size='price', \n",
    "                         color_continuous_scale=px.colors.named_colorscales(),\n",
    "                         size_max=15,\n",
    "                         zoom=10)\n",
    "    fig.update_layout(mapbox_style='open-street-map')\n",
    "    fig.update_layout(height=600, margin={'r':0, 't':0, 'l':0, 'b':0})\n",
    "    fig.show()"
   ]
  },
  {
   "cell_type": "code",
   "execution_count": 107,
   "id": "7bc38b55",
   "metadata": {
    "ExecuteTime": {
     "end_time": "2021-11-13T23:03:49.792170Z",
     "start_time": "2021-11-13T23:03:49.683462Z"
    }
   },
   "outputs": [
    {
     "data": {
      "application/vnd.jupyter.widget-view+json": {
       "model_id": "4cff1a17e8344a9aa496bfcbecc3740f",
       "version_major": 2,
       "version_minor": 0
      },
      "text/plain": [
       "interactive(children=(Dropdown(description='Water View', options=('no', 'yes'), value='no'), IntSlider(value=5…"
      ]
     },
     "metadata": {},
     "output_type": "display_data"
    }
   ],
   "source": [
    "widgets.interactive(update_map, df4=fixed(df4), \n",
    "                    waterfront=waterfront_bar, limit=price_limit, livingroom_limit=livingroom_limit, \n",
    "                    bathroom_limit=bathroom_limit, basement_limit=basement_limit, condition_limit=condition_limit, \n",
    "                    construction_limit=construction_limit)\n",
    "\n",
    "# USE KEYBOARD \"+\" AND \"-\" TO ZOOM IN/OUT THE MAP\n",
    "# EACH POINT INDICATES A PROPERTY AND ITS FEATURES"
   ]
  },
  {
   "cell_type": "markdown",
   "id": "918609e2",
   "metadata": {
    "ExecuteTime": {
     "end_time": "2021-11-02T00:28:38.046860Z",
     "start_time": "2021-11-02T00:28:37.780202Z"
    }
   },
   "source": [
    "## 4.2 Dashboard with interactive charts"
   ]
  },
  {
   "cell_type": "code",
   "execution_count": 118,
   "id": "327efae8",
   "metadata": {
    "ExecuteTime": {
     "end_time": "2021-11-13T23:12:07.985026Z",
     "start_time": "2021-11-13T23:12:07.969110Z"
    }
   },
   "outputs": [],
   "source": [
    "df5 = data.copy()"
   ]
  },
  {
   "cell_type": "code",
   "execution_count": 132,
   "id": "c1c2d040",
   "metadata": {
    "ExecuteTime": {
     "end_time": "2021-11-13T23:14:13.063835Z",
     "start_time": "2021-11-13T23:14:12.658930Z"
    }
   },
   "outputs": [],
   "source": [
    "# change date format\n",
    "df5['year'] = pd.to_datetime(data['date']).dt.strftime('%Y')\n",
    "df5['date'] = pd.to_datetime(data['date']).dt.strftime('%Y-%m-%d')\n",
    "df5['year_week'] = pd.to_datetime(data['date']).dt.strftime('%Y-%U')"
   ]
  },
  {
   "cell_type": "code",
   "execution_count": 133,
   "id": "bb67a06b",
   "metadata": {
    "ExecuteTime": {
     "end_time": "2021-11-13T23:14:13.633529Z",
     "start_time": "2021-11-13T23:14:13.627579Z"
    }
   },
   "outputs": [],
   "source": [
    "df5['id'] = df5['id'].astype(int64)\n",
    "df5['yr_built'] = df5['yr_built'].astype(int64)\n",
    "df5['yr_renovated'] = df5['yr_renovated'].astype(int64)"
   ]
  },
  {
   "cell_type": "code",
   "execution_count": 134,
   "id": "3f31cb4d",
   "metadata": {
    "ExecuteTime": {
     "end_time": "2021-11-13T23:14:14.582184Z",
     "start_time": "2021-11-13T23:14:14.572182Z"
    }
   },
   "outputs": [],
   "source": [
    "df5['yr_renovated'] = df5['yr_renovated'].replace(0, 1900)"
   ]
  },
  {
   "cell_type": "code",
   "execution_count": 135,
   "id": "deb4f388",
   "metadata": {
    "ExecuteTime": {
     "end_time": "2021-11-13T23:14:15.607105Z",
     "start_time": "2021-11-13T23:14:15.552256Z"
    }
   },
   "outputs": [],
   "source": [
    "# Interactive buttons - widgets to control data\n",
    "\n",
    "# filter by waterfront\n",
    "waterfront_box = widgets.Checkbox(\n",
    "    value=False,\n",
    "    options=df5.loc[:, 'waterfront'].unique().tolist(),\n",
    "    description='Water View',\n",
    "    disable=False,\n",
    "    indent=False)\n",
    "\n",
    "# property availability\n",
    "date_limit = widgets.SelectionSlider(\n",
    "    options=df5.loc[:, 'date'].sort_values().unique().tolist(),\n",
    "    value = df5['date'].max(),\n",
    "    description = \"Availability\",\n",
    "    style={'description_width':'initial'},\n",
    "    #disable=False,\n",
    "    continuous_update=False,\n",
    "    #orientation='horizontal',\n",
    "    readout=True )\n",
    "\n",
    "# renovation year\n",
    "renovation_limit = widgets.SelectionSlider(\n",
    "    options=df5.loc[:, 'yr_renovated'].sort_values().unique().tolist(),\n",
    "    value = 2000,\n",
    "    description = \"Renovation Year from\",\n",
    "    style={'description_width':'initial'},\n",
    "    disable=False,\n",
    "    continuous_update=False,\n",
    "    orientation='horizontal',\n",
    "    readout=True )"
   ]
  },
  {
   "cell_type": "code",
   "execution_count": 136,
   "id": "de5d65b3",
   "metadata": {
    "ExecuteTime": {
     "end_time": "2021-11-13T23:14:16.691622Z",
     "start_time": "2021-11-13T23:14:16.682645Z"
    }
   },
   "outputs": [],
   "source": [
    "def update_dashboard( df5, date_limit, renovation_limit, waterfront_box ):\n",
    "    \n",
    "    # Filtering data\n",
    "    df = df5[(df5['date'] <= date_limit) &\n",
    "             (df5['yr_renovated'] >= renovation_limit) &\n",
    "             (df5['waterfront'] == waterfront_box)][['id', 'price', 'date', 'yr_renovated', 'waterfront', 'year_week', 'year']].copy()\n",
    "    \n",
    "    fig = plt.figure(figsize=(24, 12))\n",
    "    \n",
    "    specs = gridspec.GridSpec( ncols=2, nrows=2, figure=fig )\n",
    "    \n",
    "    ax1 = fig.add_subplot( specs[0, :] ) # First row\n",
    "    ax2 = fig.add_subplot( specs[1, 0] ) # Second Row First Column\n",
    "    ax3 = fig.add_subplot( specs[1, 1] ) # Second Row Second Column  rows\n",
    "    \n",
    "    # first graph\n",
    "    by_year = df[['price', 'year']].groupby( 'year').sum().reset_index()\n",
    "#     ax1.bar( by_year['year'], by_year['id'] )\n",
    "    sns.barplot(x='year', y='price', data=by_year, ax=ax1)\n",
    "    \n",
    "    # second graph\n",
    "    by_day = df[['price', 'date']].groupby('date').mean().reset_index()\n",
    "#     ax2.plot( by_day['date'], by_day['price'] )\n",
    "#     ax2.set_title( 'title: Avg Price by Day' )\n",
    "    sns.lineplot(x='date', y='price', data=by_day, ax=ax2)\n",
    "    plt.xticks( rotation=90 );\n",
    "    \n",
    "    # third graph\n",
    "    by_week_of_year = df[['price', 'year_week']].groupby('year_week').mean().reset_index()\n",
    "#     ax3.bar( by_week_of_year['year_week'], by_week_of_year['price'] )\n",
    "#     ax3.set_title( 'title: Avg Price by Week Of Year' )\n",
    "#     plt.xticks( rotation=60 );\n",
    "    sns.barplot(x='year_week', y='price', data=by_week_of_year, ax=ax3)\n",
    "    plt.xticks( rotation=90 );"
   ]
  },
  {
   "cell_type": "code",
   "execution_count": 137,
   "id": "b7da199d",
   "metadata": {
    "ExecuteTime": {
     "end_time": "2021-11-13T23:14:22.601163Z",
     "start_time": "2021-11-13T23:14:17.852836Z"
    }
   },
   "outputs": [
    {
     "data": {
      "application/vnd.jupyter.widget-view+json": {
       "model_id": "2ea5ba452fed44519cbb2f1d79f6fb49",
       "version_major": 2,
       "version_minor": 0
      },
      "text/plain": [
       "interactive(children=(SelectionSlider(continuous_update=False, description='Availability', index=371, options=…"
      ]
     },
     "metadata": {},
     "output_type": "display_data"
    }
   ],
   "source": [
    "widgets.interactive(update_dashboard, df5=fixed(df5), \n",
    "                    date_limit=date_limit, \n",
    "                    renovation_limit=renovation_limit, \n",
    "                    waterfront_box=waterfront_box)"
   ]
  },
  {
   "cell_type": "code",
   "execution_count": null,
   "id": "817ac5d8",
   "metadata": {},
   "outputs": [],
   "source": []
  },
  {
   "cell_type": "code",
   "execution_count": null,
   "id": "86757a13",
   "metadata": {},
   "outputs": [],
   "source": []
  },
  {
   "cell_type": "code",
   "execution_count": null,
   "id": "a4d973b7",
   "metadata": {},
   "outputs": [],
   "source": []
  },
  {
   "cell_type": "code",
   "execution_count": null,
   "id": "c0a2f43a",
   "metadata": {},
   "outputs": [],
   "source": []
  },
  {
   "cell_type": "code",
   "execution_count": null,
   "id": "d828092b",
   "metadata": {},
   "outputs": [],
   "source": []
  },
  {
   "cell_type": "code",
   "execution_count": null,
   "id": "8288f1fa",
   "metadata": {},
   "outputs": [],
   "source": []
  },
  {
   "cell_type": "code",
   "execution_count": null,
   "id": "52c8a3d7",
   "metadata": {},
   "outputs": [],
   "source": []
  },
  {
   "cell_type": "code",
   "execution_count": null,
   "id": "8101821e",
   "metadata": {},
   "outputs": [],
   "source": []
  },
  {
   "cell_type": "code",
   "execution_count": null,
   "id": "9b015a57",
   "metadata": {},
   "outputs": [],
   "source": []
  },
  {
   "cell_type": "code",
   "execution_count": null,
   "id": "6bc98815",
   "metadata": {},
   "outputs": [],
   "source": []
  },
  {
   "cell_type": "code",
   "execution_count": null,
   "id": "aa1e4ac0",
   "metadata": {},
   "outputs": [],
   "source": []
  },
  {
   "cell_type": "code",
   "execution_count": null,
   "id": "dac28779",
   "metadata": {},
   "outputs": [],
   "source": []
  },
  {
   "cell_type": "code",
   "execution_count": null,
   "id": "3974ce89",
   "metadata": {},
   "outputs": [],
   "source": []
  },
  {
   "cell_type": "code",
   "execution_count": null,
   "id": "8600f9f0",
   "metadata": {},
   "outputs": [],
   "source": []
  },
  {
   "cell_type": "markdown",
   "id": "e77b24d7",
   "metadata": {},
   "source": []
  },
  {
   "cell_type": "markdown",
   "id": "8c5ce7cf",
   "metadata": {},
   "source": [
    "## 4.1 Which properties should be bought by House Rocket and at what price?"
   ]
  },
  {
   "cell_type": "code",
   "execution_count": null,
   "id": "2e469134",
   "metadata": {},
   "outputs": [],
   "source": []
  },
  {
   "cell_type": "code",
   "execution_count": null,
   "id": "23cf6fbb",
   "metadata": {
    "ExecuteTime": {
     "end_time": "2021-11-01T22:38:52.970907Z",
     "start_time": "2021-11-01T22:38:52.625617Z"
    },
    "code_folding": []
   },
   "outputs": [],
   "source": [
    "# Group by zipcode and calculate median of price\n",
    "\n",
    "df4 = df4[['zipcode','price']].groupby('zipcode').median().reset_index()\n",
    "df4 = df4.rename(columns={'price': 'price_median'})\n",
    "\n",
    "# unir o df2 com o dataset original, alocando cada preço mediano em cada linha, através do zipcode\n",
    "\n",
    "df = pd.merge(df1,df,on='zipcode',how='inner')\n",
    "\n",
    "# pra cada imóvel, colocar na coluna \"status\" os indicadores \"buy\" ou \"no buy\" de dependendo das condições:\n",
    "\n",
    "# a) o preço for menor que a mediana da região;\n",
    "# b) o imóvel estiver em boas condições\n",
    "\n",
    "for i in range(len(df)):\n",
    "    \n",
    "    if (df.loc[i,'price'] < df.loc[i,'price_median']) & (df.loc[i,'condition'] >= 3):\n",
    "        df.loc[i,'status'] = 'buy'\n",
    "    \n",
    "    else:\n",
    "        df.loc[i,'status'] = 'no buy'"
   ]
  },
  {
   "cell_type": "code",
   "execution_count": null,
   "id": "fd1c202f",
   "metadata": {
    "ExecuteTime": {
     "end_time": "2021-11-01T22:38:52.972944Z",
     "start_time": "2021-11-01T22:38:52.972944Z"
    },
    "code_folding": [],
    "scrolled": true
   },
   "outputs": [],
   "source": [
    "# criar relatório com apenas as colunas de interesse, ordenando do menor preço para o maior, considerando as melhores condições de imóveis \n",
    "buy_houses = df[df['status'] == 'buy'].sort_values(by=['describe_condition','price'])\n",
    "buy_houses[['id','zipcode','price','price_median','condition']].head()\n",
    "\n",
    "print('Foram encontrados {} imóveis dentro das condições acima, sugeridos para compra'.format(len(buy_houses)))"
   ]
  },
  {
   "cell_type": "markdown",
   "id": "999294b6",
   "metadata": {
    "ExecuteTime": {
     "end_time": "2021-07-08T00:13:01.395853Z",
     "start_time": "2021-07-08T00:13:01.365689Z"
    }
   },
   "source": [
    "### 4.2) Uma vez a casa comprada, qual o melhor momento para vendê-las e por qual preço ?"
   ]
  },
  {
   "cell_type": "code",
   "execution_count": null,
   "id": "a44ce6de",
   "metadata": {
    "ExecuteTime": {
     "end_time": "2021-11-01T22:38:52.973902Z",
     "start_time": "2021-11-01T22:38:52.973902Z"
    },
    "code_folding": []
   },
   "outputs": [],
   "source": [
    "# Agrupar os imóveis por região ( coluna zipcode ) e por sazonalidade(season)\n",
    "# Dentro de cada região/season encontrar a mediana do preço do imóvel.\n",
    "\n",
    "df2 = df[['zipcode','season','price']].groupby(['zipcode','season']).median().reset_index()\n",
    "df2 = df2.rename(columns={'price': 'price_median_season'})\n",
    "\n",
    "\n",
    "# unir df2 com df\n",
    "df3 = pd.merge(buy_houses,df2,how ='inner', on=['zipcode','season'])\n"
   ]
  },
  {
   "cell_type": "code",
   "execution_count": null,
   "id": "2ee63ab6",
   "metadata": {
    "ExecuteTime": {
     "end_time": "2021-11-01T22:38:52.974900Z",
     "start_time": "2021-11-01T22:38:52.974900Z"
    },
    "code_folding": []
   },
   "outputs": [],
   "source": [
    "# Condições de venda:\n",
    "# 1. Se o preço da compra for maior que a mediana da região + sazonalidade.\n",
    "# O preço da venda será igual ao preço da compra + 10%\n",
    "# 2. Se o preço da compra for menor que a mediana da região + sazonalidade.\n",
    "# O preço da venda será igual ao preço da compra + 30%\n",
    "        \n",
    "for i in range(len(df3)):\n",
    "            if df3.loc[i, 'price'] <= df3.loc[i, 'price_median_season']:\n",
    "                 df3.loc[i, 'sale_price'] = df3.loc[i, 'price'] * 1.30\n",
    "            elif df3.loc[i, 'price'] > df3.loc[i, 'price_median_season']:\n",
    "                 df3.loc[i, 'sale_price'] = df3.loc[i, 'price'] * 1.10\n",
    "            else:\n",
    "                 pass\n",
    "                \n",
    "df3['profit'] = df3['sale_price'] - df3['price']"
   ]
  },
  {
   "cell_type": "code",
   "execution_count": null,
   "id": "c357e040",
   "metadata": {
    "ExecuteTime": {
     "end_time": "2021-11-01T22:38:52.975897Z",
     "start_time": "2021-11-01T22:38:52.975897Z"
    },
    "code_folding": []
   },
   "outputs": [],
   "source": [
    "# relatório final: Sugestões de compra, com possíveis indicadores de preço de venda e lucro\n",
    "df3[['id','zipcode','price','price_median','season','price_median_season','describe_condition','sale_price','profit']].head()"
   ]
  },
  {
   "cell_type": "code",
   "execution_count": null,
   "id": "fa6f4fbf",
   "metadata": {
    "ExecuteTime": {
     "end_time": "2021-11-01T22:38:52.977892Z",
     "start_time": "2021-11-01T22:38:52.977892Z"
    },
    "scrolled": true
   },
   "outputs": [],
   "source": [
    "# Total do lucro considerando quadro de sugestão\n",
    "df3['profit'].sum()"
   ]
  },
  {
   "cell_type": "code",
   "execution_count": null,
   "id": "7ad422fc",
   "metadata": {
    "ExecuteTime": {
     "end_time": "2021-11-01T22:38:52.978890Z",
     "start_time": "2021-11-01T22:38:52.978890Z"
    }
   },
   "outputs": [],
   "source": [
    "# Custo total\n",
    "df3['price'].sum()"
   ]
  },
  {
   "cell_type": "code",
   "execution_count": null,
   "id": "c9656a10",
   "metadata": {
    "ExecuteTime": {
     "end_time": "2021-11-01T22:38:52.979888Z",
     "start_time": "2021-11-01T22:38:52.979888Z"
    }
   },
   "outputs": [],
   "source": [
    "# Receita total\n",
    "df3['sale_price'].sum()"
   ]
  },
  {
   "cell_type": "markdown",
   "id": "6ddd8f40",
   "metadata": {},
   "source": [
    "### 4.3) Insights - Imóveis selecionados"
   ]
  },
  {
   "cell_type": "code",
   "execution_count": null,
   "id": "1f07eb05",
   "metadata": {
    "ExecuteTime": {
     "end_time": "2021-11-01T22:38:52.980884Z",
     "start_time": "2021-11-01T22:38:52.980884Z"
    },
    "code_folding": [],
    "scrolled": true
   },
   "outputs": [],
   "source": [
    "# Seleção dos atributos cujo array é analisável\n",
    "df4 = df3[['zipcode','bedrooms','bathrooms','floors','season',\n",
    "           'renovated','describe_condition','waterfront_','basement','grade','view','constrution']]"
   ]
  },
  {
   "cell_type": "code",
   "execution_count": null,
   "id": "ae2f1db9",
   "metadata": {
    "ExecuteTime": {
     "end_time": "2021-11-01T22:38:52.982879Z",
     "start_time": "2021-11-01T22:38:52.982879Z"
    },
    "code_folding": []
   },
   "outputs": [],
   "source": [
    "print(\"Insights - Imóveis selecionados\")\n",
    "conditions = []\n",
    "for i in df4.columns:\n",
    "            ins = df3[['profit',i]].groupby(i).sum().reset_index()\n",
    "            plt.figure(figsize=(20,12))\n",
    "            sns.barplot(ins[i],ins['profit']).set(title='Profit x {}'.format(i))\n",
    "            plt.xticks(rotation=60);\n",
    "            ins2 = ins[ins['profit'] == ins['profit'].max()]\n",
    "            conditions.append(ins2.iloc[0,0])\n",
    "            print('Imóveis mais lucrativos são os com \"{}\" igual a \"{}\"'.format(i, ins2.iloc[0,0]))\n"
   ]
  },
  {
   "cell_type": "code",
   "execution_count": null,
   "id": "aeeae4f2",
   "metadata": {
    "ExecuteTime": {
     "end_time": "2021-11-01T22:38:52.984876Z",
     "start_time": "2021-11-01T22:38:52.984876Z"
    },
    "scrolled": false
   },
   "outputs": [],
   "source": [
    "dx = pd.DataFrame(columns=['atributo','condicao','total_imoveis','%_imoveis','lucro_total','%_lucro'])\n",
    "\n",
    "dx['atributo'] = ['zipcode','bedrooms','bathrooms','floors','season',\n",
    "           'renovated','describe_condition','waterfront_','basement','grade','view','constrution']\n",
    "\n",
    "dx['condicao'] = conditions\n",
    "\n",
    "for i in range(len(dx)):\n",
    "    dx.loc[i,'total_imoveis'] = df3['id'][df3[dx.loc[i,'atributo']] == dx.loc[i,'condicao']].count()\n",
    "    dx.loc[i,'%_imoveis'] = float(dx.loc[i,'total_imoveis'] / df3['id'].count() * 100)\n",
    "    dx.loc[i,'lucro_total'] = df3['profit'][df3[dx.loc[i,'atributo']] == dx.loc[i,'condicao']].sum()\n",
    "    dx.loc[i,'%_lucro'] = float(dx.loc[i,'lucro_total'] / df3['profit'].sum() * 100)\n",
    "\n",
    "dx"
   ]
  },
  {
   "cell_type": "markdown",
   "id": "7136a268",
   "metadata": {},
   "source": [
    "#### 4.3.1) Teste de Pareto"
   ]
  },
  {
   "cell_type": "code",
   "execution_count": null,
   "id": "280d446c",
   "metadata": {
    "ExecuteTime": {
     "end_time": "2021-11-01T22:38:52.987869Z",
     "start_time": "2021-11-01T22:38:52.987869Z"
    }
   },
   "outputs": [],
   "source": [
    "cond = [df3[df3['zipcode']== 98052],\n",
    "         df3[df3['bedrooms']== 3],\n",
    "        df3[df3['bathrooms']== 1.0],\n",
    "        df3[df3['floors']== 1.0],\n",
    "        df3[df3['season']== 'winter'],\n",
    "        df3[df3['renovated']== 'no'],\n",
    "        df3[df3['describe_condition'] == 'median'],\n",
    "        df3[df3['waterfront_']== 'não'],\n",
    "        df3[df3['basement']== 'no'],\n",
    "        df3[df3['grade']== 7],\n",
    "        df3[df3['view']== 0],\n",
    "        df3[df3['constrution']== '> 1955']]\n"
   ]
  },
  {
   "cell_type": "code",
   "execution_count": null,
   "id": "fa1ece46",
   "metadata": {
    "ExecuteTime": {
     "end_time": "2021-11-01T22:38:52.988865Z",
     "start_time": "2021-11-01T22:38:52.988865Z"
    }
   },
   "outputs": [],
   "source": [
    "for i in cond:\n",
    "    pareto = i\n",
    "    par = pareto['profit'].sum() / df3['profit'].sum()\n",
    "    count = pareto['id'].count() / df3['id'].count()\n",
    "    print('O número de imóveis na condição é de {} % do total de imóveis'.format(count * 100))\n",
    "    print('O percentual do lucro corresponde a {} %\\n'.format(par * 100))\n"
   ]
  }
 ],
 "metadata": {
  "kernelspec": {
   "display_name": "Python 3 (ipykernel)",
   "language": "python",
   "name": "python3"
  },
  "language_info": {
   "codemirror_mode": {
    "name": "ipython",
    "version": 3
   },
   "file_extension": ".py",
   "mimetype": "text/x-python",
   "name": "python",
   "nbconvert_exporter": "python",
   "pygments_lexer": "ipython3",
   "version": "3.9.7"
  }
 },
 "nbformat": 4,
 "nbformat_minor": 5
}
