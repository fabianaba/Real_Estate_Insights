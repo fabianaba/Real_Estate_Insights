{
  "nbformat": 4,
  "nbformat_minor": 5,
  "metadata": {
    "kernelspec": {
      "display_name": "Python 3 (ipykernel)",
      "language": "python",
      "name": "python3"
    },
    "language_info": {
      "codemirror_mode": {
        "name": "ipython",
        "version": 3
      },
      "file_extension": ".py",
      "mimetype": "text/x-python",
      "name": "python",
      "nbconvert_exporter": "python",
      "pygments_lexer": "ipython3",
      "version": "3.9.7"
    },
    "colab": {
      "name": "House_Rocket_Sales_v02.ipynb",
      "provenance": []
    },
    "widgets": {
      "application/vnd.jupyter.widget-state+json": {
        "e421652a560f46f08ab5d9fd79e54ff4": {
          "model_module": "@jupyter-widgets/controls",
          "model_name": "VBoxModel",
          "model_module_version": "1.5.0",
          "state": {
            "_view_name": "VBoxView",
            "_dom_classes": [
              "widget-interact"
            ],
            "_model_name": "VBoxModel",
            "_view_module": "@jupyter-widgets/controls",
            "_model_module_version": "1.5.0",
            "_view_count": null,
            "_view_module_version": "1.5.0",
            "box_style": "",
            "layout": "IPY_MODEL_987c4d9c32614461a920d3bf77d6212f",
            "_model_module": "@jupyter-widgets/controls",
            "children": [
              "IPY_MODEL_aa468958bba941ceaa8d41cea63babb8",
              "IPY_MODEL_7d5c905ed93d452cb04d1b21a9adb152",
              "IPY_MODEL_adc44e59c286427b9c054fbd7229ddeb",
              "IPY_MODEL_742d3014a77741bb9a4771a61b867fc5"
            ]
          }
        },
        "987c4d9c32614461a920d3bf77d6212f": {
          "model_module": "@jupyter-widgets/base",
          "model_name": "LayoutModel",
          "model_module_version": "1.2.0",
          "state": {
            "_view_name": "LayoutView",
            "grid_template_rows": null,
            "right": null,
            "justify_content": null,
            "_view_module": "@jupyter-widgets/base",
            "overflow": null,
            "_model_module_version": "1.2.0",
            "_view_count": null,
            "flex_flow": null,
            "width": null,
            "min_width": null,
            "border": null,
            "align_items": null,
            "bottom": null,
            "_model_module": "@jupyter-widgets/base",
            "top": null,
            "grid_column": null,
            "overflow_y": null,
            "overflow_x": null,
            "grid_auto_flow": null,
            "grid_area": null,
            "grid_template_columns": null,
            "flex": null,
            "_model_name": "LayoutModel",
            "justify_items": null,
            "grid_row": null,
            "max_height": null,
            "align_content": null,
            "visibility": null,
            "align_self": null,
            "height": null,
            "min_height": null,
            "padding": null,
            "grid_auto_rows": null,
            "grid_gap": null,
            "max_width": null,
            "order": null,
            "_view_module_version": "1.2.0",
            "grid_template_areas": null,
            "object_position": null,
            "object_fit": null,
            "grid_auto_columns": null,
            "margin": null,
            "display": null,
            "left": null
          }
        },
        "aa468958bba941ceaa8d41cea63babb8": {
          "model_module": "@jupyter-widgets/controls",
          "model_name": "SelectionSliderModel",
          "model_module_version": "1.5.0",
          "state": {
            "_options_labels": [
              "2014-05-02",
              "2014-05-03",
              "2014-05-04",
              "2014-05-05",
              "2014-05-06",
              "2014-05-07",
              "2014-05-08",
              "2014-05-09",
              "2014-05-10",
              "2014-05-11",
              "2014-05-12",
              "2014-05-13",
              "2014-05-14",
              "2014-05-15",
              "2014-05-16",
              "2014-05-17",
              "2014-05-18",
              "2014-05-19",
              "2014-05-20",
              "2014-05-21",
              "2014-05-22",
              "2014-05-23",
              "2014-05-24",
              "2014-05-25",
              "2014-05-26",
              "2014-05-27",
              "2014-05-28",
              "2014-05-29",
              "2014-05-30",
              "2014-05-31",
              "2014-06-01",
              "2014-06-02",
              "2014-06-03",
              "2014-06-04",
              "2014-06-05",
              "2014-06-06",
              "2014-06-07",
              "2014-06-08",
              "2014-06-09",
              "2014-06-10",
              "2014-06-11",
              "2014-06-12",
              "2014-06-13",
              "2014-06-14",
              "2014-06-15",
              "2014-06-16",
              "2014-06-17",
              "2014-06-18",
              "2014-06-19",
              "2014-06-20",
              "2014-06-21",
              "2014-06-22",
              "2014-06-23",
              "2014-06-24",
              "2014-06-25",
              "2014-06-26",
              "2014-06-27",
              "2014-06-28",
              "2014-06-29",
              "2014-06-30",
              "2014-07-01",
              "2014-07-02",
              "2014-07-03",
              "2014-07-04",
              "2014-07-05",
              "2014-07-06",
              "2014-07-07",
              "2014-07-08",
              "2014-07-09",
              "2014-07-10",
              "2014-07-11",
              "2014-07-12",
              "2014-07-13",
              "2014-07-14",
              "2014-07-15",
              "2014-07-16",
              "2014-07-17",
              "2014-07-18",
              "2014-07-19",
              "2014-07-20",
              "2014-07-21",
              "2014-07-22",
              "2014-07-23",
              "2014-07-24",
              "2014-07-25",
              "2014-07-26",
              "2014-07-27",
              "2014-07-28",
              "2014-07-29",
              "2014-07-30",
              "2014-07-31",
              "2014-08-01",
              "2014-08-02",
              "2014-08-03",
              "2014-08-04",
              "2014-08-05",
              "2014-08-06",
              "2014-08-07",
              "2014-08-08",
              "2014-08-09",
              "2014-08-10",
              "2014-08-11",
              "2014-08-12",
              "2014-08-13",
              "2014-08-14",
              "2014-08-15",
              "2014-08-16",
              "2014-08-17",
              "2014-08-18",
              "2014-08-19",
              "2014-08-20",
              "2014-08-21",
              "2014-08-22",
              "2014-08-23",
              "2014-08-24",
              "2014-08-25",
              "2014-08-26",
              "2014-08-27",
              "2014-08-28",
              "2014-08-29",
              "2014-08-30",
              "2014-08-31",
              "2014-09-01",
              "2014-09-02",
              "2014-09-03",
              "2014-09-04",
              "2014-09-05",
              "2014-09-06",
              "2014-09-07",
              "2014-09-08",
              "2014-09-09",
              "2014-09-10",
              "2014-09-11",
              "2014-09-12",
              "2014-09-13",
              "2014-09-14",
              "2014-09-15",
              "2014-09-16",
              "2014-09-17",
              "2014-09-18",
              "2014-09-19",
              "2014-09-20",
              "2014-09-21",
              "2014-09-22",
              "2014-09-23",
              "2014-09-24",
              "2014-09-25",
              "2014-09-26",
              "2014-09-27",
              "2014-09-28",
              "2014-09-29",
              "2014-09-30",
              "2014-10-01",
              "2014-10-02",
              "2014-10-03",
              "2014-10-04",
              "2014-10-05",
              "2014-10-06",
              "2014-10-07",
              "2014-10-08",
              "2014-10-09",
              "2014-10-10",
              "2014-10-11",
              "2014-10-12",
              "2014-10-13",
              "2014-10-14",
              "2014-10-15",
              "2014-10-16",
              "2014-10-17",
              "2014-10-18",
              "2014-10-19",
              "2014-10-20",
              "2014-10-21",
              "2014-10-22",
              "2014-10-23",
              "2014-10-24",
              "2014-10-25",
              "2014-10-26",
              "2014-10-27",
              "2014-10-28",
              "2014-10-29",
              "2014-10-30",
              "2014-10-31",
              "2014-11-01",
              "2014-11-02",
              "2014-11-03",
              "2014-11-04",
              "2014-11-05",
              "2014-11-06",
              "2014-11-07",
              "2014-11-08",
              "2014-11-09",
              "2014-11-10",
              "2014-11-11",
              "2014-11-12",
              "2014-11-13",
              "2014-11-14",
              "2014-11-15",
              "2014-11-16",
              "2014-11-17",
              "2014-11-18",
              "2014-11-19",
              "2014-11-20",
              "2014-11-21",
              "2014-11-22",
              "2014-11-23",
              "2014-11-24",
              "2014-11-25",
              "2014-11-26",
              "2014-11-28",
              "2014-11-29",
              "2014-11-30",
              "2014-12-01",
              "2014-12-02",
              "2014-12-03",
              "2014-12-04",
              "2014-12-05",
              "2014-12-06",
              "2014-12-07",
              "2014-12-08",
              "2014-12-09",
              "2014-12-10",
              "2014-12-11",
              "2014-12-12",
              "2014-12-13",
              "2014-12-14",
              "2014-12-15",
              "2014-12-16",
              "2014-12-17",
              "2014-12-18",
              "2014-12-19",
              "2014-12-20",
              "2014-12-21",
              "2014-12-22",
              "2014-12-23",
              "2014-12-24",
              "2014-12-26",
              "2014-12-27",
              "2014-12-29",
              "2014-12-30",
              "2014-12-31",
              "2015-01-02",
              "2015-01-05",
              "2015-01-06",
              "2015-01-07",
              "2015-01-08",
              "2015-01-09",
              "2015-01-10",
              "2015-01-12",
              "2015-01-13",
              "2015-01-14",
              "2015-01-15",
              "2015-01-16",
              "2015-01-17",
              "2015-01-19",
              "2015-01-20",
              "2015-01-21",
              "2015-01-22",
              "2015-01-23",
              "2015-01-24",
              "2015-01-25",
              "2015-01-26",
              "2015-01-27",
              "2015-01-28",
              "2015-01-29",
              "2015-01-30",
              "2015-01-31",
              "2015-02-01",
              "2015-02-02",
              "2015-02-03",
              "2015-02-04",
              "2015-02-05",
              "2015-02-06",
              "2015-02-07",
              "2015-02-09",
              "2015-02-10",
              "2015-02-11",
              "2015-02-12",
              "2015-02-13",
              "2015-02-14",
              "2015-02-15",
              "2015-02-16",
              "2015-02-17",
              "2015-02-18",
              "2015-02-19",
              "2015-02-20",
              "2015-02-21",
              "2015-02-22",
              "2015-02-23",
              "2015-02-24",
              "2015-02-25",
              "2015-02-26",
              "2015-02-27",
              "2015-02-28",
              "2015-03-01",
              "2015-03-02",
              "2015-03-03",
              "2015-03-04",
              "2015-03-05",
              "2015-03-06",
              "2015-03-07",
              "2015-03-08",
              "2015-03-09",
              "2015-03-10",
              "2015-03-11",
              "2015-03-12",
              "2015-03-13",
              "2015-03-14",
              "2015-03-15",
              "2015-03-16",
              "2015-03-17",
              "2015-03-18",
              "2015-03-19",
              "2015-03-20",
              "2015-03-21",
              "2015-03-22",
              "2015-03-23",
              "2015-03-24",
              "2015-03-25",
              "2015-03-26",
              "2015-03-27",
              "2015-03-28",
              "2015-03-29",
              "2015-03-30",
              "2015-03-31",
              "2015-04-01",
              "2015-04-02",
              "2015-04-03",
              "2015-04-04",
              "2015-04-05",
              "2015-04-06",
              "2015-04-07",
              "2015-04-08",
              "2015-04-09",
              "2015-04-10",
              "2015-04-11",
              "2015-04-12",
              "2015-04-13",
              "2015-04-14",
              "2015-04-15",
              "2015-04-16",
              "2015-04-17",
              "2015-04-18",
              "2015-04-19",
              "2015-04-20",
              "2015-04-21",
              "2015-04-22",
              "2015-04-23",
              "2015-04-24",
              "2015-04-25",
              "2015-04-26",
              "2015-04-27",
              "2015-04-28",
              "2015-04-29",
              "2015-04-30",
              "2015-05-01",
              "2015-05-02",
              "2015-05-03",
              "2015-05-04",
              "2015-05-05",
              "2015-05-06",
              "2015-05-07",
              "2015-05-08",
              "2015-05-09",
              "2015-05-10",
              "2015-05-11",
              "2015-05-12",
              "2015-05-13",
              "2015-05-14",
              "2015-05-15",
              "2015-05-24",
              "2015-05-27"
            ],
            "_view_name": "SelectionSliderView",
            "style": "IPY_MODEL_01a3811d4a49494297c8fdbbeacbb9a9",
            "_dom_classes": [],
            "description": "Availability",
            "_model_name": "SelectionSliderModel",
            "orientation": "horizontal",
            "index": 371,
            "_view_module": "@jupyter-widgets/controls",
            "_model_module_version": "1.5.0",
            "_view_count": null,
            "disabled": false,
            "_view_module_version": "1.5.0",
            "continuous_update": false,
            "description_tooltip": null,
            "readout": true,
            "_model_module": "@jupyter-widgets/controls",
            "layout": "IPY_MODEL_b9f2757373e64508969ecc52dd5349f9"
          }
        },
        "7d5c905ed93d452cb04d1b21a9adb152": {
          "model_module": "@jupyter-widgets/controls",
          "model_name": "SelectionSliderModel",
          "model_module_version": "1.5.0",
          "state": {
            "_options_labels": [
              "1900",
              "1934",
              "1940",
              "1944",
              "1945",
              "1946",
              "1948",
              "1950",
              "1951",
              "1953",
              "1954",
              "1955",
              "1956",
              "1957",
              "1958",
              "1959",
              "1960",
              "1962",
              "1963",
              "1964",
              "1965",
              "1967",
              "1968",
              "1969",
              "1970",
              "1971",
              "1972",
              "1973",
              "1974",
              "1975",
              "1976",
              "1977",
              "1978",
              "1979",
              "1980",
              "1981",
              "1982",
              "1983",
              "1984",
              "1985",
              "1986",
              "1987",
              "1988",
              "1989",
              "1990",
              "1991",
              "1992",
              "1993",
              "1994",
              "1995",
              "1996",
              "1997",
              "1998",
              "1999",
              "2000",
              "2001",
              "2002",
              "2003",
              "2004",
              "2005",
              "2006",
              "2007",
              "2008",
              "2009",
              "2010",
              "2011",
              "2012",
              "2013",
              "2014",
              "2015"
            ],
            "_view_name": "SelectionSliderView",
            "style": "IPY_MODEL_1dc6633f77614da896903ee3cbd754be",
            "_dom_classes": [],
            "description": "Renovation Year from",
            "_model_name": "SelectionSliderModel",
            "orientation": "horizontal",
            "index": 0,
            "_view_module": "@jupyter-widgets/controls",
            "_model_module_version": "1.5.0",
            "_view_count": null,
            "disabled": false,
            "_view_module_version": "1.5.0",
            "continuous_update": false,
            "description_tooltip": null,
            "readout": true,
            "_model_module": "@jupyter-widgets/controls",
            "layout": "IPY_MODEL_748b17eefbb1435d923ace2b6837c02b"
          }
        },
        "adc44e59c286427b9c054fbd7229ddeb": {
          "model_module": "@jupyter-widgets/controls",
          "model_name": "CheckboxModel",
          "model_module_version": "1.5.0",
          "state": {
            "_view_name": "CheckboxView",
            "style": "IPY_MODEL_4578cc82e1d24a79b0472833c66801e8",
            "_dom_classes": [],
            "description": "Water View",
            "_model_name": "CheckboxModel",
            "_view_module": "@jupyter-widgets/controls",
            "_model_module_version": "1.5.0",
            "value": false,
            "_view_count": null,
            "disabled": false,
            "_view_module_version": "1.5.0",
            "indent": false,
            "description_tooltip": null,
            "_model_module": "@jupyter-widgets/controls",
            "layout": "IPY_MODEL_8c3f6cf5724c4e70903865c3551b69c6"
          }
        },
        "742d3014a77741bb9a4771a61b867fc5": {
          "model_module": "@jupyter-widgets/output",
          "model_name": "OutputModel",
          "model_module_version": "1.0.0",
          "state": {
            "_view_name": "OutputView",
            "msg_id": "",
            "_dom_classes": [],
            "_model_name": "OutputModel",
            "outputs": [
              {
                "output_type": "display_data",
                "data": {
                  "image/png": "iVBORw0KGgoAAAANSUhEUgAABXwAAALtCAYAAACb7KwzAAAABHNCSVQICAgIfAhkiAAAAAlwSFlzAAALEgAACxIB0t1+/AAAADh0RVh0U29mdHdhcmUAbWF0cGxvdGxpYiB2ZXJzaW9uMy4yLjIsIGh0dHA6Ly9tYXRwbG90bGliLm9yZy+WH4yJAAAgAElEQVR4nOzde7TVdZ3/8dc+IhSCcvGgB3V0ppJhRg2GM+P0U6fmYOINccoZHU0br5l5K0tNHSHB6qAxFmpItZpZM2SN46gBGahotZwsE69poqaUcvWACqQi7P37Y4ZTHuWicvblex6PtVh+z/7u797v7Vouvzz58NmlSqVSCQAAAAAADa+p1gMAAAAAALB1CL4AAAAAAAUh+AIAAAAAFITgCwAAAABQEIIvAAAAAEBBCL4AAAAAAAXRo4Jve3t72traMmzYsCxYsGCLrrnxxhszduzYHHbYYTn99NPzwgsvdPOUAAAAAABvT48KvqNHj86MGTOyyy67bNHzn3rqqVx11VX5t3/7t8yePTv77LNPpkyZ0s1TAgAAAAC8PT0q+La2tqalpeUNjz/44IM5/vjj85GPfCQf+chHctdddyVJFixYkOHDh2fQoEFJkg9+8IOZOXNmNUcGAAAAANhivWo9QK299NJLGT9+fKZPn54hQ4Zk2bJlOeqoozJr1qz86Z/+aR5++OH89re/za677ppZs2bld7/7XV544YUMGDCg1qMDAAAAALxOjw++999/f5599tmceuqpnY+VSqUsXLgwe++9dy655JJ8+tOfTqlUyujRo5MkvXr1+H9tAAAAAEAd6vHlslKpZNiwYZkxY8abnj/ssMNy2GGHJUkeeuihfOc730m/fv2qOSIAAAAAwBbpUXv4vpmRI0dm4cKFueeeezofe+ihh1KpVJIky5cvT5K8+uqr+drXvpaTTjqpJnMCAAAAAGxOqbKhbPYAkyZNyty5c/P8889n4MCBGTBgQGbPnp2HHnooV1xxRV588cW89tpr2W233TJt2rQ0NTXllFNOyaJFi/Laa6/l0EMPzTnnnJOmph7fyQEAAACAOtSjgi8AAAAAQJFZqgoAAAAAUBAN9aVtd955Z7761a+mUqmkUqnkzDPPzEEHHVTrsQAAAAAA6kLDbOlQqVTyV3/1V5kxY0b23HPP/OpXv8o//uM/5r777tviPXVXrlyTcrkhPi4AAAAAwBs0NZUycOB2Gz3fUCt8m5qasmrVqiTJqlWrMmTIkLf0BWrlckXwBQAAAAAKq2FW+CbJT3/605x77rnp27dv1qxZk+nTp2fEiBG1HgsAAAAAoC40zArfdevW5brrrsu1116bUaNG5b777su5556b2bNnZ7vtNr6E+Q91dKy2whcAAAAAaFhNTaUMHtxv4+erOMs78thjj2XZsmUZNWpUkmTUqFF597vfnaeeeqrGkwEAAAAA1IeGCb4777xzlixZkl//+tdJkqeeeiodHR35oz/6oxpPBgAAAABQHxpqD9/vf//7+cY3vpFSqZQkOfvss3PggQdu8fW2dAAAAAAAGtnmtnRoqOD7Tgm+AAAAAEAjK8wevgAAAAAAbJrgCwAAAABQEIIvAAAAAEBBCL4AAAAAAAUh+AIAAAAAFESvWg9A9fXf/l15V59taz0GAFAgr7z6Wla99EqtxwAAgB5P8O2B3tVn2xx7/oxajwEAFMh3Jh+XVRF8AQCg1mzpAAAAAABQEIIvAAAAAEBBCL4AAAAAAAUh+AIAAAAAFITgCwAAAABQEIIvAAAAAEBBCL4AAAAAAAUh+AIAAAAAFITgCwAAAABQEIIvAAAAAEBBCL4AAAAAAAUh+AIAAAAAFITgCwAAAABQEIIvAAAAAEBBCL4AAAAAAAUh+AIAAAAAFITgCwAAAABQEIIvAAAAAEBBCL4AAAAAAAUh+AIAAAAAFITgCwAAAABQEL1qPcCWevbZZ/OpT32q8+dVq1Zl9erV+fnPf17DqQAAAAAA6kfDBN9dd901t9xyS+fPl19+edavX1/DiQAAAAAA6ktDbumwdu3azJw5Mx/96EdrPQoAAAAAQN1omBW+f2jevHnZaaed8ud//udv6brBg/t100QAADQ396/1CAAA0OM1ZPC98cYb39bq3o6O1SmXK90wUWPxmzEAoDssX76q1iMAAEDhNTWVNrmwteG2dFi6dGnuvffejB07ttajAAAAAADUlYYLvjfddFM++MEPZuDAgbUeBQAAAACgrjRk8PVlbQAAAAAAb9Rwe/jOmTOn1iMAAAAAANSlhlvhCwAAAADAmxN8AQAAAAAKQvAFAAAAACgIwRcAAAAAoCAEXwAAAACAghB8AQAAAAAKQvAFAAAAACgIwRcAAAAAoCAEXwAAAACAghB8AQAAAAAKQvAFAAAAACgIwRcAAAAAoCAEXwAAAACAghB8AQAAAAAKQvAFAAAAACgIwRcAAAAAoCAEXwAAAACAghB8AQAAAAAKQvAFAAAAACgIwRcAAAAAoCAEXwAAAACAghB8AQAAAAAKQvAFAAAAACgIwRcAAAAAoCAEXwAAAACAghB8AQAAAAAKQvAFAAAAACgIwRcAAAAAoCB61XqAt+LVV1/NF7/4xfz0pz9Nnz59MmLEiEycOLHWYwEAAAAA1IWGCr5XXHFF+vTpkzlz5qRUKuX555+v9UgAAAAAAHWjYYLvmjVrcvPNN+dHP/pRSqVSkmTHHXes8VQAAAAAAPWjYYLvb3/72wwYMCBXX311fvazn2W77bbLOeeck9bW1i1+jcGD+3XjhAAAPVtzc/9ajwAAAD1ewwTf9evX57e//W3+7M/+LBdccEEefPDBnH766bntttvSr9+WhdyOjtUplyvdPGn985sxAKA7LF++qtYjAABA4TU1lTa5sLWpirO8Iy0tLenVq1cOP/zwJMn73//+DBw4ME8//XSNJwMAAAAAqA8NE3wHDRqUfffdN3fffXeS5Omnn05HR0d23333Gk8GAAAAAFAfGmZLhyT5whe+kIsuuijt7e3p1atXJk+enO23377WYwEAAAAA1IWGCr677bZb/v3f/73WYwAAAAAA1KWG2dIBAAAAAIBNE3wBAAAAAApC8AUAAAAAKAjBFwAAAACgIARfAAAAAICCEHwBAAAAAApC8AUAAAAAKAjBFwAAAACgIARfAAAAAICCEHwBAAAAAApC8AUAAAAAKAjBFwAAAACgIARfAAAAAICCEHwBAAAAAApC8AUAAAAAKAjBFwAAAACgIARfAAAAAICCEHwBAAAAAApC8AUAAAAAKAjBFwAAAACgIARfAAAAAICCEHwBAAAAAApC8AUAAAAAKAjBFwAAAACgIARfAAAAAICCEHwBAAAAAApC8AUAAAAAKIhetR7grWpra0vv3r3Tp0+fJMlnP/vZHHDAATWeCgAAAACg9hou+CbJ1772tey55561HgMAAAAAoK7Y0gEAAAAAoCAacoXvZz/72VQqlYwaNSqf+cxnsv3222/RdYMH9+vmyQAAeq7m5v61HgEAAHq8hgu+M2bMSEtLS9auXZvLL788l112Wa688soturajY3XK5Uo3T1j//GYMAOgOy5evqvUIAABQeE1NpU0ubG24LR1aWlqSJL17986xxx6b+fPn13giAAAAAID60FDB93e/+11WrfrflSOVSiU/+MEPMnz48BpPBQAAAABQHxpqS4eOjo6cddZZWb9+fcrlct7znvdk/PjxtR4LAAAAAKAuNFTw3W233XLzzTfXegwAAAAAgLrUUFs6AAAAAACwcYIvAAAAAEBBCL4AAAAAAAUh+AIAAAAAFITgCwAAAABQEIIvAAAAAEBBCL4AAAAAAAUh+AIAAAAAFITgCwAAAABQEIIvAAAAAEBBCL4AAAAAAAUh+AIAAAAAFITgCwAAAABQEIIvAAAAAEBBCL4AAAAAAAUh+AIAAAAAFITgCwAAAABQEIIvAAAAAEBB1Cz4Ll68OA888ECt3h4AAAAAoHCqHnwXLVqUY445JoccckhOPPHEJMkPf/jDXHzxxdUeBQAAAACgUKoefC+99NJ86EMfyvz589OrV68kyX777Zf/+Z//qfYoAAAAAACFUvXg+/DDD+e0005LU1NTSqVSkqR///5ZtWpVtUcBAAAAACiUqgffwYMHZ+HCha977Mknn0xLS0u1RwEAAAAAKJSqB9+TTjopp59+em688casW7cus2bNyqc//emceuqp1R4FAAAAAKBQelX7DY866qgMGDAg3/ve99LS0pKbb74555xzTg488MBqjwIAAAAAUChVD75JcuCBBwq8AAAAAABbWdW3dJg0aVLmz5//usfmz5+fyy+/vNqjAAAAAAAUStWD76xZs7LXXnu97rG99tors2bNqvYoAAAAAACFUvXgWyqVUqlUXvfY+vXrUy6Xt/g1rr766gwbNiwLFizY2uMBAAAAADSsqgff1tbWXHXVVZ2Bt1wuZ+rUqWltbd2i63/5y1/mgQceyC677NKdYwIAAAAANJyqf2nbxRdfnE984hPZf//9M3To0CxevDjNzc2ZNm3aZq9du3ZtLrvssnzlK1/JCSecUIVpAQAAAAAaR9WD784775ybbropDz74YJYsWZKWlpbss88+aWra/GLjr371qzniiCOy6667vq33Hjy439u6DgCAzWtu7l/rEQAAoMerevBNkqampowcOfItXXP//ffnkUceyWc/+9m3/b4dHatTLlc2/8SC85sxAKA7LF++qtYjAABA4TU1lTa5sLUqwfeQQw7JrbfemiT54Ac/mFKp9KbPu+uuuzb6Gvfee2+eeuqpjB49OkmyZMmSnHzyyfnSl76U/ffff6vPDAAAAADQaKoSfCdOnNh5fMUVV7yt1zjttNNy2mmndf7c1taWadOmZc8993zH8wEAAAAAFEFVgm9ra2uSZP369bnxxhszceLE9O7duxpvDQAAAADQY1R1D99tttkmd99990a3dHgr5s2btxUmAgAAAAAojqZqv+HHP/7xTJ06Na+99lq13xoAAAAAoNCqusI3Sf7jP/4jzz//fL797W9n0KBBKZVKqVQqKZVKm/zSNgAAAAAANq3qwfftfmkbAAAAAACbVvXgO2LEiHz961/P7Nmzs2zZsgwZMiSHHnpoPvnJT1Z7FAAAAACAQql68J0wYUKefvrpXHzxxdlll13y3HPP5brrrsvSpUvzpS99qdrjAAAAAAAURtWD7x133JHbbrst22+/fZLkve99b97//vfnoIMOqvYoAABANxq4Q+/06t2n1mMAAAWxbu2rWfni2lqPUfeqHnx33HHHvPzyy53BN0leffXVNDc3V3sUAACgG/Xq3Sf3TT6l1mMAAAUx6vxvJhF8N6fqwXfcuHE55ZRTcvzxx2ennXbKkiVLMmPGjIwbNy4//elPO5/3gQ98oNqjAQAAAAA0tKoH3+9+97tJkmnTpr3h8Q3nSqVS7rjjjmqPBgAAAADQ0KoefOfNm1fttwQAAAAA6BGaaj0AAAAAAABbh+ALAAAAAFAQgi8AAAAAQEEIvgAAAAAABSH4AgAAAAAUhOALAAAAAFAQgi8AAAAAQEEIvgAAAAAABSH4AgAAAAAUhOALAAAAAFAQgi8AAAAAQEEIvgAAAAAABSH4AgAAAAAUhOALAAAAAFAQgi8AAAAAQEEIvgAAAAAABSH4AgAAAAAUhOALAAAAAFAQvWo9wFtxxhln5Nlnn01TU1P69u2bf/7nf87w4cNrPRYAAAAAQF1oqODb3t6e/v37J0luv/32XHTRRbnppptqPBUAAAAAQH1oqC0dNsTeJFm9enVKpVINpwEAAAAAqC8NtcI3SS6++OLcfffdqVQq+eY3v/mWrh08uF83TQUAQHNz/80/CQAA3gH3nJvXcMH38ssvT5LcfPPNmTx5cr7xjW9s8bUdHatTLle6a7SG4T8MAKA7LF++qtYjUGfcdwIAW5t7zqSpqbTJha0NtaXDHzryyCPzs5/9LCtXrqz1KAAAAAAAdaFhgu+aNWuyePHizp/nzZuXHXbYIQMGDKjhVAAAAAAA9aNhtnR4+eWXc8455+Tll19OU1NTdthhh0ybNs0XtwEAAAAA/J+GCb477rhj/vM//7PWYwAAAAAA1K2G2dIBAAAAAIBNE3wBAAAAAApC8AUAAAAAKAjBFwAAAACgIARfAAAAAICCEHwBAAAAAApC8AUAAAAAKAjBFwAAAACgIARfAAAAAICCEHwBAAAAAApC8AUAAAAAKAjBFwAAAACgIARfAAAAAICCEHwBAAAAAApC8AUAAAAAKAjBFwAAAACgIARfAAAAAICCEHwBAAAAAApC8AUAAAAAKAjBFwAAAACgIARfAAAAAICCEHwBAAAAAApC8AUAAAAAKAjBFwAAAACgIARfAAAAAICCEHwBAAAAAApC8AUAAAAAKIhetR7grVi5cmXOP//8/OY3v0nv3r2z++6757LLLsugQYNqPRoAAAAAQM011ArfUqmUU045JXPmzMnMmTOz22675corr6z1WAAAAAAAdaGhgu+AAQOy7777dv48YsSILFq0qIYTAQAAAADUj4ba0uEPlcvlXH/99Wlra9viawYP7teNEwEA9GzNzf1rPQIAAAXnnnPzGjb4Tpw4MX379s3HPvaxLb6mo2N1yuVKN07VGPyHAQB0h+XLV9V6BOqM+04AYGtzz5k0NZU2ubC1IYNve3t7Fi5cmGnTpqWpqaF2pQAAAAAA6DYNF3ynTJmSRx55JNOnT0/v3r1rPQ4AAAAAQN1oqOD7xBNP5Lrrrssee+yRY445Jkmy66675pprrqnxZAAAAAAAtddQwfd973tfHn/88VqPAQAAAABQl2yACwAAAABQEIIvAAAAAEBBCL4AAAAAAAUh+AIAAAAAFITgCwAAAABQEIIvAAAAAEBBCL4AAAAAAAUh+AIAAAAAFITgCwAAAABQEIIvAAAAAEBBCL4AAAAAAAUh+AIAAAAAFITgCwAAAABQEIIvAAAAAEBBCL4AAAAAAAUh+AIAAAAAFITgCwAAAABQEIIvAAAAAEBBCL4AAAAAAAUh+AIAAAAAFITgCwAAAABQEIIvAAAAAEBBCL4AAAAAAAUh+AIAAAAAFITgCwAAAABQEIIvAAAAAEBBCL4AAAAAAAUh+AIAAAAAFERDBd/29va0tbVl2LBhWbBgQa3HAQAAAACoKw0VfEePHp0ZM2Zkl112qfUoAAAAAAB1p1etB3grWltbaz0CAAAAAEDdaqjg+04NHtyv1iMAABRWc3P/Wo8AAEDBuefcvB4VfDs6VqdcrtR6jJrzHwYA0B2WL19V6xGoM+47AYCtzT1n0tRU2uTC1obawxcAAAAAgI0TfAEAAAAACqKhgu+kSZPyN3/zN1myZElOPPHEHHbYYbUeCQAAAACgbjTUHr6XXHJJLrnkklqPAQAAAABQlxpqhS8AAAAAABsn+AIAAAAAFITgCwAAAABQEIIvAAAAAEBBCL4AAAAAAAUh+AIAAAAAFITgCwAAAABQEIIvAAAAAEBBCL4AAAAAAAUh+AIAAAAAFITgCwAAAABQEIIvAAAAAEBBCL4AAAAAAAUh+AIAAAAAFITgCwAAAABQEIIvAAAAAEBBCL4AAAAAAAUh+AIAAAAAFITgCwAAAABQEIIvAAAAAEBBCL4AAAAAAAUh+AIAAAAAFITgCwAAAABQEIIvAAAAAEBBCL4AAAAAAAUh+AIAAAAAFITgCwAAAABQEIIvAAAAAEBBNFTwffrpp3P00UdnzJgxOfroo/PMM8/UeiQAAAAAgLrRUMF3/PjxOfbYYzNnzpwce+yxufTSS2s9EgAAAABA3ehV6wG2VEdHRx599NF8+9vfTpIcfvjhmThxYlasWJFBgwZt0Ws0NZW6c8SGsuPA7Wo9AgBQMO61eDO9tx9c6xEAgAJxz7n5fwcNE3wXL16cnXbaKdtss02SZJtttsmQIUOyePHiLQ6+A0XOTl/7/JG1HgEAKJjBg/vVegTq0N6nt9d6BACgQNxzbl5DbekAAAAAAMDGNUzwbWlpydKlS7N+/fokyfr167Ns2bK0tLTUeDIAAAAAgPrQMMF38ODBGT58eGbNmpUkmTVrVoYPH77F2zkAAAAAABRdqVKpVGo9xJZ66qmncuGFF+all17K9ttvn/b29vzJn/xJrccCAAAAAKgLDRV8AQAAAADYuIbZ0gEAAAAAgE0TfAEAAAAACkLwBQAAAAAoCMEXAAAAAKAgBF+AHmLlypU59dRTM2bMmIwdOzZnnnlmVqxYkSR54IEHcsQRR2TMmDE56aST0tHR0Xndeeedl/333z/Dhg3LmjVr3vS1P//5z2/yPAAAPUN33HMOGzYsY8eOzbhx4zJu3Lg8/vjjVf1MAI1G8AXoIUqlUk455ZTMmTMnM2fOzG677ZYrr7wy5XI5n/vc53LppZdmzpw5aW1tzZVXXtl53VFHHZVbbrllo687b968lEqlanwEAADqXHfdc373u9/NLbfckltuuSXDhg2rxkcBaFiCL0APMWDAgOy7776dP48YMSKLFi3KI488kj59+qS1tTVJcswxx+SHP/xh5/M+8IEPZPDgwW/6mitXrszVV1+dz3/+8907PAAADaE77jkBeGsEX4AeqFwu5/rrr09bW1sWL16coUOHdp4bNGhQyuVyXnjhhc2+zmWXXZazzz47/fv3785xAQBoQFvrnjNJjj/++IwbNy5f+cpXsnbt2u4aGaAQBF+AHmjixInp27dvPvaxj73t1/jBD36QbbfdNh/60Ie23mAAABTG1rjnTJK77ror//3f/50ZM2bkySefzDXXXLOVJgQoJsEXoIdpb2/PwoULc9VVV6WpqSktLS1ZtGhR5/kVK1akqakpAwYM2OTr/PznP88999yTtra2tLW1JUkOP/zwPPnkk906PwAA9W9r3XMmSUtLS5KkX79++fu///vMnz+/2+YGKALBF6AHmTJlSh555JFcc8016d27d5Jkr732yiuvvJJf/OIXSf73CzEOPvjgzb7WhAkT8uMf/zjz5s3LvHnzkiSzZs3Ke9/73u77AAAA1L2tec/54osv5pVXXkmSrFu3LnPmzMnw4cO7b3iAAihVKpVKrYcAoPs98cQTOfzww7PHHnvkXe96V5Jk1113zTXXXJP58+dn/PjxefXVV7PLLrvkiiuuyI477pgkOfPMM/PQQw9l6dKlGTJkSPbcc89861vfesPrDxs2LPPnz892221X1c8FAED92Nr3nPfff38uvfTSlEqlrFu3LiNHjsxFF13knhNgEwRfAAAAAICCsKUDAAAAAEBBCL4AAAAAAAUh+AIAAAAAFITgCwAAAABQEIIvAAAAAEBBCL4AAAAAAAUh+AIAAAAAFITgCwAANbRu3bpajwAAQIEIvgAAsBHf/OY3c9ZZZ73usUmTJmXSpElZtWpVLrroouy///454IAD8i//8i9Zv359kuQ3v/lNTjjhhOy7777Zd999c9555+Wll17qfI22trZMnz49Y8eOzYgRI0RfAAC2GsEXAAA24ogjjshPfvKTzli7bt26zJ49O0ceeWQuvPDC9OrVK3Pnzs3NN9+cu+++OzfccEOSpFKp5BOf+ER+8pOf5NZbb82SJUsyderU17327NmzM3369PziF79Ir169qv7ZAAAoJsEXAAA2YsiQIWltbc0Pf/jDJMlPfvKTDBw4MDvvvHN+9KMf5aKLLkrfvn0zePDg/NM//VNmz56dJNl9992z3377pXfv3hk0aFBOPPHE3Hvvva977eOPPz4tLS1517veVfXPBQBAcVlKAAAAm/B3f/d3uf766/MP//AP+f73v59x48Zl0aJFWbduXfbff//O55XL5bS0tCRJnn/++Vx++eX5xS9+kTVr1qRSqWT77bd/3etueC4AAGxNgi8AAGzCgQcemAkTJmTBggW566678rnPfS69evVK7969c88997zpdgxTpkxJqVTKzJkzM2DAgNx+++257LLLXvecUqlUrY8AAEAPYksHAADYhD59+mTMmDE577zzsvfee2fo0KEZMmRI9ttvv3z5y1/O6tWrUy6X85vf/CY///nPkyRr1qxJ3759079//yxdujTf/OY3a/wpAADoKQRfAADYjCOPPDILFizIuHHjOh+bPHlyXnvttRx66KH5y7/8y5x99tlZvnx5kuTMM8/Mo48+mtbW1px22mk56KCDajU6AAA9TKlSqVRqPQQAANSzRYsW5ZBDDsndd9+dfv361XocAADYKCt8AQBgE8rlcr797W/n0EMPFXsBAKh7vrQNAAA24ne/+13222+/DB061D68AAA0BFs6AAAAAAAUhC0dAAAAAAAKQvAFAAAAACgIwRcAAAAAoCAEXwAAAACAghB8AQAAAAAKQvAFAAAAACgIwRcAAAAAoCAEXwAAAACAghB8AQAAAAAKQvAFAAAAACgIwRcAAAAAoCB6VPBtb29PW1tbhg0blgULFmzRNS+88EI+85nPZMyYMTnssMNy9dVXd/OUAAAAAABvT69aD1BNo0ePzgknnJDjjjtui6+58MIL89d//deZMmVKkmT58uXdNR4AAAAAwDvSo4Jva2vrmz7+4IMP5sorr8yaNWuSJGeffXY+9KEP5ZlnnsmCBQvy9a9/vfO5zc3NVZkVAAAAAOCt6lHB98289NJLGT9+fKZPn54hQ4Zk2bJlOeqoozJr1qw8+eST2WmnnXLxxRfnsccey4477pjzzz8/73vf+2o9NgAAAADAG/T44Hv//ffn2Wefzamnntr5WKlUysKFC1Mul/Pggw/mvPPOS2tra+bOnZtPfvKTuf3222s4MQAAAADAm+vxwbdSqWTYsGGZMWPGm55vaWnp3ArioIMOyuc+97msWLEigwYNquaYAAAAAACb1VTrAWpt5MiRWbhwYe65557Oxx566KFUKpXstdde6du3b5544okkyb333psddtghAwcOrNW4AAAAAAAbVapUKpVaD1EtkyZNyty5c/P8889n4MCBGTBgQGbPnp2HHnooV1xxRV588cW89tpr2W233TJt2rQ0NTXl4Ycfzhe+8IWsXbs27373u3PxxRdnn332qfVHAQAAAAB4g01bbaEAACAASURBVB4VfAEAAAAAiqzHb+kAAAAAAFAUgi8AAAAAQEH0qvUA1bRy5ZqUy9XZwWLw4H5Jko6O1Q1xXC9zFPW4XuboCcf1MkdRj+tljqIe18scPeG4Xuao5XE1NDWVMnDgdlV5L2qvmvfaAAA92ebus3tU8C2XK1W/Cf3D96vn43qZo6jH9TJHTziulzmKelwvcxT1uF7m6AnH9TJHPRzD1lIuV/9eGwCAN7KlAwAAAABAQQi+AAAAAAAFIfgCAAAAABSE4AsAAAAAUBCCLwAAAABAQQi+AAAAAAAFIfgCAAAAABSE4AsAAAAAUBCCLwAAAABAQfSq9QAA9aZSqWTFS6/UegwAAACAt6wqK3xXrlyZU089NWPGjMnYsWNz5plnZsWKFW943ssvv5xzzz03H/7wh3PwwQfnzjvv3KJzAFvTfb9allMuvy0vrVlb61EAAAAA3pKqrPAtlUo55ZRTsu+++yZJ2tvbc+WVV+aLX/zi6573rW99K/369cttt92WZ555Jscdd1zmzp2b7bbbbpPnALamF1e/mnXrK3l57bpajwIAAAD0MIN2eHe26b3xbLt+M72iKsF3wIABnbE3SUaMGJHrr7/+Dc+79dZb8+UvfzlJsscee2SvvfbKj3/84xxyyCGbPAewNVUqlf/7Z40HAQAAAHqcbXr3yrJrb9zo+SFnfHST15cqleomjXK5nJNOOiltbW054YQTXndu5MiRueOOOzJo0KAkyYQJE7L77rvnxBNP3OQ5gK1p7s8WZup/PpBrz2/Lbjv1r/U4ANAQOjpWp1z2p6UAAO9Uc3P/dxR8q7KH7x+aOHFi+vbtm4997GPVfut0dKzO8uWrqvJrg0Y5rpc5inpcL3P0hOOt8Vob/hxsxYo1Nf889XZcL3MU9bhe5ugJx/UyRy2Pq/Gro2N1AACA6qpq8G1vb8/ChQtz1VVXpanpjW89dOjQPPfcc50/L168ODvvvPNmzwFsTRv+3kOV/wIEAAAAwDtWteA7ZcqUPPLII7nmmmvSu3fvN33OwQcfnO9973tJkmeeeSYPP/xwDjjggM2eA9ia7OELAAAANKqqBN8nnngi1113XZYtW5Zjjjkm48aNy6c+9akkybhx47J06dIkycknn5yXXnopH/7wh/OJT3wil112Wfr167fZcwBb04btB/VeAAAAoNH0qsabvO9978vjjz/+puduueWWzuO+ffvma1/72ps+b1PnALaqzhW+ki8AAADQWKr+pW0A9a5zha/eCwAAADQYwRegi849fG3qAAAAADQYwRegCyt8AQAAgEYl+AK8wf+W3rLiCwAAADQYwRegi3L5/w70XgAAAKDBCL4AXXTu4Sv4AgAAAA1G8AXoYsNWDrZ0AAAAABqN4AuwERXBFwAAAGgwgi9AF1b2AgAAAI1K8AXoYkPvLeu+AAAAQIMRfAG62BB8bekAAAAANBrBF6CLDaFX7gUAAAAajeAL0MWGPXyt8AUAAAAajeAL0MXvt3So7RwAAAAAb5XgC9BF55YOgi8A3ezOO+/MkUcemXHjxuWII47I3LlzkyRPP/10jj766IwZMyZHH310nnnmmc5rqn0OAIDGIvgCdOFL2wCohkqlkvPPPz+TJ0/OLbfcksmTJ+eCCy5IuVzO+PHjc+yxx2bOnDk59thjc+mll3ZeV+1zAAA0FsEXoAsrfAGolqampqxatSpJsmrVqgwZMiQrV67Mo48+msMPPzxJcvjhh+fRRx/NihUr0tHRUdVzAAA0nl61HgCg3pQ3rPCN4gtA9ymVSrnqqqtyxhlnpG/fvlmzZk2mT5+exYsXZ6eddso222yTJNlmm20yZMiQLF68OJVKparnBg0atMWfZ/DgflvzXw8AAG+T4AvQhRW+AFTDunXrct111+Xaa6/NqFGjct999+Xcc8/N5MmTaz3a29LRsTrlsv95AgC8U83N/d/R9YIvQBf28AWgGh577LEsW7Yso0aNSpKMGjUq7373u9OnT58sXbo069evzzbbbJP169dn2bJlaWlpSaVSqeo5AAAajz18AbqwwheAath5552zZMmS/PrXv06SPPXUU+no6Mjuu++e4cOHZ9asWUmSWbNmZfjw4Rk0aFAGDx5c1XMAADQeK3wBuqh0+ScAdIfm5uZMmDAh55xzTkqlUpLki1/8YgYMGJAJEybkwgsvzLXXXpvtt98+7e3tnddV+xwAAI1F8AXoolLesMJX8gWgex1xxBE54ogj3vD4e97zntxwww1vek21zwEA0Fhs6QDQRdmWDgAAAECDEnwBuvClbQAAAECjEnwBuujcw1fvBQAAABqM4AvQxYaVvRVf2wYAAAA0GMEXoIty2R6+AAAAQGMSfAG62BB6y4ovAAAA0GB6VeuN2tvbM2fOnDz33HOZOXNm9txzzzc85/zzz8/jjz/e+fPjjz+ea665JqNHj87UqVPzne98J0OGDEmS/MVf/EXGjx9frfGBHqRzKwe9FwAAAGgwVQu+o0ePzgknnJDjjjtuo8+ZPHly5/GvfvWrfPzjH88BBxzQ+diRRx6ZCy64oFvnBKjovQAAAECDqlrwbW1tfUvP/6//+q+MHTs2vXv37qaJAN7chq0cbOkAAAAANJpSpVLdotHW1pZp06a96ZYOG6xduzYHHHBA/vVf/zXDhw9PkkydOjU33HBDdthhhzQ3N+ess87KyJEjqzU20INc+R/35Uf3P5szPrpPDvl/f1zrcQCgIXR0rO784lMAAN6+5ub+WXbtjRs9P+SMj27y+rr80rbbb789Q4cO7Yy9SXLMMcfkjjvuyMyZM3PyySfnjDPOyMqVK9/S63Z0rM7y5auq8muDRjmulzmKelwvc/SE463xWhv28F216pWaf556O66XOYp6XC9z9ITjepmjlsfV+NXRsToAAEB11WXwvfHGG/PRj370dY81Nzdn2223TZLst99+aWlpyRNPPFGL8YCC2/D3HixSAgAAABpN3QXfJUuW5L777svYsWNf9/jSpUs7jx977LE899xz+eM/9letga1vw969Vd7xBgAAAOAdq9qXtk2aNClz587N888/nxNPPDEDBgzI7Nmzc+qpp+bss8/O3nvvnSS56aab8rd/+7fZYYcdXnf9lClT8stf/jJNTU3ZdtttM3ny5DQ3N1drfKAnqbzuHwAAAAANo2rB95JLLskll1zyhse/8Y1vvO7nT37yk296fXt7e7fMBdDV71f41ngQAAAAgLeo7rZ0AKi1ii0dAAAAgAYl+AJ0saHz6r0AAABAoxF8AbroDL528QUAAAAajOAL0IU9fAEAAIBGJfgCdGEPXwAAAKBRCb4AXdjDFwAAAGhUgi9AF1b4AgAAAI1K8AXo4vdf2gYAAADQWARfgC58aRsAAADQqARfgI2wpQMAAADQaARfgC6s8AUAAAAaleAL0MXv9/BVfAEAAIDGIvgCdFEuW+ELAAAANCbBF2AjBF8AAACg0Qi+AF38fg9fxRcAAABoLIIvQBcVX9oGAAAANCjBF6CLsi9tAwAAABqU4AvQlRW+AAAAQIMSfAG62LDCt6z4AgAAAA1G8AXowh6+AAAAQKMSfAG66Ay9gi8AAADQYARfgC42rPAtK74AAABAgxF8AbrYsIevLR0AAACARiP4AnSxYYWv4gsAAAA0GsEXoIsNnbes9wIAAAANRvAF6GLDCt+KFb4AAABAgxF8Abro3NGhtmMAAAAAvGWCL0AXZSt8AQAAgAZVteDb3t6etra2DBs2LAsWLHjT50ydOjUf+MAHMm7cuIwbNy5f+MIXOs+9/PLLOffcc/PhD384Bx98cO68885qjQ70MBsyr94LAAAANJpe1Xqj0aNH54QTTshxxx23yecdeeSRueCCC97w+Le+9a3069cvt912W5555pkcd9xxmTt3brbbbrvuGhnooX6/h2+NBwEAAAB4i6q2wre1tTUtLS1v+/pbb701Rx99dJJkjz32yF577ZUf//jHW2s8gE6V8v8FX7v4AgAAAA2mVKnyJpVtbW2ZNm1a9txzzzecmzp1am644YbssMMOaW5uzllnnZWRI0cmSUaOHJk77rgjgwYNSpJMmDAhu+++e0488cRqjg/0AB//wpyseOmV/M3IXfK5j7XWehwAaAgdHatTLvvDUgCAd6q5uX+WXXvjRs8POeOjm7y+rr607Zhjjskdd9yRmTNn5uSTT84ZZ5yRlStXbrXX7+hYneXLV1Xl1waNclwvcxT1uF7m6AnHW+e1/vc3q6+88lrNP0+9HdfLHEU9rpc5esJxvcxRy+Nq/OroWB0AAKC66ir4Njc3Z9ttt02S7LfffmlpackTTzyRJBk6dGiee+65zucuXrw4O++8c03mBIptw+Ike/jy/9m77zg36jt//C9p1LZrd72218aOwTTT4ZwjfAmXXCBAEggkgftylORLTbgk8OM4gi/hKAHCGUiOHghJIIUWMOVsAzYYCB3jgnHHuO16e5NWWq2k0cz8/pii0a6klXZH/fV8PHgg74xmPiqj1b7mPe8PERERERERUakpqsC3p6fHuL1161Z0dHRg//33BwCcfvrpeOaZZwAAe/bswcaNG3HSSScVZJxEVN7ik7Yx8SUiIiIiIiKi0uLI145uu+02rFy5Ev39/bj44ovh9XqxfPlyXH755bjqqqtw5JFH4je/+Q02b94Mu90Op9OJO++8Ey0tLQCASy+9FIsWLcLXv/512O12/PKXv0RtbW2+hk9EFUTPeRn3EhEREREREVGpyVvge8MNN+CGG24Y9/NHH33UuL148eKU96+ursZ9992Xk7EREZnFK3wLPBAiIiIiIiIioiwVVUsHIqJiEO/hy8SXiIiIiIiIiEoLA18iojFY4UtEREREREREpSpvLR2IiEqFwgpfIiIiKjHeBhecLnfK5WI0Ap8/mscRERERUaEw8CUiGsOo8C3wOIiIqPxFIhH86le/wgcffAC3241jjjkGt956K3bv3o1FixbB5/PB6/Vi8eLFmDdvHgDkfRmVBqfLjVW//1bK5SdfthwAA18iIqJKwJYORERj6D18ZVb4EhFRjt11111wu91YsWIFli5diquvvhoAcNNNN+H888/HihUrcP755+PGG2807pPvZURERERUWhj4EhGNYbRyYN5LREQ5NDIyghdffBFXX301bDYbAGDatGkYGBjAli1bcMYZZwAAzjjjDGzZsgWDg4N5X0ZEREREpYctHYiIxmAPXyIiyof29nZ4vV488MAD+Oijj1BTU4Orr74aHo8HM2bMgCAIAABBEDB9+nR0dXVBUZS8LmtqairAM0NEREREU8HAl4hoDD3olZn3EhFRDkmShPb2dhx22GG4/vrrsWHDBvzoRz/CvffeW+ihTUpzc22hh0ATaGmpK/QQiIiIKA8Y+BIRjcHKXiIiyofW1lY4HA6jlcLRRx+NxsZGeDwe9PT0QJIkCIIASZLQ29uL1tZWKIqS12XZGBgIQubZ0oLJJMzt6wvkYSREREQ0VVM9ScsevkREY+h/qjL4JSKiXGpqasLxxx+P9957DwCwe/duDAwMYN68eViwYAGWLVsGAFi2bBkWLFiApqYmNDc353UZEREREZUeVvgSEZkoimL08GWREhER5dott9yCn//851i8eDEcDgfuvPNO1NfX4+abb8aiRYvw0EMPob6+HosXLzbuk+9lRERERFRaGPgSEZkkZLys8CUiohybM2cO/vKXv4z7+fz58/Hss88mvU++lxERERFRaWFLByIiE3MbB7mA4yAiIiIiIiIimgxW+BIRmZiLetnDl4iIiIiIiMgaTQ3VEFxCyuVSVMKgP5THEZUvBr5ERCYJGS/zXiIiIiIiIiJLCC4B3XftSbl85nXz8jaWcseWDkREJgktHRj4EhEREREREVGJYYUvEZEJWzoQERGVt6YGNwSXK+06UjSKQX8kJ/tvbHDB4XKnXScWjWDIH83J/omIiKj8MfAlIjJRTH0cGPcSERGVH8HlQseDP027zuwf3w8gN4Gvw+XGmofPTLvOwh8tBcDAl4iIiCaHgS8RkQkrfImIiIiIiIjKTyVNGsfAl4jIxBzyMu8lIiIiIiIiKg+CS0DPvR+mXD7j6i/lcTS5xcCXiMjEnPEy8CUiIiIimlid1wOP05lyeVgUEfCF8zgiIqLKxsCXiMgkoaUDu/gSUZkRYxLEmFzoYRARUZnxOJ341vO/Trl8+XevRQAMfImI8oWBLxGRicyWDkRUxp54dRs2fN6Pn19wXKGHQpSRpgYPBFfqqkEAkKIiBv0MkoiIqDI1NtTA4bKnXScWlTHkH8nTiCiVpoYqCK70UawUjWHQPzrlfTHwJSIy4aRtRFTOBofDGB6JFnoYRBkTXE70PnxP2nWm/+j/A4qgcrCxwQWHy51yeSwawZC/8Meft8EFZ5pxAoAYjcCXo7F6vU44nZ70+xfD8PnEnOyfMlfndcPjdKVdJyxGEfBF8jQiouLk9dbA6UwfuIqiDJ8vN4Grw2XH6sd6067zjxdPz8m+c6kcJ1gTXA70PrAs7TrTf3KGJfti4EtEZMYKXyIqY7IMCDZboYdBVJYcLjc2P/TtlMsP/7f/BVD4wNfpcuPlP3wz7TrfvPRl5GqsTqcHf3r81LTr/OD/rQTAwLfQPE4XvvnC7WnXefk7v0AADHypsjmddrz4bH/adc4+d1qeRlM+BJeA7l9vTbl85rUL8jia1PJZtZsNBr5ERCYyK3yJqIzJigJ7+gIUIjKZqGoXKJ7KXSIiokJoaqiBMEFLCSkqY7DEWkpMFOTqIa7gcqD3/tfSbmv6T79u9fAmxMCXiMjEHPIy7iWiciPLCux2VvhSYZVSX16Hy43d952ddp39r3oRxVC5S6Wj3uuC25n6REJEjGDYx/dUKanzVsHjTB+vhMUYAr78VvgR5YPgsmPf3d1p19nvP2bmaTTWEVwO9Nz3dsrlM676pzyOJnsMfImITNjDl4jKmawosLOlAxWY4HKi7+Hfp12n5UeXoRj68lJhNXidcE3Q7zcqhuEvsX6/bqcbF79wesrlj33nVfAkQmnxOB0449nn0q6z7NxzEMjTeIgqyUS9foHS7Pc7VQx8iYhMFLCHLxGVL1b4ElEpcTk9+N1fTku7zhUXrUCu+v2Wa+BMRFROBJeAnv/5JO06M645Jk+jKR55C3wXL16MFStWoKOjA0uXLsXBBx88bp0HH3wQL7/8Mux2O5xOJ6655hqcdNJJAIBFixbh/fffR2NjIwDg9NNPx5VXXpmv4RNRhWCFLxGVM1lRYGOFLxGVoYnC2ckEsy6nB7f8LX3gfNO/5C5wrnR1Xg88zvTtX8KiiICvPK8GKHSbiDpvNTzO9FWTYVFCwFdZVZNEpSJvge/JJ5+M73//+7jgggtSrnPUUUfhkksuQVVVFbZt24YLL7wQ7777Ljwe9Rf3FVdcgQsvvDBfQyaiCqSHvILdxh6+RFR2WOFLROXK5fTg/idSh7M/vYDBbKnxOJ341pJH0q6z/Hs/RKBM2794nA6c9dzLadd56Zxv5qxNhMcp4HtLPkq7zpLvHZ/1/icKkhkiF4/Ghho40kzGFovKGCqxidgqSd4C34ULF064jl7NCwCHHHIIFEWBz+fDzJml19yZiEqTHvLa7Ta2dCCisiPLCgRW+FKOeOvcaSdjy/VEbE0NbgguV5r9RzHoj+Rs/1TZOBEbUWY8TgH/9/nPUy5/5rsHstdxkXC47NjxQE/K5Qf9ZEYeR0PZKtoevi+++CLmzp2bEPY+9thjeOaZZzBnzhxce+21mD9/flbbbG6utXqYE2ppqSuJ28UyjnK9XSzjqITbU71/Y2MNADXwNWcixfDYiuF2sYyjXG8Xyzgq4XaxjCPft2VFrfAd+1wQWUFwOdH327+mXN5y5YXI5URsgsuF7t/eknL5zCtvAsDAl3LD7XTjP55LPRHb3ecUz0RsdV43PM7UJ0fCYhQBH48VKk8N3hq4nKmrVqOiDL+PVatU+lK/ywto9erVuPfee/HrX//a+Nk111yD1157DUuXLsWpp56Kyy67DJIkZbXdgYEg+voCeflPVyq3i2Uc5Xq7WMZRCbenev+BgSAAtaWDJClZ3bcSbhfLOMr1drGMoxJuF8s48n1bltUTWn19+fk+pH+mEtHkNDa40NJSl/a/xobUwR2VtjrvxK9/nTf719/jdOGbL/4i5X/pwmAqTnXeqgzeK1WFHmZW6r3VEz6mem911tt1Oe347fM9Kf9LFwYTlZKiq/Bdv349rrvuOjz00EM44IADjJ/PmBEvFT/77LNxxx13oLu7G7Nnzy7EMImoTMlaxmu32ThpGxGVHVlRYGdLB6KS4XC58e7vzki7zpevWIZiqRwla3mcbnzjpXPTrvPKWc8iwNc/KxNNBpfrieAmmoxtMhOxeZwOnP3c62nXefGcU3LWKiEXE7y5nQKueqE97Tr3fWdOxtsjqjRFFfh++umnuOaaa3Dffffh8MMPT1jW09NjhL7vvPMO7HZ7QghMRGQJLeS1222QZQa+RFReZFmBw8nAl4gy421wwelK3ZcWAMRoBD4/A0cqHR6nE2c895eUy5edc1FOJ4LzOB0487mXUi5fes5ZJdfD1uMUcO6ST9Ou8+z3jiq5x1WOOBFb5chb4Hvbbbdh5cqV6O/vx8UXXwyv14vly5fj8ssvx1VXXYUjjzwSt9xyC8LhMG688UbjfnfeeScOOeQQXH/99RgYGIDNZkNtbS1++9vfwuEoqryaiMqAXtQrMPAlojIky6zwJaLMOV1uvPDHb6Rd5zuXvAIgCm+DE06XJ+V6YjQMn1+0eIRERJQNh8uOT3/Xm3L5UVdMz+NoKJfylpjecMMNuOGGG8b9/NFHHzVuL1myJOX9H3/88VwMi4gogWyq8GVLByIqN5I2aRsRkdWcLg+efuy0lMvPu3gFAAa+ucKJ2KiSNXir4ZqgpURUlODPoqUEUaljiSwRkUlChS/zXiIqM7LMwJeIqBx5nC5848Wfplz+ytn3IwAGvlSeXE4Bt7/QlXadX3ynNU+jISoODHyJiJJQAxEmvkRUXtjSgYgqXYPXCZczdesJAIiKYfh9rEYmqmRebw2cztS9bgFAFGX4fOx3S8Up68C3q6sLPT09OOaYY3IxHiKigjJaOthY4UtE5UdmS4ec4XdkotLgcnpw11OpW08AwHX/yvYTuVTn9cDjdKZcHhZFBHy5mzQtUxONEyiesZL1nE47nni+L+06F3y3JadjaPTWwJEmdI6JMoYYOFMKGQe+nZ2d+Pd//3ds27YNNpsN69evx6uvvop33nkHt99+ey7HSESUN0ZLB4E9fImo/LClg/X4HZmIKDsepxPfev6BlMuXf/cnCCC7EDUX4azH6cQZzz2Vdp1l5/xr1mMlypTDacfbf00dOv/ThbkNnKm0ZRz43njjjfjqV7+KJ598EscffzwA4MQTT8TixYtzNjgionxTTBW+7OhAROVGlhUIbOlgKX5HJiIqPI/TiTOW/DHtOsu+dwnDWSKqGOkbkphs3LgRV1xxBex2O2zaHwp1dXUIBAI5GxwRUb7pGa+dk7YRURliSwfr8TsyERERERWbjAPf5uZm7N27N+Fnn3/+OVpbOdMhEZUPvcJXsLOlAxGVH7Z0sB6/IxMRERFRsck48L3kkkvwox/9CEuWLEEsFsOyZctwzTXX4PLLL8/l+IiI8sro4WvP+OORiKhkyLKitqwhy/A7MhEREREVm4x7+J5zzjnwer145pln0NraihdffBFXX301TjnllFyOj4gor4wevnYbZFb4ElGZkRWwwtdi/I5MREREmfJ6a+B0pi4uEkUZPt9IHkdE5SrjwBcATjnlFH55JaKypme8drsNzHuJqNywh29u8DsyERERZcLptGPF0/0pl5923rQ8jobKWcbXLN92221Yt25dws/WrVuH22+/3fJBEREVirmHr/nfRETlQJYVsKODtfgdmYiISkmdtwotLXUp/6vzVhV6iERkgYwD32XLluGII45I+NkRRxyBZcuWWT4oIqJCkbX/243At3BjISKymiwrEJj4WorfkYmIqJR4nA58Z8nbKf/zOLO6EJyIilTGga/NNn7GekmSIMtyinsQEZUgU0sHgBW+RFRe2NLBevyOTERERETFJuPAd+HChbjnnnuML6+yLOP+++/HwoULczY4IqJ8MyZt0yrgGPcSUTmRZQa+VuN3ZCIiIiIqNhnX6v/iF7/AD3/4Q3z5y1/GrFmz0NXVhZaWFjz88MO5HB8RUV7JWsLLHr5EVI5kWTFOaJE1+B2ZiIiIiIpNxoHvzJkz8cILL2DDhg3o7u5Ga2srjjrqKNjtGRcJExEVPaPCVwt8Zea9RFRG2NLBevyOTERERETFJqtu3Ha7Hccee2yuxkJEVHB6vmv08GXiS0RlhC0dcoPfkYmIiIiomKQNfL/xjW/glVdeAQB85StfgS3FJYBvvfWW5QMjIioEvcLXaOlQyMEQEVlIURTICtjSwQL8jkxERERExSxt4Hvrrbcat++6666cD4aIqND0lr129vAlojIz9vONJo/fkYmIiIiomKUNfPXZhSVJwpIlS3DrrbfC5XLlZWBERIVgBCI29vAlovIiGz3KCzyQMsDvyERERERUzDL6yi8IAt57772Ul6sREZWLsS0dwApfIioTsnYGiy0drMPvyERERERUjDKu8fjBD36A+++/H6Io5nI8REQFNXbSNlb4ElG5kMee0CJL8DsyERERERWbtC0dzP7617+iv78fjz32GJqammCz2aAoCmw2GyekIKKyMW7SNlb4ElGZkGX1/+zhay1+RyYiIiKiYpNx4MsJKYioEoyftK2AgyEispDRw5ftByzF78hEREREVGwyDnyPOeYY/Pa3v8Xy5cvR29uL6dOn45vf/CauvPLKXI6PiCivFGNSI1b4ElF58w168AAAIABJREFUkcd8vpE1+B2ZiIiIiIpNxoHvzTffjN27d+MXv/gFZs+ejY6ODjzyyCPo6enBHXfckcsxEhHljZ7vCto09jIDXyIqE4rMwDcX+B2ZiIiIiIpNxoHvqlWr8Nprr6G+vh4AcOCBB+Loo4/GqaeemrPBERHlW/yS5wIPhIjIYvoklGzpYC1+RyYiIiKiYmPPdMVp06ZhdHQ04WeRSAQtLS2WD4qIqNAEQavwlQs8ECIii4xtWUPW4HdkIiIiIio2GVf4nnXWWbjssstw0UUXYcaMGeju7sYTTzyBs846Cx988IGx3gknnDDuvosXL8aKFSvQ0dGBpUuX4uCDDx63jiRJuO222/DOO+/AZrPhiiuuwLnnnjvhMiIiK42d1Ig9fImoXMgyJ23Lhal8RyYiIiIiyoWMA9+nn34aAPDwww+P+7m+zGazYdWqVePue/LJJ+P73/8+LrjggpTbX7p0Kdra2rBy5Ur4fD6cffbZOOGEE7DffvulXUZEZCWjh6+gBb4FHAsRkZU4aVtuTOU7MhERERFRLmQc+L7xxhuT3snChQsnXOfll1/GueeeC7vdjqamJpxyyil49dVXcdlll6VdRkSUC6zwTS84KuKP/7sJ3/3y/oUeChFlKN7Dt7DjKDdT+Y5s9sADD+D+++83rob75JNPcOONNyISiWD27Nm466670NzcDAB5X0ZEREREpSXjwDfXurq6MGvWLOPfra2t6O7unnBZNpqba6c+0Cy1tNSVxO1iGUe53i6WcVTC7anev6bGDSBeAadXxBXDYyuG2/q/127rwWur23DyF+divyzuz9vpbxfLOCrhdrGMI5+3vd5qAOrn29jnggpr8+bN+OSTTzB79mwAgCzLuO6663DHHXdg4cKFeOihh3D33XfjjjvuyPsyIiIiIio9GU/aVg4GBoLo6wvk5T9dqdwulnGU6+1iGUcl3J7q/YcDYQCAoJfAKcXz2Irhtv5vSSsVHBgcKfiYyul2sYyjEm4Xyzjyebt/IAhADXz7+vLzfWhA2yelFo1G8ctf/hI333yz8bNNmzbB7XYbV8mdd955ePXVVwuyjIiIiIhKT9FU+La2tqKzsxNHHXUUgMSq3nTLiIispLdwEMZU+FIiffInSZILPBIiyhQnbStO9957L7797W8nzE0x9rtuU1MTZFmGz+fL+zKv12vp482mujwX63L/3D/3X7n7z2Zd7p/75/65/1JZN5WiqfA9/fTT8eyzz0KWZQwODuL111/HaaedNuEyIiIr6fmu3tKBeW9yeoVvTOITRFQqxn6+UeGtX78emzZtwvnnn1/ooeTN2Er7fK/L/XP/hd5/Icda6fvPZl3un/sv9P4r+Vit9P1nu24qeanwve2227By5Ur09/fj4osvhtfrxfLly3H55ZfjqquuwpFHHomzzjoLGzZswKmnngoA+PGPf4w5c+YAQNplRERWUsbMYs9J25KTJT3wZYUvUamQx3y+UeF9/PHH2LlzJ04++WQAQHd3Ny699FJcdNFF6OzsNNYbHByE3W6H1+s1rnzL1zIiIiIiKj15CXxvuOEG3HDDDeN+/uijjxq3BUHALbfckvT+6ZYREVlJz3cFVvimJWlPjF7pS0TFjy0dis8VV1yBK664wvj31772NTz88MM48MAD8be//Q1r1qzBwoUL8fTTT+P0008HABxxxBEIh8N5W0ZEREREpadoevgSERUDo8LXxh6+6ciyWtnLCl+i0sEK39Jht9tx55134qabbkIkEsHs2bNx1113FWQZEREREZUeBr5ERCZ6vMsevukZk7axwpeoZOjHrcAK36L1xhtvGLePO+44LF26NOl6+V5GRERERKWlaCZtIyIqBuNbOjDQTCY+aRsrfIlKhcxJ24iIiIiIKgIDXyIik/GTthVyNMXLqPCV+AQRlQq2dCAiIiIiqgwMfImITMYGIuzhm5xR4SuzwpeoVCictI2IiIiIqCIw8CUiSkJgBVxastHSgYE4UamIn9Aq8ECIiIiIiCinOGkbEZGJ0ePSxgrfdCSjpQMrfEtRTJLRPTACN89rVBT28CUiIiIiqgys8SAiMtF7+AqC+vGoMM9MyujhKzMQL0XvbujET+9+E6GwWOihUB6xpQMRERERUWVg4EtlpbM/iHc3dBR6GFTKxlT4KmCgmYzRw5cVviVpeCSCmKQgHJUKPRTKI07aRkRERERUGRj4Ull55f09+PUTa40qTSp//mAEv3nmE/gCEUu2N7bHJd9KyenPE3v4liZJYmBfidjSgYiIiIioMjDwpbISjkqISQpGI6xaqxS7O/3YtHsQe7r8lmxPUQCbDbCxh29aemDIHr6lSQ962ZKjsshs6UBEREREVBEY+FJZiYpq0BtkX8qKEZOsrTRVoMAGUyDCPCwpo8KXgWFJihmBPV+/SqIftwIrfImIiIiIyhoDXyorET3wDTHwrRRiTH3Nrbo0Xa3wtUHPe1nhm5xe2csK39Kkv24xma9fJdErfG2s8CUiIiIiKmsMfKmsiKIaXgRHGfhWCjGmB48WVfgaga82aRsD36T0wl728C1NRksHvn4VhZO2ERERERFVBga+VFb0lg4jDHwrhh5cWVfhq8Bug1Hhy7w3OUm29nkfCkQQYiuWvDFaOrAlR0XRP8/Yw5eIiIiIqLwx8KWyord0CDDwrRhGha9Fl6YrCgCbzQhEGPgmp18ablVg+JtnPsETK7ZZsi2amNUnSqg0GJO28dsfEREREVFZ41d+KitRrZ8rWzpUjpgW+Iox6yZts9sAsIdvWnrQa1UPX/9IFMMjUUu2RRMzWjqwwreisKUDEREREVFlYOBLZYUtHSqPKFlf4WszVfhScnqloFU9fGOSzH6yecQevpXJqPDl5xsRERERUVlj4EtlJcJJ2yqO3tLBqkvT5TE9fFnhm5wR+FoUtIsxme0F8kgPevmcVxa9oFtghS8RERERUVlj4EtlRa/wZeBbOfSWDpZVKmo9fG1aTwelQJe89w6GsGZrT0H2nYl4S4epPz+yrECSFVab5pHIlg4VKd7Dl4EvEREREVE5Y+BLZYWBb+URLZ58SlGQUOFbqDjspbd34q6/rinQ3idmZUsH4zW0qFqYJiZZ3AqFSoOisKUDEREREVElYOBLZYWBb+WJt3SwJpqVoag9fLUKOKVALR18gQjCUakg+86EHvhaERiKRpU2w8d8iUnW9mCm0sBJ24iIiIiIKgMDXyobsqwY4QUD38oRszgsVCdti/+7UFe8+0cikGXFCFaLjSRb1wNW1E7UMHzMnxhbOlQktnQgIiIiIqoMDHypbOhVgnXVTogxGeForMAjonywuqUDFK3Ct8A9HYZHogDij6/Y6JWClrR0YIVv3hmBL5/ziqLn+2zpQERERERU3hj4EvzBCH71+OqSr4qNxtQqweaGKgBAYKS0Hw9lxvKWDmN6+MoFaumgB76WBdkW0ydYs6JCVD92Y6w2zRuJLR0qksKWDkREREREFYGBL2FHuw8fbOzC3p5AoYcyJXrwN82rBb6haCGHQ3lidaWiolX42myZ9fBdtXYftu0dtGTf5jEYgW+sOANfPQi34nlnhW/+iZy0rSLJisKwl4iIiIioAjDwJaP1gT7hWamKaqFRc4MHADA8ErF0+92DoYJN4EWpGRW+FlWHKgpgg7nCN/36z7+9E6s+brdk37pwVDIel1ikga8kWVdZPZkq7Ydf2oT3NnROed+VSmIP34oky2znQERERERUCRj4EsIRNeiNlHrgq43fqPC1sKVD72AIv/jdh1i/vc+ybZI1jLDQomBUgQKb3dzDN30gFhVliDFrjx1zexWreviu/6zP0nHGe/hOfXz6sZtNhe+6z/qxeffAlPddqWIWBvZUOljhS0RERERUGRz52tHu3buxaNEi+Hw+eL1eLF68GPPmzUtY52c/+xm2b99u/Hv79u148MEHcfLJJ+P+++/Hk08+ienTpwMAjjvuONx00035Gn5ZixgVvsVZSZgpo6VDDip8h0eiUAD4gmHLtknWMIIriy5NVxQktHRIVwAZk2RIsmJ5Fa458LUikOvoC+L+5zeiptaDE4+eNeXtAfHKUElWjDYYk5VtlbaiKIhJcslflVBIMaMHc2l/7lN2ZFmBwFP9RERERERlL2+B70033YTzzz8fZ511Fl566SXceOON+POf/5ywzp133mnc3rZtG37wgx/gpJNOMn529tln4/rrr8/XkCtGOFomFb5aaOStUwPfUCRm4bb154jhSLGJ93+1qqWDkjBpW7o2HnrgaHXgGwiZA9+pb3tEC5D19i1WkE3hrCQrcAhTD3wzrfDVw+ZibXdRCuK9r1nhW0lkRWFLByIiIiKiCpCXOo+BgQFs2bIFZ5xxBgDgjDPOwJYtWzA4mHqio+eeew5nnnkmXC5XPoZY0fTAt9Sr5fTL1WurnbAh/ris2bYajpT6c1SO4pemW9XSAbDBPGlb6nX1kyRWvy/MEw5aEWrq47Py8n1z79epttPINrTn8Th1UgUHvv2+UQz4Rws9jIJQZLClAxERERFRBchLhW9XVxdmzJgBQRAAAIIgYPr06ejq6kJTU9O49aPRKJYuXYrHH3884efLly/Hu+++i5aWFvz0pz/Fsccem9U4mptrJ/0YJqulpa7ob+tVfw6nI+P7FOPtqmo3AMDtFOBxC8bjsmL7YwOmbLdj5ePk7cTb8Qm/5Izvk+62y+WALUmFb7L1I9HECl+rHpv5muvaWs+UtxkxAt+pj1P/t7nCd6rb1SvoM93O2AntCv0etPJ2vvYnxtTXz+ku7c/9ydy+8ZH3IQh23HTZl4pmTPm67fI4jJNZY993RERERERUPoqyk9vrr7+OWbNmYcGCBcbPzjvvPKxatQpLly7FpZdein/7t3/D0NBQVtsdGAiiry+Ql/90pXBbD62GTBVPhR7TZG73D44AAFxOAU6HYDwuK7YvxhLbXmS7HSsfJ28n3k52afpUthsOi2oPXyT28E22/tiWDlY9tu6+oHG7fzA44fqZHuP6czWVsen/Tqjw1Z77yR9f2msoZzY+/XFM9ngs5tv52p/+XAdNvc6L4fHn47Y/GDWq6ItlTPm6HQpFjQrfvr78fB8aGIh/hhERERERUX7kJfBtbW1FT08PJEmfiV1Cb28vWltbk66/ZMkSfO9730v4WUtLC5xOJwDgxBNPRGtrK3bs2JHbgVeIsDFpW2lfHq2HRi6HALfTjnAkFy0d2DO02CSr8J0KWVGre+3Gp2PqS96Nlg6xXLZ0mPol90aFr4U9b5NV+E6WmGXLibEVvpS9WJZ9k8tJOBqDWKGf5bLMHr5ERERERJUgL4Fvc3MzFixYgGXLlgEAli1bhgULFiRt59Dd3Y21a9fizDPPTPh5T0+PcXvr1q3o6OjA/vvvn9uBV4iymbRNG7/LaYfbKVg6QRV7hhaveHWoRb1IFUWt8LUlVvgmo58AyMWkbfokaFYE2UaFr2zdOCUrA18pu/BR3x+Px8mLaa+fZcdNCQlHYyX/+26yZEVhD18iIiIiogqQlx6+AHDzzTdj0aJFeOihh1BfX4/FixcDAC6//HJcddVVOPLIIwEAL7zwAv75n/8ZDQ0NCff/zW9+g82bN8Nut8PpdOLOO+9ES0tLvoZf1iLGpG2lXfGkh25upwC3M97SwcptM2AqPsakbRaFrooC2G2Azfh3mgpfvYevxcdOcFREU0MVegdDloTJ8Qpf68I9c4XvVMeof/bISuJ2U2GF79TIimI8z6UwaZsYk/D7ZVtw6VlHYnpT9ZS3F45KcAhF2dEq52RO2kZEREREVBHyFvjOnz8fzz777LifP/roown/vvLKK5PeXw+IyXp6JWypVzxF9ZYOTgEuiyt8o7HyqIIuR0ZLB4uqV+UxFb5p8l7j/SBa3NIhOCqiud6D3sGQtRW+Fl6+L8sKXA47ojF5ylWi5pYYUgavo/588wTM5JhD3lKo8O3oG8H7m7rxxcNn4pR//MKUtqUoCsJRCS6nYNHoSouiKBDY0oGIiIiIqOxVZokLJQhHyyM8icbUqi273aa1dLDu8cRY4Vu0kk3aNhWK1sNXz0TSVvgaPXytb+nQ3OABEG93MBVR0frAV1IUIzSbanW1+f6Z9PHVK5Wtft4rhTlUt/I9kSuhsAgAGLWgL3tMkiHLSsV+lqstHQo9CiIiIiIiyjV+7SdEjArf4v/DPx1RlOF2qm9pjytXLR1K+zkqR1ZP2gZgTA/f1AFkNAcVvpKsYGRUxDRvFQCLevjmIPCVJRlul5DRdkPhWNqKe3Nwm0kfX1HKTWV1vn28pRurPm7L+35jJVbhGwqr753RyNSv2tB/z1XqZ7kss4cvEREREVElYOBL8QrfEg9PojHZqDi0uqWDHiqypUNxkeR4L1KrwkxZUWC3qX18AQDpWjroPXwtrDQdGRWhAGiqVyt8rehNHG/pYGEPX1OF70RVyPc+twG/f2lTyuXiZCt8Szy0e/HvO3HP0+vxtzc+T1tJbjVzyJvpRHmFNKoFvlZ8puvbiElTb0VSimQFsLOlAxERERFR2WPgS0bgm+8wc/32Xvz07jctq9ITYzKcWgBldUuHqDFJFAPfYmIOea0KM9WWDuYK39TrxlslKBlNNpaJQCgKAGiodcNmA0QLHld80raphXv9vlH87P534A9GIMkK3NrxNlFoODgcQUdfMOVy8+X12fTwLfXjMRKVYLcBr65uw/a2obzt1/x6xUog9Axplb168DsV5itZSv39Mxms8CUiIiIiqgwMfMlo6ZDvarlPPuvDnq5h9PvDlmxPjElGSwe3y45INGZZ1Vx8kqjir4arJGKWrQAyoUDJuocvYE2vXSAe+NbXuOAU7EU1advGnf3YumcQnf0j6qRt2vE2UdgeESX4g5GUy7Pu4Sspxv9LuUozIkrw1rkBAMGQmLf9xhIqfIv/+RuNqM9NyIqWDqYTgVZW5ufCa2va0dY9bOk21R6+DHyJiIiIiModA98KJ8ZkIzzJd4Vv18AIAGAokDoIyoa5pYPbKUBWrPuDni0dipMeFNqQuwrfdOcMzJWpokXvDT34q6t2wumwW9PSwaIevl396jEbkxWtwtcBYOLjLBqT4AtE0y7XZdTDN2b982611z7ai6dWbk+7TkSUUOV2AshvawXzvjKpqC60kIUtHcyf4cU8cVs4EsNTr+/AG2vaLd2uwpYOREREREQVgYFvhdOre2uqnBBjsmWXpWeiU7vE26rAV4zJcDniPXwBWNbWIT5pW/EGBJVIf11cLsGyHr6KosBus2VW4Wt6f0UtOrmgV/jWVbvgdFjzuKIWBb6dfSPGdhIrfFNvV5YVREUZwdFoylAzsYdvJoFvfB2rnnervftpJ95amz6si4oSaqvUwNfK/soT0at6Bbstr/udLGPSNitaOpiP2SK+YqPPNwog/titwgpfIiIiIqLKwMC3wumBaEONC0D+KlhlRUHXQAiAlRW+ktFT1G0Evtb8sczAtzjp4aDHKVjX0kGB1tJB7+GbYUsHqwLfETXwra12wem0W7JdqyZt6xpQT9JIWisFVwY9fPVjRlGA4VDyKt+E1hwZnHQyh8LF2od1NBzD6AQtCKKihGqPViWdxwrfmFbV63EJJVHhqz+PVpzAS6jwLdL3DqD2ywaAkbC1rT5kWWGFLxERERFRBWDgW+H0QLShVu0jGbFworN0fIGIEQQNpentmQ1RTGzpAFj3ePRQKVLEFWHFSpYV/O97uzE0nH2v5lBYxIMvbMSAfzTpcv11cbsEyyafUhQFNpsNehHcoD+Mv7yyNWn1ey4uDw+ERNigVt07BbslQaBVk7YZLR20Cl/9OEtXlWt+jvzBiQPfrCt8i/SYHAmLEwa+kaiEar3CN4+VynqFr9sllEQP5JAWek70fGaiVFo66J95Vlf4KqzwJSIiIiKqCAx8K5xR4Vvr0v5t7R+XqfQOxQO8oWEre/hqk7blsMLXqongKkXPYAgvvrMb727ozPq+bd0BrN3eh007B5Iu118Xj1OALCuWtCQZW+H7/sYu/O31z7BPa0FiFs1BhW8wFEW1xwHBblN7+Fpwyb1R4TuFas5AKIqA1l9YnyzN7VKPMzHNGM1Vmf4U1fzRmARBC6EymUTMHAoXa5VmaFREOCqlrBBXFAXRmGxq6ZDHCl9tX26XozRaOmhBr9WTthXryQIA6POpJ8hGRq2v8BUY+BIRERERlT0GvhUqFBbxxGufGVWX+a7w7dUuV50zo9a6Ct+YZKrwVd/aVvfwHXu72AwFwnjp7Z2WhNKSJOM/HnoPqz5um9J29Oq8oUD2Fb56RZ9/JPl7JB5caa0FLLg83ejhq/07qLUhMJ+k0JmPl0xbC+zs9BvbTGY4FEWNRw0B1cDXigpf9XmcShWpXt0LxNsP6Mdbuu1GTCddfCmOdTEmZ1QtbF7fuF2koZ0eTqb6TNUfQ7Un/4GvXtXrtrAVSi7pvXvDFVTh22/08J048N3bNYzXV2f2OS1z0jYiIiIioorAwLdCrdvei1Vr9+Gjzd0AAK8e+ObpD+CewRAcgh2HzG2Cz7IevvHQyOWyuqWD+RLy4g0J3lzTjt+/tAmDFlRND/jDGByO4PN9viltRw++JvM664H98AStAOJh4dSDbv2V1it89UnB9EmUzKIx2QiGM5k8TFEU3Pnkeix9d3fKdYIhETVVeuArWNzDd/Lb6jRVOOvHgMsx8aRtCRW+qQJfUYbHrfcDnvg1TJy0rfiOR1lRjJMVqdoQRI3AV+3hm89KW31fngpv6VDMJ+/69ZYOGTzmpe/uwgPPfpK237iOk7YREREREVUGBr4Vam9XAACwp2sYAFBfgJYOM5ur0dJYheGRqCXVbWJsfA9f61o6xEOCfIXik9GpVWFaEYzoAefQcASKouDPK7bjs7ahrLejV+cNTqKHr14d6h9JHviOq/C1olpRq4AbWwTXk7TCN4YqtzbpVgbhUTQmQ4zJKYNPQG2dUFOlbtO6Cl91G1MJFc0VvtFxQXtmPXxTVfiaJ1zMpO1EwqRtRVjhG4lK0LO3VFcZ6KF5PPDNZ4WvPmlbabR00D/PxJg85ecpoaWDxScLNu3sxxW/et2SvrtGhW8GLR0G/GFIsmJM+JiOLDPwJSIiIiKqBAx8i4wvGMlLxdXebjXobdP+781zS4eeoRBmTatFc4MHCrIPA1d8uAffv/lVPP/2Lry5th0fb+nWAt8xPXwj1jyeaAlMEgXEQ7nRNEG3GJPR2T++H+1YfUMhAOprMxSI4K31HfhgY1fWY4q3dMi+wndUr/BN0dLB3MMXgCUTnKmTtqkVvuZYpFd7PswiomwEdmIGJwL0kG8kzWXagVAUtdpl/g4LAl9JiodkU6rw7R+Bt079nDAqfDOorI4kVPimrtT2uBzaeEu/wtd8wiVV4Ks/Bit6+P5h2RY889r2jNdPnLSteD/PdKFwzDgWp9rWIZzDlg5b9wyia2AE7b2BKW/LCHwjsQl7k+vr+lIcX2ay1rKGiIiIiIjKGwPfIvLep5249sH38F8Pv2/M0J0retA7qgWiDTVqkGNVz9t0ZFlB79AoZrXUoLmhCgAw6M8u8F31cTtGIzEse38PfvPkOvzyDx+pk0iNqfCNWDhpmz7RTTG3dOge0Ct8U49x5Ud78dO735rwceg9a4cCYSNQmEyVbrylwxQqfFMEGeMrfC1o6aAANr0CzpSLJGvpEBElo99uJi0d9Oc8NJr6fRkwt3QQ7BBjU3tM5grbqYSKXf0jmDujDkD8pIfDYYfdZpugpYP6WAW7LXVLh5gEjyuLHr5S7k/A7Okezrgv81iJgW/y11p/XTwuB2y2qfVX3to2hI07+zNeP2aq8FUUFHVbB0VREIrEUFejXoWS7rMtnYgoQZIVREUJVVr7EP29oyhKQgX7ZOm/x7oGx58cykYoLCIUjqG+2glFmfhKFf3zOZOTarKMcVcvEBERERFR+WHgWyS27B7A3X9di1nNNfisfQi3/P7DnO0rIkrj/rhtqMtfhW/vUAjRmIw5M+rQ3OABEO9XmIlAKIrtewdx9lcOxK9/fCIeWXQyfnbRQhw+rxFHzJ8GwNzSwboevnolZ7G2dBBjshFKpmvp0NU/gqgoTfjc9BkhbwR9evg7mcA3HO/hm22wFM6wwtedRVg4EUVRjJzXXAk3OBwZFwBGRSle4ZtBYBeZoMJXkhWMjIqo8VjX0iEh8J1CqNjZP4LZLbWw221GVa3dZoNDsE0waZu6bktjVZrAVzYC30xC+1gOKnwjooQb/7Aa67f3IhCK4rY/rcWqj9sntS1zKDlRha/LKcAhTO11DoVjKU+KJGOu8FX/nfm+FUWxZFLITEVECbKswFurB74TtzjQ+YMRPPfGDtz+lzX4vz9fjsV//hjhqIS6anVb+ntny+5BXHHH69jbPbXK3AHt87F7YGqBrx7gzm6pBQCMpDlBFIlKCGptH1K1TOnsHzHeXwp7+BIRERERVQQGvkXi9dVtcLsEXH/BcfjuVw/Enq7hnE0o094TgKwALV6P8bN6rXpqKhWxmYYAbT3qH9VzZ9Rhmlet8B3IosJ3065ByArwxcNmoLHOjVkttTjpmNm49rxjcfgBzQAAp9bawarANxaTUa31ai3WCt9+/6jRNzRdS4chrdJ2ouBab2EQFSWjInwybRn0lg6ykjq4TUW/fHs4RW/KsS0dxgbKwQz6X46lID5hm573Oh12KBgf5ESiklGNm0k1qB5+hlIEviPaePVtupzpJ2177o0d+M+H3s1on2p4PLmgbiQsIhCKonVaDRyC3aiMFAQbBMGWtu+ufgxOb6xOGkrKsoKYpMQrfDNoMSBK5op7az4nO3qD2NcXxO5OP0ZGRciKYlTMZ8t8/KWqzoyaTlYIdlvG7Uj2dA3jkttWoksbmyTJCEelrI4t/TjJpqoaUD/j//ORD7H0nV3G3eSMAAAgAElEQVQZ72uq9JNXjVrboWz6k9/7zHr8afkWyLKCmc012NnhR1SUjN93+nunZ1B9LndpPe0nS78yp2vKga/6GT1rWg2A1J8XADBounIi2eezPxjBTX9cjbfX7wPASduIiIiIiCoFA98iMTwSxfTGKtRWOTGzuQaKEq8Wspoe3h17UAsANVTSJ56abPXqXU+tx+9f2gQAeOr1HfjJXW/guvveThp2tGtVVPvNqENtlRNOh92oaMrEhp398Na5ceB+3pTr2G02uF2CZZO2RWPxSs5MLt0vBPOkYulCEZ8WCkwUXPcNjRqB52ftPgCTa+kwaprAyJdlYKyHhYGRaNI+lvGWDtrEV6bXZkf7EC74r5fRneXl1UpCj0v1//vPqgcAI2TTRUXJqMbNJHiM9/BN/voEQmogqvfwnajCd9ueQezc50u7T/2YrnY7Jl1Fqrf3aJ1WA6eQWOEr2O0ZVfjOaKpOWoEojnkNM6k2FWOyabI8a07AdPSpfa0jomy8Tnrwlq1Mevjq+3DrFb4Zfq609wTQNzSKVz5qAxA/qTE8Es34pNu4VigZVt5HRAm9vlG8vb4jo/WtoH9+6P2jM+3LrigKtu0ZxKnHfwH/9YMv4v8c1YoB36jaHkKr8NX7busnlPb1TtzbPB39xOXYz4ls6Ve8zG7RA990J/Dix1Sy46tnMARJVoz3siwrENjTgYiIiIio7DHwLRL+YMSoOprRVA0gec9QK+zpCsAh2HHYvCYAapVXuhYIb33SgXc+Sf0HfkSUsL3Nh9dWt6GtexivrWlHVJSxbe8QdnWOr5hq6wnAW+tCbZUTNpsNDTWulJd666LaZb2KomDTrkH8w6HTJ6xS8riEjFpUiDEJDzy/0ZjILvk6Mqr1Xq1FVuG7dfcgrr337wnPdbo+l3qFb7rgWlEU9PtCmK1VmO1oHwKgBiPZVp6HTOFXtoGxHpzJSjwMNTNaOmgV3eZAc19vELKSfLK1dBQlXtmrv8UOmtMIAAmtUGKSDElWsmrpoIfCoRSVx/pjNPfwTRfS9vtHMRqR0k68pR8DVVMIfHu00HzWtBo4HfGqY8GutXRIO2mb+hrOaKrGaCQ27vgRjV62E08Ap4vF5HF9WKdKD3yjomRsM5tWM2bZTNrmcgoQBFvGoav+/H24uRsD/lGjPUhMUlKeSBhLb+ngSXKiJJ1gSN3XZ+1DKavuraaHnfrEoqEMK3yHAhEEQiIO0E7WTG+shqT1j6/2OOEQ7MbJEL3yvL0vdeDb1T+CW//wUcqTabKsYCgQgUOwY8AfTjh5unOfD3f+ZU3GLZMGtN/9s5rVz990kzwODqu/O2urnBhK8ntUP5mqnxhghS8RERERUWVg4JtjOzv8uP2xj3DT7z5IW301PBI1Jk6b2ZzjwLfTjzkzajGzSW2n4HEJsNttcDrsSf8gXf7+Hix5c0fK7e3tGoasKBiNxPA/T62DDcCiH3xRXZakJ2JbT8C4VBUA6qpdaSs/ZVnBokc+wPL3dmM0EkMoEsPcGfUTPk63y5FRhW/PYAjrPuvD2q29SZcriqIGvjlq6dA1MGIEapPx5rp2fNbmw8rVbaj2OFDjcaSdyX5oeOIK3+CoiNGIhANmNQBInDQt2yrdUFg0Kgn1fWfK/H5MFjClq1TU10/X/zIZc+Crt3ZonVaDKrcDnaZASH/+9EnbMmrpoE/aFokl/TzQA7WaKvW95nDY017qr1cUpgv49XFOJfDt1aq9ZzbXwCHYjG3a7bYJ+8+GoxIcgh3eOrWFzPCY4H5cW44MJ22rdmf+vGfCHPjqr9NkJ89M7OGbqqWDqcLXbs/4RIp+oiYmKVj+3m7jPQMAw8EI7nvuUzy1YlvabcQnbcs8ZAfiJyQUBfjks16jv24uhbSevY16hW+GV220a9W687TPsOmN1dr9JbhdAlzO+HOun3Ds6Aum/D398dZurN7SjbaeACRJxtbdgwnL/dpVCIfOa4QCJHxWvL1ePWn6+trMekIPDIfRoJ0UBZK3dNjXG8Aba9qME3gHzfHCF4hi+bu78J8PvWs8Dv0zQm8XI8tg4EtEREREVAEY+OZQVJRw99OfYPWWHqzb3ov+NH1q/SNRo8K3sc4Dl8NuaeD7mTaLu6wo+KxtCAfPbURTvQd2W/xSardzfAuEiChhYDiCtu5AylBnd6dfvb9LwOf7/Dj0C404YHYDpjdVY8+YwFeWFezrCRiVSwC0Ct/U1WLDI1H4glHs6w0goIUbddXOCR+zxyVk1MNXr9hKVc2nhyFGS4cpBL6hsIg/Lt2cEGTet2Qj7vrrmklvc8Nnfeq4YjJmNtegusqZsgpNjMlGpVckRWXkjn0+7NqnvqZ6dRwQf86HAtlV6YbCMcxorJrUfc3vx2SBbzws1CoVTe9Rff1s+/gqUIygV5+9rbbKiS/MqMVnbUPGekblrEuA3ZZpha96H1lWkr439TEntHSIJQ+gYpJshO/penwaLR08DsSkyU241TM0imneKnWCMYfdCB0Fuw3CBIFvRJTgdtoxZ4Y6AdWersTPBH1b8R6+mVX4up12bQK59M/7qx/swQ/veB3yBI+702jpICW0dJjM8xWKxGCzqc95qhYEehWxy2nXqqQzDHy1sc1sqsZnbUNGkAeol/RvbRvC7gl60cYnbdPaaGTQNxlIPJaWvPk5rr73HSx/b3dG952seIWvPmlbZoFvmxb46u1YWrTPIEA9+eFyCsZ7Rz/uRiOSMUHl82/vxPJ3472KO/vU6v5+fxjvbujEzx54B52min+9ncLRWqukfT1B4/NrZ4faduXlD/dmVBk9NBxBY53HaFuSrHL7uTd24H+eWo8dHX401Lows7kGvmAEb67dh007B9ChjU0/aREcVfcrJ7SsoWIwNDSEyy+/HKeddhrOPPNM/OQnP8HgoHpC4ZNPPsG3v/1tnHbaabjkkkswMDBg3C/fy4iIiIiotDDwzaGhQAQRUcI3TpgHACn/CI9JMkZGRdRrl6za7TbMaK5G3yT7Rybz55e34K6/rEFH3whGwjEctn8THIId0xqrjaDF5bSP6+Hbrf3RKMZkdKTob7izw48qt4Cvf3EuAODEI2cCAA7crwF7uwPY0zWMu/66Br5gBP2+UYSj0pgKX2fK2cUB0x+sIRFBvcdphoGvHsq9vroN1977d7zw9q5xobYeyKTqI6xXEFYbfY6zq5LcvGsAt/z+Q/hHovh4Sw9eeOtzbNmj/jHXrVX3bt87NKlqwn7/KDr7R/D1f1Sf+9bmGlS7HRhNEXSbw4ZkwXUwFMXiJ9bjV39aDQDYr6UWTof6MbF/qxqcZDPBHqCGXw01blR7HFlP+haOSsbznqztRyxNSwd9/XSXQwdDUTz3xo6E+ykKjEDEbgp8D9rPi10dfiNc1Y8Vp0OA0xQepWM+vpKFtMGxLR0cAmRFSXq5v/mYSXeZu34M6M9jpq0DzHqHQmjVTtKok7aZKnzt6cPKcDQGl1PAwXMbUe1xYPOexMpI/fgyqrS1ba3f3ot/u/ONpFcdiDEZgmCHy2Gf8ATMuu296OwfSVuZriiK8fkWNQW+MUmeVOuCcCSGarcD1W5H6h6+xntXmLBKOuF+2timeT3wB6MJIey+3iAiUWnCkw9GZbx23GRaXay/P/ebXotdHX5EYzK27M4uEJJkJave6nrAq7d0GPSHcc+zG7B3glC7vTeIGU3VRiue6VqrJED93WB+7wyPRI0WIXu6hyHLCl5fsw/vftpp3EevAO/3h42JR9t64ycv9PfXkfOnwQbgvr+tx0U3vQpfMIKd+/w4/IBmhKMSbvvjR8ZJ0lQGA2E01XuMYzZZCxj95NOmXYOY5q1CU4MHwVERO7Se3ht3qa+L3rt3hC0dipbNZsNll12GFStWYOnSpZgzZw7uvvtuyLKM6667DjfeeCNWrFiBhQsX4u677waAvC8jIiIiotLDwDeHfFo149EHtcDlsCftZwvE/xDTK3wBYEZTzaQrfGVZwXsbuxIudfYHoxgKRPDaGvWS0sP2bwYAHDK3Ea1a+KpW+CaGEx2my1J3pfgjdXeHH3Om1+Gsr8zHaV/6AhYeMh0AcOB+XvT6RvHw85/i7fUduPvpT7BK27858K3XevimujRYDxgDoahx+XJttSvpumYeraWDoihY8uYOtPcEsfT9PXjhzc8T1tMDhb4UvV71MCRdhe+AfxS9SdoyfLylGzc+8j7WbO3B5t0DaNcCgn1akL5hR7+x7ocbuxLu+97GLqzblrzNhG7rHvWP/rO+Mh/fP+0QnPVP81HtSV3h6zeFV8km6Nu4cwCyohhVdc0NHjTWq5fi69W+2VbpjoZFVLkFNNa5MZRBD9/RSAxPvPYZhgJhhKMxTGvQWgEkq/CVZLWPrEMPfMe3dEhX4bvyozb8afkWI4AH1PAPRoGveqO22oWD5jRAVoDte9XnXH/+XE41eBQzqPw2v3fMlZkdfUHc/MfVeGLFNrUyVAt69LA9WdsCc3ieblKniKmlA5B5v1aznqFR43PCIZgrfO0QBJtRhbyz0489Y4K4SFQyQs2jDpyGTbsGE6pmjSptvZ+s9hq+92kn2nsCRqWimSjJcDrsCf2EU9HDtd6h1J+n/mDUqKKMinJCX+BsT3AA6nu4usqJKo8DoynCTXPQLdhtKSu5x4qIEmw2oLneA18gkvA++lybXHGi11iSlYTjxnwSQG1hk/y9rF9h8f++dRi+/U8H4NC53qwnOnt65XZc+d+rMpogdMAfNsLOhhoXbDbg4609+HTnAP7yyta0923vDRrVvYD6+00Pjd0uB5wOwRT4RozfiXs6h9HRF0Q4KiWcZOo0At9R43ZHX/y9qffPbZ1Wg0O/0IiWxiqEoxJWrd2H4KiIrxy3Hy755gLs6w3iP+57Z1xrE7NBvxr4urQq9rEnrULhWMLzPq2hCs3a57QsK3A67Ni4c8AYLxD/HFQUtnQoNl6vF8cff7zx72OOOQadnZ3YtGkT3G43Fi5cCAA477zz8OqrrwJA3pcRERERUelh4JtDesXPNK8H8/fzYleKiqSA/gdtbTzEnNlcjT7f6KQuJ/708z78YflWrDH1pB0eUcfy3sYuNNa5jYnhrj3/OFx7/j8AAFyO8ZOc6ZesOgQbdnWMD3wlWcGermHMnV6Lmc01+Mm5x8Cl9eI8cD8vALXC9fjDZ6LPN4onV2xDlVvAfi2mwLfaBUlWUlZi6pWvgVHR+KNV722Yjltr6bCvbwT7eoO4+IzDMH9WPT7e2pOwnl4d2Z+iotoIfNP08L3n6fW4+4m1CT+LiBLufWY99pteB6fDjn29I2jXKsP0IH3Djj54a12Y3VKDDzYlBr7Pv71rwsult+wdQmOdG3Nn1OGrx87Ggv2bUO1xpAl84wFGsorUTz/vg8thx/mnHYoDZjegvtqJJq135ryZdbDZsp94LRSOweNyoLHek1GF71tr27Fq7T5s+KwP4YiEZi3wNY9dJ8ZkOBx2OAQtuJJkI6wyevimCUPXbVffC5t2mQPfeIWvzVThO39WA+w2YLNW0ai/D1wOAc4Jeu3qEit81XG19wSw6IF3MRSM4B8Pm4l/OflgI5DRA99kAV7Gga9e4esZ3/YiE0HtuJs1TW3J4HCYK3zVx69XbP7plW14bNlmY3zDI1G1Z6r2mXDsIdMxMBxOmPxO39bYCt+tWgjfNRBf929vfI6123oQi6lBv8uZvsI3FI6he0A9EdOb5gSa+cRWxNTDF8hu4rbXPtqLP7+8BaNaZXpVmgrfiCjDZlMDdL0tRlSU8PRr29M+pqgow+kQUF/twvBIJOFEiD654kTvRUlSIAjx48b8nnh7fQe+f/OKhN8Fz7+9C1t2Dxgn3I48cBouP+tIzGutx77eYEZ9l3WftQ+pbRE+7Uq7Xu9gCNc//AFefHsnAPWEhcflMAL8jzZ3p6yUDUdi6B0MYX+tf69Ob+tQ5VYnKo338I1iZnMNpjV4sKvTb1TP+gLqcxsVJeME7IA/bPxeNLd0GApEYLfb0FDrxnX/eiwevO5rmN5UjdfX7gMAzJ/dgBOPbMXNl38JUVHC5l2Jle46WVbgC0bQWO+GzWZTr9gYc3zv6R6GogDHaSdX9QpfQP3MOP2EedixT70aYXBcD18FzHuLlyzLeOqpp/C1r30NXV1dmDVrlrGsqakJsizD5/PlfZnVWlrqCrou98/9F3r/hRxrpe8/m3W5f+6/0Puv5GO10vef7bqpMPDNIf2Sa2+tBwfN9absg6tXTZkrfGc21yAclSZ1OfEWbTKZEaOiRzG2oyhqda/eo1QQ7Ea41FDrQrcWroTCMYxGYujsC6K+xoV5sxqS/nHd1a9WQs2dMf7NOF8LfB2CHT8+52jcccWX8D/XfAWP33iacZktANTVqLdTXXKtV9gFQ1Fj0qC6DCt8I9EYVm/tgd1uw/85ahaOmt+MHe2+hCpVPRz1BSNJK9uipko8u902rjJNVhRs3zs0riL77+s74A9GccV3jsTcmXVo7wvGA9/+Eciygg07+nDYvCaccOQsbNw5YATaYkyCLxBJ269SURRs3TuEow9qifecBdQK3xQhk3+Clg6fft6Pg+Z48a+nHoJ7//2rsNlsRoXvtIYqNNS6MTQcwZ7u4bQTwwHAB5u6EQxFEYrEtApfD/qGQlAUBeu29+Lp17YnfXwrV7cBUCf3CkdjqPE4UeV2YDhJn+dYTIZTsEPQ3sM7O/z4l58vR2f/iHGSI1WFbzgaM0KXTdoxI8bUy+HHTtpWW62OYf/ZDcZkTXog5nLaE6oF0zFXjuonOP626jOIMQmLLjgO117wD7jwGwuMdfTAN1k4nxD4pmvpMKbCN5Ng2kyvZtQrfJ2C3Xgcgt2OhhqXMZahQMQImB54fiMeef5TREUJLq11wLEHqwHV+u3xk1F66OZ22GG3qT18R8Ii2rT+391a5bwYk7FidRs+2NgFMaZW+LocQsJzOtY+U5Dbk6KCv703iE93qH2wG2pdiIpSwufAQBZXWrz+cRuWvbsLobCIau19m6p9gRiT4HIKsNlsRg/fLbsH8MSr2/DpztRtEqKiBJfDjvoaF2QF6OofgWC3ocotGNXVE01kF5NlOAVb0sB3V4cfwVERA9qJnQH/KJa9vwdvrd2H4GgUdpvNeC+1NlcjJslZTTqpv59e/agt7cmHHe0+yIqC7oEQBG1S0Sq3AEUBpjWo/W1/8+Q6LH1/z7jPkX29QSgAvtCaOLmnPnGb2+WAU2thFJPUvuYNNS4cOrcR67b1YpP2/AdCUUiSjF7fKBQFcDkF9PvjJyzMFb6+QARNdW7js8hms+EfD5uBSFSC3W7DPG0sB+7nhbfWjU93DaBnMIQHn9uAe57dgFc+2ANFURAYFSHLCpq0z93qKue4k6H61UIXn3k47DYbWqfVGOsvmNeEE45ohSQr+OSzvniFbyj+fYAVvsXr1ltvRXV1NS688MJCDyWn+vrGT+ibz3W5f+6/0Psv5Fgrff/ZrMv9c/+F3n8lH6uVvv9s102FgW8O6QGmt86Fg+c0IhqTcd8z63H3X9cmtC8IGpesuo2f6RW4mfwh/fiyzbjp0Q+MiXf0nor6H8GjEQkxScE0r1rdtGD/pqTbOXRuI/b1BtHvG8Wvn1mP2x/7CJ39I5jZWIUDZjVgV8fwuIrj1ZvVCsm52oRMZvU1LsydXouvHz8XjfUeNNV7cOB+3oSwF1ArfIF4QL56Szd+9fhq43Jao6XDSLxfZaY9fP3BKD7c3I1jDmpBQ60bR82fBgBYa6p+NgeXyap89UDKIdjhdtrHBUw9gyGMRmIYDkaM5ycqSnhldRuOOnAaDj+gGV+YWY+2ngA6+9RwpnsghB3tQxgeieKweY1YuGAGZFnB59pkaX1Do1CAhMvBB/yj+N2LG43xdA+E1Psf0JwwnnQVvubQdGxAORQIo607gAVfaEz4uR4kNNW70VTnwYYdffjl42uw1DSh0Vhd/SN4dNkWrPyoDZGohCqXA0cf1ILeoVFs3jOI+55Zjyde3Yb/fOSDhGrP3Z1+47J0ozrUJaChNvnEfvql/XrIsqdrGDFJQVtPIF7hmyLw3bbXh5gk4/jDZ6J7MITl7+3GRTevwMBwGI116mPWg98a7T17+P7N2LZ3SKvG1CbdcghqpWkWk7YBQGg0hpgkY82WHhx/RKvRI9fMKaTusapXFALqCZo9XcN45f3d43oD6/s0evhKqa8a6OgfGXeM65X9+uXxTofdOAlit9vgrXVjcDiMqChhJBwzKsB7BkPo7FcnrtIrfFun1aC53mP0FwXiYbbDoVa6SpKMndo+7TYYFboDfvWYGBkVtVYedjid8bEko/darat2Jm3pEAqL+OXjH+PJldvhdNjR2lSNqCgl9OlON9nmWB19QYxGJLT3BlHtSV/hG43JxvOi9/DVTyKMnewy4X6iGhQ3aCcI9/UGUONxoL7GbbTDmKjNhSSrFb76cWN+T+ift3qIv0U7KTI4HEYgJKKmymGcCNFb8+gnsiYixmT0DoZw0BwvBobD+EBrY9M9GBp3nJpPMFZ71H3qQfPBc7z44XeORFSU8MLbu/Dw858m3Fc/9pu041in9/Gtcglwae1A9CsA6mvdOOHwGRiNxPDm2nbjPv6RqPF7+Ij5zej3hzEaiaGh1oU+36gR6A8FI2huqErY3/GHq/3s586oM658sdttOO7Q6di0awD/89Q6vPFxG7oHQnjouQ347z9/bHxv0E+01XgcRgX/Bxs78bsXN2LLnkHMbqnFvNZ63HLJF3H6CfPQ0lgNwW7DMQe3YMH+TfC4BLy1bh/EmIwqtwMjYTVIZg/f4rV48WLs3bsX99xzD+x2O1pbW9HZGe8jPTg4CLvdDq/Xm/dlRERERFR6GPjmkC8QQbVb7RV4iBaivbl2H/6+fh/eNk0Go1etjq3wBRIvGU2mezCEF976HOu29WLV2g5Ikmz0GA1F1D+gA9rs3N86cX8cOteLLx3RmnRbR2hB8It/34ndXQFs2NGPHW1DmN5Ujf1n1SMQiiZUFfYMhfDEim1YuGAG5kwfH/gCwA0/WIgffueotI9Bf9z+YAS7u4ax+M9r8MHGLvz3k+sx4B81WjqMhGPwByNwCDYjKJlou8FREb5gFGeedAAANZhuqndjjamtw2hC4Ds+FNLDE6dgV2d2HxOU6uFMNCYb1ZQ72n3wB6M448vqftXnT4QkKzj64BZIsoInV26HQ7DhiAOaMX+22i5An9hPDxjMl/J+tLkbS9/Zhc+1MGzrHjU0WzAvMcCv9jhTVt/6R6Koq3bBIdjGTT636XNte2MC3xOPmoUzvry/1pbBbYxNf58N+MPjKvX0S+T10MbjduCr/7Af6qpd+N3/bsGAP4wLTz8UwyER67bFX4uVH+7VgnUBgZEoIlpY+P+z9+ZhcpV12v99tjq1V3V1V3VX7+klnU7S2UMWCDskQBYEIRhARUTRURQcEHkhgM5v5gVHnXGMgriNMgqir0ACyCDKvq9JCJCQrbP0vta+//445zx1qruquzqpXtL5fq4rF4eqp855znOW6rrP/dxfLed5KEMjHTSxpLM/BN8oGb479vfAaBBw5ZpZAID7/t92lBaZcePl83HN2tkAlChfUeBY3MC8hhJEYwl83NqfkeErCcKw2IVkKjVMPNVPkw+EY9hzqB/+UAzL55Zl7aOknue5MnxLXWbwnOLwfeTZ3fjpn7fjW1tewW+f3MX2OxJNgOfAijPmclXu3NuNO37xOnM3auxu7YPVJLGHUIo4qeyXMoXdgEAoxs6LwUAUgVAMwYgi/oajCSZ2AUCF28JcnkA6rkISedXpmsKewwPgeQ7zGt1oU9fbqTp0A6GY4uwWOSU7eQRxs7XTD4fVgKYaFxN8U6kUXv2gHb2DYfT7IkgkUzh3aTW+ffUSGA2imuGrjLfTKmfcE8LROH7w8HtZZzsEwjH2UCIQVpzpyrWYLgr5oz++z8ZJE24BKDnIiSQTvw+25y5IFo0l2TUBKNeayShlRAKNKvgmkhAFXpd9rcssHlT2t1edBaFFmPQMhOAPRtnDDwDwupTvqT2H+/GvD76NNz5oH3G7nf0hJFPAulV1MMsi3t/Thc6+IG5/4HVcufkpbPnT+6ztvqMDKC+xoLrMxooYGlXBt7bMhnOWVuP+75yLdStr8fe3DuE1XSSOL0dxT48a6SAbRFakVP/921RThBKHEYlkCh71AemAP8Jc5gtnutm6TpldhhSAwx3Kudzni7BYBY05dSWwGEX2/a+xpLkUgXAcH+zrwRcvbsG/fXk5PnVmA17Z3sbu75pYbTYqDt8/PbcX//qbN7H1xX34qLWfrbPCbYUsCbCaJNz+2SXYcHo9RIHH7FoXOx4VbgtSKeW7LplMR9YQU4cf/vCH2LlzJ7Zs2QKDQbmW586di3A4jLfeegsA8NBDD2HNmjWT8h5BEARBEARx4kGC7zjw/17Yh08O96PPF2E/yktdZmw6txH/+pVTMaeuGH95YR9zNGlTLW06wbfCbYVZFvH2Rx3DN6CSSqXw+Mv7IUkC5tYr63xlRxtzlGliobb+Wq8dt2xaxISboVS4LSiyydj64l7wHMeKM5UWmZiouGNfD8KROH775C784KH3IAkcvnbZ/IxIAT2izkWWC+bw9UXws0d3wmk14LbPL0XvYBiPPLuHTS0GgPaeACxGKef29FxyViO++6UV+PE3VmFJcykAZZrtwiYPduxNF0vTC77ZCuXpBSmDJAyLdDjQlna3afEc2jpddsW1XVOWnlp82jwlI++djzpxypwy2M0GGGUR1WV27FeFHk3cyiZGH1DbfHigDyZZQNWQOA2zUUQ0nswq7A0Eoiiyy5ANIqKxBF5+/yi+/G9/QyAcw3PvHIbDahjm1m5pKGGiveb2NRoEfHK4H72DYXzn56/iH28dyviMJvhqhf5MBiUz84KVtfCHYmiochtNTWAAACAASURBVOKyc2ZC4Dk25r2DYTz9+kGcvrACTpuMPl8E8UQKssSjutSO9/Z04T8eeT/DwTo00kErCtfa4UcyBQg8lzPD95PDA5hdV4xarx2lLjO8xRbc/aUVaKkrhqAKyBzHwWoysPNtQZMHJlnAWx93svNAElWnaSyB3z79MV7b2YZUKoXb7n8Nj72Q6YKOxhIQBc2VG8M7e7phEHkWdTCUdNG29LGMJ5IY8EfQ54vA7TQpER7hOHoGwqgqtWF+QzEeeXYP7nrgVQBKpINsECCo280lBr743hF2HPTsOdSPWq+NjYEmrgOAwHGsENbew+mcR80V3O+LIBiOQ5bSnyktMqNN5yTWHLrKvUJx+H5yeAB1FQ7UVzjQ0RtUptX3ag9+YojFkxCE0aM0DnX4MaPcgXK3BZ19Sib6K9vb8MDWXXjm9YPMCXrq/HIsm+uFJCoiYDSWAAegtNjMHjgBirj3wf5e9rBDj+ZE1jCbMiMdfvH4TuzY18PiLGLxJBsXkecRj6fYvhxo9+XMb4/GlYgMmypm+oIx5vDVGF3wTUEUOIh8FsF3iMP3g3097HW/ui22j0YRxQ4jHnt+Lz45PICPDmbm0sbiSfx/v3sLb+xqzxijSo8V9RUOfHigF9v3dCGZSmFufTH++uoBJojvPzKA6lIrbrl6Cb522QIA6ViSWl1Uw7pTa1HrteO3T6aLuOWaCcIcvrIAgyQgFkuw70eH1QCe43DGokoAwLwGZeZEvy+Cjt4QimxyxnaXtygPTg+2DyqicE8w431AuX7/z2eX4HMXzc54feFMN3hOiXk4f1kNOI7D6QsqAADvf6J8NxWp3x0Wo4R9Rwbw5GsHcc7SKtzztdPQUOlg/dRTU5Z2ErfUuVgxvkrVie0PxZBMpUb9TiYmlj179uD+++9HZ2cnrrjiCmzYsAH/9E//BJ7nce+99+Luu+/G+eefjzfffBPf+ta3AGDC3yMIgiAIgiBOPMTRmxBj5e9vH0YCSkSBNu2W4zicu6QKbrcNXzTOxU0/eh4//uO7uOXqpeo0WSlDSJFEHktmufH6zrasGZB/+vsePPTMx4hEE7j0rAZcuHIGbvjBP1jhMIHnWK5ntozgbHCcMh30H28fxrx6F1xOE557+zDKXGbUVTjgLbHgjQ87EY6n8MizezCr2okrL2hGscN0XPkiVpMEnlMco90DYXz10/OxoqUcM6v24oN9PegZCMNiFBFQCzCZjfmdtnaLAQubPMP6Vumx4dk3D+kiL5SM2VAkoYiqNZnTF/WClCGLwHSgfRAcp+Qja5XXNTFQNqgCRXmmUPBfj7yHVAo475Qa9npjlROvbD+KVCqVdvhG9JEOihCjCcwf7u9Bfblj2I93bXyC4fiwYz4YiKLIJsMfjCEaT2DvkX4c7Q7gf/53N978sAOXnzsTAp/7OdC8hhIc7Q5gVpUDf35+H/7+1iHEE6lh0941wVerJK8JNRedOgP/eKsVV1/QDJ7nUGSTWYzGYy/tRyoFXLl6Fv7tN28w0Vs2iPjMBbPhcZnx+6c/wivbj+JcddxiiSSLAgDSIpXmlC4rNuNIVwDRWAJv7upAozctZocicTgsiph765WLUF5mh9kooSucjo7gODB3IQDIkoClzWV4Z3cn5jQobj+taFsgHMO7u7sQiSdRV+FAZ38IO/d24+Iz6tnnI7EELCYJvmAMgXAc7+3pwsImD4yyiGxXUDbB90d/eAdvfdgBDsDSOWXo6A0iGFGKMzVWO/H51U2YUXEYf3x2N8LROCKqwzZD3BtyjJPJFHNI6vOAw5E4WtsHcdGKWvaaKKbPN17g4FSdpVocibKsiL/JFNA7EIJcm3Y4lrpMCEcT6B1UpsZrmciS6tSOJ1M42hPAynnlqPRYkUgq10OX3uGbSKqO++ERKxqJZApHuv1Y1FwKT5EJkVgCR7r8+PmjyvT/Pl+Euca168SgxlVEYglIIo8Sh4nl4gJAV3/anTsUzQWqzQIwyyJ4nkM4msB7uzvx8vvKrA4t/iAaS2Y4fGM6h28gHEdnX4g9nOvzhfGrrR/gstPrEBkS6QAocR2a8A6MLvjGkym1WFxmpEMqlcoQfP2hGA62D8Ig8cr3mT8C+xARtcpjw3tqBvLQWIbDnT7sPTKIx57fi1Nml7Ec5Qq3FQ0Vdvzlxf14dUc7bGYJ37xiEb7wL/+LVz9oR3VlEboHwjh7USVqyuyoKVMyrEzqmOpnlIgCjzMXVeI3T+zCQCAKt1vJewcAqynz/reg0Y1PrZqBOXXFeOaNVkTjyXTRVFUwv/DUGejoDWL57DL87a3D6PdH0N4XRLnbygRjnuewoNENUeBxoG0QgsAjBbAHi3rKXOZhmfNWswHXb5iDliYPu3/XeG0QBQ4ftSrXjstuxEC/8n0XDMdhkHh8cUMLrCYJt121eNQiDi26qJ8Kt5Udn2SSIh2mGo2Njfj444+zvrdo0SJs3bp1SrxHEARBEARBnFhMmMN3//792LhxI1avXo2NGzfiwIEDw9r813/9F1asWIENGzZgw4YNuPvuu9l7oVAI3/zmN3HeeedhzZo1+Mc//jFRXR8z3hIzWtt96PeFs4qsDZVObDynEa9sb8Ovtu6ELxTN2m5ZcylCEUWoGsrTrx2At9iCz5zbiM+sngWPy4ybNi6ALPEocZpQZJOZWKhFOjh0gkAuFqpVv5fPLsWnzmhApceKunIHOI7DqgUV+Ki1D1tf2ocVLV7csmkRFuRwJo4Fnudgt8jMzTyzShFcGysdONA2iEAoxn6wtvUEMgS4Y6FULdyjCRuhcBx2swE2s2HESAdRVKIG9AJTIplCa4cfjWqfNXFdm7qvRU8U2YywmyV41B//pUVmlDiMbLwBoLG6CIFwHB29QSb4hqNx5vTTO3z9oRhaO3xoqMisQg8AZlkZH80Je7Q7wJYHAhEU2YyQDcp+aALNa7s6wHMcLtAJe9k4c3EV/u8/nca2+9jzezO2paFN2deyqo2yMg4uuxH3XL+SVZd32Y3oVmM7XtrRhgtPrYXHZYbVJDFHpyzxMMkiNp47E2ZZxEc6d6VWvEsTTbRzXhN+K1RR5Jk3WvF/f/tmRjZqJJaAURXkHRbDsGxpQHX4DhG4Vs4vhy8Yw38/sQsWowirWYJBFJi4faBtkImEQ6fmR2NJyKIAsyziYNsgegYjGdPEhzI0w7e1w4cX3j2CYDiOQDiOEocJFpOEQDiOnoEQc2A3VjmRSgGHuwKKw1cS2AOlbBm+Hx3sRe+gMmYh3bHce2QAyVQ6vxfIdPjyOofvJzqHr5bDDCiirz7SQbv+jnYF8O8PvYfHX9yHWq8dTqsMQeCQSCQRisRhMxtQ6VGO3+EuP4tkCITiSpSH5vDNkeHrC0QRT6TgdppYwbl7fvsW+nwRmGQB/b4Ic/hq90ZJFWujquBb4bGirSfAzivNjZ4tr7m9Vykuph1Ps0nJ8E0kU3jomd3wFJlQ4bawXOFoPDEsw1cvJOvH840P2vHc24dxqNPPoiBMssiOhdkojjnSQXFIZzp8g5E460OfL4IP9/cglQIWNJQglVKua8uQB25VZTZ1H7hhxQP3q8XFduztRs9ACO29QRTZZJiNEruHvLGrHbOqi1DiNKGlvgSv7erAftUhXjVktkGt1455DSXDIn3m1Cvi5m71vPOHYpAlge2fhkESsO7UGZBEQb2XJ4ZFKnmKzPj2Z5eizKVEOvT7ImjrDqDSY4XbaVKc30VmGCQBDRV2vPT+Uby2ow02s4SGyvyzTpfM8rDzGwAkUUCN1454IgmrSWLXjPYAb/nsMljH8N3nshtR67WD5zl4i83quESVDF+KdCAIgiAIgiCIac+ECb533nknNm3ahKeffhqbNm3C5s2bs7a7+OKL8dhjj+Gxxx7DnXfeyV7/5S9/CavVimeeeQb33Xcfbr/9dgQCI+fbThYVJRZV8I3kdNWev7QKq5fXYNuL+3C0O5Dh1tJoqi6Cyy7j+XcOZ7ze0RdEe08Qa5bX4LwlVezH7wyvHT/4xhm4/ZpTYJLFYZEOozl8AWDVggrctGkRljZ7UFfhwM++fQ6KbDJ7L5VSnKOXndOY/4DkgcNqgC8YgyTyrLL6TN2P50q3IthEoglY5OMzppeqP341V2ooGofRIMLtNA2LdBgIRJnAm3YUKoLI/75+EF/7/t8RiSWweJbi7NLEg4jqytayXwHFXbZkliJ0XnneTNy0aXGGO1cTjfe09jPBN5VKi8ea4NvVH8brO9uQSgENlcMFX4sp7fB96tUDuOOXr+POn7+Kjw/2onsgjLJiC2Q1miIQisMki+A4ZVr70KJDuagutYHj0oX2hhaJO9IVyBAVTIbsx8xlUzJS9x4ZQCoFrJqvTGu2miQ2ltr5zfMc6srtGdPp46rwp8UkDKVCdQJqER76DOpoLJlxfLLBcRgmsiye5YEsCRB4Dt+7fiUTlrTCSu09AXx0QHGtdvQGMxz60XgCksTDbJKwU50qXz+CSMQEOVXAe+yl/bAYRdxwuTLFvaxYEcd7BsKIxpPs+M1QxbRDHT4c6vCh2GFiY6Sfvu8PRvHTv+zATx55H6LAg+PA9gMA9hxSxnqGN7vgKwgcExr3HdEJvjqxEhgi+KpC2o693djfNohN5zfhx986UxlTgUcoEkc8kYLZKLLjd7jDzxzf/lAU8UQSosCN6PDVzs0iu8wE3wNtg/jchbNR7bGh3x/BgCb46h2+sQRz385vLEEymcLHqpDYpYrOWR2+PUGUFZvRoF7HZllizvZd+3uwcl45qj3WtMM3nnb4irwidGvr5bjMiAxNOA1HFTFalgRwHAenLT3tX4t0KLLJiCdyx1wAQDyRyohC0R4C9KmiP88BvYMRfHigFwLPYZEqYkfjyWEPRtadVodvbFyA8mILgqHM+8CBtkHwHIdUCnj+nSNo71WcsoDyEEG7/c1S82jPWFSJzr4Q/vjsbgAYlg3/2Qtn43tfXjlsfxoqnTAaBHzcqpyvvmCU3QdzIYnKuZMtUgkAE9QPtg8iEI6jutQGSRTgtMnwqt9HF62oRXd/CC9vP4q5M4qP2zlbX6GcO1rBNkBxAwPA2Ysqxry+85fVYPEsD7uH+YMxpFIghy9BEARBEARBnARMiODb09ODXbt2Ye3atQCAtWvXYteuXejt7R3lk2meeuopbNy4EQBQW1uLuXPn4oUXXhiX/h4v5SVW+IJRBLJMqddz0akzkFRdePr8RQ2e53DW4iq8uaudTZEHgJ1q1fSFs4a7a6tKbahXf/ymHb4xGESeFW0aCVHgcdbiqqzT+mvKbKgutWJJcykaq4qyfPrY0YSLmlIbE5RmlNuZSFWp++F/vA5fj+ow7FKzOUOROGSDgBKniYlKgOJ6vOknL+GVHcpUbHFIhu8jz+5GIpHCupW1WKM6YzXxgEU66ISuz18wC1+5dD4AYM4MF1oaSjL6Veu1QxR47D7Uh87eIDS9NBRRXL7dA2HUlStC3s8f3YFihxH1Izh8n32zFT/90/uoKLHio4N9uO1nr8BplbHh9DrV4ZtAIBxDhduCW69chC9d3JL3GJpkMeOY6EXCcDSO7v4QGirSIqExh0hfZJfRMxDCIdV5qwl8epFVL8rWldvR2j7IHMU9g2E4LHLOGArNGa7lkGqOzlRKyUs15hCiNQSeGzYd22gQceuVi/CfN53JrgO9kzCVSufhplLpok6AIt4bRF6JKAnFwAHDcj/1sEiHRBJ9vjDe3dONtavqcN6yGtx1zVKcvaQKFpPE4gSKVaHI7TTBapLw4cE+fHK4HwtmulnsRUwn+G59cR/e+rgLosBhw+l1MBlEBHQO3z2t/ShxmjIeSOn3lec4WE0SRIFDKJJg97uj3QHoJSV9hq/LboQk8njmjVYASiwFywfmOXaMzLIIm9kAh9WATw73M7FVKxinj1j52aM7M4p2Aek8Z6dVhqfIjGK7jEvPasAlZzXAZjEwh68k8uwcUzJ8k8zhO6vGBYMkYJcaO8EcvjkiHSrcNnY8LarDF1DOg/mNbpSXWNAzEEYwHBtStE1z+CrHptJtxXu7u5i7XysSF2FitDKe2n3TbBThtCljX+YyM4fv2x93YXfr8LzhRDIFQeDYvVY7J/pUkby6zI5+fwR7WvtRW25nrmwAwxy+3hILzj2lBiY589wBgINtg6j0WDCz2oknX9mPI10Bdk0aDSJq1fvZrGpF6DxtfjlqSm3Y/kk3PC4zy3cfDVHgMavWxYR5fzDG7oO5MEgCYvFE1kglQHH3O60G7FAzdbWs9E3nzsRnzmsCAMyuLWL59i31mcUzjwXtAZ6W/Q4oou2Nn1mE6tKRIxyysW5VHTZfu5y5hLWHaCT4EgRBEARBEMT0Z0IyfNva2lBaWgpB0H7cCvB4PGhra4PLlfkj6YknnsBLL70Et9uNr3/961i4cCEA4OjRo6ioSDtcvF4v2ttHrgg+lOJi6+iNCsDs+hLg2T0AgIrStJijz9xzu20oSaXgLbagrSfAXHJD21xyViP++uoBPPbKQSyYrRSJ2X1kAGXFZpSXZO6P/rMOmxH9apX1eFJx93IcN2z9uT6fbZnjOPz7N85gPxZHaz+WZW1K9Wxd7mBluRP1lU58fLAPLTM9wF+VjLsSnfhwLNtKpVKQDQKCUUXkCEXiKLIZMau2CG/sasdgJIGSVAq/2bYLqZQiegFAqVspiBMMxxDjOLT3BHH9p1pw0Wl1SKVSMIg84qrMxSIddGLlaP0TBR5z64rx3NtKbmSF24ojXX5lervViGgsgWVzy7Dv6ACC4Ti+ecVCVJY7h63HpP64/8fbh+G0yvjJzWfhPx56F8+9cxh3fOEUWM0GGHWRDhaThJULq8Y8jg2VThzu9MNTZGYCrNttY3EGy1rKsVvNda30OrKup8brQDzRip37euC0ykxcLXWnz+3SknT7RbPL8PjLB/DJ4X4017pwpMuP5XPLUKq7zrS8Z0ApRAgo07IBpI9PLIGU7vjk2s+vXbYQxU7jsNeXtJRntNeEOy3Lub0nCG+JBW3dARxsH4TDKoM3iEqGr9kArR5XZamVieHZ+iCJynpj8QQOquPaUq88KFg8t1zdX4kVZ3I5jOyzdRUOvLO7S5mSP9PNthmPJ+F22xCOxLH1pX04ZXYZ7rh2GQDghfeOMPHe7bbhaLcf1WW2jL5lOHx5Dh6PHUV2I7r6QihT3fODgSi8JRZ09gURT6Tg0l2zpR47yootONThg8UoYoYq+rndNggCz0Qpsyr6L20uw6s7jiISS2YcW4fdBF84jq4+JQLFZJKwfK6X9VVz+DptMkSBx6/uWM3uXWXFFnx4sA8D/ggcVpkJzkUOE5LJFIKROMxGZVr9nBkufKyex919mZEO2rYSyRQ6+0M4Za4XzbUu1JU7UK9eH9o4zakrVtzVz+/DoQ4fkqn0+WezyojFU4jFFaF53ao6/PTP2/H6B+1YNqeMXVOSWmzRIAlwu20sTsNTbMGyOV5cszaKYCSGDw/2IZlM4ZHn98JTZMK/ffU0dPtjeOmDT2A0COAFDmKS18V8KPujXR9NNUU40DaIj1t7ceaiKtTXpr+nS3XfO0O/c7RZCNrrB9oGsGCmB2csrMSP/vAOQpE4arw21mZJcymisQRampQZEmajhJ/ccjaOdvsh8jzcrvzv9XPri/HgU10Y8CvZw06daJqtvZa1HE2m2AONYd9LNhl71WNfrUZXrDmtjrXxeOz4wro5+NXWD3DWKbV59zXXsub21xy+2utDC62Odf01lcqDKe1hijb7YrQcYIIgCIIgCIIgTlwmLNIhH6644go8++yz2Lp1K6699lp89atfRV/fcHfSsdLT40dXl2/c/1l0bjY+mXbT6YuHdXX5wHEcVs5TRFzNGTe0jd1iwOXnNuGtDzvwwb4exOJJbN/TzbJfh7Zn20UqnTvZm3YQ52o/0nv6Zf9giLlW82mf77ImXJQ5jRmvz60rBs8BZoFjjldeV73+WLbFcRw8RWa0tik/5EPhOHikcMHKGbAYRfzuiV14dUcbc4W29SjRIYMDQZS6lHzmbWp27cJZHrZOu1VGZ7ci8ERiCQg8lyGO5dO/tStqmFDlVae+hyJx7N6nuMyUAkY2nDqvHCtayrOuR3NA+4JRzK0vRm9vAN+4YiF+esvZqChS1ilLIgKhKPyq4Hss43jZOUoshcsmM5Gwq8vH3Og1bgubsh30h7OuR7tUdu7thqcoHSfB6a6bUDAdw+BS83Q/PtiH7R91IJlModZrR19v2kWriSZG1bWtp03dtibIa673XPtZVWxCTZl91LHQXK8VJRbmpptfXwxR4PHy9qO4+xevYeuL+xRnaCoFizotvqLYknOdQNpNG40l0aq6oDXhaejxBoBih5G9PqPcgWRKcX/OrC6CX30AlEim0NXlw9OvH4QvGMO5i9MP0gwin75vdPnQPRBWok70x0zv8OU5dHX5WHawRRZZBIzdLDHhKqaL/Ojq8qFcjVhoqEgXHezq8kEUMh2+ADCryoFAOI54IomKkvR4RcJRyJIAVetmgrjWV03kd9qUPvT0pM8RiVcKWPUOhGGW0w9lohEtBifKHMoLZrpxqMOHnoHQsKJt2rZa2wcRiydR4bbCYZVx+2cXo6bMzhy+TTVFMMkirOoJf6jDh1A4zu6lsaiyf5GY4gBfUOdChduK32zbhQ92d6avr16lAKFBFDLum8m4UgzwkrMaEFcjROKJJELhGD460IvBQBR3PvAKfrX1A/z0z9vxyaH+jKJtu/b34ru/fA17VTew5lwPRRKYWe1ENBRlsy1SurgI/XkhcCnm8O3q8mHAH0HvYARuu4xFszz49ebzcdvVi7FmeS1rc+XqWfivfz4L3d3+jHWWlygF0sZyX5ozQ83xbe2DPxiFYZR7r0HkkUwBHT0B9sAx1/eSSRbZOT60zaxaF+79+iqEctzjxrJc67XDIPEoc1mOaz1Dl32DIfBcWvDVvksn4u+hri5fxrVHEARBEARBEMTEMCGCr9frRUdHBxLqD8VEIoHOzk54vd6Mdm63G5KkiBennnoqvF4v9uxRnLLl5eU4cuQIa9vW1oaysrKJ6P6YcVoNTITRF9LJxooWr9oud0G11ctrAAAfHejFoQ4fIrEEWupKcrYHlOmymkjgD8VgH6Ufk402NXnGkOntnz67Ed/98kpFLFHH1Gw8fmN6qcucLtoWUTJ8rSYJa1fV4e3dXfi3/34TFW4raspsrPCYJPJYe9oMxBJJPPHqwWEua4fVwCq+R6KJjNzSfKkrt+OsxZUAlGndWv+07NkSpxH/5+rFuPnqJTnXYdbFJ2ixEaLAsynJADKKtlmyFCvLh6pSG85cVJkRHwKkC7Z5i83MjZ0rK9elinHhaALlxfpp49kjHawmCRVuKz460IcjXYoQX+O1g+M4JhzOKHeAg/IQZWgcg08VPMJDBN/jRRNB3U4Tm9Jf7bGi0mNlRRf7/REm1pnVfNHRpmmzSId4Eq0dPlhNEhOhNPSCr0uX/VmnRmq01Jdk5BzH4kpRtD89uwct9SUZhf9Mssjc2vFEEv2+yLBc56EOX/12nVaZibxOm8wiJgxS5leNNq2/qTozGkYQeHaMNIfvnFoXDOo4VHkyncaS7ho73OnPKFbW74tAFPhhEQRA+gFba4cv4xzR+ukLxtg25zcq+bVvfdjBCtsNjXR4+JndkCUBy+Zkficx8V9dR4nTCFHgcajDj2hcF+nAc4gnkoipub6iwONzF83GkS4//udvu9n6wtEEIlkiHfTXi77QXzSeRDyRwoNPfYhQJIHrLp4LAAiE4xmRDi+9fwRv7urAC+8fhcNqYE5tQCkmyXMcO6657hdGWcyIdtFcydp9TBR4NFQ4Mu6L/JCHYseDlg3c2ReCLxgb9XtCc8+3dvgy9leP9r1cXmJmLvDxxCAJuPPzS/GpM+sLul6e42DR5aILFOlAEARBEARBENOeCRF8i4uL0dzcjG3btgEAtm3bhubm5mFxDh0dHWz5ww8/xJEjRzBjxgwAwJo1a/Dwww8DAA4cOIAdO3Zg1apVE9H9McNxHBNyRssgnFldhM+ubsIZiypztrGYJFiMIjp6g2hX3aZa0ZhcZGT4BmN5FWybTM5eUoWvfnp+hssTUArWaGKJVrzmeDN8ASXnsksVfMPROBP+Npxej7kzXLhqzSz8+w2rWHVzQBEsKj02rGjxIplKMZe1hsMip4u2xRLDRK58uXb9XFx1wSzMVqdRZwq+JsWZN8IPdrNufLTp/0NhRdvCseMeT71ICABt3QE4bTJMsogylxkmWchZFb5IN+26TOd2tZl1gu8Q4XxeQwm2f9KFfW2DEAWOiYdaRq3LLsNpk2G3GGA2imzbdouBOdzCrKheYVJtDKp45HaaWERBpcfK3MEA4AvElPxVkWeiWU3pyDEz+gzfg22DqCixDBOetOJUNrOUIaZpTudFata3Nj7xRBJPv9GKfn8En187O2NdJt2DIs0hW+IwZrTRC3T8EMHXYTWw5SKrzMTiocewSt3v5ppMwVfkORaXoD24kA0C5qtFwyo96XNEyfBV+uIpMiGRTGVknff5wnBYpKxCnXZf7h0Mw6Y7/7Xx9oeikCQtS9wBh8WAv752kLXTF4r75FA/Xt5+FKtPqWICLNtPjw3NNUU4U72/CzyPSo8VrR0+RONJNi5ahm8klmAi9vK5ZWiudWHnvl5wnDLWkWgiQyjWtmfSiZui7iGBJkz/9bUDsBhFXLhyBvsuUB4CKG21ByD+UAzFdhNzxitZ3cp3mWsUwdes3ge03GEm+HomJkrJaZUh8By6+oLwh2KwjvIgS8uVDkcTmJPjAar2cEXvLB9vvMWWYYXxCoHVlL7/UYYvQRAEQRAEQUx/JizS4a677sKDDz6I1atX48EHH8Tdd98NALjuuuuwY8cOAMAPf/hDrF27FuvXr8ftt9+Oe++9dW47jAAAIABJREFUF2638kP/2muvxeDgIM477zx8+ctfxne/+11YrRPzQ/JY0KZd2y0j/3DjOA5nLqzIcOZlo8RpUgVfZUqxXhzLhkkWEY4mkEim4AvFRnQQTwWKHSZcsKJ2RBeVJtJkc+yNFY/LjFAkDl8wilAkwQRfm9mAmzYuwMbzmmA1G1CiczdqYtBl58yEKHA4VZfjCgB2qwG+YNrhK4vH5h51WGVsPLeJiTihSBy9vjB4nmPT00fCICqCcJFNzim2aA8EItFERoG0Y0EvEgJKYStNuK+rcMBdlN09BwA2k8REO724rhehh4qFK+d5EY4m8NKONlR60kX+NAerzWxAfYVDcfpyHCwmEQLPYfYMFwZ0xwcooMNXSguPK+d5sajJgzKXGY3VTogCj1KXGYOBCCKxOCSRh1UVtKtGdfgKrL+tHT6UZ3nQox2/ofeQmjI7bvnMQpy/TJkhIKoiT58vjL++0YrT5pdj5hCHrUkW2LHsVQXf4iGxGKKYvka1YnmacO+0yizSwWmT4XJoDt/McT5jUSXu/OJy1JRl7r+gE5P1ote5S6vhKTKhViegiwLHxn3NKdUA0iIjoAjWuR506V+36h4uaMK94vBVlnmew/yGYnyiFgQDgGhcOX/6/RH88A9vw2Y2YLXaBz0Wk4SbP7OQuU8BZdr+viP9iOmcuqLAIZVS7xvqaxzH4Qvr5gBQCoFajCLC0TiisQS7JjSHvF7cTIu4cZbbnEoBi5vcEAWeHXNR4FikA5C+v7kcRubMbqxysodLxeqx1B4wDMVoEJBIpphg394TgNkoZhT8G0949Z53tFuJvRjV4as7J1vqi7O20QT18lG+b08ELCZxWIYvQRAEQRAEQRDTlwkp2gYA9fX1eOSRR4a9/sADD7Dle+65J+fnzWYzfvzjH49L38aDi06dgQq3lQk2x4vbYURbbwDtvWZYjOKoIp0mZPmDUYQi8Snv8M0HTZg51ggCPVoRHC0X1ZjD6elWM4U5Lj0NtqHSiZ9883RU6AqmAZrDVxEUw9H4MTt8NUzqMQxF4ugbjMBlN+Y1FZfjOFhNEloaSnIK6LJBYK6+43WTGWUBwUicOfu6+kIs1uCqC5qx8dyZCAUiWT/LcRyKnSa0dQfg1RUm0rsuh8ZBzK0vgc1sgC8YZdsB0uKj1WzAVzbMgcejvGcxSnDaZJQ4TXh/j5KFnBZ8C3ML1Ec6zGtwY16DG11dPly4cgZWtHhx35/ex9GegDIdXxRwwYpa1Fc4R72OrSYJxXYj/vrqAQTD8axOQ+16GBq9AACzaoqYAKiJe63tPkRjSZy9pGpYeyUKRjmHNVd58RCHrzTU4ZsAEwidVgNEdUyLrDJkWRH/hor2kihgSXPpsBxxUSdA6gW7lfPKsXJeOT7Z361ry2P+jGIc7vRj5dwy/P5vu3GwbRBzqhSHdb8/knOGhf5+mBHpoB7HZDLFlgFgfkMJXni/DYByTKKxBGLxBL7/h3fR54tg8xeXs7ze0WisduK5dw4DSI+LdowCoViGOD6r1oU1p1TD67Fi28v74Q/FkEqlBfRlc8tww+ULUK1zimvHx6/Gy2jO9qWzlMJoTTVFeOvDjgyHLwCsPa0Oj7+wF+4iE4yyiEq3BUuaS9n72vk1ksMXAILqdn2BiZ9ZUmw34sBRRfQf7cGgdnwdVgO8ORy8LNJhlBk1JwJWkwGdfcoDY3L4EgRBEARBEMT0Z8IE35ONGeWKw3CooHGslDhNeO+THrR1B4YVosqGJvh29Co/8CbKZTWe2AoY6eBRxcUDR5XCbbmcnh51rCWBzxBPs+XzOqwGRGIJhKPxY87w1WNkgm8Cvb7IsKn1I/H1S+ehcUZ21xqQKcAVItIhmUwhEksglUqheyDEhCJZEiBLQk7BF1BE0p6BMHODKn1Sbk0chwzhDVDEseVzy/DMG62o0Qm+kqg5fDOn8bfUFaPEZYYgcAhFFIdkOtKhMA9k9JEOeiSRh6fIDKtZwmBrVMnwlXgUO0xY0WIa9f7A8xzOW1qFh55VssyzCr45HL5D0cS9PjWHNpsYZ1LFeyAt+JY4TBlF94Zm+KYSSnyExSShosSKbtVFWGSXYVGTD0x5jnOmw3f415N5SHTBrBoXZtW40NXlQ6XHNszhW5VDqMsQfPWRDrqHNPridLNrXJBEHrF4EmUuM6KxJNq6A2jrCeKfPj0fLfUled/r9bnF2vmnua+DkTg7lzQuP7sBbrcNf3vzEHugpN1bDJKA85bVZGxbi3QIqMLrulV1MMsii89oYg7fzGiY+Y0lmFluw6x6ZVbNd69dBrc77cBuqHSgyCbndM4aNcE3EocBStHIiRZ8XXYZH6tO7NHua9oYNlU5cz4YWzjTjfNOqUZjhTPr+ycSFrOEwcMU6UAQBEEQBEEQJwsTFulAHB9uhxHxRBK7W/uGiUrZ0NxmWuav3TK1Ix3yQXP4FqJomxaJsffIyIKvNtaSOPqloo3xoD+qZPjm8ZmRkHUO315fZNjU+pGoK7ePKAAOLYR2PDAncjiOQFgRu/N5KKGxYKYbK1u8GdOMBZ6HxSRBloSsYsyqBRUAgMbKtBCjiYW2ISLTZ85txKbVs+C0KuPR748wd3OhBN8FM904d2k1c4QPxWqU4A/FEIsn8zqX9Kya52VuxQr38IgOTdga6sQdiibU9voU8XboOAFKPEckmkAikUSvLwyTLAy73kRxiMMXygOuh/7lQhQ7jDhldhm+fvkCzPDasaLFi3++cjHK88xAFXkt4oDPOjtCEgU2fno3MKBEWHywrxvf+PGLePKV/Rjw5450kCUBJlmLcRke6TB0WTYImN/ohlMVPKPxBDuHRhPah1JX4WDHwqDL8AUUd2yumQFmWWSCrzzC7AFtXDTBt8RhwvrT69mxatQJvvpih7VeO5qqi3Jeu2ctrsJ/37k6Z5E17TtH2+5gIDKsaOJ4oz8Wo31PMMF3SKyJniK7ETdsXFiw+8RkUl5iYa5vinQgCIIgCIIgiOkPCb4nCNqP8GA4nlNU0qMJmIc6lCJGYxUlpiJup1IAzJzn1OmRsJok2C0GfHJYcYPl+kHvtMpqVujoP/gdVkXcGAhE1KJtxycSCLxSlEop2hbOS+jPl0I6fPXOvt5BRUx0F+Xf18vOmYlvXbl42Ot2s4GteygLmzy465qlmNeYLrakiYW5RCYtW7bfF0FEdfgWKtJhRrkD37hiIYuVGIrVLLE81bGeFyZZxKVnN6KpuiirOK+JmiNlJQPpSJJ+9RhlGydNtNMKBRY7TMMEd2mIw3coBknA+ctqwHMcJFHAGYsqR8zmzuijKlaa5dxjpJ2v0hDhcU6dC5FoArF4Eo+/sA/J1MhFM7Xp+tYsRduATLcvAFx/yTx853NLYRB5RGOJdCzICH3NhiQKqKtQnOmaqKztdzASzxkDZJQF+EKKQ3Okc0gSMh2+Q+M0rCYJp83zoqWhhG3bapJG/Y7gOG7E46jdl0NqBvRgMJb1ocJ4ot+H0aJ/6iocWNDoxsLG7AXbphsbz2vCdRfPRUOFY1h2N0EQBEEQBEEQ0w+KdDhB0E/nz0f404Ss/WpkQWnxyGLQicBFpyl5qGIqWZD1eV1m7GEO3+yXAs9z8BSZEUuMvk2H6vAd8EcRiSZQVIBCeSajiK6+IKKxZNaM1mNF1u3vcUc6qOsKhmPoVeMCCiFO2y0GpJDK+X51qS1DgBJ1kQ79kdiw9pogr3f4Fqpo22jkEhXz5bJzZuKyc2ZmjQ0odphw82cWYvn8ihHXoTk/+/0RcMguiGniZTCsCL4lWc65bA7fQqG5R3MJ/YDS735fJCP+AQBWL6/FWYur8JutO/HEqwcBZI+t0HBaZbT3BLNm+A5dBpTc71KXGZLIIxpLInQcDw1mVhdhd2u/LtJBdfiG48MEWg2TLMKvRTqMkA3P8oDDWvzD8PPtCxc2s7gGgedR47XnLcrnQruWlO0a4QtMfKRDsT19zx0tw9dlN+J7168sWOzSVEeWBKxfVY8VszwZUR0EQRAEQRAEQUxPyOF7gjB2wVf58X2gbRCSyDN344mMLAk5i+scC95iM5JJRVAcSfgrK7YMcxNmQ4ucCIRiiMQSI067zheTLOJwp+LSLsnD2Z0vekfz8RbBM+lEwh7N4VsAwdflMMI6hinhAs/DaBByOiSdNmX8BnyFj3QYDX1O7PFGfWSjuaZoVOew5j6OJ1IwG8WsYi0T7zWHb5ZzbmiGbyHRnK4jFUCz5nD48jwHoyxi7gwXe22k7HKnek+0mvUZvukxzCXMS6KgOHwjx/7QQIsRSBdtU/Y7GksMcxZrGGURCfV+NVJBSE2Q16bvj3ZeFNuNaKk/fpcrK9oWjiGeSCrFQic60sGmzwE//qx3giAIgiAIgiCIExVy+J4gSKIAl92I3sH8pvZrgklHbxBlLvNxu7emI1qOLzCyaPPpsxvR5wvnfF9DE478oRjCkeOPdACGCL4FdfjqIx1EBHzxY16XkTl84+j1hSEKHBxWGT1ZXLZj4Yvr5yISS+TdXhS4EQViTeDr9yuRGxyGT3cfLyym7DmxEwnPc+B5DslkKmdus3bf8AWjGPBHszt8dUJrobNANafrSEXetLEUhOzbrq9wwCSLiuA4ouBrBMcp+coamQ7f7H2QRB7ReJIV/jsWh+/i5lIsaXKjsVrJoNaP6UgOX9a3MUQ6jHYf2vz5JfB47CO2yQcW7RKOM7F54iMdlGuc40Z+aEAQBEEQBEEQBDHdoV9EJxBlxWb0+yNw5eHW1QuYhXSGTie8upiLkUQbLetytKm/VpMibvhDStE2uQDCntEgIhZX4iTGUghtNDRRiVeFkcBxzGrWHL6hiBLpUOI0FWSqv8elHJ98p1wLAj+io1CWBBgNAvp9EfA8B0OOgnDjQYbDtwDO72NFFHhEk4mc7kct0uFolx/JVCproUC98zWX6Hqs5OPwzZXhqyEKPOY3luC1ne0jOnxPm18Oo0HIOFf1gm8uh6+W4atFOhyLS9xmNuCrn2pBkepI1Y9jru2aDPkJvppb2J8jw3d4e74gTm3tPhDQC74T7PA1ySJMsuJep8JkBEEQBEEQBEGczJDgewJRV+5AKBLPWSVdj17AdBfQGTqd8Lr0gu/xi7OSyMMg8fAHY4jGEgUR9kxqDiXHoaCxHNr+mo3S8Wd36px9vYPhggrTY8FTZMZou2K3GNDvi8BikiZUeLVkZPhOjsMXUMTAaAy5Hb7qfeNguyKy66Nk9OvQKLjDV7235SP4jiQ2rz2tDmajNOJ65je6Mb/RnfFAQX9sckc68IjFkwirkQ6FcJLm4/DV5xqPJOKySIdg7gzf8UDgecgGAcFwjG17ojN8OY5DidOEWDz/mQEEQRAEQRAEQRDTERJ8TyCuWTcHsXgSQf/o8QKSyEMUeMQTSXL45sDlMCpuvXiyYFmuFqOE3gHl+BQq0gFQCkwNLVJ1PGhF2wqRc2nSRzoMRjCvcXIKAt20adGobewWA/r9EQgCN2FxDoAisIsCh3giNS4ZvvmiCYu5Clpp59uu/T0AgOqy4VP9MyIdxivDdwTHvdb3kXK1s4m5+SAKHDgOSKVyX7+aEOwLRsFxx1aEbyh6h22uBwKZkQ65tznWSIdCYjGKGZEOEy34AkoxR18wOuHbJQiCIAiCIAiCmEqQ4HsCYZAEGCQhL8EXAMxGEYOB7DmchOJOLHdb0d4TKJhT0SyLrHBZIYQ9TfjKJ8ZjLGhiZyEEX+3hgj8UQ58vMmkO33yc7w6zAZ0DYVhM0oQKvhzHwW4xoHcwkrMo10TABN+cGb7KmOw/MgCLUYSnKHekA8+h4JEYLMPXOHqGrzgOwjnHKVEfkWhixKJtADAYiEIuUCyI/tzNJeZqx0ZpIwDJ5IjrCoTzi3QoJCZZUhy+4XSkQyp27Pngx8LXLl+AZDKFSDAyodslCIIgCIIgCIKYSkye8kCMO5ojLNu0bEKhqtRW0GruZqOInoEQgAI5fFU3YyHjHIB07miuqf1jxWwUsf/oAJKpFEpdltE/MEnY1EiHSLQwRfXGtG01z3SyirYBaZFUX6hMjyJgAskUUOWxZhUzNUGx0O5eID+H7xkLK3HN2jmw5NiH40U7Prke2GivDwaiBZsZoI+nyHVemvKNdBji8C1UH/PBYlIdvsHJKdoGKPe0yXAWEwRBEARBEARBTCXI4TuNMatioXuSHJcnAletmYWu/lDB1mcxSjig5p8WJMNX1gTfwor2hXT4Asq59sE+JQZgVk1RQdY5HtjNEnzBKALhGOQJdtraLTIA36QWbZNUYTHXcec4DmZZRCAcR3Vp9mgOTTTm+cLvhyZWGkfIxfW4zLjkrIYxxzXkiyzx8CG3MM8iHVSHbyEQeb3Dd/QMX0kSEI/EcvRPOcaTEelg1hy+oRhkgzCh7mKCIAiCIAiCIAgiDTl8pzFaxfJceZ0EUO62Yn6ju2DrMxtFxOLKVOtCiB2a4Ouyj4/Dt1AuSbMsIRZPwiyLqMohFE4FHKrzr7M3OOFilM2ijPVkOnwFFumQ+55gUs+JmhzHUcuILWCkNIM5fOXJGyNNIB2paBuQjnQoBPpCeLkeRGQ6fHMPvnaMw9EEeI7LK+qkUJhNysOCQCjGHO0EQRAEQRAEQRDExEOC7zSmyGZEZY5p2cT4YDbqCysVQPBVhdlCRzqIgpK7WyiHrxY9UV/hGJep/oVCm+rd54tMeKSD4vAtTJGvY0UT/0aK8tDO4epS64jrGBeHr5bhO0Kkw3ijnRe5nNhpwTdSsLgEvSibs2ibOiYcN3JetSLyKtfgROdFaw5fXygGOwm+BEEQBEEQBEEQkwZZP6cxX/5UC2KJJBBPTHZXThr0jlm5AE5OTUh1FTjSAQCuvagZi+aUFWRdmkjYUOkoyPrGC32254Q7fM2aw3cyIx1Uh+8Izm6LUYJB5FFWbM76Pot0GIcHSZo71TRCpMN4I4/i8NUc2oFwvGDnkMDrHb65Ih00IXr0QnGSyCOeSEz4uWY2iQiGYwiEYuwBB0EQBEEQBEEQBDHxkOA7jSmyKyLheGVdEsPJdPgev9jSUu/GmYsrc7otj4dls0vhLinMes2yIiA2VpDgm4uzFlfBapIm3FmshxVtG8HhW+oyQ5YECDkcvJq7VF9orGD9Y5EOU8DhO0qGL1C4c0jIcPiOHOmQTySIKAgAJl7wrS2zIxRJ4EC7DyvnTd1oF4IgCIIgCIIgiOkOCb4EUUAsBY50cBeZ8K1Ni6e8aG82iRB4DjPK7ZPdlRHRTzM3GCZWDKsqtaGq1Dapx1ITVEcSfL92+QKkkin4BrMXM9TWMR4OXy3OwDypgi+v9mXkSAegcIKvPsM3131DE3zzKTao9TFXPMR4cebiKjz8t93o6A0yRztBEARBEARBEAQx8ZDgSxAFxKybKj+ZU/cnmrWnzkBLfcmEu2bHitEgwCDyiMaTU76v44Eg8BB4DsYRsme1ccklS2si4ng4fFfO8wIAih2FjzDJl3wzfAGMS4Zvru3KaoZvPg+StD5O9D1IEnlcuWYWfvj7d2CzUIYvQRAEQRAEQRDEZHHyKFIEMQEU2uF7olBdZseqBRWT3Y1R4TgOTrUA3sko+EoCD5vZcFyFHMfT4WszG7B6eU3B1zsWlDgLLmekhV5ENU6gw1fgORgkfmyC7ySc46cvrMQFy6tx2vypfz8gCIIgCIIgCIKYrpDgSxAFRO/wzWfqNTHxnMyCr9Usodh5fO5ZjuNUQbTwgu9UwCAJIwql+piEQuR0A8gQl0fK6DVKQl7nbTrSYeLvQQLP4bIzG1DrndrxLgRBEARBEARBENMZinQgiAKiOXx5LnOaNjF1cFoVwbNQYt2JxDVr5yASSwDxxHGtRxR48NNU8J1T50IoEs/5/nhEOvA8B54DkinlvExGk1nbGQ0ipDFk+J5MsTIEQRAEQRAEQRBEGhJ8CaKAaIKvbBCOa9o8MX6czA5fh1XZ9+MtHCcK09fhe/aSapy9pDrnGEnjEOkAKCJ6NJ6EQRIQjmYXnE2yCKNh9K9tzYUsnYTnOEEQBEEQBEEQBEGCL0EUFElUioLJEl1aU5WTWfAtFMI0dviOhl7wLWRGrijqBN8cba44pwFlntGjEiSBHL4EQRAEQRAEQRAnM6RKEUSBsZoliCPkcBKTi1N1uZ5MRfUKzXR2+I4Gz3EQBR7xRLKgDw20CBhphCiYpuoiuN220ddFkQ4EQRAEQRAEQRAnNST4EkSBsZgMk90FYgSKHUqGr9lIt79jZTpn+OaDLCmCr7FAGb6AMqaSWJhxTRdto4caBEEQBEEQBEEQJyNk/yGIAmM1SQUr5kQUnmVzynD7NaegosQy2V05YREFHgJ/8n59aNm4hY50KNT6WNG2k7AwIUEQBEEQBEEQBEEOX4IoOBedOgOxeGKyu0HkQBB4LJvrPe7CZSczIs+d1A5fTZgtaKQDzxUsgkGiSAeCIAiCIAiCIIiTGhJ8CaLAnLGoEgBIUCSmLYLAn7QZvkBaSC1opIPIw5AslMNXyPgvQRAEQRAEQRAEcXIxYYLv/v37ceutt6K/vx9OpxP33HMPamtrM9ps2bIFTz75JHiehyRJuPHGG7Fq1SoAwK233opXXnkFRUVFAIA1a9bgK1/5ykR1nyAIglBpqnbCYTdOdjcmDcN4RDoIPFJSqiDrokgHgiAIgiAIgiCIk5sJE3zvvPNObNq0CRs2bMBjjz2GzZs347e//W1Gm3nz5uELX/gCTCYTPvroI1x11VV46aWXYDQqwsKXvvQlXHXVVRPVZYIgCCILl5/VALfbNtndmDQ0h28hIx0kgQdXINO0JGhF20jwJQiCIAiCIAiCOBmZkF+DPT092LVrF9auXQsAWLt2LXbt2oXe3t6MdqtWrYLJZAIANDU1IZVKob+/fyK6SBAEQRB5wTJ8DYX7ChVFHoYCRTCkM3wp0oEgCIIgCIIgCOJkZEIcvm1tbSgtLYUgKD8+BUGAx+NBW1sbXC5X1s88+uijqK6uRllZGXvt17/+NR5++GFUVVXhW9/6Furr68fUj+Ji67HvxDGid8FN5eWp0o/pujxV+nEyLE+VfkzX5anSj8lcNkgCJJFHWamjYOtct6oOSBVmXZrgW1JsKVj/puPyVOnHVFgmCIIgCIIgCGJ6MSXne77xxhv4z//8T/zgBz9gr91444145plnsHXrVpx//vn44he/iEQiMab19vT40dXlm5B/GifK8lTpx3Rdnir9OBmWp0o/puvyVOnHZC4bJB5Gg1DQdZ46rxynzi8vyLo0wTcUjBSsf9Nxear0YzKXJ+JfT48fBEEQBEEQBEFMLBMi+Hq9XnR0dDCBNpFIoLOzE16vd1jbd999FzfffDO2bNmCuro69nppaSl4XunuxRdfjGAwiPb29onoPkEQBEEwLEYJVrNhsruRE5EiHQiCIAiCIAiCIE5qJkTwLS4uRnNzM7Zt2wYA2LZtG5qbm4fFOWzfvh033ngjfvzjH2POnDkZ73V0dLDlF198ETzPo7S0dPw7TxAEQRA6rji/CbdcvWSyu5ETSRV6qWgbQRAEQRAEQRDEycmEZPgCwF133YVbb70VP/3pT2G323HPPfcAAK677jrccMMNaGlpwd13341wOIzNmzezz917771oamrCt7/9bfT09IDjOFitVvzsZz+DKE5Y9wmCIAgCAOApMsNTZB4WDzBVkATV4SuRw5cgCIIgCIIgCOJkZMIU0/r6ejzyyCPDXn/ggQfY8p///Oecn//Nb34zHt0iCIIgiGnF7DoXVrR44XEaJ7srBEEQBEEQBEEQxCRA8z0JgiAIYhpRXmLFbZ8/hUU7EARBEARBEARBECcXJPgSBEEQBEEQBEEQBEEQBEFME0jwJQiCIAiCIAiCIAiCIAiCmCaQ4EsQBEEQBEEQBEEQBEEQBDFNIMGXIAiCIAiCIAiCIAiCIAhimkCCL0EQBEEQBEEQBEEQBEEQxDSBBF+CIAiCIAiCIAiCIAiCIIhpAgm+BEEQBEEQBEEQBEEQBEEQ0wQSfAmCIAiCIAiCIAiCIAiCIKYJJPgSBEEQBEEQBEEQBEEQBEFME0jwJQiCIAiCIAgC+/fvx8aNG7F69Wps3LgRBw4cmOwuEQRBEARBEMcACb4EQRAEQRAEQeDOO+/Epk2b8PTTT2PTpk3YvHnzZHeJIAiCIAiCOAbEye7ARMLz3KRucyovT5V+TNflqdKPk2F5qvRjui5PlX5M1+Wp0o+TYXmq9GMqLI8nE7Ud4vjp6enBrl278Otf/xoAsHbtWnzve99Db28vXC5X3uvhbZaR31fPCd5mHX1drK0977aCzZFnu9H3SWsr2jx5t5VGaau1M4xhnbI1/7bGUdpq7UxjWKd5DG0t1tKCtNO3tVryb2sbpa3Wzj6GdTrM+bctGqWt/p5YnGdbj8md9/Y95pHPa/32PWZnnusc+ZrKbDvytZq5fVue68z/XjG2tvndq0Zrl9nWPIa2poK0y2xrzLut2yzn2c4whnVKY2g7shSltXOZhbzX6RhDW5t5ZO8ju1eN0k7f1jyGtkZLftsHADnPtgZr/tuXRmmr375oy6+tYM9//AV7fsdfaTvyecX+VrDnf67ytvzO/7G05W35X3+8Lf/rmreNfl/JBZdKpVLH/GmCIAiCIAiCIE54du7ciW9/+9t44okn2GsXXnghvv/972POnDmT2DOCIAiCIAhirFCkA0EQBEEQBEEQBEEQBEEQxDSBBF+CIAiCIAiCOMnxer3o6OhAIpEAACQSCXR2dsLr9U5yzwiCIAiCIIixQoIvQRAEQRAEQZzkFBcXo7m5Gdu2bQMAbNu2Dc3NzWPK7yUIgiAIgiCmBpThSxAEQRAEQRAE9u7di1tvvRWDg4Ow2+245557UFdXN9ndIgiCIAiCIMYICb4EQRAEQRAEQRAEQRAEQRDTBIp0IAiCIAiCIAiCIAiCIAitDinRAAAgAElEQVSCmCaQ4EsQBEEQBEEQBEEQBEEQBDFNIMGXIAiCIAiCIAiCIAiCIAhimkCCL0EQBEEQBEEQBEEQBEEQxDRBnOwOjCd9fX248cYb8d577yEWiyGZTAIAeJ5HIpEA1asjCIIgCIIoDLIsIx6PQxAEJBIJiKKIeDwOs9mMSCSCm2++GZ/97Gcnu5sEQRAEQRAEMe2Z1g5fjuNw9dVX4/7778fLL7+Ms846C16vF2vWrIEsy+B5HitWrIAgCAAAt9vNlm02G1tPrmWCIAiCIIipDs+P/ucez/PsbyBAEW8B5e+ekpIS2O12AEBJSQlEUQTHcTCbzTAajbjjjjtQXl6OWCwGAGhubsasWbNw5plnYsOGDViyZAl4nscFF1wwDntHEARBEARBEMRQprXg63Q6cc4552DZsmVwOp3YsGEDLBYLDh48CIvFAlEU4ff72Y+Y7u5utuz3+9l6ci0TBEEQBEFMJTShVo82w0mD4zi2LEkSa+P1etnr1dXV4DgOsVgMZrMZ0WiUicIejweyLCOVSsHtduOFF15AU1MTRFFEMpnEvHnz0N/fj5KSEixduhRHjx7FihUr4Ha7x2mvCYIgJoZAIDDZXSAIosDQdX3iQMdqbExrwVdPMpnE73//e0SjUTQ2NiIUCkEQBDQ2NiISibB24XB4xPVQDARBEARBEFMV/d80udD/LaO5cgHg8OHDbHnPnj1IpVIIh8Nob29HPB5HMplEZ2cnIpEIUqkU4vE4JEnC3r178dxzzyEajYLjODz77LM4evQoZs6cCQA4cuQIPv3pTxdwL4mpyA033IBnnnkG8Xh8xHZ79+7Fl770JWzevBkDAwO4/vrrsXDhQmzcuBF79+7NaBuLxfDzn/8c69evx5IlS7Bs2TJceeWV+Pvf/5513Y899hiuv/56bNiwARs2bMD111+PRx99NO+/33/yk58Me+3tt9/G1q1b0dXVlfH6X/7yl2F9ffDBB/E///M/iMfjePLJJ/GVr3wFP/rRjxCNRkfc7oYNG/Lq36uvvootW7Zk3f8XX3wRAwMDAIDBwUHcdtttWLduHW6++Wb09vaydvfccw927dqV1/a6urrw3e9+Fz//+c8Rj8fxve99D+vWrcNNN92Ezs7OYe21fd6wYQMuueQS3HLLLfjoo4+GtYtEItiyZQvWrl2LJUuWYMmSJVi3bh22bNky6m8xjTvuuGPYa48//jjuu+++Ydu8//77M/7f5/Phnnvuwb333otAIIBf/OIXWL9+Pf75n/8Z/f39I253/fr1WV/Xxl7jT3/6E2677Tb87ne/G3b+/fnPf2bHpL29HZ/73OewaNEibNq0Ca2traxdvtcUMH7X1fFeU8CxX1fHc00Bx39d5XtNAeN3XeV7TQHjc6zyvf8V4poGjv26Pp5rGjj+6zrfaxoYn+t6LNf0eB2ribj/AtmP1Xjcf4Gp8XdNLrLdV7PBpU4SBfPuu+/G888/j1mzZiESieD111+H3W5Hc3MzXn/9dcRiMXAcB1EU2bI2NPplgiAIgiCI6UKuv3GKi4vR09MDQIl18Pl8EEURqVQKkiQhkUiA4ziUlZXh6NGjSCQSWLx4MaxWK/bt24dEIgGe57Fw4UL89a9/xbvvvgtRnNalI056li9fDq/Xi46ODqxbtw6XXnopE/31XHnllVizZg18Ph+eeuopXHzxxbj44ovx3HPP4dFHH8Xvfvc71vY73/kORFHE6aefjqeeegq1tbVobGzEAw88gEsvvRRXXnkla/sv//Iv2L9/Py6//HLmVm9ra8Mf//hH1NTUYPPmzaPuw5lnnonnnnuO/f+vf/1r/OEPf0BdXR22b9+Ou+66C+effz4A4FOf+lSG6LF582b09/cjHA7DarUiFovhggsuwLPPPgun08l+HGd7+PHxxx+jqakJgPJDVWPjxo14+OGHAQCPPvootmzZgnPPPRcvvfQSLrnkElxzzTWs7dq1a/H444+D53ncfvvtMJvNWLt2LV588UXs2rULW7ZsAQAsXrwYRqMRbrcbl1xyCdavXw+n05l1PK677jrU19cjEAjgwIEDaGpqwvr16/H888/jgw8+wH333cfa3nvvvdizZw9OPfVU/O1vf8O8efPgcrnw+9//HrfccgvWrFnD2t50000wm8244oorUF5eDgA4evQoHnroIfj9fvzHf/zHmI/V97//fbz77ruYPXs2nn76aVx77bX4/Oc/n/VYffOb30RpaSmCwSAOHjyI+vr6/7+9Ow+K4szfAP4Mw6FyGMcCREF3YxKNKCsKeKGrroIXohJdXWWjxIAab2O0dOOdGIkrpjZaKZHgqht31QilAYWNeK0mKjrG9UQpFBeEoHhxyDXv7w+L/jEOYLfQjDjPpypVzMyX9+mZzreHee15G6NGjUJSUhLu3buHyMhIAECvXr1Mch89eoTmzZsDeDZRWKlqRkxMDJKTkxEUFISUlBR4enpiwYIFRvvqhx9+kLala9euGDlyJI4fP474+Hhs27YNgPyeAtTpq/roKeDl+0puTwHq9JXcngLU6SslPaXGvlJy/KuPnn4+H5Df13J7GlCnr+X2NKBOXyt5r1RjX6lx/AXk7ys1jr+A+f+ukfv618Yi/vJet24djh49inbt2sHd3R0JCQmwsrJCeXk5rl27Jn21UQhh9HMlTvYSERHR66imv3EqJ3uBZ2djAJDOcLC1tUV5eTmaNm2KrKwsGAwGODo64u7duygqKsKDBw8APFsXODs7GxqNBtOnT0d0dLTKz4bMqVWrVoiLi8Ply5exb98+hIaGwsPDAyEhIQgKCoKDgwOAZ8ujhYaGAgD+9a9/4YMPPgAAhISEGH0oAoBffvkFiYmJAIABAwYgNDQUs2fPRu/evfHHP/7R6IPR8ePHkZycbPT7Xl5eGDx4sNHESE1nmwshjP6/B4B9+/Zh3759cHBwQHp6Oj766CMUFBRgzJgxJr2j1+tx4MABlJaWolevXjh58iSaNGmCQYMGISQkRKorLi6Gt7c3goODIYSAEAILFizAJ598YrJNVc/Y37VrF2JjY+Hu7o6IiAiEhoYaTfgKIaT1ui9fvix9+PXy8jI609HDwwN79+5FSkoK9u3bh6ioKPTr1w/vvfce/P39jZZ8yc3NRXR0NAwGA/r27SvtHy8vL5OzrI4cOSJ9xho3bhwiIiKwY8cODBs2DBEREUb74PLly0hKSjL6fZ1OhzVr1iAwMFC6r7oP+5XPtfK4VOnYsWOIi4uDjY0Npk+fjhkzZqCgoAAzZ8402Vfp6enYuHEjKioq0Lt3b8TGxkKr1Zo8rw4dOsDd3R3h4eHQarUQQmDixIn47rvvqt2mSomJiYiOjoZOp0NISAjGjh1rNOFQ9Wyx27dvSxMso0aNMppskNtTgDp9JbenAHX6Sm5PAer0ldyeAtTpKyU9pca+UnL8k9vTgDp9LbenAXX6Wm5PA+r0tZL3SjX2lRrHX0D+vlLj+AuY/+8aJcfVmrz2E74bNmzAwYMH0aZNG7z77rvSLPq1a9fw5MkTvP3223j8+DEAwMnJSTqN3cnJSbq/8syW538mIiIieh1YWVlJa/3a2NhAq9VKfxNpNBo4OjqirKwMHh4euH37NoQQKCkpQUVFBbp06YK9e/ciKysL69evh1arRVpaGioqKnD79m34+flxstcCVE5oeHp6wtPTE4sWLcK///1v7Nu3D5GRkdDr9QCefdgqKSlBYWEhHj9+jPv376Nly5YoLi42WZJEq9WipKQEdnZ2KCgokB5v3ry5tP50VQ8fPjQ5q+7Ro0dGHwZv3bqFv/71r2jatKlRnRAC8+bNMxmz8gNd+/btsX37doSFhUnLl1RVeQa7ra0tPDw80KRJE+l21QsixsXFISoqCrGxsVi5ciWcnZ1hZ2cHPz+/Gl9T4NnXQN3d3QE8u07J82fMt2jRAhcvXoSXlxecnZ2l17WwsNBoHe/KbzQGBAQgICAAeXl5iIuLw2effYbi4mIcO3ZMqq2oqJCWdikqKkJhYSHs7e1RXl5u8hXXqtuj0Wikz0uVZ5BVZWVlhTt37sDDw8Po/szMTKPnLITAtm3bTC6aLYTAhAkTTMat/H+iZcuWiImJwfTp01FSUlLjvtJqtXBzc5P2j0ajMbrI5bZt27Bz504sXrwYy5cvl9Yqb9OmjUl21QyNRgOdTgcAaNq0qcm+atu2LVJSUjBw4EC0bdsWt27dwm9+8xuTr83L7SlAvb6S01OAOn0lt6cAdfpKbk9VjlnffaWkpwB19pXc45/cnq7Mqe++ltvTgDp9Lbenq45Zn32tpKfV2lf1ffwF5O8rNY6/Vcc11981So+r1XmtJ3xv3LghrRmSl5eH1NRUAM++3lDp+vXr0s+VE7zP/1x1gpeTvURERPS6qfrhtayszGhtXyGE9HdRWlqadH9FRQUA4L///a/0tVkbGxu0atUKv/76KwYNGoSSkhKjs1Xo9fX8pIKtrS2GDx+O4cOHIycnR7o/KCgIQ4cORXl5OWbNmoXZs2ejQ4cOOHfuHP7whz8YjTFixAiMGzcOPj4+OHnypHTmy71790zyp06diuDgYAwePFiaEMnKysLhw4cxY8YMqa5Tp05wcHBA9+7dTcZ4/sOWjY0N8vLypAsOuri44O9//zvCwsJw+/Zto1qNRoPy8nJYW1tjy5Yt0v2lpaVSr1S+LosWLUJqaiqmTZtW69c3MzIy8N5770EIgczMTBQUFEj9VLVHAWDp0qWYNWsWfHx84OzsjHHjxqFnz564ePEipk6dKtU9v5+cnZ0RHh6O8PBwnD9/3uix3r17Y8KECSgtLcW4ceMwd+5c9OzZEz/99BO6du1qVNurVy+Eh4ejd+/eSElJwYABAwA8O/Op6vMHgIULF2LChAno3Lmz9ME9KysLly5dwqpVq6S6zp0748GDB+jYsaPJa+Pq6mp028HBAZmZmWjbtq10Ozo6GhEREUbHLeDZhEflB+74+Hjp/qKiIpOcSZMmwd/fH59++in8/Pxq/FZEWloaevXqBSEECgsLkZ+fD51Oh/LycpPnv3z5csycOROxsbFo3rw5xo4dC09PT9y9e9domQK5PQWo01dyewpQp6/k9lTla1PffSW3pwB1+kpJT6mxr5Qc/+T2NKBOXyvpaaD++1puTwPq9LWS90o19pVax19A3r5S4/gLmP/vGiXH1ZpYzBq+RERERESkjqSkJJOvg9ak8qIuHTt2RHZ2Ng4dOgR3d3dpfciqTp48iWvXrsHT0xM9e/asddw7d+4gOTlZOrnDzc0NAQEBRmcy5ebmwt7evtp/iDAYDEZnGB0+fBjOzs7w8vIyqnvw4AGio6ONvi5+7do1vPnmm7C1tTXZJr1eX+2FZoqLixEZGYlz585h//79Jo+fOXPG6Lanpyfs7e2Rl5eH5ORkk0mt4uJi/PDDD7h58yYqKirQunVrDB06VFrTEwB27NghffX0RYQQOHz4MDQaDQYOHCh9rd3d3R0TJ040eq4GgwF79+6V9tWYMWOg0WhQWlqKJ0+eoGXLlkZjFxUV4fjx40b7qm/fvrC3t5dqSktLodVqTc7mrI5er4eDgwPefvtto/tLS0uxZ88eo9cqLy8PLVq0MDnzKycnBxkZGdV+jVkIga1bt+LcuXNGaxdXysrKMrrt7OwMW1tb5Ofn49y5cxg8eLDJ75w6dQo3b96EwWCAm5sb+vXrZ3Qml5KeApT11X/+8x9cv379hX31v//9D0lJSbX2FKBOX71MTwH121dyegpQp6+U9lR97yslxz9AXk8D6vT1y/Q0UP99/aKeBurW11lZWUhKSqq2r+X2NFD/+0qv18PR0RFvvfWWye9Xd/zV6XQmY8rZVzExMUhNTTXZV8/vJxcXF9jY2NTp+AuY/+8aJcfVmnDCl4iIiIiIiIhqVbn8gLlqmS9/TCKiF08JExERERERvaTnvyZZ17qaavfv349vvvlGOtOmUuUSb0rr1Kq19PwnT55g3bp1iIyMRGFhIbZu3YqRI0fi448/xsOHDxXXqVVr6fnVqems2oaqZX71dY8ePTK6vXfvXixZsgQ7duww+Vq63FolY5aUlGDTpk0ICgqCj48PfHx8EBQUhE2bNknXA3i+dsSIEbJqN2/e/MJapWPWd62a+XKf/+bNm2W9/rWp63twQ41pSflK3oOrwzN8iYiIiIhINf3798fRo0frra662i+//BJ6vR6dOnVCUlISPvjgA0yePBkAMHr0aMTFxSmqA4DIyEhcuHBBVm1jyVdjTKW1c+fOhaurK4qKinD79m20b98eo0aNQlJSEu7du4fIyEhFdWrVWnp+dV+tfvToEZo3bw4A+Omnn6T7ldT27NnT5EJO1dXKrVMrX40xaxvXyckJGo3mpfKr9lhMTAySk5MRFBSElJQUeHp6YsGCBYprlYw5f/58NGvWDOPHj5fWEM7OzsY///lPFBQUYOPGjarWMl/+mLWpy3twQ45pKflK3ldr8lpftI2IiIiIiNRX27p7VS96LLdOae2xY8cQFxcHGxsbTJ8+HTNmzEBBQQFmzpxpdDaa3DoAOH78uOzaxpKvxphKa9PT07Fx40ZUVFSgd+/eiI2NhVarhZeXl9EZjHLr1Kq19PwOHTrA3d0d4eHh0Gq1EEJg4sSJ+O677/A8JbUdO3aUVSu3Tq18NcZUMq6S/Ko9lpiYiOjoaOh0OoSEhGDs2LFGk7Nya5WMefnyZSQlJRltk06nw5o1a0zWQFWjlvnyx1TjPVit93VLz1fyvloTTvgSEREREVGdCCGwbds2ODo6mtw/YcIExXVKa4H/v2p1y5YtERMTg+nTp6OkpMTkzDu5dWrVWnp+5YWVtFot3NzcpIv3aDQao4vQyK1Tq9bS87dt24adO3di8eLFWL58OTp06ABra2u0adMGz1Ojlvnyx6zaYxqNBjqdDgDQtGlTkwuZya1VMqaVlRXu3LljcoG4zMxMk/5Xo5b58sdU4z1Yrfd1S88HlL0HV4cTvkREZrZ48WK4urpi3rx55t4UIiKil9K5c2c8ePAAHTt2NHnM1dVVcZ3SWgcHB2RmZqJt27bS7ejoaERERCAtLU1xnVq1lp4PPJucKCkpgZ2dHeLj46X7i4qKXqpOrVpLzweASZMmwd/fH59++in8/PxqPatMjVrmy6tLS0tDr169IIRAYWEh8vPzodPpUF5ejoqKipeqVTLmwoULMWHCBHTu3FmakM7KysKlS5ewatUq1WuZL39MNd6D1Xpft/R8Je+rNeEavkREZiZ3wjc0NBQjR47E2LFjG2jLiIiI5CktLYVWq5XOFqxrndJavV4PR0dHvPXWWyZj7NmzBxMnTlRUp1atpecDQF5eHnQ6ncl+zcnJQUZGhvSVV7l1atVaen5VQgjExMQgNTUV33zzjcnjatcyv/a6rKwso9suLi6wsbFBfn4+zp07h8GDByuuVTIm8OwfDI4fP467d+8CANzc3NC3b1/Y29ubbK8atcyXV6fGe7Ba7+uWnq/kfbVGgoiIzGrRokViw4YNL6ybNGmS2L17dwNsERERUd1lZGTUa51atcw3b76SWuYzn/mWm6+klvnMt+T8SlYvnhImIqL6dOXKFYwePRre3t6YO3cuSkpKADy78m5ERAR69uwJX19fREREICcnBwAQFRWF1NRUrFq1Ct7e3tLXc9LT0zFlyhT4+fkhMDAQiYmJZnteREREVcldqkjJkkZq1DLfvPlKapnPfOZbbr6SWuYz35LzK3HCl4ioAZWWluKjjz5CcHAwzpw5gyFDhiA5ORkAYDAYMGbMGBw5cgRHjhyBnZ2dNLE7b948+Pj4YNmyZdDr9Vi2bBmKiooQFhaGESNG4NSpU4iKisLKlStx8+ZNcz5FIiIiAKh1DcuXqVOrlvnmzVdSy3zmM99y85XUMp/5lpxfiRO+REQN6JdffkFZWRnef/992NjYYMiQIejSpQsAoEWLFggMDETTpk3h4OCA6dOn4+zZszWOdfToUbRp0wYhISGwtrZGp06dEBgYiEOHDjXU0yEiIqpRt27d6rVOrVrmmzdfSS3zmc98y81XUst85ltyfiVetI2IqAElJCTg22+/xffffy/dN3/+fHh4eGDatGlYu3YtTpw4gUePHgEACgsLceXKFWi1WpOLtkVHR+Orr75CkyZNpLEqKiowcuRIrFy5smGfGBER0XPS09PRvn37eqtTq5b55s1XUst85jO/ceQTkfnxDF8iogbk7OyM3Nxco69jZGdnAwC+/fZbZGRkYPfu3Th//jz+8Y9/AKj5qxtubm7w9fVFamqq9J9er+dkLxERNbji4mKT/z788EM8ffoUxcXFiuvUqmW+efMb07Yyn/nMlzfmjRs3pJ/Lysrw1Vdf4f3338cXX3zRILXMZ74l59eGZ/gSETWg0tJSBAQEYMqUKfjTn/6EI0eOYN68eZg6dSrKysqQlpaGTZs2obi4GEuXLsWPP/6Iy5cvw9raGvPmzYOHhwfmz58PACgoKEBQUBDmzJmD4cOHAwCuXr0Ke3t7/us7ERE1qI4dO0Kj0VT7j5QajQZXr15VVKdWLfPNm9+YtpX5zGe+vDFHjx6NuLg4AMCGDRtw8+ZNjB07FklJSbCxscHq1atVrWU+8y05v1aCiIga1MWLF0VwcLDo2rWrmDNnjpgzZ47YsGGDyMnJEZMmTRJdu3YVAQEBYteuXeKdd94RZWVlQgghzp8/LwICAoSPj49YvXq1EEKI9PR08eGHH4oePXoIPz8/ERoaKq5cuWLOp0dERBZo8eLFYsmSJeLJkyfSfQMGDHjpOrVqmW/e/Ma0rcxnPvPljRkcHCz9PGrUKFFQUCCEEKKsrEwMHz5c9VrmM9+S82vDJR2IiBpYly5dEB8fD71ej40bN2Ljxo2YN28eXF1dsWPHDuj1eiQlJWH8+PG4fv06rK2tAQDe3t5ISkrC2bNn8Ze//AUA8Oabb2LLli34+eefcfr0aWzfvh3vvvuuOZ8eERFZoLVr12LQoEGYPHkyjh8/DuDZWWAvW6dWLfPNm9+YtpX5zGe+vDGFENJSD1qtFvb29gAAa2tr6XOMmrXMZ74l59dGXhUREREREVEtBgwYgK5du2L16tVITExERUVFnerUqmW+efMb07Yyn/nMf3Hd9evX4e3tDSEENBoNcnNz4erqipKSEhgMBtVrmc98S86vlazzgImIiIiIiGRKTEwUK1asqLc6tWqZb958JbXMZz7zG0d+pUePHgm9Xm+2WuYz35LzhRCCF20jIiIiIiIiIiIiek1wDV8iIiIiIlLN1KlT67VOrVrmmzdfSS3zmc98y81XUst85ltyPtfwJSIiIiKiOikuLq7xsRs3biiuU6uW+ebNV1LLfOYz33LzldQyn/mWnF8bTvgSEREREVGdeHt7Q6PRoOpqcZW3q17ZXW6dWrXMN29+Y9pW5jOf+TxWMJ/5r3p+rQQREREREVEd+Pv7i/v371f7WL9+/RTXqVXLfPPmN6ZtZT7zmc9jBfOZ/6rn14Zr+BIRERERUZ306NGjxq8Yenl5Ka5Tq5b55s1vTNvKfOYzn8cK5jP/Vc+vjUaIKucHExEREREREREREVGjxTN8iYiIiIio3jx+/BiPHz+utzq1aplv3nwltcxnPvMtN19JLfOZb8n5z+NF24iIiIiIqE7y8/Oxfv16HDx4EAAghICVlRWGDBmCjz/+GDqdTlGdWrXMN29+Y9pW5jOf+TxWMJ/5r3p+rWSt9EtERERERFSDsLAwsXnzZpGfny/dd//+fbFp0yYRFhamuE6tWuabN78xbSvzmc98HiuYz/xXPb82nPAlIiIiIqI6CQwMrPGxgIAAxXVq1TLfvPlKapnPfOZbbr6SWuYz35Lza8M1fImIiIiIqE7s7Oyg1+tN7j9//jxsbW0V16lVy3zz5jembWU+85nPYwXzmf+q59dGI4QQsiqJiIiIiIiqceHCBXzyySews7NDmzZtAABZWVkoKSnBunXr4O3trahOrVrmmze/MW0r85nPfB4rmM/8Vz2/NpzwJSIiIiKiOhNC4NKlS7h79y4AwM3NDZ07d4ZGo3mpOrVqmW/e/Ma0rcxnPvN5rGA+81/1/BrJWviBiIiIiIioBvn5+WLp0qViypQpYseOHUaPzZw5U3GdWrXMN29+Y9pW5jOf+TxWMJ/5r3p+bbiGLxERERER1cny5cvh5OSE8ePH4/Dhw5g5cybKy8sBAHfu3FFcp1Yt882b35i2lfnMZz6PFcxn/queXytZ08JEREREREQ1CAoKkn42GAxixYoVIiwsTDx9+lQEBwcrrlOrlvnmzW9M28p85jPffPmNaVuZz3xz5teGZ/gSEREREVGdlJWVST9rNBosX74c77zzDsLDw1FSUqK4Tq1a5ps3vzFtK/OZz3zz5TembWU+882ZXxtO+BIRERERUZ14eHjg7NmzRvctWrQIv/vd73Dr1i3FdWrVMt+8+Y1pW5nPfObzWMF85r/q+bWSdR4wERERERFRDR48eCAePnxY7WM3btxQXKdWLfPNm9+YtpX5zGc+jxXMZ/6rnl8bjRBCyJsaJiIiIiIiIiIiIqJXGZd0ICIiIiIiIiIiInpNcMKXiIiIiIiIiIiI6DXBCV8iIiIiIiIiIpWcPn0a/fr1M/dmEJEF4YQvERERERERERER0WuCE75ERERERERE9NoqLy839yYQETUoTvgSERERERERkVls3boVs2bNMrpvzZo1WLNmDZ48eYIlS5bA398fffv2RVRUFCoqKgAAmZmZ+POf/4wePXqgR48eWLBgAR4/fiyNMXDgQGzZsgVBQUHo2rVrjZO+33//PaZNmybdDggIwOzZs6Xbv//973H16lUAQHp6OqZMmQI/Pz8EBgYiMTFRqistLcW6devQv39/9O7dG8uWLcPTp0+rzdy+fTuGDRuGnJwchV70E18AAATuSURBVK8WEZE8nPAlIiIiIiIiIrMYOXIkTpw4IU3WlpeXIyEhAaNGjcLixYthbW2N5ORkxMfH4+TJk9izZw8AQAiBiIgInDhxAgcPHkROTg7+9re/GY2dkJCALVu2IDU1FdbW1tXm+/n5ITU1FQaDAbm5uSgrK8OFCxcAAHfu3EFRURE6dOiAoqIihIWFYcSIETh16hSioqKwcuVK3Lx5EwCwfv16ZGRkID4+HsnJyfj111+xadMmk7yvv/4acXFx2LlzJ1q1alVvryMRUVWc8CUiIiIiIiIis3BxcYGPjw8OHToEADhx4gRatGiBVq1a4dixY1iyZAmaNWuGli1bYvLkyUhISAAAtGvXDn369IGtrS10Oh2mTJmCs2fPGo0dGhoKNzc3NGnSpMZ8Dw8P2Nvb4+rVq0hNTYW/vz9cXFyQnp6OM2fOoHv37rCyssLRo0fRpk0bhISEwNraGp06dUJgYCAOHToEIQR2796NJUuW4I033oCDgwMiIiKkbQWeTVCvXbsWJ0+exPbt26HT6VR4NYmInqn+n7iIiIiIiIiIiBrA6NGjsWvXLowbNw779+9HcHAwsrOzUV5eDn9/f6nOYDDAzc0NAHDv3j189tlnSE1NRWFhIYQQcHJyMhq3svZFfH19cebMGdy+fRu+vr5wdHTE2bNnceHCBfj5+QEAsrKycPHiRfj4+Ei/V1FRgZEjRyI/Px/FxcUYM2aM9JgQAgaDQbr95MkT7N69G1FRUXB0dFT+IhERKcAJXyIiIiIiIiIym0GDBmHFihVIS0vD0aNHsXDhQlhbW8PW1hY///xztcsxbNiwARqNBgcOHMAbb7yBH3/8EatWrTKq0Wg0svL9/PyQkpKCrKwsTJs2DU5OTjhw4AD0ej0mTpwI4Nnksa+vL2JjY01+32AwoEmTJkhISICrq2u1GU5OTvjyyy8xd+5cfP311+jevbusbSMiehlc0oGIiIiIiIiIzMbOzg6BgYFYsGABunTpgtatW8PFxQV9+vTBF198gYKCAhgMBmRmZuLMmTMAgMLCQjRr1gyOjo7Izc3F1q1bXzrf19cXp0+fxtOnT9GqVSv4+PjgxIkTePjwITp16gQA6N+/P27duoX4+HiUlZWhrKwMFy9eRHp6OqysrDB27Fh8/vnnuH//PgAgNzcXJ06cMMrp0aMH1q9fj1mzZuHixYsvvb1ERC/CCV8iIiIiIiIiMqtRo0YhLS0NwcHB0n2RkZEoKyvDsGHD4Ovri9mzZyMvLw8AMHPmTFy5cgU+Pj4IDw9HQEDAS2f/9re/hb29vbRcg4ODA9zd3dGtWzdotVrpvpiYGCQmJqJv377w9/fH+vXrUVpaCgBYuHAh2rVrh3HjxqFbt26YPHkyMjIyTLL69OmDzz//HNOmTcPly5dfepuJiGqjEUIIc28EEREREREREVmu7OxsDB06FCdPnoSDg4O5N4eIqFHjGb5EREREREREZDYGgwGxsbEYNmwYJ3uJiOoBL9pGRERERERERGZRVFSEPn36oHXr1nVah7c22dnZGD58eLWPJSQkoHXr1qrkEhGZC5d0ICIiIiIiIiIiInpNcEkHIiIiIiIiIiIiotcEJ3yJiIiIiIiIiIiIXhOc8CUiIiIiIiIiIiJ6TXDCl4iIiIiIiIiIiOg1wQlfIiIiIiIiIiIiotfE/wFZxaHMolq+ZAAAAABJRU5ErkJggg==\n",
                  "text/plain": "<Figure size 1728x864 with 3 Axes>"
                },
                "metadata": {}
              }
            ],
            "_view_module": "@jupyter-widgets/output",
            "_model_module_version": "1.0.0",
            "_view_count": null,
            "_view_module_version": "1.0.0",
            "layout": "IPY_MODEL_864b1866f1ea499e91f8befb531ac248",
            "_model_module": "@jupyter-widgets/output"
          }
        },
        "01a3811d4a49494297c8fdbbeacbb9a9": {
          "model_module": "@jupyter-widgets/controls",
          "model_name": "DescriptionStyleModel",
          "model_module_version": "1.5.0",
          "state": {
            "_view_name": "StyleView",
            "_model_name": "DescriptionStyleModel",
            "description_width": "initial",
            "_view_module": "@jupyter-widgets/base",
            "_model_module_version": "1.5.0",
            "_view_count": null,
            "_view_module_version": "1.2.0",
            "_model_module": "@jupyter-widgets/controls"
          }
        },
        "b9f2757373e64508969ecc52dd5349f9": {
          "model_module": "@jupyter-widgets/base",
          "model_name": "LayoutModel",
          "model_module_version": "1.2.0",
          "state": {
            "_view_name": "LayoutView",
            "grid_template_rows": null,
            "right": null,
            "justify_content": null,
            "_view_module": "@jupyter-widgets/base",
            "overflow": null,
            "_model_module_version": "1.2.0",
            "_view_count": null,
            "flex_flow": null,
            "width": null,
            "min_width": null,
            "border": null,
            "align_items": null,
            "bottom": null,
            "_model_module": "@jupyter-widgets/base",
            "top": null,
            "grid_column": null,
            "overflow_y": null,
            "overflow_x": null,
            "grid_auto_flow": null,
            "grid_area": null,
            "grid_template_columns": null,
            "flex": null,
            "_model_name": "LayoutModel",
            "justify_items": null,
            "grid_row": null,
            "max_height": null,
            "align_content": null,
            "visibility": null,
            "align_self": null,
            "height": null,
            "min_height": null,
            "padding": null,
            "grid_auto_rows": null,
            "grid_gap": null,
            "max_width": null,
            "order": null,
            "_view_module_version": "1.2.0",
            "grid_template_areas": null,
            "object_position": null,
            "object_fit": null,
            "grid_auto_columns": null,
            "margin": null,
            "display": null,
            "left": null
          }
        },
        "1dc6633f77614da896903ee3cbd754be": {
          "model_module": "@jupyter-widgets/controls",
          "model_name": "DescriptionStyleModel",
          "model_module_version": "1.5.0",
          "state": {
            "_view_name": "StyleView",
            "_model_name": "DescriptionStyleModel",
            "description_width": "initial",
            "_view_module": "@jupyter-widgets/base",
            "_model_module_version": "1.5.0",
            "_view_count": null,
            "_view_module_version": "1.2.0",
            "_model_module": "@jupyter-widgets/controls"
          }
        },
        "748b17eefbb1435d923ace2b6837c02b": {
          "model_module": "@jupyter-widgets/base",
          "model_name": "LayoutModel",
          "model_module_version": "1.2.0",
          "state": {
            "_view_name": "LayoutView",
            "grid_template_rows": null,
            "right": null,
            "justify_content": null,
            "_view_module": "@jupyter-widgets/base",
            "overflow": null,
            "_model_module_version": "1.2.0",
            "_view_count": null,
            "flex_flow": null,
            "width": null,
            "min_width": null,
            "border": null,
            "align_items": null,
            "bottom": null,
            "_model_module": "@jupyter-widgets/base",
            "top": null,
            "grid_column": null,
            "overflow_y": null,
            "overflow_x": null,
            "grid_auto_flow": null,
            "grid_area": null,
            "grid_template_columns": null,
            "flex": null,
            "_model_name": "LayoutModel",
            "justify_items": null,
            "grid_row": null,
            "max_height": null,
            "align_content": null,
            "visibility": null,
            "align_self": null,
            "height": null,
            "min_height": null,
            "padding": null,
            "grid_auto_rows": null,
            "grid_gap": null,
            "max_width": null,
            "order": null,
            "_view_module_version": "1.2.0",
            "grid_template_areas": null,
            "object_position": null,
            "object_fit": null,
            "grid_auto_columns": null,
            "margin": null,
            "display": null,
            "left": null
          }
        },
        "4578cc82e1d24a79b0472833c66801e8": {
          "model_module": "@jupyter-widgets/controls",
          "model_name": "DescriptionStyleModel",
          "model_module_version": "1.5.0",
          "state": {
            "_view_name": "StyleView",
            "_model_name": "DescriptionStyleModel",
            "description_width": "",
            "_view_module": "@jupyter-widgets/base",
            "_model_module_version": "1.5.0",
            "_view_count": null,
            "_view_module_version": "1.2.0",
            "_model_module": "@jupyter-widgets/controls"
          }
        },
        "8c3f6cf5724c4e70903865c3551b69c6": {
          "model_module": "@jupyter-widgets/base",
          "model_name": "LayoutModel",
          "model_module_version": "1.2.0",
          "state": {
            "_view_name": "LayoutView",
            "grid_template_rows": null,
            "right": null,
            "justify_content": null,
            "_view_module": "@jupyter-widgets/base",
            "overflow": null,
            "_model_module_version": "1.2.0",
            "_view_count": null,
            "flex_flow": null,
            "width": null,
            "min_width": null,
            "border": null,
            "align_items": null,
            "bottom": null,
            "_model_module": "@jupyter-widgets/base",
            "top": null,
            "grid_column": null,
            "overflow_y": null,
            "overflow_x": null,
            "grid_auto_flow": null,
            "grid_area": null,
            "grid_template_columns": null,
            "flex": null,
            "_model_name": "LayoutModel",
            "justify_items": null,
            "grid_row": null,
            "max_height": null,
            "align_content": null,
            "visibility": null,
            "align_self": null,
            "height": null,
            "min_height": null,
            "padding": null,
            "grid_auto_rows": null,
            "grid_gap": null,
            "max_width": null,
            "order": null,
            "_view_module_version": "1.2.0",
            "grid_template_areas": null,
            "object_position": null,
            "object_fit": null,
            "grid_auto_columns": null,
            "margin": null,
            "display": null,
            "left": null
          }
        },
        "864b1866f1ea499e91f8befb531ac248": {
          "model_module": "@jupyter-widgets/base",
          "model_name": "LayoutModel",
          "model_module_version": "1.2.0",
          "state": {
            "_view_name": "LayoutView",
            "grid_template_rows": null,
            "right": null,
            "justify_content": null,
            "_view_module": "@jupyter-widgets/base",
            "overflow": null,
            "_model_module_version": "1.2.0",
            "_view_count": null,
            "flex_flow": null,
            "width": null,
            "min_width": null,
            "border": null,
            "align_items": null,
            "bottom": null,
            "_model_module": "@jupyter-widgets/base",
            "top": null,
            "grid_column": null,
            "overflow_y": null,
            "overflow_x": null,
            "grid_auto_flow": null,
            "grid_area": null,
            "grid_template_columns": null,
            "flex": null,
            "_model_name": "LayoutModel",
            "justify_items": null,
            "grid_row": null,
            "max_height": null,
            "align_content": null,
            "visibility": null,
            "align_self": null,
            "height": null,
            "min_height": null,
            "padding": null,
            "grid_auto_rows": null,
            "grid_gap": null,
            "max_width": null,
            "order": null,
            "_view_module_version": "1.2.0",
            "grid_template_areas": null,
            "object_position": null,
            "object_fit": null,
            "grid_auto_columns": null,
            "margin": null,
            "display": null,
            "left": null
          }
        }
      }
    }
  },
  "cells": [
    {
      "cell_type": "markdown",
      "metadata": {
        "id": "393fecc1"
      },
      "source": [
        "# House Rocket Sales "
      ],
      "id": "393fecc1"
    },
    {
      "cell_type": "markdown",
      "metadata": {
        "id": "5fa05d2e"
      },
      "source": [
        "## 0.0 IMPORTS\n"
      ],
      "id": "5fa05d2e"
    },
    {
      "cell_type": "code",
      "metadata": {
        "ExecuteTime": {
          "end_time": "2021-11-12T00:25:57.437335Z",
          "start_time": "2021-11-12T00:25:55.027103Z"
        },
        "id": "5c8ea495"
      },
      "source": [
        "import pandas as pd\n",
        "import numpy as np\n",
        "import time\n",
        "from multiprocessing import Pool\n",
        "import ipywidgets as widgets\n",
        "from ipywidgets import interact, interactive, fixed, interact_manual\n",
        "from matplotlib import pyplot as plt\n",
        "from matplotlib import gridspec\n",
        "from IPython.core.display import HTML\n",
        "from geopy.geocoders import Nominatim\n",
        "from IPython.core.display import HTML\n",
        "import seaborn as sns\n",
        "import warnings\n",
        "import plotly.express as px\n",
        "warnings.simplefilter(action=\"ignore\", category=FutureWarning)"
      ],
      "id": "5c8ea495",
      "execution_count": 1,
      "outputs": []
    },
    {
      "cell_type": "code",
      "metadata": {
        "ExecuteTime": {
          "end_time": "2021-11-12T00:25:57.453320Z",
          "start_time": "2021-11-12T00:25:57.438307Z"
        },
        "id": "11fe7f01"
      },
      "source": [
        "pd.set_option('display.float_format', lambda x: '%.2f' % x)"
      ],
      "id": "11fe7f01",
      "execution_count": 2,
      "outputs": []
    },
    {
      "cell_type": "markdown",
      "metadata": {
        "id": "b1be08d3"
      },
      "source": [
        "## 0.1 Helper Functions"
      ],
      "id": "b1be08d3"
    },
    {
      "cell_type": "code",
      "metadata": {
        "ExecuteTime": {
          "end_time": "2021-11-12T00:25:57.484184Z",
          "start_time": "2021-11-12T00:25:57.454265Z"
        },
        "colab": {
          "base_uri": "https://localhost:8080/",
          "height": 119
        },
        "id": "dd465c37",
        "outputId": "fd23b41e-e449-44a9-8f86-20bfdd42683e"
      },
      "source": [
        "def jupyter_settings():\n",
        "    %matplotlib inline\n",
        "    %pylab inline\n",
        "    \n",
        "    plt.style.use( 'bmh' )\n",
        "    plt.rcParams['figure.figsize'] = [25, 12]\n",
        "    plt.rcParams['font.size'] = 24\n",
        "    \n",
        "    display( HTML( '<style>.container { width:100% !important; }</style>') )\n",
        "    pd.options.display.max_columns = None\n",
        "    pd.options.display.max_rows = None\n",
        "    pd.set_option( 'display.expand_frame_repr', False )\n",
        "    \n",
        "    sns.set()\n",
        "    \n",
        "jupyter_settings()"
      ],
      "id": "dd465c37",
      "execution_count": 3,
      "outputs": [
        {
          "output_type": "stream",
          "name": "stdout",
          "text": [
            "Populating the interactive namespace from numpy and matplotlib\n"
          ]
        },
        {
          "output_type": "stream",
          "name": "stderr",
          "text": [
            "/usr/local/lib/python3.7/dist-packages/IPython/core/magics/pylab.py:161: UserWarning:\n",
            "\n",
            "pylab import has clobbered these variables: ['interactive']\n",
            "`%matplotlib` prevents importing * from pylab and numpy\n",
            "\n"
          ]
        },
        {
          "output_type": "display_data",
          "data": {
            "text/html": [
              "<style>.container { width:100% !important; }</style>"
            ],
            "text/plain": [
              "<IPython.core.display.HTML object>"
            ]
          },
          "metadata": {}
        }
      ]
    },
    {
      "cell_type": "markdown",
      "metadata": {
        "id": "c276f9f2"
      },
      "source": [
        "## 0.2 Loading Data"
      ],
      "id": "c276f9f2"
    },
    {
      "cell_type": "code",
      "metadata": {
        "ExecuteTime": {
          "end_time": "2021-11-12T00:25:57.548033Z",
          "start_time": "2021-11-12T00:25:57.486181Z"
        },
        "id": "c16497d1"
      },
      "source": [
        "# este é o caminho do arquivo de dados dentro do Google Colab, depois de fazer o upload na pasta 'sample data'\n",
        "data = pd.read_csv('/content/sample_data/House Sales in King County.csv')"
      ],
      "id": "c16497d1",
      "execution_count": 4,
      "outputs": []
    },
    {
      "cell_type": "markdown",
      "metadata": {
        "id": "48a75d77"
      },
      "source": [
        "# 1.0 DATA DESCRIPTION"
      ],
      "id": "48a75d77"
    },
    {
      "cell_type": "code",
      "metadata": {
        "ExecuteTime": {
          "end_time": "2021-11-12T00:25:57.563998Z",
          "start_time": "2021-11-12T00:25:57.549011Z"
        },
        "id": "250a912a"
      },
      "source": [
        "df1 = data.copy()"
      ],
      "id": "250a912a",
      "execution_count": null,
      "outputs": []
    },
    {
      "cell_type": "markdown",
      "metadata": {
        "id": "0ad53ae0"
      },
      "source": [
        "## 1.1 Data Types and Dimensions"
      ],
      "id": "0ad53ae0"
    },
    {
      "cell_type": "code",
      "metadata": {
        "ExecuteTime": {
          "end_time": "2021-11-12T00:25:57.579930Z",
          "start_time": "2021-11-12T00:25:57.566964Z"
        },
        "id": "f71cf14c",
        "outputId": "829dad0d-c2a7-449d-ba22-0d4a546cf133"
      },
      "source": [
        "print('Number of rows: {}'.format(df1.shape[0]))\n",
        "print('Number of columns: {}'.format(df1.shape[1]))"
      ],
      "id": "f71cf14c",
      "execution_count": null,
      "outputs": [
        {
          "name": "stdout",
          "output_type": "stream",
          "text": [
            "Number of rows: 21613\n",
            "Number of columns: 21\n"
          ]
        }
      ]
    },
    {
      "cell_type": "code",
      "metadata": {
        "ExecuteTime": {
          "end_time": "2021-11-12T00:25:57.595911Z",
          "start_time": "2021-11-12T00:25:57.581924Z"
        },
        "id": "cd336d8c",
        "outputId": "efef82e5-e753-46b5-c3e5-e7dec33abd4b"
      },
      "source": [
        "df1.dtypes"
      ],
      "id": "cd336d8c",
      "execution_count": null,
      "outputs": [
        {
          "data": {
            "text/plain": [
              "id                 int64\n",
              "date              object\n",
              "price            float64\n",
              "bedrooms           int64\n",
              "bathrooms        float64\n",
              "sqft_living        int64\n",
              "sqft_lot           int64\n",
              "floors           float64\n",
              "waterfront         int64\n",
              "view               int64\n",
              "condition          int64\n",
              "grade              int64\n",
              "sqft_above         int64\n",
              "sqft_basement      int64\n",
              "yr_built           int64\n",
              "yr_renovated       int64\n",
              "zipcode            int64\n",
              "lat              float64\n",
              "long             float64\n",
              "sqft_living15      int64\n",
              "sqft_lot15         int64\n",
              "dtype: object"
            ]
          },
          "execution_count": 7,
          "metadata": {},
          "output_type": "execute_result"
        }
      ]
    },
    {
      "cell_type": "markdown",
      "metadata": {
        "id": "78c19441"
      },
      "source": [
        "## 1.2 Check NA"
      ],
      "id": "78c19441"
    },
    {
      "cell_type": "code",
      "metadata": {
        "ExecuteTime": {
          "end_time": "2021-11-12T00:25:57.611843Z",
          "start_time": "2021-11-12T00:25:57.596884Z"
        },
        "id": "3f75150e",
        "outputId": "d09c797e-ef81-4c90-fab9-443648667332"
      },
      "source": [
        "df1.isna().sum()"
      ],
      "id": "3f75150e",
      "execution_count": null,
      "outputs": [
        {
          "data": {
            "text/plain": [
              "id               0\n",
              "date             0\n",
              "price            0\n",
              "bedrooms         0\n",
              "bathrooms        0\n",
              "sqft_living      0\n",
              "sqft_lot         0\n",
              "floors           0\n",
              "waterfront       0\n",
              "view             0\n",
              "condition        0\n",
              "grade            0\n",
              "sqft_above       0\n",
              "sqft_basement    0\n",
              "yr_built         0\n",
              "yr_renovated     0\n",
              "zipcode          0\n",
              "lat              0\n",
              "long             0\n",
              "sqft_living15    0\n",
              "sqft_lot15       0\n",
              "dtype: int64"
            ]
          },
          "execution_count": 8,
          "metadata": {},
          "output_type": "execute_result"
        }
      ]
    },
    {
      "cell_type": "markdown",
      "metadata": {
        "id": "a441a295"
      },
      "source": [
        "## 1.3 Change Data Types"
      ],
      "id": "a441a295"
    },
    {
      "cell_type": "code",
      "metadata": {
        "ExecuteTime": {
          "end_time": "2021-11-12T00:25:57.769421Z",
          "start_time": "2021-11-12T00:25:57.612840Z"
        },
        "id": "c916dc24",
        "outputId": "cffa5e51-b352-443f-8495-b314594264ba"
      },
      "source": [
        "# id, yr_built, yr_renovated, zipcode\n",
        "df1[['id', 'waterfront', 'view', 'condition', 'yr_built', 'yr_renovated', 'zipcode']] = df1[['id', 'waterfront', 'view', 'condition', 'yr_built', 'yr_renovated', 'zipcode']].astype(str)\n",
        "\n",
        "# lat, long\n",
        "df1[['lat', 'long']] = df1[['lat', 'long']].astype(str)\n",
        "\n",
        "# Date\n",
        "df1['date'] = pd.to_datetime(df1['date'])\n",
        "df1.dtypes"
      ],
      "id": "c916dc24",
      "execution_count": null,
      "outputs": [
        {
          "data": {
            "text/plain": [
              "id                       object\n",
              "date             datetime64[ns]\n",
              "price                   float64\n",
              "bedrooms                  int64\n",
              "bathrooms               float64\n",
              "sqft_living               int64\n",
              "sqft_lot                  int64\n",
              "floors                  float64\n",
              "waterfront               object\n",
              "view                     object\n",
              "condition                object\n",
              "grade                     int64\n",
              "sqft_above                int64\n",
              "sqft_basement             int64\n",
              "yr_built                 object\n",
              "yr_renovated             object\n",
              "zipcode                  object\n",
              "lat                      object\n",
              "long                     object\n",
              "sqft_living15             int64\n",
              "sqft_lot15                int64\n",
              "dtype: object"
            ]
          },
          "execution_count": 9,
          "metadata": {},
          "output_type": "execute_result"
        }
      ]
    },
    {
      "cell_type": "markdown",
      "metadata": {
        "id": "8cbf45ab"
      },
      "source": [
        "## 1.4 Descriptive Statistics"
      ],
      "id": "8cbf45ab"
    },
    {
      "cell_type": "code",
      "metadata": {
        "ExecuteTime": {
          "end_time": "2021-11-12T00:25:57.801336Z",
          "start_time": "2021-11-12T00:25:57.772415Z"
        },
        "id": "39606bfc"
      },
      "source": [
        "# numerical attributes\n",
        "num_attributes = df1.select_dtypes(include=['int64', 'float64'])\n",
        "\n",
        "# categorical attributes\n",
        "cat_attributes = df1.select_dtypes(exclude=['int64', 'float64', 'datetime64[ns]'])"
      ],
      "id": "39606bfc",
      "execution_count": null,
      "outputs": []
    },
    {
      "cell_type": "markdown",
      "metadata": {
        "id": "5ef61bc5"
      },
      "source": [
        "### 1.4.1 Numerical Attributes"
      ],
      "id": "5ef61bc5"
    },
    {
      "cell_type": "code",
      "metadata": {
        "ExecuteTime": {
          "end_time": "2021-11-12T00:25:57.896083Z",
          "start_time": "2021-11-12T00:25:57.802334Z"
        },
        "id": "5e15c5cf",
        "outputId": "48af2632-b2db-4d96-a200-df1d94e2b588"
      },
      "source": [
        "# Central Tendency - mean, median\n",
        "ct1 = pd.DataFrame(num_attributes.apply(np.mean)).T\n",
        "ct2 = pd.DataFrame(num_attributes.apply(np.median)).T\n",
        "\n",
        "# dispersion - std, min, max, range, skew, kurtosis\n",
        "d1 = pd.DataFrame(num_attributes.apply(np.std)).T\n",
        "d2 = pd.DataFrame(num_attributes.apply(min)).T\n",
        "d3 = pd.DataFrame(num_attributes.apply(max)).T\n",
        "d4 = pd.DataFrame(num_attributes.apply(lambda x: x.max() - x.min())).T\n",
        "d5 = pd.DataFrame( num_attributes.apply( lambda x: x.skew() ) ).T\n",
        "d6 = pd.DataFrame( num_attributes.apply( lambda x: x.kurtosis() ) ).T\n",
        "\n",
        "# concatenate\n",
        "m = pd.concat([d2, d3, d4, ct1, ct2, d1, d5, d6]).T.reset_index()\n",
        "m.columns = ['attributes', 'min', 'max', 'range', 'mean', 'median', 'std', 'skew', 'kurtosis']\n",
        "m"
      ],
      "id": "5e15c5cf",
      "execution_count": null,
      "outputs": [
        {
          "data": {
            "text/html": [
              "<div>\n",
              "<style scoped>\n",
              "    .dataframe tbody tr th:only-of-type {\n",
              "        vertical-align: middle;\n",
              "    }\n",
              "\n",
              "    .dataframe tbody tr th {\n",
              "        vertical-align: top;\n",
              "    }\n",
              "\n",
              "    .dataframe thead th {\n",
              "        text-align: right;\n",
              "    }\n",
              "</style>\n",
              "<table border=\"1\" class=\"dataframe\">\n",
              "  <thead>\n",
              "    <tr style=\"text-align: right;\">\n",
              "      <th></th>\n",
              "      <th>attributes</th>\n",
              "      <th>min</th>\n",
              "      <th>max</th>\n",
              "      <th>range</th>\n",
              "      <th>mean</th>\n",
              "      <th>median</th>\n",
              "      <th>std</th>\n",
              "      <th>skew</th>\n",
              "      <th>kurtosis</th>\n",
              "    </tr>\n",
              "  </thead>\n",
              "  <tbody>\n",
              "    <tr>\n",
              "      <th>0</th>\n",
              "      <td>price</td>\n",
              "      <td>75000.00</td>\n",
              "      <td>7700000.00</td>\n",
              "      <td>7625000.00</td>\n",
              "      <td>540088.14</td>\n",
              "      <td>450000.00</td>\n",
              "      <td>367118.70</td>\n",
              "      <td>4.02</td>\n",
              "      <td>34.59</td>\n",
              "    </tr>\n",
              "    <tr>\n",
              "      <th>1</th>\n",
              "      <td>bedrooms</td>\n",
              "      <td>0.00</td>\n",
              "      <td>33.00</td>\n",
              "      <td>33.00</td>\n",
              "      <td>3.37</td>\n",
              "      <td>3.00</td>\n",
              "      <td>0.93</td>\n",
              "      <td>1.97</td>\n",
              "      <td>49.06</td>\n",
              "    </tr>\n",
              "    <tr>\n",
              "      <th>2</th>\n",
              "      <td>bathrooms</td>\n",
              "      <td>0.00</td>\n",
              "      <td>8.00</td>\n",
              "      <td>8.00</td>\n",
              "      <td>2.11</td>\n",
              "      <td>2.25</td>\n",
              "      <td>0.77</td>\n",
              "      <td>0.51</td>\n",
              "      <td>1.28</td>\n",
              "    </tr>\n",
              "    <tr>\n",
              "      <th>3</th>\n",
              "      <td>sqft_living</td>\n",
              "      <td>290.00</td>\n",
              "      <td>13540.00</td>\n",
              "      <td>13250.00</td>\n",
              "      <td>2079.90</td>\n",
              "      <td>1910.00</td>\n",
              "      <td>918.42</td>\n",
              "      <td>1.47</td>\n",
              "      <td>5.24</td>\n",
              "    </tr>\n",
              "    <tr>\n",
              "      <th>4</th>\n",
              "      <td>sqft_lot</td>\n",
              "      <td>520.00</td>\n",
              "      <td>1651359.00</td>\n",
              "      <td>1650839.00</td>\n",
              "      <td>15106.97</td>\n",
              "      <td>7618.00</td>\n",
              "      <td>41419.55</td>\n",
              "      <td>13.06</td>\n",
              "      <td>285.08</td>\n",
              "    </tr>\n",
              "    <tr>\n",
              "      <th>5</th>\n",
              "      <td>floors</td>\n",
              "      <td>1.00</td>\n",
              "      <td>3.50</td>\n",
              "      <td>2.50</td>\n",
              "      <td>1.49</td>\n",
              "      <td>1.50</td>\n",
              "      <td>0.54</td>\n",
              "      <td>0.62</td>\n",
              "      <td>-0.48</td>\n",
              "    </tr>\n",
              "    <tr>\n",
              "      <th>6</th>\n",
              "      <td>grade</td>\n",
              "      <td>1.00</td>\n",
              "      <td>13.00</td>\n",
              "      <td>12.00</td>\n",
              "      <td>7.66</td>\n",
              "      <td>7.00</td>\n",
              "      <td>1.18</td>\n",
              "      <td>0.77</td>\n",
              "      <td>1.19</td>\n",
              "    </tr>\n",
              "    <tr>\n",
              "      <th>7</th>\n",
              "      <td>sqft_above</td>\n",
              "      <td>290.00</td>\n",
              "      <td>9410.00</td>\n",
              "      <td>9120.00</td>\n",
              "      <td>1788.39</td>\n",
              "      <td>1560.00</td>\n",
              "      <td>828.07</td>\n",
              "      <td>1.45</td>\n",
              "      <td>3.40</td>\n",
              "    </tr>\n",
              "    <tr>\n",
              "      <th>8</th>\n",
              "      <td>sqft_basement</td>\n",
              "      <td>0.00</td>\n",
              "      <td>4820.00</td>\n",
              "      <td>4820.00</td>\n",
              "      <td>291.51</td>\n",
              "      <td>0.00</td>\n",
              "      <td>442.56</td>\n",
              "      <td>1.58</td>\n",
              "      <td>2.72</td>\n",
              "    </tr>\n",
              "    <tr>\n",
              "      <th>9</th>\n",
              "      <td>sqft_living15</td>\n",
              "      <td>399.00</td>\n",
              "      <td>6210.00</td>\n",
              "      <td>5811.00</td>\n",
              "      <td>1986.55</td>\n",
              "      <td>1840.00</td>\n",
              "      <td>685.38</td>\n",
              "      <td>1.11</td>\n",
              "      <td>1.60</td>\n",
              "    </tr>\n",
              "    <tr>\n",
              "      <th>10</th>\n",
              "      <td>sqft_lot15</td>\n",
              "      <td>651.00</td>\n",
              "      <td>871200.00</td>\n",
              "      <td>870549.00</td>\n",
              "      <td>12768.46</td>\n",
              "      <td>7620.00</td>\n",
              "      <td>27303.55</td>\n",
              "      <td>9.51</td>\n",
              "      <td>150.76</td>\n",
              "    </tr>\n",
              "  </tbody>\n",
              "</table>\n",
              "</div>"
            ],
            "text/plain": [
              "       attributes      min        max      range      mean    median       std  skew  kurtosis\n",
              "0           price 75000.00 7700000.00 7625000.00 540088.14 450000.00 367118.70  4.02     34.59\n",
              "1        bedrooms     0.00      33.00      33.00      3.37      3.00      0.93  1.97     49.06\n",
              "2       bathrooms     0.00       8.00       8.00      2.11      2.25      0.77  0.51      1.28\n",
              "3     sqft_living   290.00   13540.00   13250.00   2079.90   1910.00    918.42  1.47      5.24\n",
              "4        sqft_lot   520.00 1651359.00 1650839.00  15106.97   7618.00  41419.55 13.06    285.08\n",
              "5          floors     1.00       3.50       2.50      1.49      1.50      0.54  0.62     -0.48\n",
              "6           grade     1.00      13.00      12.00      7.66      7.00      1.18  0.77      1.19\n",
              "7      sqft_above   290.00    9410.00    9120.00   1788.39   1560.00    828.07  1.45      3.40\n",
              "8   sqft_basement     0.00    4820.00    4820.00    291.51      0.00    442.56  1.58      2.72\n",
              "9   sqft_living15   399.00    6210.00    5811.00   1986.55   1840.00    685.38  1.11      1.60\n",
              "10     sqft_lot15   651.00  871200.00  870549.00  12768.46   7620.00  27303.55  9.51    150.76"
            ]
          },
          "execution_count": 11,
          "metadata": {},
          "output_type": "execute_result"
        }
      ]
    },
    {
      "cell_type": "markdown",
      "metadata": {
        "id": "0538ea45"
      },
      "source": [
        "### 1.4.2 Categorical Attributes"
      ],
      "id": "0538ea45"
    },
    {
      "cell_type": "code",
      "metadata": {
        "ExecuteTime": {
          "end_time": "2021-11-12T00:25:57.927998Z",
          "start_time": "2021-11-12T00:25:57.897082Z"
        },
        "id": "c6f10c21",
        "outputId": "308d2d2d-816d-43b2-acc9-a5a306587719"
      },
      "source": [
        "cat_attributes.apply(lambda x: x.unique().shape[0])"
      ],
      "id": "c6f10c21",
      "execution_count": null,
      "outputs": [
        {
          "data": {
            "text/plain": [
              "id              21436\n",
              "waterfront          2\n",
              "view                5\n",
              "condition           5\n",
              "yr_built          116\n",
              "yr_renovated       70\n",
              "zipcode            70\n",
              "lat              5034\n",
              "long              752\n",
              "dtype: int64"
            ]
          },
          "execution_count": 12,
          "metadata": {},
          "output_type": "execute_result"
        }
      ]
    },
    {
      "cell_type": "code",
      "metadata": {
        "ExecuteTime": {
          "end_time": "2021-11-12T00:25:58.309027Z",
          "start_time": "2021-11-12T00:25:57.928996Z"
        },
        "id": "cd281c61",
        "outputId": "f4e65199-41d8-40a2-8569-b0b0bdd59bec"
      },
      "source": [
        "plt.subplot(1, 3, 1)\n",
        "sns.countplot(df1['waterfront'])\n",
        "\n",
        "plt.subplot(1, 3, 2)\n",
        "sns.countplot(df1['view'])\n",
        "\n",
        "plt.subplot(1, 3, 3)\n",
        "sns.countplot(df1['condition'])"
      ],
      "id": "cd281c61",
      "execution_count": null,
      "outputs": [
        {
          "data": {
            "text/plain": [
              "<AxesSubplot:xlabel='condition', ylabel='count'>"
            ]
          },
          "execution_count": 13,
          "metadata": {},
          "output_type": "execute_result"
        },
        {
          "data": {
            "image/png": "[encoded data removed]",
            "text/plain": [
              "<Figure size 1800x864 with 3 Axes>"
            ]
          },
          "metadata": {},
          "output_type": "display_data"
        }
      ]
    },
    {
      "cell_type": "markdown",
      "metadata": {
        "id": "0e8dca0a"
      },
      "source": [
        "# 2.0 FEATURE ENGINEERING"
      ],
      "id": "0e8dca0a"
    },
    {
      "cell_type": "code",
      "metadata": {
        "ExecuteTime": {
          "end_time": "2021-11-12T00:25:58.324994Z",
          "start_time": "2021-11-12T00:25:58.309975Z"
        },
        "id": "28d73fe2"
      },
      "source": [
        "df2 = df1.copy()"
      ],
      "id": "28d73fe2",
      "execution_count": null,
      "outputs": []
    },
    {
      "cell_type": "code",
      "metadata": {
        "ExecuteTime": {
          "end_time": "2021-11-12T00:25:58.340892Z",
          "start_time": "2021-11-12T00:25:58.325935Z"
        },
        "id": "94ab3e1d",
        "outputId": "15c9d1da-96bc-4392-9e03-3fc483bdc97d"
      },
      "source": [
        "# Search for duplicates\n",
        "print('Number of rows: {}'.format(df2.shape[0]))\n",
        "print('Number of IDs: {}'.format(len(df2['id'].unique())))"
      ],
      "id": "94ab3e1d",
      "execution_count": null,
      "outputs": [
        {
          "name": "stdout",
          "output_type": "stream",
          "text": [
            "Number of rows: 21613\n",
            "Number of IDs: 21436\n"
          ]
        }
      ]
    },
    {
      "cell_type": "code",
      "metadata": {
        "ExecuteTime": {
          "end_time": "2021-11-12T00:25:58.371812Z",
          "start_time": "2021-11-12T00:25:58.341891Z"
        },
        "id": "a543bf2b"
      },
      "source": [
        "# Drop duplicate ID's\n",
        "df2 = df2.drop_duplicates(subset = ['id'], keep = 'last')"
      ],
      "id": "a543bf2b",
      "execution_count": null,
      "outputs": []
    },
    {
      "cell_type": "code",
      "metadata": {
        "ExecuteTime": {
          "end_time": "2021-11-12T00:25:58.402727Z",
          "start_time": "2021-11-12T00:25:58.372808Z"
        },
        "id": "2831fc7b"
      },
      "source": [
        "# Drop NA\n",
        "df2 = df2.dropna()\n",
        "df2 = df2.reset_index(drop=True)"
      ],
      "id": "2831fc7b",
      "execution_count": null,
      "outputs": []
    },
    {
      "cell_type": "code",
      "metadata": {
        "ExecuteTime": {
          "end_time": "2021-11-12T00:25:58.418685Z",
          "start_time": "2021-11-12T00:25:58.403725Z"
        },
        "id": "1af02cc8",
        "outputId": "2b0c684b-b961-4a9f-d010-7d26710eff42"
      },
      "source": [
        "# Watching for outliers\n",
        "\n",
        "unique = df2[['bedrooms','bathrooms','floors','waterfront','view','condition','grade']]\n",
        "\n",
        "for i in unique:\n",
        "    print('Attribute: {} - {}'.format(i, df2[i].unique().tolist()))"
      ],
      "id": "1af02cc8",
      "execution_count": null,
      "outputs": [
        {
          "name": "stdout",
          "output_type": "stream",
          "text": [
            "Attribute: bedrooms - [3, 2, 4, 5, 1, 6, 7, 0, 8, 9, 11, 10, 33]\n",
            "Attribute: bathrooms - [1.0, 2.25, 3.0, 2.0, 4.5, 1.5, 2.5, 1.75, 2.75, 3.25, 4.0, 3.5, 0.75, 4.75, 5.0, 4.25, 3.75, 0.0, 1.25, 5.25, 6.0, 0.5, 5.5, 6.75, 5.75, 8.0, 7.5, 7.75, 6.25, 6.5]\n",
            "Attribute: floors - [1.0, 2.0, 1.5, 3.0, 2.5, 3.5]\n",
            "Attribute: waterfront - ['0', '1']\n",
            "Attribute: view - ['0', '3', '4', '2', '1']\n",
            "Attribute: condition - ['3', '5', '4', '1', '2']\n",
            "Attribute: grade - [7, 6, 8, 11, 9, 5, 10, 12, 4, 3, 13, 1]\n"
          ]
        }
      ]
    },
    {
      "cell_type": "code",
      "metadata": {
        "ExecuteTime": {
          "end_time": "2021-11-12T00:25:58.434643Z",
          "start_time": "2021-11-12T00:25:58.419683Z"
        },
        "id": "259de480"
      },
      "source": [
        "# Removing outlier from 'bedrooms' column\n",
        "df2.drop(df2.loc[df2['bedrooms'] == 33].index, inplace = True)"
      ],
      "id": "259de480",
      "execution_count": null,
      "outputs": []
    },
    {
      "cell_type": "markdown",
      "metadata": {
        "id": "140c6c91"
      },
      "source": [
        "## Creating new features"
      ],
      "id": "140c6c91"
    },
    {
      "cell_type": "code",
      "metadata": {
        "ExecuteTime": {
          "end_time": "2021-11-12T00:25:58.656051Z",
          "start_time": "2021-11-12T00:25:58.435640Z"
        },
        "id": "defe02c7"
      },
      "source": [
        "# year\n",
        "df2['year'] = df2['date'].dt.year\n",
        "\n",
        "# month\n",
        "df2['month'] = df2['date'].dt.month\n",
        "\n",
        "# day\n",
        "df2['day'] = df2['date'].dt.day\n",
        "\n",
        "# week of year\n",
        "df2['week_of_year'] = df2['date'].dt.weekofyear\n",
        "\n",
        "# year-week\n",
        "df2['year_week'] = df2['date'].dt.strftime( '%Y-%W' )\n",
        "\n",
        "# house age\n",
        "df2['house_age'] = 'NA'\n",
        "df2.loc[df2['date'] > '2014-01-01', 'house_age'] = 'new_house'\n",
        "df2.loc[df2['date'] < '2014-01-01', 'house_age'] = 'old_house'\n",
        "\n",
        "# condition type\n",
        "df2['condition'] = df2['condition'].astype(int64)\n",
        "df2['condition_type'] = df2['condition'].apply(lambda x: 'bad' if x<=2 else 'regular' if (x==3)| (x==4) else 'good')\n",
        "\n",
        "# Basement\n",
        "df2['basement'] = df2['sqft_basement'].apply(lambda x: 'no' if x == 0 else 'yes')        \n",
        "\n",
        "# Season\n",
        "df2['season'] = df2['month'].apply(lambda x: 'summer' if (x > 5) & (x < 8)  else\n",
        "                                             'spring' if (x > 2) & (x < 5)  else\n",
        "                                             'fall'   if (x > 8) & (x < 12) else\n",
        "                                             'winter')\n",
        "# Renovated\n",
        "df2['renovated'] = df2['yr_renovated'].apply(lambda x: 'no' if x == 0 else 'yes')\n",
        "\n",
        "# Year of Construction\n",
        "df2['yr_built'] = df2['yr_built'].astype(int64)\n",
        "df2['construction'] = df2['yr_built'].apply(lambda x: '<1955' if x <= 1955 else '>1955')\n",
        "\n",
        "# Describe condition\n",
        "df2['describe_condition'] = df2['condition'].apply(lambda x: 'too bad' if x == 1 else\n",
        "                                                             'bad'     if x == 2 else\n",
        "                                                             'median'  if x == 3 else\n",
        "                                                             'good'    if x == 4 else\n",
        "                                                             'excellent')"
      ],
      "id": "defe02c7",
      "execution_count": null,
      "outputs": []
    },
    {
      "cell_type": "code",
      "metadata": {
        "ExecuteTime": {
          "end_time": "2021-11-12T00:26:06.972927Z",
          "start_time": "2021-11-12T00:25:58.658046Z"
        },
        "id": "02f40948"
      },
      "source": [
        "# Describe price level\n",
        "df2['price_level'] = 'NA'  \n",
        "for i in range(len(df2)):\n",
        "    if (df2.iloc[i, 2] > 0) & (df2.iloc[i, 2] < 321950):\n",
        "        df2.loc[i, 'price_level'] = 0\n",
        "    elif (df2.iloc[i, 2] >= 321950) & (df2.iloc[i, 2] < 450000):\n",
        "        df2.loc[i, 'price_level'] = 1\n",
        "    elif (df2.iloc[i, 2] >= 450000) & (df2.iloc[i, 2] < 645000):\n",
        "        df2.loc[i, 'price_level'] = 2\n",
        "    else:\n",
        "        df2.loc[i, 'price_level'] = 3"
      ],
      "id": "02f40948",
      "execution_count": null,
      "outputs": []
    },
    {
      "cell_type": "code",
      "metadata": {
        "ExecuteTime": {
          "end_time": "2021-11-12T00:26:09.944592Z",
          "start_time": "2021-11-12T00:26:06.974925Z"
        },
        "id": "840ca007"
      },
      "source": [
        "# Describe standard (price < 540,000) and high standard (price > 540,000)\n",
        "df2['standard'] = 'standard'  \n",
        "for i in range(len(df2)):\n",
        "    if (df2.iloc[i, 2] > 540000):\n",
        "        df2.loc[i, 'standard'] = 'high_standard'"
      ],
      "id": "840ca007",
      "execution_count": null,
      "outputs": []
    },
    {
      "cell_type": "markdown",
      "metadata": {
        "id": "1f8ec442"
      },
      "source": [
        "### Using API geolocator, add the following features to dataset:\n",
        "- Place ID: property location identification\n",
        "- OSM Type: Open Street Map type\n",
        "- County: name of the county\n",
        "- Postal Code: postal code of the property"
      ],
      "id": "1f8ec442"
    },
    {
      "cell_type": "code",
      "metadata": {
        "ExecuteTime": {
          "end_time": "2021-11-12T00:26:10.179998Z",
          "start_time": "2021-11-12T00:26:09.945598Z"
        },
        "id": "2f3e4ad4"
      },
      "source": [
        "df2['query'] = df2[['lat', 'long']].apply(lambda x: str(x['lat']) + ',' + str(x['long']), axis=1)"
      ],
      "id": "2f3e4ad4",
      "execution_count": null,
      "outputs": []
    },
    {
      "cell_type": "code",
      "metadata": {
        "ExecuteTime": {
          "end_time": "2021-11-12T00:26:10.195331Z",
          "start_time": "2021-11-12T00:26:10.181669Z"
        },
        "id": "7b40765d"
      },
      "source": [
        "# As Jupyter Notebook doesn't run multi-thread parallelism processes, this function is saved in a separate file \n",
        "# and has been imported as a module in the next snippet. \n",
        "\n",
        "# def get_data(x):\n",
        "#     index, row = x\n",
        "#     time.sleep(1)\n",
        "    \n",
        "#     # API call\n",
        "#     response = geolocator.reverse(row['query'])\n",
        "    \n",
        "#     place_id = response.raw['place_id']\n",
        "#     osm_type = response.raw['osm_type']\n",
        "#     county = response.raw['address']['county']\n",
        "#     postal_code = response.raw['address']['postcode']\n",
        "        \n",
        "#     return place_id, osm_type, county, postal_code"
      ],
      "id": "7b40765d",
      "execution_count": null,
      "outputs": []
    },
    {
      "cell_type": "code",
      "metadata": {
        "ExecuteTime": {
          "end_time": "2021-11-12T00:27:39.129360Z",
          "start_time": "2021-11-12T00:27:22.850474Z"
        },
        "id": "3c291fcc",
        "outputId": "bd92752d-fc1a-4984-ae82-24c324237d40"
      },
      "source": [
        "import defs\n",
        "\n",
        "df_api = df2[['id', 'query']].sample(5).copy()\n",
        "\n",
        "p = Pool(3)\n",
        "\n",
        "start = time.process_time()\n",
        "df_api[['place_id', 'osm_type', 'county', 'postal_code']] = p.map(defs.get_data, df_api.iterrows())\n",
        "end = time.process_time()\n",
        "\n",
        "print('Time elapsed: {}'.format(end - start))"
      ],
      "id": "3c291fcc",
      "execution_count": null,
      "outputs": [
        {
          "name": "stdout",
          "output_type": "stream",
          "text": [
            "Time elapsed: 0.0\n"
          ]
        }
      ]
    },
    {
      "cell_type": "code",
      "metadata": {
        "ExecuteTime": {
          "end_time": "2021-11-12T00:27:44.754130Z",
          "start_time": "2021-11-12T00:27:44.733150Z"
        },
        "id": "ad3ebcc8",
        "outputId": "439a3fe3-99dc-4dbd-cd76-f8639f6f471a"
      },
      "source": [
        "df_api.head(5).T"
      ],
      "id": "ad3ebcc8",
      "execution_count": null,
      "outputs": [
        {
          "data": {
            "text/html": [
              "<div>\n",
              "<style scoped>\n",
              "    .dataframe tbody tr th:only-of-type {\n",
              "        vertical-align: middle;\n",
              "    }\n",
              "\n",
              "    .dataframe tbody tr th {\n",
              "        vertical-align: top;\n",
              "    }\n",
              "\n",
              "    .dataframe thead th {\n",
              "        text-align: right;\n",
              "    }\n",
              "</style>\n",
              "<table border=\"1\" class=\"dataframe\">\n",
              "  <thead>\n",
              "    <tr style=\"text-align: right;\">\n",
              "      <th></th>\n",
              "      <th>1849</th>\n",
              "      <th>8259</th>\n",
              "      <th>16820</th>\n",
              "      <th>5748</th>\n",
              "      <th>11546</th>\n",
              "    </tr>\n",
              "  </thead>\n",
              "  <tbody>\n",
              "    <tr>\n",
              "      <th>id</th>\n",
              "      <td>2143700830</td>\n",
              "      <td>2391601010</td>\n",
              "      <td>5466700290</td>\n",
              "      <td>2473370050</td>\n",
              "      <td>2523039282</td>\n",
              "    </tr>\n",
              "    <tr>\n",
              "      <th>query</th>\n",
              "      <td>47.4787,-122.23</td>\n",
              "      <td>47.564,-122.398</td>\n",
              "      <td>47.3951,-122.172</td>\n",
              "      <td>47.4507,-122.139</td>\n",
              "      <td>47.4594,-122.359</td>\n",
              "    </tr>\n",
              "    <tr>\n",
              "      <th>place_id</th>\n",
              "      <td>231579050</td>\n",
              "      <td>158544908</td>\n",
              "      <td>229458642</td>\n",
              "      <td>229873449</td>\n",
              "      <td>236799318</td>\n",
              "    </tr>\n",
              "    <tr>\n",
              "      <th>osm_type</th>\n",
              "      <td>way</td>\n",
              "      <td>way</td>\n",
              "      <td>way</td>\n",
              "      <td>way</td>\n",
              "      <td>way</td>\n",
              "    </tr>\n",
              "    <tr>\n",
              "      <th>county</th>\n",
              "      <td>King County</td>\n",
              "      <td>King County</td>\n",
              "      <td>King County</td>\n",
              "      <td>King County</td>\n",
              "      <td>King County</td>\n",
              "    </tr>\n",
              "    <tr>\n",
              "      <th>postal_code</th>\n",
              "      <td>NA</td>\n",
              "      <td>NA</td>\n",
              "      <td>NA</td>\n",
              "      <td>NA</td>\n",
              "      <td>NA</td>\n",
              "    </tr>\n",
              "  </tbody>\n",
              "</table>\n",
              "</div>"
            ],
            "text/plain": [
              "                       1849             8259              16820             5748              11546\n",
              "id                2143700830       2391601010        5466700290        2473370050        2523039282\n",
              "query        47.4787,-122.23  47.564,-122.398  47.3951,-122.172  47.4507,-122.139  47.4594,-122.359\n",
              "place_id           231579050        158544908         229458642         229873449         236799318\n",
              "osm_type                 way              way               way               way               way\n",
              "county           King County      King County       King County       King County       King County\n",
              "postal_code               NA               NA                NA                NA                NA"
            ]
          },
          "execution_count": 27,
          "metadata": {},
          "output_type": "execute_result"
        }
      ]
    },
    {
      "cell_type": "markdown",
      "metadata": {
        "id": "3f26c1fd"
      },
      "source": [
        "# 3.0 EDA - Exploratory Data Analysis"
      ],
      "id": "3f26c1fd"
    },
    {
      "cell_type": "code",
      "metadata": {
        "ExecuteTime": {
          "end_time": "2021-11-12T00:28:41.369753Z",
          "start_time": "2021-11-12T00:28:41.357798Z"
        },
        "id": "7767f9a5"
      },
      "source": [
        "df3 = df2.copy()"
      ],
      "id": "7767f9a5",
      "execution_count": null,
      "outputs": []
    },
    {
      "cell_type": "markdown",
      "metadata": {
        "id": "3f5df731"
      },
      "source": [
        "## 3.1 Hipothesis & Insights"
      ],
      "id": "3f5df731"
    },
    {
      "cell_type": "markdown",
      "metadata": {
        "id": "ee752824"
      },
      "source": [
        "### H1: Properties with water view would be more expensive"
      ],
      "id": "ee752824"
    },
    {
      "cell_type": "code",
      "metadata": {
        "ExecuteTime": {
          "end_time": "2021-11-12T00:28:43.784094Z",
          "start_time": "2021-11-12T00:28:43.665408Z"
        },
        "code_folding": [],
        "id": "85f10822",
        "outputId": "a6beadd0-c7b4-4384-ca82-0e45c30479dc"
      },
      "source": [
        "h1 = df3[['price','waterfront']].groupby('waterfront').mean().reset_index()\n",
        "plt.figure(figsize=(10,6))\n",
        "sns.barplot(h1['waterfront'],h1['price'])"
      ],
      "id": "85f10822",
      "execution_count": null,
      "outputs": [
        {
          "data": {
            "text/plain": [
              "<AxesSubplot:xlabel='waterfront', ylabel='price'>"
            ]
          },
          "execution_count": 29,
          "metadata": {},
          "output_type": "execute_result"
        },
        {
          "data": {
            "image/png": "[encoded data removed]",
            "text/plain": [
              "<Figure size 720x432 with 1 Axes>"
            ]
          },
          "metadata": {},
          "output_type": "display_data"
        }
      ]
    },
    {
      "cell_type": "code",
      "metadata": {
        "ExecuteTime": {
          "end_time": "2021-11-12T00:28:44.492083Z",
          "start_time": "2021-11-12T00:28:44.483075Z"
        },
        "id": "88c7cd22",
        "outputId": "e64a7166-6eb1-4dc8-80c6-86f71602cd22"
      },
      "source": [
        "h1_percent = (h1.loc[1,'price'] - h1.loc[0,'price']) / h1.loc[0,'price']\n",
        "print('H1 is True: properties with waterview are in the mean {0:.0%} more expensive'.format(h1_percent))"
      ],
      "id": "88c7cd22",
      "execution_count": null,
      "outputs": [
        {
          "name": "stdout",
          "output_type": "stream",
          "text": [
            "H1 is True: properties with waterview are in the mean 212% more expensive\n"
          ]
        }
      ]
    },
    {
      "cell_type": "markdown",
      "metadata": {
        "id": "e000a5c2"
      },
      "source": [
        "### H2: Properties constructed before 1955 would be less expensive"
      ],
      "id": "e000a5c2"
    },
    {
      "cell_type": "code",
      "metadata": {
        "ExecuteTime": {
          "end_time": "2021-11-12T00:28:46.028716Z",
          "start_time": "2021-11-12T00:28:45.885124Z"
        },
        "id": "f0d2ea73",
        "outputId": "ea18de51-a248-4bce-813d-fc3b89835879"
      },
      "source": [
        "h2 = df3[['price','construction']].groupby('construction').mean().reset_index()\n",
        "plt.figure(figsize=(10,6))\n",
        "sns.barplot(h2['construction'],h2['price'])"
      ],
      "id": "f0d2ea73",
      "execution_count": null,
      "outputs": [
        {
          "data": {
            "text/plain": [
              "<AxesSubplot:xlabel='construction', ylabel='price'>"
            ]
          },
          "execution_count": 31,
          "metadata": {},
          "output_type": "execute_result"
        },
        {
          "data": {
            "image/png": "[encoded data removed]",
            "text/plain": [
              "<Figure size 720x432 with 1 Axes>"
            ]
          },
          "metadata": {},
          "output_type": "display_data"
        }
      ]
    },
    {
      "cell_type": "code",
      "metadata": {
        "ExecuteTime": {
          "end_time": "2021-11-12T00:28:46.577148Z",
          "start_time": "2021-11-12T00:28:46.565217Z"
        },
        "id": "dea098bd",
        "outputId": "b536b0c1-3432-47bd-915d-85d0138460cf"
      },
      "source": [
        "h2_percent = (h2.loc[1,'price'] - h2.loc[0,'price']) / h2.loc[1,'price']\n",
        "print('H2 is False: properties constructed before 1955 are in the mean only {0:.0%} less expensive'.format(h2_percent))"
      ],
      "id": "dea098bd",
      "execution_count": null,
      "outputs": [
        {
          "name": "stdout",
          "output_type": "stream",
          "text": [
            "H2 is False: properties constructed before 1955 are in the mean only 1% less expensive\n"
          ]
        }
      ]
    },
    {
      "cell_type": "markdown",
      "metadata": {
        "id": "232a0858"
      },
      "source": [
        "### H3: Properties without basement would have larger square footage"
      ],
      "id": "232a0858"
    },
    {
      "cell_type": "code",
      "metadata": {
        "ExecuteTime": {
          "end_time": "2021-11-12T00:28:48.014597Z",
          "start_time": "2021-11-12T00:28:47.899869Z"
        },
        "code_folding": [],
        "id": "4f2d769c",
        "outputId": "43ddb58f-eca8-48e2-a9fe-25d0d269e8ae"
      },
      "source": [
        "h3 = df3[['sqft_lot','basement']].groupby('basement').mean().reset_index()\n",
        "\n",
        "plt.figure(figsize=(10,6))\n",
        "sns.barplot(h3['basement'],h3['sqft_lot'])"
      ],
      "id": "4f2d769c",
      "execution_count": null,
      "outputs": [
        {
          "data": {
            "text/plain": [
              "<AxesSubplot:xlabel='basement', ylabel='sqft_lot'>"
            ]
          },
          "execution_count": 33,
          "metadata": {},
          "output_type": "execute_result"
        },
        {
          "data": {
            "image/png": "[encoded data removed]",
            "text/plain": [
              "<Figure size 720x432 with 1 Axes>"
            ]
          },
          "metadata": {},
          "output_type": "display_data"
        }
      ]
    },
    {
      "cell_type": "code",
      "metadata": {
        "ExecuteTime": {
          "end_time": "2021-11-12T00:28:48.578105Z",
          "start_time": "2021-11-12T00:28:48.565147Z"
        },
        "id": "5c203f8b",
        "outputId": "a3e95248-cbab-4ed5-87de-e229ea0582fe"
      },
      "source": [
        "h3_percent = (h3.loc[0,'sqft_lot'] - h3.loc[1,'sqft_lot']) / h3.loc[1,'sqft_lot']\n",
        "print('H3 is True: properties with no basement have square footage {0:.0%} larger'.format(h3_percent))"
      ],
      "id": "5c203f8b",
      "execution_count": null,
      "outputs": [
        {
          "name": "stdout",
          "output_type": "stream",
          "text": [
            "H3 is True: properties with no basement have square footage 23% larger\n"
          ]
        }
      ]
    },
    {
      "cell_type": "markdown",
      "metadata": {
        "id": "a171e517"
      },
      "source": [
        "### H4: Prices would have rised up YoY (Year over Year)"
      ],
      "id": "a171e517"
    },
    {
      "cell_type": "code",
      "metadata": {
        "ExecuteTime": {
          "end_time": "2021-11-12T00:28:50.178617Z",
          "start_time": "2021-11-12T00:28:50.054801Z"
        },
        "code_folding": [],
        "id": "7128e800",
        "outputId": "94f3fcba-e93d-47da-8934-81f2a06cf7f8"
      },
      "source": [
        "h4 = df3[['price','year']].groupby('year').mean().reset_index()\n",
        "plt.figure(figsize=(10,6))\n",
        "sns.barplot(h4['year'],h4['price'])"
      ],
      "id": "7128e800",
      "execution_count": null,
      "outputs": [
        {
          "data": {
            "text/plain": [
              "<AxesSubplot:xlabel='year', ylabel='price'>"
            ]
          },
          "execution_count": 35,
          "metadata": {},
          "output_type": "execute_result"
        },
        {
          "data": {
            "image/png": "[encoded data removed]",
            "text/plain": [
              "<Figure size 720x432 with 1 Axes>"
            ]
          },
          "metadata": {},
          "output_type": "display_data"
        }
      ]
    },
    {
      "cell_type": "code",
      "metadata": {
        "ExecuteTime": {
          "end_time": "2021-11-12T00:28:50.761106Z",
          "start_time": "2021-11-12T00:28:50.750147Z"
        },
        "id": "2c0e4f98",
        "outputId": "a0ec0938-5294-4e57-ed2d-df94f1d70e2a"
      },
      "source": [
        "h4_percent = (h4.loc[1,'price'] - h4.loc[0,'price']) / h4.loc[0,'price']\n",
        "print('H4 is False: price growth from 2014 to 2015 was {0:.0%}'.format(h4_percent))"
      ],
      "id": "2c0e4f98",
      "execution_count": null,
      "outputs": [
        {
          "name": "stdout",
          "output_type": "stream",
          "text": [
            "H4 is False: price growth from 2014 to 2015 was 0%\n"
          ]
        }
      ]
    },
    {
      "cell_type": "markdown",
      "metadata": {
        "ExecuteTime": {
          "end_time": "2021-09-04T19:46:11.631088Z",
          "start_time": "2021-09-04T19:46:11.312707Z"
        },
        "id": "381a9891"
      },
      "source": [
        "### H5: Properties with more bedrooms would be more expensive"
      ],
      "id": "381a9891"
    },
    {
      "cell_type": "code",
      "metadata": {
        "ExecuteTime": {
          "end_time": "2021-11-12T00:28:52.482498Z",
          "start_time": "2021-11-12T00:28:52.306798Z"
        },
        "code_folding": [],
        "id": "53d4a3c5",
        "outputId": "41847ba2-1d54-4570-ee66-c6361d1056ee"
      },
      "source": [
        "h5 = df3[['price','bedrooms']].groupby('bedrooms').mean().reset_index()\n",
        "\n",
        "plt.figure(figsize=(15,5))\n",
        "sns.barplot(h5['bedrooms'],h5['price'])\n",
        "\n",
        "median = h5['bedrooms'].median()\n",
        "\n",
        "bed_above = h5['price'][h5['bedrooms'] > median].mean()\n",
        "bed_below = h5['price'][h5['bedrooms'] < median].mean()"
      ],
      "id": "53d4a3c5",
      "execution_count": null,
      "outputs": [
        {
          "data": {
            "image/png": "[encoded data removed]",
            "text/plain": [
              "<Figure size 1080x360 with 1 Axes>"
            ]
          },
          "metadata": {},
          "output_type": "display_data"
        }
      ]
    },
    {
      "cell_type": "code",
      "metadata": {
        "ExecuteTime": {
          "end_time": "2021-11-12T00:28:53.120895Z",
          "start_time": "2021-11-12T00:28:53.106904Z"
        },
        "id": "5f886aca",
        "outputId": "5e5e7a1e-0d10-4447-a570-2ffa4b5126a9"
      },
      "source": [
        "h5_percent = (bed_above - bed_below) / bed_below\n",
        "print('H5 is True: properties with more than 5 beds are {0:.0%} more expensive.'.format(h5_percent))"
      ],
      "id": "5f886aca",
      "execution_count": null,
      "outputs": [
        {
          "name": "stdout",
          "output_type": "stream",
          "text": [
            "H5 is True: properties with more than 5 beds are 69% more expensive.\n"
          ]
        }
      ]
    },
    {
      "cell_type": "markdown",
      "metadata": {
        "id": "9da6a474"
      },
      "source": [
        "# 4.0 BUSINESS QUESTIONS & SOLUTIONS"
      ],
      "id": "9da6a474"
    },
    {
      "cell_type": "code",
      "metadata": {
        "ExecuteTime": {
          "end_time": "2021-11-13T00:30:02.874830Z",
          "start_time": "2021-11-13T00:30:02.862864Z"
        },
        "id": "52259400"
      },
      "source": [
        "df4 = df3.copy()"
      ],
      "id": "52259400",
      "execution_count": null,
      "outputs": []
    },
    {
      "cell_type": "code",
      "metadata": {
        "ExecuteTime": {
          "end_time": "2021-11-13T00:30:03.599172Z",
          "start_time": "2021-11-13T00:30:03.580225Z"
        },
        "id": "f4b5c40a",
        "outputId": "1f2dd0f8-3613-403b-d34b-6989d12ca984"
      },
      "source": [
        "df4.sample(5).T"
      ],
      "id": "f4b5c40a",
      "execution_count": null,
      "outputs": [
        {
          "data": {
            "text/html": [
              "<div>\n",
              "<style scoped>\n",
              "    .dataframe tbody tr th:only-of-type {\n",
              "        vertical-align: middle;\n",
              "    }\n",
              "\n",
              "    .dataframe tbody tr th {\n",
              "        vertical-align: top;\n",
              "    }\n",
              "\n",
              "    .dataframe thead th {\n",
              "        text-align: right;\n",
              "    }\n",
              "</style>\n",
              "<table border=\"1\" class=\"dataframe\">\n",
              "  <thead>\n",
              "    <tr style=\"text-align: right;\">\n",
              "      <th></th>\n",
              "      <th>178</th>\n",
              "      <th>11933</th>\n",
              "      <th>11409</th>\n",
              "      <th>18033</th>\n",
              "      <th>10182</th>\n",
              "    </tr>\n",
              "  </thead>\n",
              "  <tbody>\n",
              "    <tr>\n",
              "      <th>id</th>\n",
              "      <td>9158100075</td>\n",
              "      <td>7696610240</td>\n",
              "      <td>4136880140</td>\n",
              "      <td>3959400645</td>\n",
              "      <td>1091310140</td>\n",
              "    </tr>\n",
              "    <tr>\n",
              "      <th>date</th>\n",
              "      <td>2015-01-07 00:00:00</td>\n",
              "      <td>2014-12-10 00:00:00</td>\n",
              "      <td>2014-05-22 00:00:00</td>\n",
              "      <td>2015-01-07 00:00:00</td>\n",
              "      <td>2014-11-03 00:00:00</td>\n",
              "    </tr>\n",
              "    <tr>\n",
              "      <th>price</th>\n",
              "      <td>330000.00</td>\n",
              "      <td>257000.00</td>\n",
              "      <td>254500.00</td>\n",
              "      <td>605000.00</td>\n",
              "      <td>426950.00</td>\n",
              "    </tr>\n",
              "    <tr>\n",
              "      <th>bedrooms</th>\n",
              "      <td>2.00</td>\n",
              "      <td>4.00</td>\n",
              "      <td>4.00</td>\n",
              "      <td>5.00</td>\n",
              "      <td>4.00</td>\n",
              "    </tr>\n",
              "    <tr>\n",
              "      <th>bathrooms</th>\n",
              "      <td>1.00</td>\n",
              "      <td>1.50</td>\n",
              "      <td>2.75</td>\n",
              "      <td>3.00</td>\n",
              "      <td>2.75</td>\n",
              "    </tr>\n",
              "    <tr>\n",
              "      <th>sqft_living</th>\n",
              "      <td>1350.00</td>\n",
              "      <td>1400.00</td>\n",
              "      <td>2570.00</td>\n",
              "      <td>3670.00</td>\n",
              "      <td>2350.00</td>\n",
              "    </tr>\n",
              "    <tr>\n",
              "      <th>sqft_lot</th>\n",
              "      <td>8220.00</td>\n",
              "      <td>8500.00</td>\n",
              "      <td>7264.00</td>\n",
              "      <td>9600.00</td>\n",
              "      <td>5589.00</td>\n",
              "    </tr>\n",
              "    <tr>\n",
              "      <th>floors</th>\n",
              "      <td>1.00</td>\n",
              "      <td>2.00</td>\n",
              "      <td>2.00</td>\n",
              "      <td>1.00</td>\n",
              "      <td>2.00</td>\n",
              "    </tr>\n",
              "    <tr>\n",
              "      <th>waterfront</th>\n",
              "      <td>0</td>\n",
              "      <td>0</td>\n",
              "      <td>0</td>\n",
              "      <td>0</td>\n",
              "      <td>0</td>\n",
              "    </tr>\n",
              "    <tr>\n",
              "      <th>view</th>\n",
              "      <td>0</td>\n",
              "      <td>0</td>\n",
              "      <td>0</td>\n",
              "      <td>1</td>\n",
              "      <td>0</td>\n",
              "    </tr>\n",
              "    <tr>\n",
              "      <th>condition</th>\n",
              "      <td>3.00</td>\n",
              "      <td>3.00</td>\n",
              "      <td>3.00</td>\n",
              "      <td>3.00</td>\n",
              "      <td>3.00</td>\n",
              "    </tr>\n",
              "    <tr>\n",
              "      <th>grade</th>\n",
              "      <td>7.00</td>\n",
              "      <td>7.00</td>\n",
              "      <td>8.00</td>\n",
              "      <td>8.00</td>\n",
              "      <td>7.00</td>\n",
              "    </tr>\n",
              "    <tr>\n",
              "      <th>sqft_above</th>\n",
              "      <td>1060.00</td>\n",
              "      <td>1400.00</td>\n",
              "      <td>1720.00</td>\n",
              "      <td>1980.00</td>\n",
              "      <td>2350.00</td>\n",
              "    </tr>\n",
              "    <tr>\n",
              "      <th>sqft_basement</th>\n",
              "      <td>290.00</td>\n",
              "      <td>0.00</td>\n",
              "      <td>850.00</td>\n",
              "      <td>1690.00</td>\n",
              "      <td>0.00</td>\n",
              "    </tr>\n",
              "    <tr>\n",
              "      <th>yr_built</th>\n",
              "      <td>1949.00</td>\n",
              "      <td>1975.00</td>\n",
              "      <td>1998.00</td>\n",
              "      <td>1955.00</td>\n",
              "      <td>2001.00</td>\n",
              "    </tr>\n",
              "    <tr>\n",
              "      <th>yr_renovated</th>\n",
              "      <td>0</td>\n",
              "      <td>0</td>\n",
              "      <td>0</td>\n",
              "      <td>0</td>\n",
              "      <td>0</td>\n",
              "    </tr>\n",
              "    <tr>\n",
              "      <th>zipcode</th>\n",
              "      <td>98177</td>\n",
              "      <td>98001</td>\n",
              "      <td>98092</td>\n",
              "      <td>98108</td>\n",
              "      <td>98059</td>\n",
              "    </tr>\n",
              "    <tr>\n",
              "      <th>lat</th>\n",
              "      <td>47.7224</td>\n",
              "      <td>47.3314</td>\n",
              "      <td>47.258</td>\n",
              "      <td>47.5648</td>\n",
              "      <td>47.5098</td>\n",
              "    </tr>\n",
              "    <tr>\n",
              "      <th>long</th>\n",
              "      <td>-122.358</td>\n",
              "      <td>-122.275</td>\n",
              "      <td>-122.208</td>\n",
              "      <td>-122.316</td>\n",
              "      <td>-122.155</td>\n",
              "    </tr>\n",
              "    <tr>\n",
              "      <th>sqft_living15</th>\n",
              "      <td>1540.00</td>\n",
              "      <td>1580.00</td>\n",
              "      <td>2420.00</td>\n",
              "      <td>1730.00</td>\n",
              "      <td>2014.00</td>\n",
              "    </tr>\n",
              "    <tr>\n",
              "      <th>sqft_lot15</th>\n",
              "      <td>8280.00</td>\n",
              "      <td>7650.00</td>\n",
              "      <td>7911.00</td>\n",
              "      <td>4933.00</td>\n",
              "      <td>6365.00</td>\n",
              "    </tr>\n",
              "    <tr>\n",
              "      <th>year</th>\n",
              "      <td>2015.00</td>\n",
              "      <td>2014.00</td>\n",
              "      <td>2014.00</td>\n",
              "      <td>2015.00</td>\n",
              "      <td>2014.00</td>\n",
              "    </tr>\n",
              "    <tr>\n",
              "      <th>month</th>\n",
              "      <td>1.00</td>\n",
              "      <td>12.00</td>\n",
              "      <td>5.00</td>\n",
              "      <td>1.00</td>\n",
              "      <td>11.00</td>\n",
              "    </tr>\n",
              "    <tr>\n",
              "      <th>day</th>\n",
              "      <td>7.00</td>\n",
              "      <td>10.00</td>\n",
              "      <td>22.00</td>\n",
              "      <td>7.00</td>\n",
              "      <td>3.00</td>\n",
              "    </tr>\n",
              "    <tr>\n",
              "      <th>week_of_year</th>\n",
              "      <td>2.00</td>\n",
              "      <td>50.00</td>\n",
              "      <td>21.00</td>\n",
              "      <td>2.00</td>\n",
              "      <td>45.00</td>\n",
              "    </tr>\n",
              "    <tr>\n",
              "      <th>year_week</th>\n",
              "      <td>2015-01</td>\n",
              "      <td>2014-49</td>\n",
              "      <td>2014-20</td>\n",
              "      <td>2015-01</td>\n",
              "      <td>2014-44</td>\n",
              "    </tr>\n",
              "    <tr>\n",
              "      <th>house_age</th>\n",
              "      <td>new_house</td>\n",
              "      <td>new_house</td>\n",
              "      <td>new_house</td>\n",
              "      <td>new_house</td>\n",
              "      <td>new_house</td>\n",
              "    </tr>\n",
              "    <tr>\n",
              "      <th>condition_type</th>\n",
              "      <td>regular</td>\n",
              "      <td>regular</td>\n",
              "      <td>regular</td>\n",
              "      <td>regular</td>\n",
              "      <td>regular</td>\n",
              "    </tr>\n",
              "    <tr>\n",
              "      <th>basement</th>\n",
              "      <td>yes</td>\n",
              "      <td>no</td>\n",
              "      <td>yes</td>\n",
              "      <td>yes</td>\n",
              "      <td>no</td>\n",
              "    </tr>\n",
              "    <tr>\n",
              "      <th>season</th>\n",
              "      <td>winter</td>\n",
              "      <td>winter</td>\n",
              "      <td>winter</td>\n",
              "      <td>winter</td>\n",
              "      <td>fall</td>\n",
              "    </tr>\n",
              "    <tr>\n",
              "      <th>renovated</th>\n",
              "      <td>yes</td>\n",
              "      <td>yes</td>\n",
              "      <td>yes</td>\n",
              "      <td>yes</td>\n",
              "      <td>yes</td>\n",
              "    </tr>\n",
              "    <tr>\n",
              "      <th>construction</th>\n",
              "      <td>&lt;1955</td>\n",
              "      <td>&gt;1955</td>\n",
              "      <td>&gt;1955</td>\n",
              "      <td>&lt;1955</td>\n",
              "      <td>&gt;1955</td>\n",
              "    </tr>\n",
              "    <tr>\n",
              "      <th>describe_condition</th>\n",
              "      <td>median</td>\n",
              "      <td>median</td>\n",
              "      <td>median</td>\n",
              "      <td>median</td>\n",
              "      <td>median</td>\n",
              "    </tr>\n",
              "    <tr>\n",
              "      <th>price_level</th>\n",
              "      <td>1</td>\n",
              "      <td>0</td>\n",
              "      <td>0</td>\n",
              "      <td>3</td>\n",
              "      <td>1</td>\n",
              "    </tr>\n",
              "    <tr>\n",
              "      <th>standard</th>\n",
              "      <td>standard</td>\n",
              "      <td>standard</td>\n",
              "      <td>standard</td>\n",
              "      <td>high_standard</td>\n",
              "      <td>standard</td>\n",
              "    </tr>\n",
              "    <tr>\n",
              "      <th>query</th>\n",
              "      <td>47.7224,-122.358</td>\n",
              "      <td>47.3314,-122.275</td>\n",
              "      <td>47.258,-122.208</td>\n",
              "      <td>47.5648,-122.316</td>\n",
              "      <td>47.5098,-122.155</td>\n",
              "    </tr>\n",
              "  </tbody>\n",
              "</table>\n",
              "</div>"
            ],
            "text/plain": [
              "                                  178                  11933                11409                18033                10182\n",
              "id                           9158100075           7696610240           4136880140           3959400645           1091310140\n",
              "date                2015-01-07 00:00:00  2014-12-10 00:00:00  2014-05-22 00:00:00  2015-01-07 00:00:00  2014-11-03 00:00:00\n",
              "price                         330000.00            257000.00            254500.00            605000.00            426950.00\n",
              "bedrooms                           2.00                 4.00                 4.00                 5.00                 4.00\n",
              "bathrooms                          1.00                 1.50                 2.75                 3.00                 2.75\n",
              "sqft_living                     1350.00              1400.00              2570.00              3670.00              2350.00\n",
              "sqft_lot                        8220.00              8500.00              7264.00              9600.00              5589.00\n",
              "floors                             1.00                 2.00                 2.00                 1.00                 2.00\n",
              "waterfront                            0                    0                    0                    0                    0\n",
              "view                                  0                    0                    0                    1                    0\n",
              "condition                          3.00                 3.00                 3.00                 3.00                 3.00\n",
              "grade                              7.00                 7.00                 8.00                 8.00                 7.00\n",
              "sqft_above                      1060.00              1400.00              1720.00              1980.00              2350.00\n",
              "sqft_basement                    290.00                 0.00               850.00              1690.00                 0.00\n",
              "yr_built                        1949.00              1975.00              1998.00              1955.00              2001.00\n",
              "yr_renovated                          0                    0                    0                    0                    0\n",
              "zipcode                           98177                98001                98092                98108                98059\n",
              "lat                             47.7224              47.3314               47.258              47.5648              47.5098\n",
              "long                           -122.358             -122.275             -122.208             -122.316             -122.155\n",
              "sqft_living15                   1540.00              1580.00              2420.00              1730.00              2014.00\n",
              "sqft_lot15                      8280.00              7650.00              7911.00              4933.00              6365.00\n",
              "year                            2015.00              2014.00              2014.00              2015.00              2014.00\n",
              "month                              1.00                12.00                 5.00                 1.00                11.00\n",
              "day                                7.00                10.00                22.00                 7.00                 3.00\n",
              "week_of_year                       2.00                50.00                21.00                 2.00                45.00\n",
              "year_week                       2015-01              2014-49              2014-20              2015-01              2014-44\n",
              "house_age                     new_house            new_house            new_house            new_house            new_house\n",
              "condition_type                  regular              regular              regular              regular              regular\n",
              "basement                            yes                   no                  yes                  yes                   no\n",
              "season                           winter               winter               winter               winter                 fall\n",
              "renovated                           yes                  yes                  yes                  yes                  yes\n",
              "construction                      <1955                >1955                >1955                <1955                >1955\n",
              "describe_condition               median               median               median               median               median\n",
              "price_level                           1                    0                    0                    3                    1\n",
              "standard                       standard             standard             standard        high_standard             standard\n",
              "query                  47.7224,-122.358     47.3314,-122.275      47.258,-122.208     47.5648,-122.316     47.5098,-122.155"
            ]
          },
          "execution_count": 188,
          "metadata": {},
          "output_type": "execute_result"
        }
      ]
    },
    {
      "cell_type": "markdown",
      "metadata": {
        "id": "21aaae77"
      },
      "source": [
        "## 4.1 Map showing where the houses are geographically located"
      ],
      "id": "21aaae77"
    },
    {
      "cell_type": "code",
      "metadata": {
        "ExecuteTime": {
          "end_time": "2021-11-13T00:30:04.943102Z",
          "start_time": "2021-11-13T00:30:04.907165Z"
        },
        "id": "5939ef1f"
      },
      "source": [
        "df4['lat'] = df4['lat'].astype(float64)\n",
        "df4['long'] = df4['long'].astype(float64)"
      ],
      "id": "5939ef1f",
      "execution_count": null,
      "outputs": []
    },
    {
      "cell_type": "code",
      "metadata": {
        "ExecuteTime": {
          "end_time": "2021-11-13T00:30:05.593282Z",
          "start_time": "2021-11-13T00:30:05.575335Z"
        },
        "id": "0d36d47c"
      },
      "source": [
        "df4['price'].fillna(0, inplace=True)"
      ],
      "id": "0d36d47c",
      "execution_count": null,
      "outputs": []
    },
    {
      "cell_type": "code",
      "metadata": {
        "ExecuteTime": {
          "end_time": "2021-11-13T00:30:06.237514Z",
          "start_time": "2021-11-13T00:30:06.217530Z"
        },
        "id": "156edfb7"
      },
      "source": [
        "df4['waterfront'] = df4['waterfront'].apply(lambda x: \"yes\" if x==\"1\" else \"no\")"
      ],
      "id": "156edfb7",
      "execution_count": null,
      "outputs": []
    },
    {
      "cell_type": "code",
      "metadata": {
        "ExecuteTime": {
          "end_time": "2021-11-13T00:30:07.135092Z",
          "start_time": "2021-11-13T00:30:07.081271Z"
        },
        "id": "c87fd992"
      },
      "source": [
        "# Interactive buttons - widgets to control data\n",
        "\n",
        "style = {'description_width': 'initial'}\n",
        "\n",
        "# filter by waterfront\n",
        "waterfront_bar = widgets.Dropdown(\n",
        "    options=df4['waterfront'].unique().tolist(),\n",
        "    value='no',\n",
        "    description='Water View',\n",
        "    disable=False)\n",
        "\n",
        "# limit by price\n",
        "price_limit = widgets.IntSlider(\n",
        "    value=int(df4['price'].mean()),\n",
        "    min=int(df4['price'].min()),\n",
        "    max=int(df4['price'].max()),\n",
        "    step=1,\n",
        "    description='Maximum Price',\n",
        "    disable=False,\n",
        "    style={'description_width': 'initial'})\n",
        "\n",
        "# limit living room squarefootage\n",
        "livingroom_limit = widgets.IntSlider(\n",
        "    value=int(df4['sqft_living'].mean()),\n",
        "    min=df4['sqft_living'].min(),\n",
        "    max=df4['sqft_living'].max(),\n",
        "    step=1,\n",
        "    description='Minimum Living Room Size',\n",
        "    disable=False,\n",
        "    style={'description_width': 'initial'})\n",
        "\n",
        "# limit by bathrooms\n",
        "bathroom_limit = widgets.IntSlider(\n",
        "    value=df4['bathrooms'].min(),\n",
        "    min=df4['bathrooms'].min(),\n",
        "    max=df4['bathrooms'].max(),\n",
        "    step=1,\n",
        "    description='Minimum Number of Bathrooms',\n",
        "    disable=False,\n",
        "    style={'description_width': 'initial'})\n",
        "\n",
        "# limit basement squarefootage\n",
        "basement_limit = widgets.IntSlider(\n",
        "    value=int(df4['sqft_basement'].mean()),\n",
        "    min=df4['sqft_basement'].min(),\n",
        "    max=df4['sqft_basement'].max(),\n",
        "    step=1,\n",
        "    description='Maximum Basement Size',\n",
        "    disable=False,\n",
        "    style={'description_width': 'initial'})\n",
        "\n",
        "# limit property condition\n",
        "condition_limit = widgets.IntSlider(\n",
        "    value=df4['condition'].min(),\n",
        "    min=df4['condition'].min(),\n",
        "    max=df4['condition'].max(),\n",
        "    step=1,\n",
        "    description='Property Minimum Condition',\n",
        "    disable=False,\n",
        "    style={'description_width': 'initial'})\n",
        "\n",
        "# limit construction year\n",
        "construction_limit = widgets.IntSlider(\n",
        "    value=int(df4['yr_built'].mean()),\n",
        "    min=df4['yr_built'].min(),\n",
        "    max=df4['yr_built'].max(),\n",
        "    step=1,\n",
        "    description='Year of Construction from',\n",
        "    disable=False,\n",
        "    style={'description_width': 'initial'})"
      ],
      "id": "c87fd992",
      "execution_count": null,
      "outputs": []
    },
    {
      "cell_type": "code",
      "metadata": {
        "ExecuteTime": {
          "end_time": "2021-11-13T00:30:07.921692Z",
          "start_time": "2021-11-13T00:30:07.901746Z"
        },
        "id": "9bf35b9e"
      },
      "source": [
        "def update_map (df4, waterfront, limit, livingroom_limit, bathroom_limit, basement_limit, condition_limit, construction_limit):\n",
        "    \n",
        "    houses = df4[(df4['waterfront'] == waterfront) &\n",
        "                 (df4['price'] <= limit) & \n",
        "                 (df4['sqft_living'] >= livingroom_limit) &\n",
        "                 (df4['bathrooms'] >= bathroom_limit) &\n",
        "                 (df4['sqft_basement'] <= basement_limit) &\n",
        "                 (df4['condition'] >= condition_limit) &\n",
        "                 (df4['yr_built'] >= construction_limit)\n",
        "                ][['id', 'lat', 'long', 'price', 'price_level', 'sqft_living', 'bathrooms', 'sqft_basement', 'condition', 'yr_built']].copy()\n",
        "    \n",
        "    fig = px.scatter_mapbox(houses, lat='lat', lon='long', color='price_level', size='price', \n",
        "                         color_continuous_scale=px.colors.named_colorscales(),\n",
        "                         size_max=15,\n",
        "                         zoom=10)\n",
        "    fig.update_layout(mapbox_style='open-street-map')\n",
        "    fig.update_layout(height=600, margin={'r':0, 't':0, 'l':0, 'b':0})\n",
        "    fig.show()"
      ],
      "id": "9bf35b9e",
      "execution_count": null,
      "outputs": []
    },
    {
      "cell_type": "code",
      "metadata": {
        "ExecuteTime": {
          "end_time": "2021-11-13T00:30:08.920023Z",
          "start_time": "2021-11-13T00:30:08.793363Z"
        },
        "id": "7bc38b55",
        "outputId": "880bd7d6-ddab-4497-9f8c-45230f553f85"
      },
      "source": [
        "widgets.interactive(update_map, df4=fixed(df4), \n",
        "                    waterfront=waterfront_bar, limit=price_limit, livingroom_limit=livingroom_limit, \n",
        "                    bathroom_limit=bathroom_limit, basement_limit=basement_limit, condition_limit=condition_limit, \n",
        "                    construction_limit=construction_limit)\n",
        "\n",
        "# USE KEYBOARD \"+\" AND \"-\" TO ZOOM IN/OUT THE MAP\n",
        "# EACH POINT INDICATES A PROPERTY AND ITS FEATURES"
      ],
      "id": "7bc38b55",
      "execution_count": null,
      "outputs": [
        {
          "data": {
            "application/vnd.jupyter.widget-view+json": {
              "model_id": "3fae40ae1ab94a25964ca9c3a4570e67",
              "version_major": 2,
              "version_minor": 0
            },
            "text/plain": [
              "interactive(children=(Dropdown(description='Water View', options=('no', 'yes'), value='no'), IntSlider(value=5…"
            ]
          },
          "metadata": {},
          "output_type": "display_data"
        }
      ]
    },
    {
      "cell_type": "markdown",
      "metadata": {
        "ExecuteTime": {
          "end_time": "2021-11-02T00:28:38.046860Z",
          "start_time": "2021-11-02T00:28:37.780202Z"
        },
        "id": "918609e2"
      },
      "source": [
        "## 4.2 Dashboard with interactive charts"
      ],
      "id": "918609e2"
    },
    {
      "cell_type": "code",
      "metadata": {
        "ExecuteTime": {
          "end_time": "2021-11-13T00:30:11.006114Z",
          "start_time": "2021-11-13T00:30:10.967179Z"
        },
        "id": "d22d0420"
      },
      "source": [
        "# (joão) adicionou esta linha\n",
        "df4 = data.copy()\n",
        "\n",
        "df4 = df4.dropna(axis=0)"
      ],
      "id": "d22d0420",
      "execution_count": 6,
      "outputs": []
    },
    {
      "cell_type": "code",
      "metadata": {
        "ExecuteTime": {
          "end_time": "2021-11-13T00:30:12.546866Z",
          "start_time": "2021-11-13T00:30:12.130005Z"
        },
        "id": "c1c2d040"
      },
      "source": [
        "# change date format\n",
        "df4.loc[:, 'year'] = pd.to_datetime(df4.loc[:, 'date']).dt.strftime('%Y')\n",
        "df4.loc[:, 'date'] = pd.to_datetime(df4.loc[:, 'date']).dt.strftime('%Y-%m-%d')\n",
        "df4.loc[:, 'year_week'] = pd.to_datetime(df4.loc[:, 'date']).dt.strftime('%Y-%U')"
      ],
      "id": "c1c2d040",
      "execution_count": 7,
      "outputs": []
    },
    {
      "cell_type": "code",
      "metadata": {
        "ExecuteTime": {
          "end_time": "2021-11-13T00:30:13.619464Z",
          "start_time": "2021-11-13T00:30:13.598494Z"
        },
        "id": "bb67a06b"
      },
      "source": [
        "df4.loc[:, 'id'] = df4.loc[:, 'id'].astype(int64)\n",
        "df4.loc[:, 'yr_built'] = df4.loc[:, 'yr_built'].astype(int64)"
      ],
      "id": "bb67a06b",
      "execution_count": 8,
      "outputs": []
    },
    {
      "cell_type": "code",
      "metadata": {
        "ExecuteTime": {
          "end_time": "2021-11-13T00:30:14.637817Z",
          "start_time": "2021-11-13T00:30:14.617872Z"
        },
        "id": "1dbf0012"
      },
      "source": [
        "# Não precisaremos criar uma coluna cópia. Faremos tudo diretamente na yr_renovated\n",
        "#df4.loc[:, 'yr_renovated_col'] = df4.loc[:, 'yr_renovated'].copy()"
      ],
      "id": "1dbf0012",
      "execution_count": 9,
      "outputs": []
    },
    {
      "cell_type": "code",
      "metadata": {
        "ExecuteTime": {
          "end_time": "2021-11-13T00:39:07.986841Z",
          "start_time": "2021-11-13T00:39:07.978863Z"
        },
        "id": "24f23a1b"
      },
      "source": [
        "#df4['yr_renovated_col'] = df4['yr_renovated_col'].replace(0, 1900)\n",
        "df4['yr_renovated'] = df4['yr_renovated'].replace(0, 1900)"
      ],
      "id": "24f23a1b",
      "execution_count": 10,
      "outputs": []
    },
    {
      "cell_type": "code",
      "metadata": {
        "ExecuteTime": {
          "end_time": "2021-11-13T01:09:57.758663Z",
          "start_time": "2021-11-13T01:09:57.752679Z"
        },
        "id": "cbc31f61"
      },
      "source": [
        "# já fizemos a substituição acima, então não precisa dessa linha\n",
        "#df4.loc[:, 'yr_renovated'] = df4.loc[:, 'yr_renovated'].replace('0', '1900')"
      ],
      "id": "cbc31f61",
      "execution_count": null,
      "outputs": []
    },
    {
      "cell_type": "code",
      "metadata": {
        "ExecuteTime": {
          "end_time": "2021-11-13T01:09:58.750447Z",
          "start_time": "2021-11-13T01:09:58.735488Z"
        },
        "colab": {
          "base_uri": "https://localhost:8080/"
        },
        "id": "ab73644b",
        "outputId": "601ab748-3b77-49da-f82a-4b4b7ee07a5e"
      },
      "source": [
        "df4['yr_renovated'].min()"
      ],
      "id": "ab73644b",
      "execution_count": 11,
      "outputs": [
        {
          "output_type": "execute_result",
          "data": {
            "text/plain": [
              "1900"
            ]
          },
          "metadata": {},
          "execution_count": 11
        }
      ]
    },
    {
      "cell_type": "code",
      "metadata": {
        "ExecuteTime": {
          "end_time": "2021-11-13T01:11:50.129282Z",
          "start_time": "2021-11-13T01:11:50.120267Z"
        },
        "id": "27d6f52a"
      },
      "source": [
        "# o formato da yr_renovated é 'int'. Logo, essa linha é desnecessária\n",
        "#df4.loc[:, 'yr_renovated_col'] = df4.loc[:, 'yr_renovated_col'].astype(int64).copy()"
      ],
      "id": "27d6f52a",
      "execution_count": null,
      "outputs": []
    },
    {
      "cell_type": "code",
      "metadata": {
        "ExecuteTime": {
          "end_time": "2021-11-13T01:11:50.979927Z",
          "start_time": "2021-11-13T01:11:50.972951Z"
        },
        "id": "7c938c97"
      },
      "source": [
        "# Primeiro vamos ver se gera os gráficos com a coluna yr_renovated como int. Depois tentaremos convertê-la para datetime\n",
        "#df4['yr_renovated_col'] = pd.to_datetime(df4['yr_renovated_col']).dt.strftime('%Y')"
      ],
      "id": "7c938c97",
      "execution_count": null,
      "outputs": []
    },
    {
      "cell_type": "code",
      "metadata": {
        "ExecuteTime": {
          "end_time": "2021-11-13T01:11:51.722571Z",
          "start_time": "2021-11-13T01:11:51.685668Z"
        },
        "id": "2d0a3721"
      },
      "source": [
        "df4.sample(5).T"
      ],
      "id": "2d0a3721",
      "execution_count": null,
      "outputs": []
    },
    {
      "cell_type": "code",
      "metadata": {
        "ExecuteTime": {
          "end_time": "2021-11-13T01:12:51.287053Z",
          "start_time": "2021-11-13T01:12:51.194297Z"
        },
        "id": "deb4f388"
      },
      "source": [
        "# Interactive buttons - widgets to control data\n",
        "\n",
        "# filter by waterfront\n",
        "waterfront_box = widgets.Checkbox(\n",
        "    value=False,\n",
        "    options=df4.loc[:, 'waterfront'].unique().tolist(),\n",
        "    description='Water View',\n",
        "    disable=False,\n",
        "    indent=False)\n",
        "\n",
        "# property availability\n",
        "date_limit = widgets.SelectionSlider(\n",
        "    options=df4.loc[:, 'date'].sort_values().unique().tolist(),\n",
        "    value = df4['date'].max(),\n",
        "    description = \"Availability\",\n",
        "    style={'description_width':'initial'},\n",
        "    #disable=False,\n",
        "    continuous_update=False,\n",
        "    #orientation='horizontal',\n",
        "    readout=True )\n",
        "\n",
        "# renovation year\n",
        "renovation_limit = widgets.SelectionSlider(\n",
        "    options=df4.loc[:, 'yr_renovated'].sort_values().unique().tolist(),\n",
        "    value = 1900,\n",
        "    description = \"Renovation Year from\",\n",
        "    style={'description_width':'initial'},\n",
        "    disable=False,\n",
        "    continuous_update=False,\n",
        "    orientation='horizontal',\n",
        "    readout=True )"
      ],
      "id": "deb4f388",
      "execution_count": 13,
      "outputs": []
    },
    {
      "cell_type": "code",
      "metadata": {
        "ExecuteTime": {
          "end_time": "2021-11-13T01:12:52.247637Z",
          "start_time": "2021-11-13T01:12:52.229694Z"
        },
        "id": "de5d65b3"
      },
      "source": [
        "def update_dashboard( df4, date_limit, renovation_limit, waterfront_box ):\n",
        "    \n",
        "    # Filtering data\n",
        "    # Troquei todas as ocorrencias de 'yr_renovated_col' por 'yr_renovated'\n",
        "    df = df4[(df4['date'] <= date_limit) &\n",
        "             (df4['yr_renovated'] >= renovation_limit) &\n",
        "             (df4['waterfront'] == waterfront_box)][['id', 'price', 'date', 'yr_renovated', 'waterfront', 'year_week', 'year']].copy()\n",
        "    \n",
        "    fig = plt.figure(figsize=(24, 12))\n",
        "    \n",
        "    specs = gridspec.GridSpec( ncols=2, nrows=2, figure=fig )\n",
        "    \n",
        "    ax1 = fig.add_subplot( specs[0, :] ) # First row\n",
        "    ax2 = fig.add_subplot( specs[1, 0] ) # Second Row First Column\n",
        "    ax3 = fig.add_subplot( specs[1, 1] ) # Second Row Second Column  rows\n",
        "    \n",
        "    # first graph\n",
        "    by_year = df[['price', 'year']].groupby( 'year').sum().reset_index()\n",
        "#     ax1.bar( by_year['year'], by_year['id'] )\n",
        "    sns.barplot(x='year', y='price', data=by_year, ax=ax1)\n",
        "    \n",
        "    # second graph\n",
        "    by_day = df[['price', 'date']].groupby('date').mean().reset_index()\n",
        "#     ax2.plot( by_day['date'], by_day['price'] )\n",
        "#     ax2.set_title( 'title: Avg Price by Day' )\n",
        "    sns.lineplot(x='date', y='price', data=by_day, ax=ax2)\n",
        "    plt.xticks( rotation=90 );\n",
        "    \n",
        "    # third graph\n",
        "    by_week_of_year = df[['price', 'year_week']].groupby('year_week').mean().reset_index()\n",
        "#     ax3.bar( by_week_of_year['year_week'], by_week_of_year['price'] )\n",
        "#     ax3.set_title( 'title: Avg Price by Week Of Year' )\n",
        "#     plt.xticks( rotation=60 );\n",
        "    sns.barplot(x='year_week', y='price', data=by_week_of_year, ax=ax3)\n",
        "    plt.xticks( rotation=90 );"
      ],
      "id": "de5d65b3",
      "execution_count": 14,
      "outputs": []
    },
    {
      "cell_type": "code",
      "metadata": {
        "ExecuteTime": {
          "end_time": "2021-11-13T01:12:53.663324Z",
          "start_time": "2021-11-13T01:12:53.596464Z"
        },
        "colab": {
          "base_uri": "https://localhost:8080/",
          "height": 741,
          "referenced_widgets": [
            "e421652a560f46f08ab5d9fd79e54ff4",
            "987c4d9c32614461a920d3bf77d6212f",
            "aa468958bba941ceaa8d41cea63babb8",
            "7d5c905ed93d452cb04d1b21a9adb152",
            "adc44e59c286427b9c054fbd7229ddeb",
            "742d3014a77741bb9a4771a61b867fc5",
            "01a3811d4a49494297c8fdbbeacbb9a9",
            "b9f2757373e64508969ecc52dd5349f9",
            "1dc6633f77614da896903ee3cbd754be",
            "748b17eefbb1435d923ace2b6837c02b",
            "4578cc82e1d24a79b0472833c66801e8",
            "8c3f6cf5724c4e70903865c3551b69c6",
            "864b1866f1ea499e91f8befb531ac248"
          ]
        },
        "id": "b7da199d",
        "outputId": "b2ce427a-a075-42fa-be7e-053ecc4fd534"
      },
      "source": [
        "widgets.interactive(update_dashboard, df4=fixed(df4), \n",
        "                    date_limit=date_limit, \n",
        "                    renovation_limit=renovation_limit, \n",
        "                    waterfront_box=waterfront_box)"
      ],
      "id": "b7da199d",
      "execution_count": 15,
      "outputs": [
        {
          "output_type": "display_data",
          "data": {
            "application/vnd.jupyter.widget-view+json": {
              "model_id": "e421652a560f46f08ab5d9fd79e54ff4",
              "version_minor": 0,
              "version_major": 2
            },
            "text/plain": [
              "interactive(children=(SelectionSlider(continuous_update=False, description='Availability', index=371, options=…"
            ]
          },
          "metadata": {}
        }
      ]
    },
    {
      "cell_type": "code",
      "metadata": {
        "id": "817ac5d8"
      },
      "source": [
        ""
      ],
      "id": "817ac5d8",
      "execution_count": null,
      "outputs": []
    },
    {
      "cell_type": "code",
      "metadata": {
        "id": "86757a13"
      },
      "source": [
        ""
      ],
      "id": "86757a13",
      "execution_count": null,
      "outputs": []
    },
    {
      "cell_type": "code",
      "metadata": {
        "id": "a4d973b7"
      },
      "source": [
        ""
      ],
      "id": "a4d973b7",
      "execution_count": null,
      "outputs": []
    },
    {
      "cell_type": "code",
      "metadata": {
        "id": "c0a2f43a"
      },
      "source": [
        ""
      ],
      "id": "c0a2f43a",
      "execution_count": null,
      "outputs": []
    },
    {
      "cell_type": "code",
      "metadata": {
        "id": "d828092b"
      },
      "source": [
        ""
      ],
      "id": "d828092b",
      "execution_count": null,
      "outputs": []
    },
    {
      "cell_type": "code",
      "metadata": {
        "id": "8288f1fa"
      },
      "source": [
        ""
      ],
      "id": "8288f1fa",
      "execution_count": null,
      "outputs": []
    },
    {
      "cell_type": "code",
      "metadata": {
        "id": "52c8a3d7"
      },
      "source": [
        ""
      ],
      "id": "52c8a3d7",
      "execution_count": null,
      "outputs": []
    },
    {
      "cell_type": "code",
      "metadata": {
        "id": "8101821e"
      },
      "source": [
        ""
      ],
      "id": "8101821e",
      "execution_count": null,
      "outputs": []
    },
    {
      "cell_type": "code",
      "metadata": {
        "id": "9b015a57"
      },
      "source": [
        ""
      ],
      "id": "9b015a57",
      "execution_count": null,
      "outputs": []
    },
    {
      "cell_type": "code",
      "metadata": {
        "id": "6bc98815"
      },
      "source": [
        ""
      ],
      "id": "6bc98815",
      "execution_count": null,
      "outputs": []
    },
    {
      "cell_type": "code",
      "metadata": {
        "id": "aa1e4ac0"
      },
      "source": [
        ""
      ],
      "id": "aa1e4ac0",
      "execution_count": null,
      "outputs": []
    },
    {
      "cell_type": "code",
      "metadata": {
        "id": "dac28779"
      },
      "source": [
        ""
      ],
      "id": "dac28779",
      "execution_count": null,
      "outputs": []
    },
    {
      "cell_type": "code",
      "metadata": {
        "id": "3974ce89"
      },
      "source": [
        ""
      ],
      "id": "3974ce89",
      "execution_count": null,
      "outputs": []
    },
    {
      "cell_type": "code",
      "metadata": {
        "id": "8600f9f0"
      },
      "source": [
        ""
      ],
      "id": "8600f9f0",
      "execution_count": null,
      "outputs": []
    },
    {
      "cell_type": "markdown",
      "metadata": {
        "id": "e77b24d7"
      },
      "source": [
        ""
      ],
      "id": "e77b24d7"
    },
    {
      "cell_type": "markdown",
      "metadata": {
        "id": "8c5ce7cf"
      },
      "source": [
        "## 4.1 Which properties should be bought by House Rocket and at what price?"
      ],
      "id": "8c5ce7cf"
    },
    {
      "cell_type": "code",
      "metadata": {
        "id": "2e469134"
      },
      "source": [
        ""
      ],
      "id": "2e469134",
      "execution_count": null,
      "outputs": []
    },
    {
      "cell_type": "code",
      "metadata": {
        "ExecuteTime": {
          "end_time": "2021-11-01T22:38:52.970907Z",
          "start_time": "2021-11-01T22:38:52.625617Z"
        },
        "code_folding": [],
        "id": "23cf6fbb"
      },
      "source": [
        "# Group by zipcode and calculate median of price\n",
        "\n",
        "df4 = df4[['zipcode','price']].groupby('zipcode').median().reset_index()\n",
        "df4 = df4.rename(columns={'price': 'price_median'})\n",
        "\n",
        "# unir o df2 com o dataset original, alocando cada preço mediano em cada linha, através do zipcode\n",
        "\n",
        "df = pd.merge(df1,df,on='zipcode',how='inner')\n",
        "\n",
        "# pra cada imóvel, colocar na coluna \"status\" os indicadores \"buy\" ou \"no buy\" de dependendo das condições:\n",
        "\n",
        "# a) o preço for menor que a mediana da região;\n",
        "# b) o imóvel estiver em boas condições\n",
        "\n",
        "for i in range(len(df)):\n",
        "    \n",
        "    if (df.loc[i,'price'] < df.loc[i,'price_median']) & (df.loc[i,'condition'] >= 3):\n",
        "        df.loc[i,'status'] = 'buy'\n",
        "    \n",
        "    else:\n",
        "        df.loc[i,'status'] = 'no buy'"
      ],
      "id": "23cf6fbb",
      "execution_count": null,
      "outputs": []
    },
    {
      "cell_type": "code",
      "metadata": {
        "ExecuteTime": {
          "end_time": "2021-11-01T22:38:52.972944Z",
          "start_time": "2021-11-01T22:38:52.972944Z"
        },
        "code_folding": [],
        "scrolled": true,
        "id": "fd1c202f"
      },
      "source": [
        "# criar relatório com apenas as colunas de interesse, ordenando do menor preço para o maior, considerando as melhores condições de imóveis \n",
        "buy_houses = df[df['status'] == 'buy'].sort_values(by=['describe_condition','price'])\n",
        "buy_houses[['id','zipcode','price','price_median','condition']].head()\n",
        "\n",
        "print('Foram encontrados {} imóveis dentro das condições acima, sugeridos para compra'.format(len(buy_houses)))"
      ],
      "id": "fd1c202f",
      "execution_count": null,
      "outputs": []
    },
    {
      "cell_type": "markdown",
      "metadata": {
        "ExecuteTime": {
          "end_time": "2021-07-08T00:13:01.395853Z",
          "start_time": "2021-07-08T00:13:01.365689Z"
        },
        "id": "999294b6"
      },
      "source": [
        "### 4.2) Uma vez a casa comprada, qual o melhor momento para vendê-las e por qual preço ?"
      ],
      "id": "999294b6"
    },
    {
      "cell_type": "code",
      "metadata": {
        "ExecuteTime": {
          "end_time": "2021-11-01T22:38:52.973902Z",
          "start_time": "2021-11-01T22:38:52.973902Z"
        },
        "code_folding": [],
        "id": "a44ce6de"
      },
      "source": [
        "# Agrupar os imóveis por região ( coluna zipcode ) e por sazonalidade(season)\n",
        "# Dentro de cada região/season encontrar a mediana do preço do imóvel.\n",
        "\n",
        "df2 = df[['zipcode','season','price']].groupby(['zipcode','season']).median().reset_index()\n",
        "df2 = df2.rename(columns={'price': 'price_median_season'})\n",
        "\n",
        "\n",
        "# unir df2 com df\n",
        "df3 = pd.merge(buy_houses,df2,how ='inner', on=['zipcode','season'])\n"
      ],
      "id": "a44ce6de",
      "execution_count": null,
      "outputs": []
    },
    {
      "cell_type": "code",
      "metadata": {
        "ExecuteTime": {
          "end_time": "2021-11-01T22:38:52.974900Z",
          "start_time": "2021-11-01T22:38:52.974900Z"
        },
        "code_folding": [],
        "id": "2ee63ab6"
      },
      "source": [
        "# Condições de venda:\n",
        "# 1. Se o preço da compra for maior que a mediana da região + sazonalidade.\n",
        "# O preço da venda será igual ao preço da compra + 10%\n",
        "# 2. Se o preço da compra for menor que a mediana da região + sazonalidade.\n",
        "# O preço da venda será igual ao preço da compra + 30%\n",
        "        \n",
        "for i in range(len(df3)):\n",
        "            if df3.loc[i, 'price'] <= df3.loc[i, 'price_median_season']:\n",
        "                 df3.loc[i, 'sale_price'] = df3.loc[i, 'price'] * 1.30\n",
        "            elif df3.loc[i, 'price'] > df3.loc[i, 'price_median_season']:\n",
        "                 df3.loc[i, 'sale_price'] = df3.loc[i, 'price'] * 1.10\n",
        "            else:\n",
        "                 pass\n",
        "                \n",
        "df3['profit'] = df3['sale_price'] - df3['price']"
      ],
      "id": "2ee63ab6",
      "execution_count": null,
      "outputs": []
    },
    {
      "cell_type": "code",
      "metadata": {
        "ExecuteTime": {
          "end_time": "2021-11-01T22:38:52.975897Z",
          "start_time": "2021-11-01T22:38:52.975897Z"
        },
        "code_folding": [],
        "id": "c357e040"
      },
      "source": [
        "# relatório final: Sugestões de compra, com possíveis indicadores de preço de venda e lucro\n",
        "df3[['id','zipcode','price','price_median','season','price_median_season','describe_condition','sale_price','profit']].head()"
      ],
      "id": "c357e040",
      "execution_count": null,
      "outputs": []
    },
    {
      "cell_type": "code",
      "metadata": {
        "ExecuteTime": {
          "end_time": "2021-11-01T22:38:52.977892Z",
          "start_time": "2021-11-01T22:38:52.977892Z"
        },
        "scrolled": true,
        "id": "fa6f4fbf"
      },
      "source": [
        "# Total do lucro considerando quadro de sugestão\n",
        "df3['profit'].sum()"
      ],
      "id": "fa6f4fbf",
      "execution_count": null,
      "outputs": []
    },
    {
      "cell_type": "code",
      "metadata": {
        "ExecuteTime": {
          "end_time": "2021-11-01T22:38:52.978890Z",
          "start_time": "2021-11-01T22:38:52.978890Z"
        },
        "id": "7ad422fc"
      },
      "source": [
        "# Custo total\n",
        "df3['price'].sum()"
      ],
      "id": "7ad422fc",
      "execution_count": null,
      "outputs": []
    },
    {
      "cell_type": "code",
      "metadata": {
        "ExecuteTime": {
          "end_time": "2021-11-01T22:38:52.979888Z",
          "start_time": "2021-11-01T22:38:52.979888Z"
        },
        "id": "c9656a10"
      },
      "source": [
        "# Receita total\n",
        "df3['sale_price'].sum()"
      ],
      "id": "c9656a10",
      "execution_count": null,
      "outputs": []
    },
    {
      "cell_type": "markdown",
      "metadata": {
        "id": "6ddd8f40"
      },
      "source": [
        "### 4.3) Insights - Imóveis selecionados"
      ],
      "id": "6ddd8f40"
    },
    {
      "cell_type": "code",
      "metadata": {
        "ExecuteTime": {
          "end_time": "2021-11-01T22:38:52.980884Z",
          "start_time": "2021-11-01T22:38:52.980884Z"
        },
        "code_folding": [],
        "scrolled": true,
        "id": "1f07eb05"
      },
      "source": [
        "# Seleção dos atributos cujo array é analisável\n",
        "df4 = df3[['zipcode','bedrooms','bathrooms','floors','season',\n",
        "           'renovated','describe_condition','waterfront_','basement','grade','view','constrution']]"
      ],
      "id": "1f07eb05",
      "execution_count": null,
      "outputs": []
    },
    {
      "cell_type": "code",
      "metadata": {
        "ExecuteTime": {
          "end_time": "2021-11-01T22:38:52.982879Z",
          "start_time": "2021-11-01T22:38:52.982879Z"
        },
        "code_folding": [],
        "id": "ae2f1db9"
      },
      "source": [
        "print(\"Insights - Imóveis selecionados\")\n",
        "conditions = []\n",
        "for i in df4.columns:\n",
        "            ins = df3[['profit',i]].groupby(i).sum().reset_index()\n",
        "            plt.figure(figsize=(20,12))\n",
        "            sns.barplot(ins[i],ins['profit']).set(title='Profit x {}'.format(i))\n",
        "            plt.xticks(rotation=60);\n",
        "            ins2 = ins[ins['profit'] == ins['profit'].max()]\n",
        "            conditions.append(ins2.iloc[0,0])\n",
        "            print('Imóveis mais lucrativos são os com \"{}\" igual a \"{}\"'.format(i, ins2.iloc[0,0]))\n"
      ],
      "id": "ae2f1db9",
      "execution_count": null,
      "outputs": []
    },
    {
      "cell_type": "code",
      "metadata": {
        "ExecuteTime": {
          "end_time": "2021-11-01T22:38:52.984876Z",
          "start_time": "2021-11-01T22:38:52.984876Z"
        },
        "scrolled": false,
        "id": "aeeae4f2"
      },
      "source": [
        "dx = pd.DataFrame(columns=['atributo','condicao','total_imoveis','%_imoveis','lucro_total','%_lucro'])\n",
        "\n",
        "dx['atributo'] = ['zipcode','bedrooms','bathrooms','floors','season',\n",
        "           'renovated','describe_condition','waterfront_','basement','grade','view','constrution']\n",
        "\n",
        "dx['condicao'] = conditions\n",
        "\n",
        "for i in range(len(dx)):\n",
        "    dx.loc[i,'total_imoveis'] = df3['id'][df3[dx.loc[i,'atributo']] == dx.loc[i,'condicao']].count()\n",
        "    dx.loc[i,'%_imoveis'] = float(dx.loc[i,'total_imoveis'] / df3['id'].count() * 100)\n",
        "    dx.loc[i,'lucro_total'] = df3['profit'][df3[dx.loc[i,'atributo']] == dx.loc[i,'condicao']].sum()\n",
        "    dx.loc[i,'%_lucro'] = float(dx.loc[i,'lucro_total'] / df3['profit'].sum() * 100)\n",
        "\n",
        "dx"
      ],
      "id": "aeeae4f2",
      "execution_count": null,
      "outputs": []
    },
    {
      "cell_type": "markdown",
      "metadata": {
        "id": "7136a268"
      },
      "source": [
        "#### 4.3.1) Teste de Pareto"
      ],
      "id": "7136a268"
    },
    {
      "cell_type": "code",
      "metadata": {
        "ExecuteTime": {
          "end_time": "2021-11-01T22:38:52.987869Z",
          "start_time": "2021-11-01T22:38:52.987869Z"
        },
        "id": "280d446c"
      },
      "source": [
        "cond = [df3[df3['zipcode']== 98052],\n",
        "         df3[df3['bedrooms']== 3],\n",
        "        df3[df3['bathrooms']== 1.0],\n",
        "        df3[df3['floors']== 1.0],\n",
        "        df3[df3['season']== 'winter'],\n",
        "        df3[df3['renovated']== 'no'],\n",
        "        df3[df3['describe_condition'] == 'median'],\n",
        "        df3[df3['waterfront_']== 'não'],\n",
        "        df3[df3['basement']== 'no'],\n",
        "        df3[df3['grade']== 7],\n",
        "        df3[df3['view']== 0],\n",
        "        df3[df3['constrution']== '> 1955']]\n"
      ],
      "id": "280d446c",
      "execution_count": null,
      "outputs": []
    },
    {
      "cell_type": "code",
      "metadata": {
        "ExecuteTime": {
          "end_time": "2021-11-01T22:38:52.988865Z",
          "start_time": "2021-11-01T22:38:52.988865Z"
        },
        "id": "fa1ece46"
      },
      "source": [
        "for i in cond:\n",
        "    pareto = i\n",
        "    par = pareto['profit'].sum() / df3['profit'].sum()\n",
        "    count = pareto['id'].count() / df3['id'].count()\n",
        "    print('O número de imóveis na condição é de {} % do total de imóveis'.format(count * 100))\n",
        "    print('O percentual do lucro corresponde a {} %\\n'.format(par * 100))\n"
      ],
      "id": "fa1ece46",
      "execution_count": null,
      "outputs": []
    }
  ]
}