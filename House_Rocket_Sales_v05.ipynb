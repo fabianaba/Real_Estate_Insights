{
 "cells": [
  {
   "cell_type": "markdown",
   "id": "393fecc1",
   "metadata": {},
   "source": [
    "# House Rocket Sales "
   ]
  },
  {
   "cell_type": "markdown",
   "id": "5fa05d2e",
   "metadata": {},
   "source": [
    "## 0.0 IMPORTS\n"
   ]
  },
  {
   "cell_type": "code",
   "execution_count": 2,
   "id": "5c8ea495",
   "metadata": {
    "ExecuteTime": {
     "end_time": "2021-11-25T00:29:56.923421Z",
     "start_time": "2021-11-25T00:29:55.172210Z"
    }
   },
   "outputs": [],
   "source": [
    "import pandas as pd\n",
    "import numpy as np\n",
    "import time\n",
    "from multiprocessing import Pool\n",
    "import ipywidgets as widgets\n",
    "from ipywidgets import interact, interactive, fixed, interact_manual\n",
    "from matplotlib import pyplot as plt\n",
    "from matplotlib import gridspec\n",
    "from IPython.core.display import HTML\n",
    "from geopy.geocoders import Nominatim\n",
    "from IPython.core.display import HTML\n",
    "import seaborn as sns\n",
    "import warnings\n",
    "import plotly.express as px\n",
    "warnings.simplefilter(action=\"ignore\", category=FutureWarning)"
   ]
  },
  {
   "cell_type": "code",
   "execution_count": 3,
   "id": "11fe7f01",
   "metadata": {
    "ExecuteTime": {
     "end_time": "2021-11-25T00:29:56.939043Z",
     "start_time": "2021-11-25T00:29:56.923421Z"
    }
   },
   "outputs": [],
   "source": [
    "pd.set_option('display.float_format', lambda x: '%.2f' % x)"
   ]
  },
  {
   "cell_type": "markdown",
   "id": "b1be08d3",
   "metadata": {},
   "source": [
    "## 0.1 Helper Functions"
   ]
  },
  {
   "cell_type": "code",
   "execution_count": 4,
   "id": "dd465c37",
   "metadata": {
    "ExecuteTime": {
     "end_time": "2021-11-25T00:29:56.976796Z",
     "start_time": "2021-11-25T00:29:56.939043Z"
    }
   },
   "outputs": [
    {
     "name": "stdout",
     "output_type": "stream",
     "text": [
      "Populating the interactive namespace from numpy and matplotlib\n"
     ]
    },
    {
     "name": "stderr",
     "output_type": "stream",
     "text": [
      "C:\\Users\\fabic\\Anaconda3\\envs\\houserocketsales\\lib\\site-packages\\IPython\\core\\magics\\pylab.py:159: UserWarning: pylab import has clobbered these variables: ['interactive']\n",
      "`%matplotlib` prevents importing * from pylab and numpy\n",
      "  warn(\"pylab import has clobbered these variables: %s\"  % clobbered +\n"
     ]
    },
    {
     "data": {
      "text/html": [
       "<style>.container { width:100% !important; }</style>"
      ],
      "text/plain": [
       "<IPython.core.display.HTML object>"
      ]
     },
     "metadata": {},
     "output_type": "display_data"
    }
   ],
   "source": [
    "def jupyter_settings():\n",
    "    %matplotlib inline\n",
    "    %pylab inline\n",
    "    \n",
    "    plt.style.use( 'bmh' )\n",
    "    plt.rcParams['figure.figsize'] = [25, 12]\n",
    "    plt.rcParams['font.size'] = 24\n",
    "    \n",
    "    display( HTML( '<style>.container { width:100% !important; }</style>') )\n",
    "    pd.options.display.max_columns = None\n",
    "    pd.options.display.max_rows = None\n",
    "    pd.set_option( 'display.expand_frame_repr', False )\n",
    "    \n",
    "    sns.set()\n",
    "    \n",
    "jupyter_settings()\n",
    "\n",
    "\n",
    "def season_of_date(date):\n",
    "    year = str(date.year)\n",
    "    seasons = {'spring': pd.date_range(start='21/03/'+year, end='20/06/'+year),\n",
    "               'summer': pd.date_range(start='21/06/'+year, end='22/09/'+year),\n",
    "               'autumn': pd.date_range(start='23/09/'+year, end='20/12/'+year)}\n",
    "    if date in seasons['spring']:\n",
    "        return 'spring'\n",
    "    if date in seasons['summer']:\n",
    "        return 'summer'\n",
    "    if date in seasons['autumn']:\n",
    "        return 'autumn'\n",
    "    else:\n",
    "        return 'winter'\n",
    "    \n",
    "    "
   ]
  },
  {
   "cell_type": "markdown",
   "id": "c276f9f2",
   "metadata": {},
   "source": [
    "## 0.2 Loading Data"
   ]
  },
  {
   "cell_type": "code",
   "execution_count": 5,
   "id": "c16497d1",
   "metadata": {
    "ExecuteTime": {
     "end_time": "2021-11-25T00:29:57.054902Z",
     "start_time": "2021-11-25T00:29:56.976796Z"
    }
   },
   "outputs": [],
   "source": [
    "data = pd.read_csv('data/kc_house_data.csv')"
   ]
  },
  {
   "cell_type": "markdown",
   "id": "48a75d77",
   "metadata": {},
   "source": [
    "# 1.0 DATA DESCRIPTION"
   ]
  },
  {
   "cell_type": "code",
   "execution_count": 6,
   "id": "250a912a",
   "metadata": {
    "ExecuteTime": {
     "end_time": "2021-11-25T00:29:57.077033Z",
     "start_time": "2021-11-25T00:29:57.054902Z"
    }
   },
   "outputs": [],
   "source": [
    "df1 = data.copy()"
   ]
  },
  {
   "cell_type": "markdown",
   "id": "0ad53ae0",
   "metadata": {},
   "source": [
    "## 1.1 Data Types and Dimensions"
   ]
  },
  {
   "cell_type": "code",
   "execution_count": 7,
   "id": "f71cf14c",
   "metadata": {
    "ExecuteTime": {
     "end_time": "2021-11-25T00:29:57.092702Z",
     "start_time": "2021-11-25T00:29:57.077033Z"
    }
   },
   "outputs": [
    {
     "name": "stdout",
     "output_type": "stream",
     "text": [
      "Number of rows: 21613\n",
      "Number of columns: 21\n"
     ]
    }
   ],
   "source": [
    "print('Number of rows: {}'.format(df1.shape[0]))\n",
    "print('Number of columns: {}'.format(df1.shape[1]))"
   ]
  },
  {
   "cell_type": "code",
   "execution_count": 8,
   "id": "cd336d8c",
   "metadata": {
    "ExecuteTime": {
     "end_time": "2021-11-25T00:29:57.123899Z",
     "start_time": "2021-11-25T00:29:57.092702Z"
    }
   },
   "outputs": [
    {
     "data": {
      "text/plain": [
       "id                 int64\n",
       "date              object\n",
       "price            float64\n",
       "bedrooms           int64\n",
       "bathrooms        float64\n",
       "sqft_living        int64\n",
       "sqft_lot           int64\n",
       "floors           float64\n",
       "waterfront         int64\n",
       "view               int64\n",
       "condition          int64\n",
       "grade              int64\n",
       "sqft_above         int64\n",
       "sqft_basement      int64\n",
       "yr_built           int64\n",
       "yr_renovated       int64\n",
       "zipcode            int64\n",
       "lat              float64\n",
       "long             float64\n",
       "sqft_living15      int64\n",
       "sqft_lot15         int64\n",
       "dtype: object"
      ]
     },
     "execution_count": 8,
     "metadata": {},
     "output_type": "execute_result"
    }
   ],
   "source": [
    "df1.dtypes"
   ]
  },
  {
   "cell_type": "markdown",
   "id": "78c19441",
   "metadata": {},
   "source": [
    "## 1.2 Check NA"
   ]
  },
  {
   "cell_type": "code",
   "execution_count": 9,
   "id": "3f75150e",
   "metadata": {
    "ExecuteTime": {
     "end_time": "2021-11-25T00:29:57.139556Z",
     "start_time": "2021-11-25T00:29:57.123899Z"
    }
   },
   "outputs": [
    {
     "data": {
      "text/plain": [
       "id               0\n",
       "date             0\n",
       "price            0\n",
       "bedrooms         0\n",
       "bathrooms        0\n",
       "sqft_living      0\n",
       "sqft_lot         0\n",
       "floors           0\n",
       "waterfront       0\n",
       "view             0\n",
       "condition        0\n",
       "grade            0\n",
       "sqft_above       0\n",
       "sqft_basement    0\n",
       "yr_built         0\n",
       "yr_renovated     0\n",
       "zipcode          0\n",
       "lat              0\n",
       "long             0\n",
       "sqft_living15    0\n",
       "sqft_lot15       0\n",
       "dtype: int64"
      ]
     },
     "execution_count": 9,
     "metadata": {},
     "output_type": "execute_result"
    }
   ],
   "source": [
    "df1.isna().sum()"
   ]
  },
  {
   "cell_type": "markdown",
   "id": "a441a295",
   "metadata": {},
   "source": [
    "## 1.3 Change Data Types"
   ]
  },
  {
   "cell_type": "code",
   "execution_count": 10,
   "id": "c916dc24",
   "metadata": {
    "ExecuteTime": {
     "end_time": "2021-11-25T00:29:57.277520Z",
     "start_time": "2021-11-25T00:29:57.139556Z"
    }
   },
   "outputs": [
    {
     "data": {
      "text/plain": [
       "id                       object\n",
       "date             datetime64[ns]\n",
       "price                   float64\n",
       "bedrooms                  int64\n",
       "bathrooms               float64\n",
       "sqft_living               int64\n",
       "sqft_lot                  int64\n",
       "floors                  float64\n",
       "waterfront               object\n",
       "view                     object\n",
       "condition                object\n",
       "grade                     int64\n",
       "sqft_above                int64\n",
       "sqft_basement             int64\n",
       "yr_built                 object\n",
       "yr_renovated             object\n",
       "zipcode                  object\n",
       "lat                      object\n",
       "long                     object\n",
       "sqft_living15             int64\n",
       "sqft_lot15                int64\n",
       "dtype: object"
      ]
     },
     "execution_count": 10,
     "metadata": {},
     "output_type": "execute_result"
    }
   ],
   "source": [
    "# id, yr_built, yr_renovated, zipcode\n",
    "df1[['id', 'waterfront', 'view', 'condition', 'yr_built', 'yr_renovated', 'zipcode']] = df1[['id', 'waterfront', 'view', 'condition', 'yr_built', 'yr_renovated', 'zipcode']].astype(str)\n",
    "\n",
    "# lat, long\n",
    "df1[['lat', 'long']] = df1[['lat', 'long']].astype(str)\n",
    "\n",
    "# Date\n",
    "df1['date'] = pd.to_datetime(df1['date'])\n",
    "df1.dtypes"
   ]
  },
  {
   "cell_type": "markdown",
   "id": "8cbf45ab",
   "metadata": {},
   "source": [
    "## 1.4 Descriptive Statistics"
   ]
  },
  {
   "cell_type": "code",
   "execution_count": 11,
   "id": "39606bfc",
   "metadata": {
    "ExecuteTime": {
     "end_time": "2021-11-25T00:29:57.308812Z",
     "start_time": "2021-11-25T00:29:57.277520Z"
    }
   },
   "outputs": [],
   "source": [
    "# numerical attributes\n",
    "num_attributes = df1.select_dtypes(include=['int64', 'float64'])\n",
    "\n",
    "# categorical attributes\n",
    "cat_attributes = df1.select_dtypes(exclude=['int64', 'float64', 'datetime64[ns]'])"
   ]
  },
  {
   "cell_type": "markdown",
   "id": "5ef61bc5",
   "metadata": {},
   "source": [
    "### 1.4.1 Numerical Attributes"
   ]
  },
  {
   "cell_type": "code",
   "execution_count": 12,
   "id": "5e15c5cf",
   "metadata": {
    "ExecuteTime": {
     "end_time": "2021-11-25T00:29:57.393405Z",
     "start_time": "2021-11-25T00:29:57.308812Z"
    }
   },
   "outputs": [
    {
     "data": {
      "text/html": [
       "<div>\n",
       "<style scoped>\n",
       "    .dataframe tbody tr th:only-of-type {\n",
       "        vertical-align: middle;\n",
       "    }\n",
       "\n",
       "    .dataframe tbody tr th {\n",
       "        vertical-align: top;\n",
       "    }\n",
       "\n",
       "    .dataframe thead th {\n",
       "        text-align: right;\n",
       "    }\n",
       "</style>\n",
       "<table border=\"1\" class=\"dataframe\">\n",
       "  <thead>\n",
       "    <tr style=\"text-align: right;\">\n",
       "      <th></th>\n",
       "      <th>attributes</th>\n",
       "      <th>min</th>\n",
       "      <th>max</th>\n",
       "      <th>range</th>\n",
       "      <th>mean</th>\n",
       "      <th>median</th>\n",
       "      <th>std</th>\n",
       "      <th>skew</th>\n",
       "      <th>kurtosis</th>\n",
       "    </tr>\n",
       "  </thead>\n",
       "  <tbody>\n",
       "    <tr>\n",
       "      <th>0</th>\n",
       "      <td>price</td>\n",
       "      <td>75000.00</td>\n",
       "      <td>7700000.00</td>\n",
       "      <td>7625000.00</td>\n",
       "      <td>540088.14</td>\n",
       "      <td>450000.00</td>\n",
       "      <td>367118.70</td>\n",
       "      <td>4.02</td>\n",
       "      <td>34.59</td>\n",
       "    </tr>\n",
       "    <tr>\n",
       "      <th>1</th>\n",
       "      <td>bedrooms</td>\n",
       "      <td>0.00</td>\n",
       "      <td>33.00</td>\n",
       "      <td>33.00</td>\n",
       "      <td>3.37</td>\n",
       "      <td>3.00</td>\n",
       "      <td>0.93</td>\n",
       "      <td>1.97</td>\n",
       "      <td>49.06</td>\n",
       "    </tr>\n",
       "    <tr>\n",
       "      <th>2</th>\n",
       "      <td>bathrooms</td>\n",
       "      <td>0.00</td>\n",
       "      <td>8.00</td>\n",
       "      <td>8.00</td>\n",
       "      <td>2.11</td>\n",
       "      <td>2.25</td>\n",
       "      <td>0.77</td>\n",
       "      <td>0.51</td>\n",
       "      <td>1.28</td>\n",
       "    </tr>\n",
       "    <tr>\n",
       "      <th>3</th>\n",
       "      <td>sqft_living</td>\n",
       "      <td>290.00</td>\n",
       "      <td>13540.00</td>\n",
       "      <td>13250.00</td>\n",
       "      <td>2079.90</td>\n",
       "      <td>1910.00</td>\n",
       "      <td>918.42</td>\n",
       "      <td>1.47</td>\n",
       "      <td>5.24</td>\n",
       "    </tr>\n",
       "    <tr>\n",
       "      <th>4</th>\n",
       "      <td>sqft_lot</td>\n",
       "      <td>520.00</td>\n",
       "      <td>1651359.00</td>\n",
       "      <td>1650839.00</td>\n",
       "      <td>15106.97</td>\n",
       "      <td>7618.00</td>\n",
       "      <td>41419.55</td>\n",
       "      <td>13.06</td>\n",
       "      <td>285.08</td>\n",
       "    </tr>\n",
       "    <tr>\n",
       "      <th>5</th>\n",
       "      <td>floors</td>\n",
       "      <td>1.00</td>\n",
       "      <td>3.50</td>\n",
       "      <td>2.50</td>\n",
       "      <td>1.49</td>\n",
       "      <td>1.50</td>\n",
       "      <td>0.54</td>\n",
       "      <td>0.62</td>\n",
       "      <td>-0.48</td>\n",
       "    </tr>\n",
       "    <tr>\n",
       "      <th>6</th>\n",
       "      <td>grade</td>\n",
       "      <td>1.00</td>\n",
       "      <td>13.00</td>\n",
       "      <td>12.00</td>\n",
       "      <td>7.66</td>\n",
       "      <td>7.00</td>\n",
       "      <td>1.18</td>\n",
       "      <td>0.77</td>\n",
       "      <td>1.19</td>\n",
       "    </tr>\n",
       "    <tr>\n",
       "      <th>7</th>\n",
       "      <td>sqft_above</td>\n",
       "      <td>290.00</td>\n",
       "      <td>9410.00</td>\n",
       "      <td>9120.00</td>\n",
       "      <td>1788.39</td>\n",
       "      <td>1560.00</td>\n",
       "      <td>828.07</td>\n",
       "      <td>1.45</td>\n",
       "      <td>3.40</td>\n",
       "    </tr>\n",
       "    <tr>\n",
       "      <th>8</th>\n",
       "      <td>sqft_basement</td>\n",
       "      <td>0.00</td>\n",
       "      <td>4820.00</td>\n",
       "      <td>4820.00</td>\n",
       "      <td>291.51</td>\n",
       "      <td>0.00</td>\n",
       "      <td>442.56</td>\n",
       "      <td>1.58</td>\n",
       "      <td>2.72</td>\n",
       "    </tr>\n",
       "    <tr>\n",
       "      <th>9</th>\n",
       "      <td>sqft_living15</td>\n",
       "      <td>399.00</td>\n",
       "      <td>6210.00</td>\n",
       "      <td>5811.00</td>\n",
       "      <td>1986.55</td>\n",
       "      <td>1840.00</td>\n",
       "      <td>685.38</td>\n",
       "      <td>1.11</td>\n",
       "      <td>1.60</td>\n",
       "    </tr>\n",
       "    <tr>\n",
       "      <th>10</th>\n",
       "      <td>sqft_lot15</td>\n",
       "      <td>651.00</td>\n",
       "      <td>871200.00</td>\n",
       "      <td>870549.00</td>\n",
       "      <td>12768.46</td>\n",
       "      <td>7620.00</td>\n",
       "      <td>27303.55</td>\n",
       "      <td>9.51</td>\n",
       "      <td>150.76</td>\n",
       "    </tr>\n",
       "  </tbody>\n",
       "</table>\n",
       "</div>"
      ],
      "text/plain": [
       "       attributes      min        max      range      mean    median       std  skew  kurtosis\n",
       "0           price 75000.00 7700000.00 7625000.00 540088.14 450000.00 367118.70  4.02     34.59\n",
       "1        bedrooms     0.00      33.00      33.00      3.37      3.00      0.93  1.97     49.06\n",
       "2       bathrooms     0.00       8.00       8.00      2.11      2.25      0.77  0.51      1.28\n",
       "3     sqft_living   290.00   13540.00   13250.00   2079.90   1910.00    918.42  1.47      5.24\n",
       "4        sqft_lot   520.00 1651359.00 1650839.00  15106.97   7618.00  41419.55 13.06    285.08\n",
       "5          floors     1.00       3.50       2.50      1.49      1.50      0.54  0.62     -0.48\n",
       "6           grade     1.00      13.00      12.00      7.66      7.00      1.18  0.77      1.19\n",
       "7      sqft_above   290.00    9410.00    9120.00   1788.39   1560.00    828.07  1.45      3.40\n",
       "8   sqft_basement     0.00    4820.00    4820.00    291.51      0.00    442.56  1.58      2.72\n",
       "9   sqft_living15   399.00    6210.00    5811.00   1986.55   1840.00    685.38  1.11      1.60\n",
       "10     sqft_lot15   651.00  871200.00  870549.00  12768.46   7620.00  27303.55  9.51    150.76"
      ]
     },
     "execution_count": 12,
     "metadata": {},
     "output_type": "execute_result"
    }
   ],
   "source": [
    "# Central Tendency - mean, median\n",
    "ct1 = pd.DataFrame(num_attributes.apply(np.mean)).T\n",
    "ct2 = pd.DataFrame(num_attributes.apply(np.median)).T\n",
    "\n",
    "# dispersion - std, min, max, range, skew, kurtosis\n",
    "d1 = pd.DataFrame(num_attributes.apply(np.std)).T\n",
    "d2 = pd.DataFrame(num_attributes.apply(min)).T\n",
    "d3 = pd.DataFrame(num_attributes.apply(max)).T\n",
    "d4 = pd.DataFrame(num_attributes.apply(lambda x: x.max() - x.min())).T\n",
    "d5 = pd.DataFrame( num_attributes.apply( lambda x: x.skew() ) ).T\n",
    "d6 = pd.DataFrame( num_attributes.apply( lambda x: x.kurtosis() ) ).T\n",
    "\n",
    "# concatenate\n",
    "m = pd.concat([d2, d3, d4, ct1, ct2, d1, d5, d6]).T.reset_index()\n",
    "m.columns = ['attributes', 'min', 'max', 'range', 'mean', 'median', 'std', 'skew', 'kurtosis']\n",
    "m"
   ]
  },
  {
   "cell_type": "markdown",
   "id": "0538ea45",
   "metadata": {},
   "source": [
    "### 1.4.2 Categorical Attributes"
   ]
  },
  {
   "cell_type": "code",
   "execution_count": 13,
   "id": "c6f10c21",
   "metadata": {
    "ExecuteTime": {
     "end_time": "2021-11-25T00:29:57.424696Z",
     "start_time": "2021-11-25T00:29:57.393405Z"
    }
   },
   "outputs": [
    {
     "data": {
      "text/plain": [
       "id              21436\n",
       "waterfront          2\n",
       "view                5\n",
       "condition           5\n",
       "yr_built          116\n",
       "yr_renovated       70\n",
       "zipcode            70\n",
       "lat              5034\n",
       "long              752\n",
       "dtype: int64"
      ]
     },
     "execution_count": 13,
     "metadata": {},
     "output_type": "execute_result"
    }
   ],
   "source": [
    "cat_attributes.apply(lambda x: x.unique().shape[0])"
   ]
  },
  {
   "cell_type": "code",
   "execution_count": 14,
   "id": "cd281c61",
   "metadata": {
    "ExecuteTime": {
     "end_time": "2021-11-25T00:29:57.779020Z",
     "start_time": "2021-11-25T00:29:57.424696Z"
    }
   },
   "outputs": [
    {
     "data": {
      "text/plain": [
       "<AxesSubplot:xlabel='condition', ylabel='count'>"
      ]
     },
     "execution_count": 14,
     "metadata": {},
     "output_type": "execute_result"
    },
    {
     "data": {
      "image/png": "[encoded data removed]",
      "text/plain": [
       "<Figure size 1800x864 with 3 Axes>"
      ]
     },
     "metadata": {},
     "output_type": "display_data"
    }
   ],
   "source": [
    "plt.subplot(1, 3, 1)\n",
    "sns.countplot(df1['waterfront'])\n",
    "\n",
    "plt.subplot(1, 3, 2)\n",
    "sns.countplot(df1['view'])\n",
    "\n",
    "plt.subplot(1, 3, 3)\n",
    "sns.countplot(df1['condition'])"
   ]
  },
  {
   "cell_type": "markdown",
   "id": "0e8dca0a",
   "metadata": {},
   "source": [
    "# 2.0 FEATURE ENGINEERING"
   ]
  },
  {
   "cell_type": "code",
   "execution_count": 15,
   "id": "28d73fe2",
   "metadata": {
    "ExecuteTime": {
     "end_time": "2021-11-25T00:29:57.794605Z",
     "start_time": "2021-11-25T00:29:57.779020Z"
    }
   },
   "outputs": [],
   "source": [
    "df2 = df1.copy()"
   ]
  },
  {
   "cell_type": "code",
   "execution_count": 16,
   "id": "94ab3e1d",
   "metadata": {
    "ExecuteTime": {
     "end_time": "2021-11-25T00:29:57.841470Z",
     "start_time": "2021-11-25T00:29:57.794605Z"
    }
   },
   "outputs": [
    {
     "name": "stdout",
     "output_type": "stream",
     "text": [
      "Number of rows: 21613\n",
      "Number of IDs: 21436\n"
     ]
    }
   ],
   "source": [
    "# Search for duplicates\n",
    "print('Number of rows: {}'.format(df2.shape[0]))\n",
    "print('Number of IDs: {}'.format(len(df2['id'].unique())))"
   ]
  },
  {
   "cell_type": "code",
   "execution_count": 17,
   "id": "a543bf2b",
   "metadata": {
    "ExecuteTime": {
     "end_time": "2021-11-25T00:29:57.857092Z",
     "start_time": "2021-11-25T00:29:57.841470Z"
    }
   },
   "outputs": [],
   "source": [
    "# Drop duplicate ID's\n",
    "df2 = df2.drop_duplicates(subset = ['id'], keep = 'last')"
   ]
  },
  {
   "cell_type": "code",
   "execution_count": 18,
   "id": "2831fc7b",
   "metadata": {
    "ExecuteTime": {
     "end_time": "2021-11-25T00:29:57.894858Z",
     "start_time": "2021-11-25T00:29:57.857092Z"
    }
   },
   "outputs": [],
   "source": [
    "# Drop NA\n",
    "df2 = df2.dropna()\n",
    "df2 = df2.reset_index(drop=True)"
   ]
  },
  {
   "cell_type": "code",
   "execution_count": 19,
   "id": "1af02cc8",
   "metadata": {
    "ExecuteTime": {
     "end_time": "2021-11-25T00:29:57.910479Z",
     "start_time": "2021-11-25T00:29:57.894858Z"
    }
   },
   "outputs": [
    {
     "name": "stdout",
     "output_type": "stream",
     "text": [
      "Attribute: bedrooms - [3, 2, 4, 5, 1, 6, 7, 0, 8, 9, 11, 10, 33]\n",
      "Attribute: bathrooms - [1.0, 2.25, 3.0, 2.0, 4.5, 1.5, 2.5, 1.75, 2.75, 3.25, 4.0, 3.5, 0.75, 4.75, 5.0, 4.25, 3.75, 0.0, 1.25, 5.25, 6.0, 0.5, 5.5, 6.75, 5.75, 8.0, 7.5, 7.75, 6.25, 6.5]\n",
      "Attribute: floors - [1.0, 2.0, 1.5, 3.0, 2.5, 3.5]\n",
      "Attribute: waterfront - ['0', '1']\n",
      "Attribute: view - ['0', '3', '4', '2', '1']\n",
      "Attribute: condition - ['3', '5', '4', '1', '2']\n",
      "Attribute: grade - [7, 6, 8, 11, 9, 5, 10, 12, 4, 3, 13, 1]\n"
     ]
    }
   ],
   "source": [
    "# Watching for outliers\n",
    "\n",
    "unique = df2[['bedrooms','bathrooms','floors','waterfront','view','condition','grade']]\n",
    "\n",
    "for i in unique:\n",
    "    print('Attribute: {} - {}'.format(i, df2[i].unique().tolist()))"
   ]
  },
  {
   "cell_type": "code",
   "execution_count": 20,
   "id": "259de480",
   "metadata": {
    "ExecuteTime": {
     "end_time": "2021-11-25T00:29:57.926133Z",
     "start_time": "2021-11-25T00:29:57.910479Z"
    }
   },
   "outputs": [],
   "source": [
    "# Removing outlier from 'bedrooms' column\n",
    "df2.drop(df2.loc[df2['bedrooms'] == 33].index, inplace = True)"
   ]
  },
  {
   "cell_type": "markdown",
   "id": "140c6c91",
   "metadata": {},
   "source": [
    "## Creating new features"
   ]
  },
  {
   "cell_type": "code",
   "execution_count": 21,
   "id": "defe02c7",
   "metadata": {
    "ExecuteTime": {
     "end_time": "2021-11-25T00:29:58.157826Z",
     "start_time": "2021-11-25T00:29:57.926133Z"
    }
   },
   "outputs": [],
   "source": [
    "# year\n",
    "df2['year'] = df2['date'].dt.year\n",
    "\n",
    "# month\n",
    "df2['month'] = df2['date'].dt.month\n",
    "\n",
    "# day\n",
    "df2['day'] = df2['date'].dt.day\n",
    "\n",
    "# week of year\n",
    "df2['week_of_year'] = df2['date'].dt.weekofyear\n",
    "\n",
    "# year-week\n",
    "df2['year_week'] = df2['date'].dt.strftime( '%Y-%W' )\n",
    "\n",
    "# house age\n",
    "df2['house_age'] = 'NA'\n",
    "df2.loc[df2['date'] > '2014-01-01', 'house_age'] = 'new_house'\n",
    "df2.loc[df2['date'] < '2014-01-01', 'house_age'] = 'old_house'\n",
    "\n",
    "# condition type\n",
    "df2['condition'] = df2['condition'].astype(int64)\n",
    "df2['condition_type'] = df2['condition'].apply(lambda x: 'bad' if x<=2 else 'regular' if (x==3)| (x==4) else 'good')\n",
    "\n",
    "# Basement\n",
    "df2['basement'] = df2['sqft_basement'].apply(lambda x: 'no' if x == 0 else 'yes')        \n",
    "\n",
    "# Season\n",
    "df2['season'] = df2['month'].apply(lambda x: 'summer' if (x > 5) & (x < 8)  else\n",
    "                                             'spring' if (x > 2) & (x < 5)  else\n",
    "                                             'fall'   if (x > 8) & (x < 12) else\n",
    "                                             'winter')\n",
    "# Renovated\n",
    "df2['renovated'] = df2['yr_renovated'].apply(lambda x: 'no' if x == 0 else 'yes')\n",
    "\n",
    "# Year of Construction\n",
    "df2['yr_built'] = df2['yr_built'].astype(int64)\n",
    "df2['construction'] = df2['yr_built'].apply(lambda x: '<1955' if x <= 1955 else '>1955')\n",
    "\n",
    "# Describe condition\n",
    "df2['describe_condition'] = df2['condition'].apply(lambda x: 'too bad' if x == 1 else\n",
    "                                                             'bad'     if x == 2 else\n",
    "                                                             'median'  if x == 3 else\n",
    "                                                             'good'    if x == 4 else\n",
    "                                                             'excellent')"
   ]
  },
  {
   "cell_type": "code",
   "execution_count": 22,
   "id": "02f40948",
   "metadata": {
    "ExecuteTime": {
     "end_time": "2021-11-25T00:30:06.483479Z",
     "start_time": "2021-11-25T00:29:58.157826Z"
    }
   },
   "outputs": [],
   "source": [
    "# Describe price level\n",
    "df2['price_level'] = 'NA'  \n",
    "for i in range(len(df2)):\n",
    "    if (df2.iloc[i, 2] > 0) & (df2.iloc[i, 2] < 321950):\n",
    "        df2.loc[i, 'price_level'] = 0\n",
    "    elif (df2.iloc[i, 2] >= 321950) & (df2.iloc[i, 2] < 450000):\n",
    "        df2.loc[i, 'price_level'] = 1\n",
    "    elif (df2.iloc[i, 2] >= 450000) & (df2.iloc[i, 2] < 645000):\n",
    "        df2.loc[i, 'price_level'] = 2\n",
    "    else:\n",
    "        df2.loc[i, 'price_level'] = 3"
   ]
  },
  {
   "cell_type": "code",
   "execution_count": 23,
   "id": "840ca007",
   "metadata": {
    "ExecuteTime": {
     "end_time": "2021-11-25T00:30:09.254899Z",
     "start_time": "2021-11-25T00:30:06.483479Z"
    }
   },
   "outputs": [],
   "source": [
    "# Describe standard (price < 540,000) and high standard (price > 540,000)\n",
    "df2['standard'] = 'standard'  \n",
    "for i in range(len(df2)):\n",
    "    if (df2.iloc[i, 2] > 540000):\n",
    "        df2.loc[i, 'standard'] = 'high_standard'"
   ]
  },
  {
   "cell_type": "markdown",
   "id": "1f8ec442",
   "metadata": {},
   "source": [
    "### Using API geolocator, add the following features to dataset:\n",
    "- Place ID: property location identification\n",
    "- OSM Type: Open Street Map type\n",
    "- County: name of the county"
   ]
  },
  {
   "cell_type": "code",
   "execution_count": 24,
   "id": "2f3e4ad4",
   "metadata": {
    "ExecuteTime": {
     "end_time": "2021-11-25T00:30:09.498581Z",
     "start_time": "2021-11-25T00:30:09.256941Z"
    }
   },
   "outputs": [],
   "source": [
    "df2['query'] = df2[['lat', 'long']].apply(lambda x: str(x['lat']) + ',' + str(x['long']), axis=1)"
   ]
  },
  {
   "cell_type": "code",
   "execution_count": 25,
   "id": "7b40765d",
   "metadata": {
    "ExecuteTime": {
     "end_time": "2021-11-25T00:30:09.518761Z",
     "start_time": "2021-11-25T00:30:09.498581Z"
    }
   },
   "outputs": [],
   "source": [
    "# As Jupyter Notebook doesn't run multi-thread parallelism processes, this function is saved in a separate file \n",
    "# and has been imported as a module in the next snippet. \n",
    "\n",
    "# def get_data(x):\n",
    "#     index, row = x\n",
    "#     time.sleep(1)\n",
    "    \n",
    "#     # API call\n",
    "#     response = geolocator.reverse(row['query'])\n",
    "    \n",
    "#     place_id = response.raw['place_id']\n",
    "#     osm_type = response.raw['osm_type']\n",
    "#     county = response.raw['address']['county']\n",
    "        \n",
    "#     return place_id, osm_type, county"
   ]
  },
  {
   "cell_type": "code",
   "execution_count": 26,
   "id": "3c291fcc",
   "metadata": {
    "ExecuteTime": {
     "end_time": "2021-11-25T00:30:25.710396Z",
     "start_time": "2021-11-25T00:30:09.518761Z"
    }
   },
   "outputs": [
    {
     "name": "stdout",
     "output_type": "stream",
     "text": [
      "Time elapsed: 0.0\n"
     ]
    }
   ],
   "source": [
    "import defs\n",
    "\n",
    "df_api = df2[['id', 'query']].sample(5).copy()\n",
    "\n",
    "p = Pool(3)\n",
    "\n",
    "start = time.process_time()\n",
    "df_api[['place_id', 'osm_type', 'county']] = p.map(defs.get_data, df_api.iterrows())\n",
    "end = time.process_time()\n",
    "\n",
    "print('Time elapsed: {}'.format(end - start))"
   ]
  },
  {
   "cell_type": "code",
   "execution_count": 27,
   "id": "ad3ebcc8",
   "metadata": {
    "ExecuteTime": {
     "end_time": "2021-11-25T00:30:25.732037Z",
     "start_time": "2021-11-25T00:30:25.710396Z"
    }
   },
   "outputs": [
    {
     "data": {
      "text/html": [
       "<div>\n",
       "<style scoped>\n",
       "    .dataframe tbody tr th:only-of-type {\n",
       "        vertical-align: middle;\n",
       "    }\n",
       "\n",
       "    .dataframe tbody tr th {\n",
       "        vertical-align: top;\n",
       "    }\n",
       "\n",
       "    .dataframe thead th {\n",
       "        text-align: right;\n",
       "    }\n",
       "</style>\n",
       "<table border=\"1\" class=\"dataframe\">\n",
       "  <thead>\n",
       "    <tr style=\"text-align: right;\">\n",
       "      <th></th>\n",
       "      <th>19624</th>\n",
       "      <th>15294</th>\n",
       "      <th>10315</th>\n",
       "      <th>8959</th>\n",
       "      <th>12660</th>\n",
       "    </tr>\n",
       "  </thead>\n",
       "  <tbody>\n",
       "    <tr>\n",
       "      <th>id</th>\n",
       "      <td>9272201704</td>\n",
       "      <td>3732800525</td>\n",
       "      <td>9264920270</td>\n",
       "      <td>7579200767</td>\n",
       "      <td>6979900330</td>\n",
       "    </tr>\n",
       "    <tr>\n",
       "      <th>query</th>\n",
       "      <td>47.5874,-122.386</td>\n",
       "      <td>47.5569,-122.31</td>\n",
       "      <td>47.314,-122.344</td>\n",
       "      <td>47.5592,-122.385</td>\n",
       "      <td>47.6314,-121.968</td>\n",
       "    </tr>\n",
       "    <tr>\n",
       "      <th>place_id</th>\n",
       "      <td>21798263</td>\n",
       "      <td>157544590</td>\n",
       "      <td>231389208</td>\n",
       "      <td>21242367</td>\n",
       "      <td>293827462</td>\n",
       "    </tr>\n",
       "    <tr>\n",
       "      <th>osm_type</th>\n",
       "      <td>node</td>\n",
       "      <td>way</td>\n",
       "      <td>way</td>\n",
       "      <td>node</td>\n",
       "      <td>way</td>\n",
       "    </tr>\n",
       "    <tr>\n",
       "      <th>county</th>\n",
       "      <td>King County</td>\n",
       "      <td>King County</td>\n",
       "      <td>King County</td>\n",
       "      <td>King County</td>\n",
       "      <td>King County</td>\n",
       "    </tr>\n",
       "  </tbody>\n",
       "</table>\n",
       "</div>"
      ],
      "text/plain": [
       "                     19624            15294            10315             8959              12660\n",
       "id              9272201704       3732800525       9264920270        7579200767        6979900330\n",
       "query     47.5874,-122.386  47.5569,-122.31  47.314,-122.344  47.5592,-122.385  47.6314,-121.968\n",
       "place_id          21798263        157544590        231389208          21242367         293827462\n",
       "osm_type              node              way              way              node               way\n",
       "county         King County      King County      King County       King County       King County"
      ]
     },
     "execution_count": 27,
     "metadata": {},
     "output_type": "execute_result"
    }
   ],
   "source": [
    "df_api.head(5).T"
   ]
  },
  {
   "cell_type": "markdown",
   "id": "3f26c1fd",
   "metadata": {},
   "source": [
    "# 3.0 EDA - Exploratory Data Analysis"
   ]
  },
  {
   "cell_type": "code",
   "execution_count": 28,
   "id": "7767f9a5",
   "metadata": {
    "ExecuteTime": {
     "end_time": "2021-11-25T00:30:25.747654Z",
     "start_time": "2021-11-25T00:30:25.732037Z"
    }
   },
   "outputs": [],
   "source": [
    "df3 = df2.copy()"
   ]
  },
  {
   "cell_type": "markdown",
   "id": "3f5df731",
   "metadata": {},
   "source": [
    "## 3.1 Hipothesis & Insights"
   ]
  },
  {
   "cell_type": "markdown",
   "id": "ee752824",
   "metadata": {},
   "source": [
    "### H1: Average price of properties with water view would be 50% more expensive"
   ]
  },
  {
   "cell_type": "code",
   "execution_count": 29,
   "id": "85f10822",
   "metadata": {
    "ExecuteTime": {
     "end_time": "2021-11-25T00:30:25.863638Z",
     "start_time": "2021-11-25T00:30:25.747654Z"
    },
    "code_folding": []
   },
   "outputs": [
    {
     "data": {
      "text/plain": [
       "<AxesSubplot:xlabel='waterfront', ylabel='price'>"
      ]
     },
     "execution_count": 29,
     "metadata": {},
     "output_type": "execute_result"
    },
    {
     "data": {
      "image/png": "[encoded data removed]",
      "text/plain": [
       "<Figure size 720x432 with 1 Axes>"
      ]
     },
     "metadata": {},
     "output_type": "display_data"
    }
   ],
   "source": [
    "h1 = df3[['price','waterfront']].groupby('waterfront').mean().reset_index()\n",
    "plt.figure(figsize=(10,6))\n",
    "sns.barplot(h1['waterfront'],h1['price'])"
   ]
  },
  {
   "cell_type": "code",
   "execution_count": 30,
   "id": "88c7cd22",
   "metadata": {
    "ExecuteTime": {
     "end_time": "2021-11-25T00:30:25.879258Z",
     "start_time": "2021-11-25T00:30:25.863638Z"
    }
   },
   "outputs": [
    {
     "name": "stdout",
     "output_type": "stream",
     "text": [
      "H1 is True: properties with waterview are in the mean 212% more expensive\n"
     ]
    }
   ],
   "source": [
    "h1_percent = (h1.loc[1,'price'] - h1.loc[0,'price']) / h1.loc[0,'price']\n",
    "print('H1 is True: properties with waterview are in the mean {0:.0%} more expensive'.format(h1_percent))"
   ]
  },
  {
   "cell_type": "markdown",
   "id": "e000a5c2",
   "metadata": {},
   "source": [
    "### H2: Average price of properties constructed before 1955 would be less expensive"
   ]
  },
  {
   "cell_type": "code",
   "execution_count": 31,
   "id": "f0d2ea73",
   "metadata": {
    "ExecuteTime": {
     "end_time": "2021-11-25T00:30:25.979610Z",
     "start_time": "2021-11-25T00:30:25.879258Z"
    }
   },
   "outputs": [
    {
     "data": {
      "text/plain": [
       "<AxesSubplot:xlabel='construction', ylabel='price'>"
      ]
     },
     "execution_count": 31,
     "metadata": {},
     "output_type": "execute_result"
    },
    {
     "data": {
      "image/png": "[encoded data removed]",
      "text/plain": [
       "<Figure size 720x432 with 1 Axes>"
      ]
     },
     "metadata": {},
     "output_type": "display_data"
    }
   ],
   "source": [
    "h2 = df3[['price','construction']].groupby('construction').mean().reset_index()\n",
    "plt.figure(figsize=(10,6))\n",
    "sns.barplot(h2['construction'],h2['price'])"
   ]
  },
  {
   "cell_type": "code",
   "execution_count": 32,
   "id": "dea098bd",
   "metadata": {
    "ExecuteTime": {
     "end_time": "2021-11-25T00:30:25.995234Z",
     "start_time": "2021-11-25T00:30:25.979610Z"
    }
   },
   "outputs": [
    {
     "name": "stdout",
     "output_type": "stream",
     "text": [
      "H2 is False: properties constructed before 1955 are in the mean only 1% less expensive\n"
     ]
    }
   ],
   "source": [
    "h2_percent = (h2.loc[1,'price'] - h2.loc[0,'price']) / h2.loc[1,'price']\n",
    "print('H2 is False: properties constructed before 1955 are in the mean only {0:.0%} less expensive'.format(h2_percent))"
   ]
  },
  {
   "cell_type": "markdown",
   "id": "232a0858",
   "metadata": {},
   "source": [
    "### H3: Properties without basement would have larger square footage"
   ]
  },
  {
   "cell_type": "code",
   "execution_count": 33,
   "id": "4f2d769c",
   "metadata": {
    "ExecuteTime": {
     "end_time": "2021-11-25T00:30:26.111221Z",
     "start_time": "2021-11-25T00:30:25.995234Z"
    },
    "code_folding": []
   },
   "outputs": [
    {
     "data": {
      "text/plain": [
       "<AxesSubplot:xlabel='basement', ylabel='sqft_lot'>"
      ]
     },
     "execution_count": 33,
     "metadata": {},
     "output_type": "execute_result"
    },
    {
     "data": {
      "image/png": "[encoded data removed]",
      "text/plain": [
       "<Figure size 720x432 with 1 Axes>"
      ]
     },
     "metadata": {},
     "output_type": "display_data"
    }
   ],
   "source": [
    "h3 = df3[['sqft_lot','basement']].groupby('basement').mean().reset_index()\n",
    "\n",
    "plt.figure(figsize=(10,6))\n",
    "sns.barplot(h3['basement'],h3['sqft_lot'])"
   ]
  },
  {
   "cell_type": "code",
   "execution_count": 34,
   "id": "5c203f8b",
   "metadata": {
    "ExecuteTime": {
     "end_time": "2021-11-25T00:30:26.133361Z",
     "start_time": "2021-11-25T00:30:26.111221Z"
    }
   },
   "outputs": [
    {
     "name": "stdout",
     "output_type": "stream",
     "text": [
      "H3 is True: properties with no basement have square footage 23% larger\n"
     ]
    }
   ],
   "source": [
    "h3_percent = (h3.loc[0,'sqft_lot'] - h3.loc[1,'sqft_lot']) / h3.loc[1,'sqft_lot']\n",
    "print('H3 is True: properties with no basement have square footage {0:.0%} larger'.format(h3_percent))"
   ]
  },
  {
   "cell_type": "markdown",
   "id": "a171e517",
   "metadata": {},
   "source": [
    "### H4: Prices would have rised up YoY (Year over Year)"
   ]
  },
  {
   "cell_type": "code",
   "execution_count": 35,
   "id": "7128e800",
   "metadata": {
    "ExecuteTime": {
     "end_time": "2021-11-25T00:30:26.233682Z",
     "start_time": "2021-11-25T00:30:26.133361Z"
    },
    "code_folding": []
   },
   "outputs": [
    {
     "data": {
      "text/plain": [
       "<AxesSubplot:xlabel='year', ylabel='price'>"
      ]
     },
     "execution_count": 35,
     "metadata": {},
     "output_type": "execute_result"
    },
    {
     "data": {
      "image/png": "[encoded data removed]",
      "text/plain": [
       "<Figure size 720x432 with 1 Axes>"
      ]
     },
     "metadata": {},
     "output_type": "display_data"
    }
   ],
   "source": [
    "h4 = df3[['price','year']].groupby('year').mean().reset_index()\n",
    "plt.figure(figsize=(10,6))\n",
    "sns.barplot(h4['year'],h4['price'])"
   ]
  },
  {
   "cell_type": "code",
   "execution_count": 36,
   "id": "2c0e4f98",
   "metadata": {
    "ExecuteTime": {
     "end_time": "2021-11-25T00:30:26.249302Z",
     "start_time": "2021-11-25T00:30:26.233682Z"
    }
   },
   "outputs": [
    {
     "name": "stdout",
     "output_type": "stream",
     "text": [
      "H4 is False: price growth from 2014 to 2015 was 0%\n"
     ]
    }
   ],
   "source": [
    "h4_percent = (h4.loc[1,'price'] - h4.loc[0,'price']) / h4.loc[0,'price']\n",
    "print('H4 is False: price growth from 2014 to 2015 was {0:.0%}'.format(h4_percent))"
   ]
  },
  {
   "cell_type": "markdown",
   "id": "381a9891",
   "metadata": {
    "ExecuteTime": {
     "end_time": "2021-09-04T19:46:11.631088Z",
     "start_time": "2021-09-04T19:46:11.312707Z"
    }
   },
   "source": [
    "### H5: Properties with more bedrooms would be more expensive"
   ]
  },
  {
   "cell_type": "code",
   "execution_count": 37,
   "id": "53d4a3c5",
   "metadata": {
    "ExecuteTime": {
     "end_time": "2021-11-25T00:30:26.412696Z",
     "start_time": "2021-11-25T00:30:26.249302Z"
    },
    "code_folding": []
   },
   "outputs": [
    {
     "data": {
      "image/png": "[encoded data removed]",
      "text/plain": [
       "<Figure size 1080x360 with 1 Axes>"
      ]
     },
     "metadata": {},
     "output_type": "display_data"
    }
   ],
   "source": [
    "h5 = df3[['price','bedrooms']].groupby('bedrooms').mean().reset_index()\n",
    "\n",
    "plt.figure(figsize=(15,5))\n",
    "sns.barplot(h5['bedrooms'],h5['price'])\n",
    "\n",
    "median = h5['bedrooms'].median()\n",
    "\n",
    "bed_above = h5['price'][h5['bedrooms'] > median].mean()\n",
    "bed_below = h5['price'][h5['bedrooms'] < median].mean()"
   ]
  },
  {
   "cell_type": "code",
   "execution_count": 38,
   "id": "5f886aca",
   "metadata": {
    "ExecuteTime": {
     "end_time": "2021-11-25T00:30:26.433837Z",
     "start_time": "2021-11-25T00:30:26.412696Z"
    }
   },
   "outputs": [
    {
     "name": "stdout",
     "output_type": "stream",
     "text": [
      "H5 is True: properties with more than 5 beds are 69% more expensive.\n"
     ]
    }
   ],
   "source": [
    "h5_percent = (bed_above - bed_below) / bed_below\n",
    "print('H5 is True: properties with more than 5 beds are {0:.0%} more expensive.'.format(h5_percent))"
   ]
  },
  {
   "cell_type": "markdown",
   "id": "9da6a474",
   "metadata": {},
   "source": [
    "# 4.0 BUSINESS QUESTIONS & SOLUTIONS"
   ]
  },
  {
   "cell_type": "code",
   "execution_count": 39,
   "id": "52259400",
   "metadata": {
    "ExecuteTime": {
     "end_time": "2021-11-25T00:30:26.480737Z",
     "start_time": "2021-11-25T00:30:26.433837Z"
    }
   },
   "outputs": [],
   "source": [
    "df4 = df2.copy()\n",
    "df4 = df4.dropna(axis=0)"
   ]
  },
  {
   "cell_type": "markdown",
   "id": "21aaae77",
   "metadata": {},
   "source": [
    "## 4.1 Map showing where the houses are geographically located"
   ]
  },
  {
   "cell_type": "code",
   "execution_count": 40,
   "id": "5939ef1f",
   "metadata": {
    "ExecuteTime": {
     "end_time": "2021-11-25T00:30:26.511988Z",
     "start_time": "2021-11-25T00:30:26.480737Z"
    }
   },
   "outputs": [],
   "source": [
    "df4['lat'] = df4['lat'].astype(float64)\n",
    "df4['long'] = df4['long'].astype(float64)"
   ]
  },
  {
   "cell_type": "code",
   "execution_count": 41,
   "id": "0d36d47c",
   "metadata": {
    "ExecuteTime": {
     "end_time": "2021-11-25T00:30:26.534119Z",
     "start_time": "2021-11-25T00:30:26.511988Z"
    }
   },
   "outputs": [],
   "source": [
    "df4['price'].fillna(0, inplace=True)"
   ]
  },
  {
   "cell_type": "code",
   "execution_count": 42,
   "id": "156edfb7",
   "metadata": {
    "ExecuteTime": {
     "end_time": "2021-11-25T00:30:26.549741Z",
     "start_time": "2021-11-25T00:30:26.534119Z"
    }
   },
   "outputs": [],
   "source": [
    "df4['waterfront'] = df4['waterfront'].apply(lambda x: \"yes\" if x==\"1\" else \"no\")"
   ]
  },
  {
   "cell_type": "code",
   "execution_count": 43,
   "id": "c87fd992",
   "metadata": {
    "ExecuteTime": {
     "end_time": "2021-11-25T00:30:26.596604Z",
     "start_time": "2021-11-25T00:30:26.549741Z"
    }
   },
   "outputs": [],
   "source": [
    "# Interactive buttons - widgets to control data\n",
    "\n",
    "style = {'description_width': 'initial'}\n",
    "\n",
    "# filter by waterfront\n",
    "waterfront_bar = widgets.Dropdown(\n",
    "    options=df4['waterfront'].unique().tolist(),\n",
    "    value='no',\n",
    "    description='Water View',\n",
    "    disable=False)\n",
    "\n",
    "# limit by price\n",
    "price_limit = widgets.IntSlider(\n",
    "    value=int(df4['price'].mean()),\n",
    "    min=int(df4['price'].min()),\n",
    "    max=int(df4['price'].max()),\n",
    "    step=1,\n",
    "    description='Maximum Price',\n",
    "    disable=False,\n",
    "    style={'description_width': 'initial'})\n",
    "\n",
    "# limit living room squarefootage\n",
    "livingroom_limit = widgets.IntSlider(\n",
    "    value=int(df4['sqft_living'].mean()),\n",
    "    min=df4['sqft_living'].min(),\n",
    "    max=df4['sqft_living'].max(),\n",
    "    step=1,\n",
    "    description='Minimum Living Room Size',\n",
    "    disable=False,\n",
    "    style={'description_width': 'initial'})\n",
    "\n",
    "# limit by bathrooms\n",
    "bathroom_limit = widgets.IntSlider(\n",
    "    value=df4['bathrooms'].min(),\n",
    "    min=df4['bathrooms'].min(),\n",
    "    max=df4['bathrooms'].max(),\n",
    "    step=1,\n",
    "    description='Minimum Number of Bathrooms',\n",
    "    disable=False,\n",
    "    style={'description_width': 'initial'})\n",
    "\n",
    "# limit basement squarefootage\n",
    "basement_limit = widgets.IntSlider(\n",
    "    value=int(df4['sqft_basement'].mean()),\n",
    "    min=df4['sqft_basement'].min(),\n",
    "    max=df4['sqft_basement'].max(),\n",
    "    step=1,\n",
    "    description='Maximum Basement Size',\n",
    "    disable=False,\n",
    "    style={'description_width': 'initial'})\n",
    "\n",
    "# limit property condition\n",
    "condition_limit = widgets.IntSlider(\n",
    "    value=df4['condition'].min(),\n",
    "    min=df4['condition'].min(),\n",
    "    max=df4['condition'].max(),\n",
    "    step=1,\n",
    "    description='Property Minimum Condition',\n",
    "    disable=False,\n",
    "    style={'description_width': 'initial'})\n",
    "\n",
    "# limit construction year\n",
    "construction_limit = widgets.IntSlider(\n",
    "    value=int(df4['yr_built'].mean()),\n",
    "    min=df4['yr_built'].min(),\n",
    "    max=df4['yr_built'].max(),\n",
    "    step=1,\n",
    "    description='Year of Construction from',\n",
    "    disable=False,\n",
    "    style={'description_width': 'initial'})"
   ]
  },
  {
   "cell_type": "code",
   "execution_count": 44,
   "id": "9bf35b9e",
   "metadata": {
    "ExecuteTime": {
     "end_time": "2021-11-25T00:30:26.612226Z",
     "start_time": "2021-11-25T00:30:26.596604Z"
    }
   },
   "outputs": [],
   "source": [
    "def update_map (df4, waterfront, limit, livingroom_limit, bathroom_limit, basement_limit, condition_limit, construction_limit):\n",
    "    \n",
    "    houses = df4[(df4['waterfront'] == waterfront) &\n",
    "                 (df4['price'] <= limit) & \n",
    "                 (df4['sqft_living'] >= livingroom_limit) &\n",
    "                 (df4['bathrooms'] >= bathroom_limit) &\n",
    "                 (df4['sqft_basement'] <= basement_limit) &\n",
    "                 (df4['condition'] >= condition_limit) &\n",
    "                 (df4['yr_built'] >= construction_limit)\n",
    "                ][['id', 'lat', 'long', 'price', 'price_level', 'sqft_living', 'bathrooms', 'sqft_basement', 'condition', 'yr_built']].copy()\n",
    "    \n",
    "    fig = px.scatter_mapbox(houses, lat='lat', lon='long', color='price_level', size='price', \n",
    "                         color_continuous_scale=px.colors.named_colorscales(),\n",
    "                         size_max=15,\n",
    "                         zoom=10)\n",
    "    fig.update_layout(mapbox_style='open-street-map')\n",
    "    fig.update_layout(height=600, margin={'r':0, 't':0, 'l':0, 'b':0})\n",
    "    fig.show()"
   ]
  },
  {
   "cell_type": "code",
   "execution_count": 45,
   "id": "7bc38b55",
   "metadata": {
    "ExecuteTime": {
     "end_time": "2021-11-25T00:30:27.499144Z",
     "start_time": "2021-11-25T00:30:26.612226Z"
    }
   },
   "outputs": [
    {
     "data": {
      "application/vnd.jupyter.widget-view+json": {
       "model_id": "8210c270d21147239e5aadf6969beea5",
       "version_major": 2,
       "version_minor": 0
      },
      "text/plain": [
       "interactive(children=(Dropdown(description='Water View', options=('no', 'yes'), value='no'), IntSlider(value=5…"
      ]
     },
     "metadata": {},
     "output_type": "display_data"
    }
   ],
   "source": [
    "widgets.interactive(update_map, df4=fixed(df4), \n",
    "                    waterfront=waterfront_bar, limit=price_limit, livingroom_limit=livingroom_limit, \n",
    "                    bathroom_limit=bathroom_limit, basement_limit=basement_limit, condition_limit=condition_limit, \n",
    "                    construction_limit=construction_limit)\n",
    "\n",
    "# USE KEYBOARD \"+\" AND \"-\" TO ZOOM IN/OUT THE MAP\n",
    "# EACH POINT INDICATES A PROPERTY AND ITS FEATURES"
   ]
  },
  {
   "cell_type": "markdown",
   "id": "918609e2",
   "metadata": {
    "ExecuteTime": {
     "end_time": "2021-11-02T00:28:38.046860Z",
     "start_time": "2021-11-02T00:28:37.780202Z"
    }
   },
   "source": [
    "## 4.2 Dashboard with interactive charts"
   ]
  },
  {
   "cell_type": "code",
   "execution_count": 46,
   "id": "327efae8",
   "metadata": {
    "ExecuteTime": {
     "end_time": "2021-11-25T00:30:27.514754Z",
     "start_time": "2021-11-25T00:30:27.499144Z"
    }
   },
   "outputs": [],
   "source": [
    "df5 = data.copy()"
   ]
  },
  {
   "cell_type": "code",
   "execution_count": 47,
   "id": "c1c2d040",
   "metadata": {
    "ExecuteTime": {
     "end_time": "2021-11-25T00:30:27.969207Z",
     "start_time": "2021-11-25T00:30:27.514754Z"
    }
   },
   "outputs": [],
   "source": [
    "# change date format\n",
    "df5['year'] = pd.to_datetime(data['date']).dt.strftime('%Y')\n",
    "df5['date'] = pd.to_datetime(data['date']).dt.strftime('%Y-%m-%d')\n",
    "df5['year_week'] = pd.to_datetime(data['date']).dt.strftime('%Y-%U')"
   ]
  },
  {
   "cell_type": "code",
   "execution_count": 48,
   "id": "bb67a06b",
   "metadata": {
    "ExecuteTime": {
     "end_time": "2021-11-25T00:30:27.984829Z",
     "start_time": "2021-11-25T00:30:27.969207Z"
    }
   },
   "outputs": [],
   "source": [
    "df5['id'] = df5['id'].astype(int64)\n",
    "df5['yr_built'] = df5['yr_built'].astype(int64)\n",
    "df5['yr_renovated'] = df5['yr_renovated'].astype(int64)"
   ]
  },
  {
   "cell_type": "code",
   "execution_count": 49,
   "id": "3f31cb4d",
   "metadata": {
    "ExecuteTime": {
     "end_time": "2021-11-25T00:30:28.000449Z",
     "start_time": "2021-11-25T00:30:27.984829Z"
    }
   },
   "outputs": [],
   "source": [
    "df5['yr_renovated'] = df5['yr_renovated'].replace(0, 1900)"
   ]
  },
  {
   "cell_type": "code",
   "execution_count": 50,
   "id": "deb4f388",
   "metadata": {
    "ExecuteTime": {
     "end_time": "2021-11-25T00:30:28.053855Z",
     "start_time": "2021-11-25T00:30:28.000449Z"
    }
   },
   "outputs": [],
   "source": [
    "# Interactive buttons - widgets to control data\n",
    "\n",
    "# filter by waterfront\n",
    "waterfront_box = widgets.Checkbox(\n",
    "    value=False,\n",
    "    options=df5.loc[:, 'waterfront'].unique().tolist(),\n",
    "    description='Water View',\n",
    "    disable=False,\n",
    "    indent=False)\n",
    "\n",
    "# property availability\n",
    "date_limit = widgets.SelectionSlider(\n",
    "    options=df5.loc[:, 'date'].sort_values().unique().tolist(),\n",
    "    value = df5['date'].max(),\n",
    "    description = \"Availability\",\n",
    "    style={'description_width':'initial'},\n",
    "    #disable=False,\n",
    "    continuous_update=False,\n",
    "    #orientation='horizontal',\n",
    "    readout=True )\n",
    "\n",
    "# renovation year\n",
    "renovation_limit = widgets.SelectionSlider(\n",
    "    options=df5.loc[:, 'yr_renovated'].sort_values().unique().tolist(),\n",
    "    value = 2000,\n",
    "    description = \"Renovation Year from\",\n",
    "    style={'description_width':'initial'},\n",
    "    disable=False,\n",
    "    continuous_update=False,\n",
    "    orientation='horizontal',\n",
    "    readout=True )"
   ]
  },
  {
   "cell_type": "code",
   "execution_count": 51,
   "id": "de5d65b3",
   "metadata": {
    "ExecuteTime": {
     "end_time": "2021-11-25T00:30:28.069450Z",
     "start_time": "2021-11-25T00:30:28.053855Z"
    }
   },
   "outputs": [],
   "source": [
    "def update_dashboard( df5, date_limit, renovation_limit, waterfront_box ):\n",
    "    \n",
    "    # Filtering data\n",
    "    df = df5[(df5['date'] <= date_limit) &\n",
    "             (df5['yr_renovated'] >= renovation_limit) &\n",
    "             (df5['waterfront'] == waterfront_box)][['id', 'price', 'date', 'yr_renovated', 'waterfront', 'year_week', 'year']].copy()\n",
    "    \n",
    "    fig = plt.figure(figsize=(24, 12))\n",
    "    \n",
    "    specs = gridspec.GridSpec( ncols=2, nrows=2, figure=fig )\n",
    "    \n",
    "    ax1 = fig.add_subplot( specs[0, :] ) # First row\n",
    "    ax2 = fig.add_subplot( specs[1, 0] ) # Second Row First Column\n",
    "    ax3 = fig.add_subplot( specs[1, 1] ) # Second Row Second Column  rows\n",
    "    \n",
    "    # first graph\n",
    "    by_year = df[['price', 'year']].groupby( 'year').sum().reset_index()\n",
    "#     ax1.bar( by_year['year'], by_year['id'] )\n",
    "    sns.barplot(x='year', y='price', data=by_year, ax=ax1)\n",
    "    \n",
    "    # second graph\n",
    "    by_day = df[['price', 'date']].groupby('date').mean().reset_index()\n",
    "#     ax2.plot( by_day['date'], by_day['price'] )\n",
    "#     ax2.set_title( 'title: Avg Price by Day' )\n",
    "    sns.lineplot(x='date', y='price', data=by_day, ax=ax2)\n",
    "    plt.xticks( rotation=90 );\n",
    "    \n",
    "    # third graph\n",
    "    by_week_of_year = df[['price', 'year_week']].groupby('year_week').mean().reset_index()\n",
    "#     ax3.bar( by_week_of_year['year_week'], by_week_of_year['price'] )\n",
    "#     ax3.set_title( 'title: Avg Price by Week Of Year' )\n",
    "#     plt.xticks( rotation=60 );\n",
    "    sns.barplot(x='year_week', y='price', data=by_week_of_year, ax=ax3)\n",
    "    plt.xticks( rotation=90 );"
   ]
  },
  {
   "cell_type": "code",
   "execution_count": 52,
   "id": "b7da199d",
   "metadata": {
    "ExecuteTime": {
     "end_time": "2021-11-25T00:30:33.599974Z",
     "start_time": "2021-11-25T00:30:28.069450Z"
    }
   },
   "outputs": [
    {
     "data": {
      "application/vnd.jupyter.widget-view+json": {
       "model_id": "e5274004988842cdac556c9e271a9d22",
       "version_major": 2,
       "version_minor": 0
      },
      "text/plain": [
       "interactive(children=(SelectionSlider(continuous_update=False, description='Availability', index=371, options=…"
      ]
     },
     "metadata": {},
     "output_type": "display_data"
    }
   ],
   "source": [
    "widgets.interactive(update_dashboard, df5=fixed(df5), \n",
    "                    date_limit=date_limit, \n",
    "                    renovation_limit=renovation_limit, \n",
    "                    waterfront_box=waterfront_box)"
   ]
  },
  {
   "cell_type": "markdown",
   "id": "8c5ce7cf",
   "metadata": {},
   "source": [
    "## 4.3 Which properties should be bought by House Rocket and at what price?"
   ]
  },
  {
   "cell_type": "code",
   "execution_count": 53,
   "id": "23cf6fbb",
   "metadata": {
    "ExecuteTime": {
     "end_time": "2021-11-25T00:30:42.490971Z",
     "start_time": "2021-11-25T00:30:33.599974Z"
    },
    "code_folding": []
   },
   "outputs": [],
   "source": [
    "# Group by zipcode and calculate median of price\n",
    "df5 = df1[['zipcode','price']].groupby('zipcode').median().reset_index()\n",
    "df5 = df5.rename(columns={'price': 'price_median'})\n",
    "\n",
    "df6 = pd.merge(df1,df5,on='zipcode',how='inner')\n",
    "\n",
    "# create column \"status\"\n",
    "df6['status'] = 'NA'\n",
    "\n",
    "for i in range(len(df6)):\n",
    "    if (df6.loc[i,'price'] < df6.loc[i,'price_median']) & (int(df6.loc[i,'condition']) >= 3):\n",
    "        df6.loc[i,'status'] = 'buy'\n",
    "    else:\n",
    "        df6.loc[i,'status'] = 'no buy'"
   ]
  },
  {
   "cell_type": "code",
   "execution_count": 54,
   "id": "db96ac32",
   "metadata": {
    "ExecuteTime": {
     "end_time": "2021-11-25T00:30:49.639157Z",
     "start_time": "2021-11-25T00:30:42.490971Z"
    }
   },
   "outputs": [],
   "source": [
    "df6['season'] = df6['date'].map(season_of_date)"
   ]
  },
  {
   "cell_type": "code",
   "execution_count": 55,
   "id": "fd1c202f",
   "metadata": {
    "ExecuteTime": {
     "end_time": "2021-11-25T00:30:49.680456Z",
     "start_time": "2021-11-25T00:30:49.639157Z"
    },
    "code_folding": [],
    "scrolled": true
   },
   "outputs": [
    {
     "name": "stdout",
     "output_type": "stream",
     "text": [
      "There are 10579 properties that fulfill the requirements for buying.\n"
     ]
    }
   ],
   "source": [
    "# create a report showing only the requeriments for buying, sorted by price and condition \n",
    "buy_houses = df6[df6['status'] == 'buy'].sort_values(by=['condition','price'])\n",
    "\n",
    "print('There are {} properties that fulfill the requirements for buying.'.format(len(buy_houses)))"
   ]
  },
  {
   "cell_type": "code",
   "execution_count": 56,
   "id": "4a89729f",
   "metadata": {
    "ExecuteTime": {
     "end_time": "2021-11-25T00:30:49.696122Z",
     "start_time": "2021-11-25T00:30:49.680456Z"
    }
   },
   "outputs": [
    {
     "data": {
      "text/html": [
       "<div>\n",
       "<style scoped>\n",
       "    .dataframe tbody tr th:only-of-type {\n",
       "        vertical-align: middle;\n",
       "    }\n",
       "\n",
       "    .dataframe tbody tr th {\n",
       "        vertical-align: top;\n",
       "    }\n",
       "\n",
       "    .dataframe thead th {\n",
       "        text-align: right;\n",
       "    }\n",
       "</style>\n",
       "<table border=\"1\" class=\"dataframe\">\n",
       "  <thead>\n",
       "    <tr style=\"text-align: right;\">\n",
       "      <th></th>\n",
       "      <th>id</th>\n",
       "      <th>zipcode</th>\n",
       "      <th>price</th>\n",
       "      <th>price_median</th>\n",
       "      <th>condition</th>\n",
       "    </tr>\n",
       "  </thead>\n",
       "  <tbody>\n",
       "    <tr>\n",
       "      <th>20116</th>\n",
       "      <td>9269260420</td>\n",
       "      <td>98011</td>\n",
       "      <td>436000.00</td>\n",
       "      <td>470000.00</td>\n",
       "      <td>3</td>\n",
       "    </tr>\n",
       "    <tr>\n",
       "      <th>12748</th>\n",
       "      <td>7229900005</td>\n",
       "      <td>98059</td>\n",
       "      <td>350000.00</td>\n",
       "      <td>435000.00</td>\n",
       "      <td>4</td>\n",
       "    </tr>\n",
       "    <tr>\n",
       "      <th>18577</th>\n",
       "      <td>2205700470</td>\n",
       "      <td>98006</td>\n",
       "      <td>650500.00</td>\n",
       "      <td>760184.50</td>\n",
       "      <td>3</td>\n",
       "    </tr>\n",
       "    <tr>\n",
       "      <th>9414</th>\n",
       "      <td>8645510230</td>\n",
       "      <td>98058</td>\n",
       "      <td>332000.00</td>\n",
       "      <td>335000.00</td>\n",
       "      <td>3</td>\n",
       "    </tr>\n",
       "    <tr>\n",
       "      <th>6408</th>\n",
       "      <td>5021900050</td>\n",
       "      <td>98040</td>\n",
       "      <td>832500.00</td>\n",
       "      <td>993750.00</td>\n",
       "      <td>4</td>\n",
       "    </tr>\n",
       "  </tbody>\n",
       "</table>\n",
       "</div>"
      ],
      "text/plain": [
       "               id zipcode     price  price_median condition\n",
       "20116  9269260420   98011 436000.00     470000.00         3\n",
       "12748  7229900005   98059 350000.00     435000.00         4\n",
       "18577  2205700470   98006 650500.00     760184.50         3\n",
       "9414   8645510230   98058 332000.00     335000.00         3\n",
       "6408   5021900050   98040 832500.00     993750.00         4"
      ]
     },
     "execution_count": 56,
     "metadata": {},
     "output_type": "execute_result"
    }
   ],
   "source": [
    "buy_houses[['id','zipcode','price','price_median','condition']].sample(5)"
   ]
  },
  {
   "cell_type": "markdown",
   "id": "999294b6",
   "metadata": {
    "ExecuteTime": {
     "end_time": "2021-07-08T00:13:01.395853Z",
     "start_time": "2021-07-08T00:13:01.365689Z"
    }
   },
   "source": [
    "### 4.4 After buying the selected properties, what is the best time to resell them and at which price?"
   ]
  },
  {
   "cell_type": "code",
   "execution_count": 57,
   "id": "a44ce6de",
   "metadata": {
    "ExecuteTime": {
     "end_time": "2021-11-25T00:30:49.765145Z",
     "start_time": "2021-11-25T00:30:49.696122Z"
    },
    "code_folding": []
   },
   "outputs": [],
   "source": [
    "# Group properties by zipcode and season\n",
    "df7 = df6[['zipcode','season','price']].groupby(['zipcode','season']).median().reset_index()\n",
    "df7 = df7.rename(columns={'price': 'price_season_median'})\n",
    "\n",
    "df8 = pd.merge(buy_houses, df7, how='inner', on=['zipcode', 'season'])"
   ]
  },
  {
   "cell_type": "markdown",
   "id": "cc8138da",
   "metadata": {},
   "source": [
    "Selling conditions:\n",
    "* Buying price compared to the regian median and season to be considered"
   ]
  },
  {
   "cell_type": "code",
   "execution_count": 59,
   "id": "2ee63ab6",
   "metadata": {
    "ExecuteTime": {
     "end_time": "2021-11-25T00:33:29.622748Z",
     "start_time": "2021-11-25T00:33:27.056667Z"
    },
    "code_folding": []
   },
   "outputs": [],
   "source": [
    "for i in range(len(df8)):\n",
    "    if df8.loc[i, 'price'] <= df8.loc[i, 'price_season_median']:\n",
    "         df8.loc[i, 'sale_price'] = df8.loc[i, 'price'] * 1.30\n",
    "    elif df8.loc[i, 'price'] > df8.loc[i, 'price_season_median']:\n",
    "         df8.loc[i, 'sale_price'] = df8.loc[i, 'price'] * 1.10\n",
    "    else:\n",
    "         pass\n",
    "\n",
    "df8['profit'] = df8['sale_price'] - df8['price']"
   ]
  },
  {
   "cell_type": "markdown",
   "id": "4d219928",
   "metadata": {},
   "source": [
    "Report: Properties to be bought with suggestions of sale price and profit"
   ]
  },
  {
   "cell_type": "code",
   "execution_count": 60,
   "id": "c357e040",
   "metadata": {
    "ExecuteTime": {
     "end_time": "2021-11-25T00:33:30.616618Z",
     "start_time": "2021-11-25T00:33:30.569796Z"
    },
    "code_folding": []
   },
   "outputs": [
    {
     "data": {
      "text/html": [
       "<div>\n",
       "<style scoped>\n",
       "    .dataframe tbody tr th:only-of-type {\n",
       "        vertical-align: middle;\n",
       "    }\n",
       "\n",
       "    .dataframe tbody tr th {\n",
       "        vertical-align: top;\n",
       "    }\n",
       "\n",
       "    .dataframe thead th {\n",
       "        text-align: right;\n",
       "    }\n",
       "</style>\n",
       "<table border=\"1\" class=\"dataframe\">\n",
       "  <thead>\n",
       "    <tr style=\"text-align: right;\">\n",
       "      <th></th>\n",
       "      <th>3712</th>\n",
       "      <th>9137</th>\n",
       "      <th>2158</th>\n",
       "      <th>2034</th>\n",
       "      <th>3486</th>\n",
       "    </tr>\n",
       "  </thead>\n",
       "  <tbody>\n",
       "    <tr>\n",
       "      <th>id</th>\n",
       "      <td>3392100050</td>\n",
       "      <td>1186000150</td>\n",
       "      <td>4324200060</td>\n",
       "      <td>7229210060</td>\n",
       "      <td>7334501240</td>\n",
       "    </tr>\n",
       "    <tr>\n",
       "      <th>zipcode</th>\n",
       "      <td>98003</td>\n",
       "      <td>98122</td>\n",
       "      <td>98031</td>\n",
       "      <td>98058</td>\n",
       "      <td>98045</td>\n",
       "    </tr>\n",
       "    <tr>\n",
       "      <th>price</th>\n",
       "      <td>205000.00</td>\n",
       "      <td>563250.00</td>\n",
       "      <td>249000.00</td>\n",
       "      <td>299950.00</td>\n",
       "      <td>280000.00</td>\n",
       "    </tr>\n",
       "    <tr>\n",
       "      <th>price_median</th>\n",
       "      <td>267475.00</td>\n",
       "      <td>572000.00</td>\n",
       "      <td>288200.00</td>\n",
       "      <td>335000.00</td>\n",
       "      <td>399500.00</td>\n",
       "    </tr>\n",
       "    <tr>\n",
       "      <th>season</th>\n",
       "      <td>summer</td>\n",
       "      <td>winter</td>\n",
       "      <td>winter</td>\n",
       "      <td>autumn</td>\n",
       "      <td>spring</td>\n",
       "    </tr>\n",
       "    <tr>\n",
       "      <th>price_season_median</th>\n",
       "      <td>260875.00</td>\n",
       "      <td>526000.00</td>\n",
       "      <td>279000.00</td>\n",
       "      <td>322250.00</td>\n",
       "      <td>427000.00</td>\n",
       "    </tr>\n",
       "    <tr>\n",
       "      <th>condition</th>\n",
       "      <td>3</td>\n",
       "      <td>5</td>\n",
       "      <td>3</td>\n",
       "      <td>4</td>\n",
       "      <td>3</td>\n",
       "    </tr>\n",
       "    <tr>\n",
       "      <th>sale_price</th>\n",
       "      <td>266500.00</td>\n",
       "      <td>619575.00</td>\n",
       "      <td>323700.00</td>\n",
       "      <td>389935.00</td>\n",
       "      <td>364000.00</td>\n",
       "    </tr>\n",
       "    <tr>\n",
       "      <th>profit</th>\n",
       "      <td>61500.00</td>\n",
       "      <td>56325.00</td>\n",
       "      <td>74700.00</td>\n",
       "      <td>89985.00</td>\n",
       "      <td>84000.00</td>\n",
       "    </tr>\n",
       "  </tbody>\n",
       "</table>\n",
       "</div>"
      ],
      "text/plain": [
       "                           3712        9137        2158        2034        3486\n",
       "id                   3392100050  1186000150  4324200060  7229210060  7334501240\n",
       "zipcode                   98003       98122       98031       98058       98045\n",
       "price                 205000.00   563250.00   249000.00   299950.00   280000.00\n",
       "price_median          267475.00   572000.00   288200.00   335000.00   399500.00\n",
       "season                   summer      winter      winter      autumn      spring\n",
       "price_season_median   260875.00   526000.00   279000.00   322250.00   427000.00\n",
       "condition                     3           5           3           4           3\n",
       "sale_price            266500.00   619575.00   323700.00   389935.00   364000.00\n",
       "profit                 61500.00    56325.00    74700.00    89985.00    84000.00"
      ]
     },
     "execution_count": 60,
     "metadata": {},
     "output_type": "execute_result"
    }
   ],
   "source": [
    "df8[['id','zipcode','price','price_median','season','price_season_median','condition','sale_price','profit']].sample(5).T"
   ]
  },
  {
   "cell_type": "code",
   "execution_count": 61,
   "id": "7ad422fc",
   "metadata": {
    "ExecuteTime": {
     "end_time": "2021-11-25T00:33:31.573176Z",
     "start_time": "2021-11-25T00:33:31.557592Z"
    }
   },
   "outputs": [
    {
     "data": {
      "text/plain": [
       "4094212008.0"
      ]
     },
     "execution_count": 61,
     "metadata": {},
     "output_type": "execute_result"
    }
   ],
   "source": [
    "# Maximum Value Invested\n",
    "df8['price'].sum()"
   ]
  },
  {
   "cell_type": "code",
   "execution_count": 62,
   "id": "c9656a10",
   "metadata": {
    "ExecuteTime": {
     "end_time": "2021-11-25T00:33:32.561533Z",
     "start_time": "2021-11-25T00:33:32.545900Z"
    }
   },
   "outputs": [
    {
     "data": {
      "text/plain": [
       "5287624648.2"
      ]
     },
     "execution_count": 62,
     "metadata": {},
     "output_type": "execute_result"
    }
   ],
   "source": [
    "# Maximum Value Returned\n",
    "df8['sale_price'].sum()"
   ]
  },
  {
   "cell_type": "code",
   "execution_count": 63,
   "id": "fa6f4fbf",
   "metadata": {
    "ExecuteTime": {
     "end_time": "2021-11-25T00:33:33.281402Z",
     "start_time": "2021-11-25T00:33:33.265778Z"
    },
    "scrolled": true
   },
   "outputs": [
    {
     "data": {
      "text/plain": [
       "1193412640.2"
      ]
     },
     "execution_count": 63,
     "metadata": {},
     "output_type": "execute_result"
    }
   ],
   "source": [
    "# Maximum Expected Profit:\n",
    "df8['profit'].sum()"
   ]
  },
  {
   "cell_type": "markdown",
   "id": "6ddd8f40",
   "metadata": {},
   "source": [
    "### 4.5 Insights - Selected Properties"
   ]
  },
  {
   "cell_type": "code",
   "execution_count": 64,
   "id": "af3884c0",
   "metadata": {
    "ExecuteTime": {
     "end_time": "2021-11-25T00:33:39.363592Z",
     "start_time": "2021-11-25T00:33:39.316753Z"
    }
   },
   "outputs": [],
   "source": [
    "# df8['waterfront'] = df8['waterfront'].astype(int64)\n",
    "df8['waterfront'] = df8['waterfront'].apply(lambda x: 1 if x != '0' else 'no waterfront')\n",
    "df8['renovated'] = df8['yr_renovated'].apply(lambda x: 1 if x != '0' else '0')\n",
    "df8['basement'] = df8['sqft_basement'].apply(lambda x: 'no basement' if x == 0 else 1)\n",
    "df8['renovated'] = df8['yr_renovated'].apply(lambda x: 'no' if x == 0 else 'yes')\n",
    "df8['yr_built'] = df8['yr_built'].astype(int64)\n",
    "df8['construction'] = df8['yr_built'].apply(lambda x: '<1955' if x <= 1955 else '>1955')\n",
    "df8['describe_condition'] = df8['condition'].apply(lambda x: 'too bad' if x == 1 else\n",
    "                                                             'bad'     if x == 2 else\n",
    "                                                             'median'  if x == 3 else\n",
    "                                                             'good'    if x == 4 else\n",
    "                                                             'excellent')"
   ]
  },
  {
   "cell_type": "code",
   "execution_count": 170,
   "id": "1f07eb05",
   "metadata": {
    "ExecuteTime": {
     "end_time": "2021-11-24T01:14:05.739484Z",
     "start_time": "2021-11-24T01:14:05.723824Z"
    },
    "code_folding": [],
    "scrolled": true
   },
   "outputs": [],
   "source": [
    "# Seleção dos atributos cujo array é analisável\n",
    "df9 = df8[['zipcode','bedrooms','bathrooms','floors','season',\n",
    "           'renovated','describe_condition','waterfront','basement','grade','construction','profit']]"
   ]
  },
  {
   "cell_type": "code",
   "execution_count": 175,
   "id": "ae2f1db9",
   "metadata": {
    "ExecuteTime": {
     "end_time": "2021-11-24T01:16:38.277686Z",
     "start_time": "2021-11-24T01:16:35.621864Z"
    },
    "code_folding": []
   },
   "outputs": [
    {
     "name": "stdout",
     "output_type": "stream",
     "text": [
      "Insights - Selected Properties\n",
      "The most profitable properties have \"zipcode\" as \"98006\"\n",
      "The most profitable properties have \"bedrooms\" as \"3\"\n",
      "The most profitable properties have \"bathrooms\" as \"1.0\"\n",
      "The most profitable properties have \"floors\" as \"1.0\"\n",
      "The most profitable properties have \"season\" as \"spring\"\n",
      "The most profitable properties have \"renovated\" as \"yes\"\n",
      "The most profitable properties have \"describe_condition\" as \"excellent\"\n",
      "The most profitable properties have \"waterfront\" as \"1\"\n",
      "The most profitable properties have \"basement\" as \"no basement\"\n",
      "The most profitable properties have \"grade\" as \"7\"\n",
      "The most profitable properties have \"construction\" as \">1955\"\n"
     ]
    },
    {
     "data": {
      "image/png": "[encoded data removed]",
      "text/plain": [
       "<Figure size 1440x864 with 1 Axes>"
      ]
     },
     "metadata": {},
     "output_type": "display_data"
    },
    {
     "data": {
      "image/png": "[encoded data removed]",
      "text/plain": [
       "<Figure size 1440x864 with 1 Axes>"
      ]
     },
     "metadata": {},
     "output_type": "display_data"
    },
    {
     "data": {
      "image/png": "[encoded data removed]",
      "text/plain": [
       "<Figure size 1440x864 with 1 Axes>"
      ]
     },
     "metadata": {},
     "output_type": "display_data"
    },
    {
     "data": {
      "image/png": "[encoded data removed]",
      "text/plain": [
       "<Figure size 1440x864 with 1 Axes>"
      ]
     },
     "metadata": {},
     "output_type": "display_data"
    },
    {
     "data": {
      "image/png": "[encoded data removed]",
      "text/plain": [
       "<Figure size 1440x864 with 1 Axes>"
      ]
     },
     "metadata": {},
     "output_type": "display_data"
    },
    {
     "data": {
      "image/png": "[encoded data removed]",
      "text/plain": [
       "<Figure size 1440x864 with 1 Axes>"
      ]
     },
     "metadata": {},
     "output_type": "display_data"
    },
    {
     "data": {
      "image/png": "[encoded data removed]",
      "text/plain": [
       "<Figure size 1440x864 with 1 Axes>"
      ]
     },
     "metadata": {},
     "output_type": "display_data"
    },
    {
     "data": {
      "image/png": "[encoded data removed]",
      "text/plain": [
       "<Figure size 1440x864 with 1 Axes>"
      ]
     },
     "metadata": {},
     "output_type": "display_data"
    },
    {
     "data": {
      "image/png": "[encoded data removed]",
      "text/plain": [
       "<Figure size 1440x864 with 1 Axes>"
      ]
     },
     "metadata": {},
     "output_type": "display_data"
    },
    {
     "data": {
      "image/png": "[encoded data removed]",
      "text/plain": [
       "<Figure size 1440x864 with 1 Axes>"
      ]
     },
     "metadata": {},
     "output_type": "display_data"
    },
    {
     "data": {
      "image/png": "[encoded data removed]",
      "text/plain": [
       "<Figure size 1440x864 with 1 Axes>"
      ]
     },
     "metadata": {},
     "output_type": "display_data"
    }
   ],
   "source": [
    "print(\"Insights - Selected Properties\")\n",
    "conditions = []\n",
    "for i in df9.columns:\n",
    "    if i != 'profit':\n",
    "        ins = df9[['profit',i]].groupby(i).sum().reset_index()\n",
    "        plt.figure(figsize=(20,12))\n",
    "        sns.barplot(ins[i],ins['profit']).set(title='Profit x {}'.format(i))\n",
    "        plt.xticks(rotation=60);\n",
    "        ins2 = ins[ins['profit'] == ins['profit'].max()]\n",
    "        conditions.append(ins2.iloc[0,0])\n",
    "        print('The most profitable properties have \"{}\" as \"{}\"'.format(i, ins2.iloc[0,0]))"
   ]
  }
 ],
 "metadata": {
  "kernelspec": {
   "display_name": "Python 3 (ipykernel)",
   "language": "python",
   "name": "python3"
  },
  "language_info": {
   "codemirror_mode": {
    "name": "ipython",
    "version": 3
   },
   "file_extension": ".py",
   "mimetype": "text/x-python",
   "name": "python",
   "nbconvert_exporter": "python",
   "pygments_lexer": "ipython3",
   "version": "3.9.7"
  }
 },
 "nbformat": 4,
 "nbformat_minor": 5
}
