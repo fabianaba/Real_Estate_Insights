{
 "cells": [
  {
   "cell_type": "markdown",
   "id": "393fecc1",
   "metadata": {},
   "source": [
    "# House Rocket Sales "
   ]
  },
  {
   "cell_type": "markdown",
   "id": "5fa05d2e",
   "metadata": {},
   "source": [
    "## 0.0 IMPORTS\n"
   ]
  },
  {
   "cell_type": "code",
   "execution_count": 1,
   "id": "5c8ea495",
   "metadata": {
    "ExecuteTime": {
     "end_time": "2021-11-23T17:23:53.841375Z",
     "start_time": "2021-11-23T17:23:51.050138Z"
    }
   },
   "outputs": [],
   "source": [
    "import pandas as pd\n",
    "import numpy as np\n",
    "import time\n",
    "from multiprocessing import Pool\n",
    "import ipywidgets as widgets\n",
    "from ipywidgets import interact, interactive, fixed, interact_manual\n",
    "from matplotlib import pyplot as plt\n",
    "from matplotlib import gridspec\n",
    "from IPython.core.display import HTML\n",
    "from geopy.geocoders import Nominatim\n",
    "from IPython.core.display import HTML\n",
    "import seaborn as sns\n",
    "import warnings\n",
    "import plotly.express as px\n",
    "warnings.simplefilter(action=\"ignore\", category=FutureWarning)"
   ]
  },
  {
   "cell_type": "code",
   "execution_count": 2,
   "id": "11fe7f01",
   "metadata": {
    "ExecuteTime": {
     "end_time": "2021-11-23T17:23:53.856996Z",
     "start_time": "2021-11-23T17:23:53.841375Z"
    }
   },
   "outputs": [],
   "source": [
    "pd.set_option('display.float_format', lambda x: '%.2f' % x)"
   ]
  },
  {
   "cell_type": "markdown",
   "id": "b1be08d3",
   "metadata": {},
   "source": [
    "## 0.1 Helper Functions"
   ]
  },
  {
   "cell_type": "code",
   "execution_count": 3,
   "id": "dd465c37",
   "metadata": {
    "ExecuteTime": {
     "end_time": "2021-11-23T17:23:53.888240Z",
     "start_time": "2021-11-23T17:23:53.856996Z"
    }
   },
   "outputs": [
    {
     "name": "stdout",
     "output_type": "stream",
     "text": [
      "Populating the interactive namespace from numpy and matplotlib\n"
     ]
    },
    {
     "name": "stderr",
     "output_type": "stream",
     "text": [
      "C:\\Users\\fabic\\Anaconda3\\envs\\houserocketsales\\lib\\site-packages\\IPython\\core\\magics\\pylab.py:159: UserWarning: pylab import has clobbered these variables: ['interactive']\n",
      "`%matplotlib` prevents importing * from pylab and numpy\n",
      "  warn(\"pylab import has clobbered these variables: %s\"  % clobbered +\n"
     ]
    },
    {
     "data": {
      "text/html": [
       "<style>.container { width:100% !important; }</style>"
      ],
      "text/plain": [
       "<IPython.core.display.HTML object>"
      ]
     },
     "metadata": {},
     "output_type": "display_data"
    }
   ],
   "source": [
    "def jupyter_settings():\n",
    "    %matplotlib inline\n",
    "    %pylab inline\n",
    "    \n",
    "    plt.style.use( 'bmh' )\n",
    "    plt.rcParams['figure.figsize'] = [25, 12]\n",
    "    plt.rcParams['font.size'] = 24\n",
    "    \n",
    "    display( HTML( '<style>.container { width:100% !important; }</style>') )\n",
    "    pd.options.display.max_columns = None\n",
    "    pd.options.display.max_rows = None\n",
    "    pd.set_option( 'display.expand_frame_repr', False )\n",
    "    \n",
    "    sns.set()\n",
    "    \n",
    "jupyter_settings()"
   ]
  },
  {
   "cell_type": "markdown",
   "id": "c276f9f2",
   "metadata": {},
   "source": [
    "## 0.2 Loading Data"
   ]
  },
  {
   "cell_type": "code",
   "execution_count": 4,
   "id": "c16497d1",
   "metadata": {
    "ExecuteTime": {
     "end_time": "2021-11-23T17:23:53.957255Z",
     "start_time": "2021-11-23T17:23:53.888240Z"
    }
   },
   "outputs": [],
   "source": [
    "data = pd.read_csv('data/kc_house_data.csv')"
   ]
  },
  {
   "cell_type": "markdown",
   "id": "48a75d77",
   "metadata": {},
   "source": [
    "# 1.0 DATA DESCRIPTION"
   ]
  },
  {
   "cell_type": "code",
   "execution_count": 5,
   "id": "250a912a",
   "metadata": {
    "ExecuteTime": {
     "end_time": "2021-11-23T17:23:53.972863Z",
     "start_time": "2021-11-23T17:23:53.957255Z"
    }
   },
   "outputs": [],
   "source": [
    "df1 = data.copy()"
   ]
  },
  {
   "cell_type": "markdown",
   "id": "0ad53ae0",
   "metadata": {},
   "source": [
    "## 1.1 Data Types and Dimensions"
   ]
  },
  {
   "cell_type": "code",
   "execution_count": 6,
   "id": "f71cf14c",
   "metadata": {
    "ExecuteTime": {
     "end_time": "2021-11-23T17:23:53.988483Z",
     "start_time": "2021-11-23T17:23:53.972863Z"
    }
   },
   "outputs": [
    {
     "name": "stdout",
     "output_type": "stream",
     "text": [
      "Number of rows: 21613\n",
      "Number of columns: 21\n"
     ]
    }
   ],
   "source": [
    "print('Number of rows: {}'.format(df1.shape[0]))\n",
    "print('Number of columns: {}'.format(df1.shape[1]))"
   ]
  },
  {
   "cell_type": "code",
   "execution_count": 7,
   "id": "cd336d8c",
   "metadata": {
    "ExecuteTime": {
     "end_time": "2021-11-23T17:23:54.004107Z",
     "start_time": "2021-11-23T17:23:53.988483Z"
    }
   },
   "outputs": [
    {
     "data": {
      "text/plain": [
       "id                 int64\n",
       "date              object\n",
       "price            float64\n",
       "bedrooms           int64\n",
       "bathrooms        float64\n",
       "sqft_living        int64\n",
       "sqft_lot           int64\n",
       "floors           float64\n",
       "waterfront         int64\n",
       "view               int64\n",
       "condition          int64\n",
       "grade              int64\n",
       "sqft_above         int64\n",
       "sqft_basement      int64\n",
       "yr_built           int64\n",
       "yr_renovated       int64\n",
       "zipcode            int64\n",
       "lat              float64\n",
       "long             float64\n",
       "sqft_living15      int64\n",
       "sqft_lot15         int64\n",
       "dtype: object"
      ]
     },
     "execution_count": 7,
     "metadata": {},
     "output_type": "execute_result"
    }
   ],
   "source": [
    "df1.dtypes"
   ]
  },
  {
   "cell_type": "markdown",
   "id": "78c19441",
   "metadata": {},
   "source": [
    "## 1.2 Check NA"
   ]
  },
  {
   "cell_type": "code",
   "execution_count": 8,
   "id": "3f75150e",
   "metadata": {
    "ExecuteTime": {
     "end_time": "2021-11-23T17:23:54.026255Z",
     "start_time": "2021-11-23T17:23:54.004107Z"
    }
   },
   "outputs": [
    {
     "data": {
      "text/plain": [
       "id               0\n",
       "date             0\n",
       "price            0\n",
       "bedrooms         0\n",
       "bathrooms        0\n",
       "sqft_living      0\n",
       "sqft_lot         0\n",
       "floors           0\n",
       "waterfront       0\n",
       "view             0\n",
       "condition        0\n",
       "grade            0\n",
       "sqft_above       0\n",
       "sqft_basement    0\n",
       "yr_built         0\n",
       "yr_renovated     0\n",
       "zipcode          0\n",
       "lat              0\n",
       "long             0\n",
       "sqft_living15    0\n",
       "sqft_lot15       0\n",
       "dtype: int64"
      ]
     },
     "execution_count": 8,
     "metadata": {},
     "output_type": "execute_result"
    }
   ],
   "source": [
    "df1.isna().sum()"
   ]
  },
  {
   "cell_type": "markdown",
   "id": "a441a295",
   "metadata": {},
   "source": [
    "## 1.3 Change Data Types"
   ]
  },
  {
   "cell_type": "code",
   "execution_count": 9,
   "id": "c916dc24",
   "metadata": {
    "ExecuteTime": {
     "end_time": "2021-11-23T17:23:54.188978Z",
     "start_time": "2021-11-23T17:23:54.026255Z"
    }
   },
   "outputs": [
    {
     "data": {
      "text/plain": [
       "id                       object\n",
       "date             datetime64[ns]\n",
       "price                   float64\n",
       "bedrooms                  int64\n",
       "bathrooms               float64\n",
       "sqft_living               int64\n",
       "sqft_lot                  int64\n",
       "floors                  float64\n",
       "waterfront               object\n",
       "view                     object\n",
       "condition                object\n",
       "grade                     int64\n",
       "sqft_above                int64\n",
       "sqft_basement             int64\n",
       "yr_built                 object\n",
       "yr_renovated             object\n",
       "zipcode                  object\n",
       "lat                      object\n",
       "long                     object\n",
       "sqft_living15             int64\n",
       "sqft_lot15                int64\n",
       "dtype: object"
      ]
     },
     "execution_count": 9,
     "metadata": {},
     "output_type": "execute_result"
    }
   ],
   "source": [
    "# id, yr_built, yr_renovated, zipcode\n",
    "df1[['id', 'waterfront', 'view', 'condition', 'yr_built', 'yr_renovated', 'zipcode']] = df1[['id', 'waterfront', 'view', 'condition', 'yr_built', 'yr_renovated', 'zipcode']].astype(str)\n",
    "\n",
    "# lat, long\n",
    "df1[['lat', 'long']] = df1[['lat', 'long']].astype(str)\n",
    "\n",
    "# Date\n",
    "df1['date'] = pd.to_datetime(df1['date'])\n",
    "df1.dtypes"
   ]
  },
  {
   "cell_type": "markdown",
   "id": "8cbf45ab",
   "metadata": {},
   "source": [
    "## 1.4 Descriptive Statistics"
   ]
  },
  {
   "cell_type": "code",
   "execution_count": 10,
   "id": "39606bfc",
   "metadata": {
    "ExecuteTime": {
     "end_time": "2021-11-23T17:23:54.226768Z",
     "start_time": "2021-11-23T17:23:54.188978Z"
    }
   },
   "outputs": [],
   "source": [
    "# numerical attributes\n",
    "num_attributes = df1.select_dtypes(include=['int64', 'float64'])\n",
    "\n",
    "# categorical attributes\n",
    "cat_attributes = df1.select_dtypes(exclude=['int64', 'float64', 'datetime64[ns]'])"
   ]
  },
  {
   "cell_type": "markdown",
   "id": "5ef61bc5",
   "metadata": {},
   "source": [
    "### 1.4.1 Numerical Attributes"
   ]
  },
  {
   "cell_type": "code",
   "execution_count": 11,
   "id": "5e15c5cf",
   "metadata": {
    "ExecuteTime": {
     "end_time": "2021-11-23T17:23:54.304851Z",
     "start_time": "2021-11-23T17:23:54.226768Z"
    }
   },
   "outputs": [
    {
     "data": {
      "text/html": [
       "<div>\n",
       "<style scoped>\n",
       "    .dataframe tbody tr th:only-of-type {\n",
       "        vertical-align: middle;\n",
       "    }\n",
       "\n",
       "    .dataframe tbody tr th {\n",
       "        vertical-align: top;\n",
       "    }\n",
       "\n",
       "    .dataframe thead th {\n",
       "        text-align: right;\n",
       "    }\n",
       "</style>\n",
       "<table border=\"1\" class=\"dataframe\">\n",
       "  <thead>\n",
       "    <tr style=\"text-align: right;\">\n",
       "      <th></th>\n",
       "      <th>attributes</th>\n",
       "      <th>min</th>\n",
       "      <th>max</th>\n",
       "      <th>range</th>\n",
       "      <th>mean</th>\n",
       "      <th>median</th>\n",
       "      <th>std</th>\n",
       "      <th>skew</th>\n",
       "      <th>kurtosis</th>\n",
       "    </tr>\n",
       "  </thead>\n",
       "  <tbody>\n",
       "    <tr>\n",
       "      <th>0</th>\n",
       "      <td>price</td>\n",
       "      <td>75000.00</td>\n",
       "      <td>7700000.00</td>\n",
       "      <td>7625000.00</td>\n",
       "      <td>540088.14</td>\n",
       "      <td>450000.00</td>\n",
       "      <td>367118.70</td>\n",
       "      <td>4.02</td>\n",
       "      <td>34.59</td>\n",
       "    </tr>\n",
       "    <tr>\n",
       "      <th>1</th>\n",
       "      <td>bedrooms</td>\n",
       "      <td>0.00</td>\n",
       "      <td>33.00</td>\n",
       "      <td>33.00</td>\n",
       "      <td>3.37</td>\n",
       "      <td>3.00</td>\n",
       "      <td>0.93</td>\n",
       "      <td>1.97</td>\n",
       "      <td>49.06</td>\n",
       "    </tr>\n",
       "    <tr>\n",
       "      <th>2</th>\n",
       "      <td>bathrooms</td>\n",
       "      <td>0.00</td>\n",
       "      <td>8.00</td>\n",
       "      <td>8.00</td>\n",
       "      <td>2.11</td>\n",
       "      <td>2.25</td>\n",
       "      <td>0.77</td>\n",
       "      <td>0.51</td>\n",
       "      <td>1.28</td>\n",
       "    </tr>\n",
       "    <tr>\n",
       "      <th>3</th>\n",
       "      <td>sqft_living</td>\n",
       "      <td>290.00</td>\n",
       "      <td>13540.00</td>\n",
       "      <td>13250.00</td>\n",
       "      <td>2079.90</td>\n",
       "      <td>1910.00</td>\n",
       "      <td>918.42</td>\n",
       "      <td>1.47</td>\n",
       "      <td>5.24</td>\n",
       "    </tr>\n",
       "    <tr>\n",
       "      <th>4</th>\n",
       "      <td>sqft_lot</td>\n",
       "      <td>520.00</td>\n",
       "      <td>1651359.00</td>\n",
       "      <td>1650839.00</td>\n",
       "      <td>15106.97</td>\n",
       "      <td>7618.00</td>\n",
       "      <td>41419.55</td>\n",
       "      <td>13.06</td>\n",
       "      <td>285.08</td>\n",
       "    </tr>\n",
       "    <tr>\n",
       "      <th>5</th>\n",
       "      <td>floors</td>\n",
       "      <td>1.00</td>\n",
       "      <td>3.50</td>\n",
       "      <td>2.50</td>\n",
       "      <td>1.49</td>\n",
       "      <td>1.50</td>\n",
       "      <td>0.54</td>\n",
       "      <td>0.62</td>\n",
       "      <td>-0.48</td>\n",
       "    </tr>\n",
       "    <tr>\n",
       "      <th>6</th>\n",
       "      <td>grade</td>\n",
       "      <td>1.00</td>\n",
       "      <td>13.00</td>\n",
       "      <td>12.00</td>\n",
       "      <td>7.66</td>\n",
       "      <td>7.00</td>\n",
       "      <td>1.18</td>\n",
       "      <td>0.77</td>\n",
       "      <td>1.19</td>\n",
       "    </tr>\n",
       "    <tr>\n",
       "      <th>7</th>\n",
       "      <td>sqft_above</td>\n",
       "      <td>290.00</td>\n",
       "      <td>9410.00</td>\n",
       "      <td>9120.00</td>\n",
       "      <td>1788.39</td>\n",
       "      <td>1560.00</td>\n",
       "      <td>828.07</td>\n",
       "      <td>1.45</td>\n",
       "      <td>3.40</td>\n",
       "    </tr>\n",
       "    <tr>\n",
       "      <th>8</th>\n",
       "      <td>sqft_basement</td>\n",
       "      <td>0.00</td>\n",
       "      <td>4820.00</td>\n",
       "      <td>4820.00</td>\n",
       "      <td>291.51</td>\n",
       "      <td>0.00</td>\n",
       "      <td>442.56</td>\n",
       "      <td>1.58</td>\n",
       "      <td>2.72</td>\n",
       "    </tr>\n",
       "    <tr>\n",
       "      <th>9</th>\n",
       "      <td>sqft_living15</td>\n",
       "      <td>399.00</td>\n",
       "      <td>6210.00</td>\n",
       "      <td>5811.00</td>\n",
       "      <td>1986.55</td>\n",
       "      <td>1840.00</td>\n",
       "      <td>685.38</td>\n",
       "      <td>1.11</td>\n",
       "      <td>1.60</td>\n",
       "    </tr>\n",
       "    <tr>\n",
       "      <th>10</th>\n",
       "      <td>sqft_lot15</td>\n",
       "      <td>651.00</td>\n",
       "      <td>871200.00</td>\n",
       "      <td>870549.00</td>\n",
       "      <td>12768.46</td>\n",
       "      <td>7620.00</td>\n",
       "      <td>27303.55</td>\n",
       "      <td>9.51</td>\n",
       "      <td>150.76</td>\n",
       "    </tr>\n",
       "  </tbody>\n",
       "</table>\n",
       "</div>"
      ],
      "text/plain": [
       "       attributes      min        max      range      mean    median       std  skew  kurtosis\n",
       "0           price 75000.00 7700000.00 7625000.00 540088.14 450000.00 367118.70  4.02     34.59\n",
       "1        bedrooms     0.00      33.00      33.00      3.37      3.00      0.93  1.97     49.06\n",
       "2       bathrooms     0.00       8.00       8.00      2.11      2.25      0.77  0.51      1.28\n",
       "3     sqft_living   290.00   13540.00   13250.00   2079.90   1910.00    918.42  1.47      5.24\n",
       "4        sqft_lot   520.00 1651359.00 1650839.00  15106.97   7618.00  41419.55 13.06    285.08\n",
       "5          floors     1.00       3.50       2.50      1.49      1.50      0.54  0.62     -0.48\n",
       "6           grade     1.00      13.00      12.00      7.66      7.00      1.18  0.77      1.19\n",
       "7      sqft_above   290.00    9410.00    9120.00   1788.39   1560.00    828.07  1.45      3.40\n",
       "8   sqft_basement     0.00    4820.00    4820.00    291.51      0.00    442.56  1.58      2.72\n",
       "9   sqft_living15   399.00    6210.00    5811.00   1986.55   1840.00    685.38  1.11      1.60\n",
       "10     sqft_lot15   651.00  871200.00  870549.00  12768.46   7620.00  27303.55  9.51    150.76"
      ]
     },
     "execution_count": 11,
     "metadata": {},
     "output_type": "execute_result"
    }
   ],
   "source": [
    "# Central Tendency - mean, median\n",
    "ct1 = pd.DataFrame(num_attributes.apply(np.mean)).T\n",
    "ct2 = pd.DataFrame(num_attributes.apply(np.median)).T\n",
    "\n",
    "# dispersion - std, min, max, range, skew, kurtosis\n",
    "d1 = pd.DataFrame(num_attributes.apply(np.std)).T\n",
    "d2 = pd.DataFrame(num_attributes.apply(min)).T\n",
    "d3 = pd.DataFrame(num_attributes.apply(max)).T\n",
    "d4 = pd.DataFrame(num_attributes.apply(lambda x: x.max() - x.min())).T\n",
    "d5 = pd.DataFrame( num_attributes.apply( lambda x: x.skew() ) ).T\n",
    "d6 = pd.DataFrame( num_attributes.apply( lambda x: x.kurtosis() ) ).T\n",
    "\n",
    "# concatenate\n",
    "m = pd.concat([d2, d3, d4, ct1, ct2, d1, d5, d6]).T.reset_index()\n",
    "m.columns = ['attributes', 'min', 'max', 'range', 'mean', 'median', 'std', 'skew', 'kurtosis']\n",
    "m"
   ]
  },
  {
   "cell_type": "markdown",
   "id": "0538ea45",
   "metadata": {},
   "source": [
    "### 1.4.2 Categorical Attributes"
   ]
  },
  {
   "cell_type": "code",
   "execution_count": 12,
   "id": "c6f10c21",
   "metadata": {
    "ExecuteTime": {
     "end_time": "2021-11-23T17:23:54.326985Z",
     "start_time": "2021-11-23T17:23:54.304851Z"
    }
   },
   "outputs": [
    {
     "data": {
      "text/plain": [
       "id              21436\n",
       "waterfront          2\n",
       "view                5\n",
       "condition           5\n",
       "yr_built          116\n",
       "yr_renovated       70\n",
       "zipcode            70\n",
       "lat              5034\n",
       "long              752\n",
       "dtype: int64"
      ]
     },
     "execution_count": 12,
     "metadata": {},
     "output_type": "execute_result"
    }
   ],
   "source": [
    "cat_attributes.apply(lambda x: x.unique().shape[0])"
   ]
  },
  {
   "cell_type": "code",
   "execution_count": 13,
   "id": "cd281c61",
   "metadata": {
    "ExecuteTime": {
     "end_time": "2021-11-23T17:23:54.805946Z",
     "start_time": "2021-11-23T17:23:54.326985Z"
    }
   },
   "outputs": [
    {
     "data": {
      "text/plain": [
       "<AxesSubplot:xlabel='condition', ylabel='count'>"
      ]
     },
     "execution_count": 13,
     "metadata": {},
     "output_type": "execute_result"
    },
    {
     "data": {
      "image/png": "[encoded data removed]",
      "text/plain": [
       "<Figure size 1800x864 with 3 Axes>"
      ]
     },
     "metadata": {},
     "output_type": "display_data"
    }
   ],
   "source": [
    "plt.subplot(1, 3, 1)\n",
    "sns.countplot(df1['waterfront'])\n",
    "\n",
    "plt.subplot(1, 3, 2)\n",
    "sns.countplot(df1['view'])\n",
    "\n",
    "plt.subplot(1, 3, 3)\n",
    "sns.countplot(df1['condition'])"
   ]
  },
  {
   "cell_type": "markdown",
   "id": "0e8dca0a",
   "metadata": {},
   "source": [
    "# 2.0 FEATURE ENGINEERING"
   ]
  },
  {
   "cell_type": "code",
   "execution_count": 14,
   "id": "28d73fe2",
   "metadata": {
    "ExecuteTime": {
     "end_time": "2021-11-23T17:23:54.828082Z",
     "start_time": "2021-11-23T17:23:54.805946Z"
    }
   },
   "outputs": [],
   "source": [
    "df2 = df1.copy()"
   ]
  },
  {
   "cell_type": "code",
   "execution_count": 15,
   "id": "94ab3e1d",
   "metadata": {
    "ExecuteTime": {
     "end_time": "2021-11-23T17:23:54.843703Z",
     "start_time": "2021-11-23T17:23:54.828082Z"
    }
   },
   "outputs": [
    {
     "name": "stdout",
     "output_type": "stream",
     "text": [
      "Number of rows: 21613\n",
      "Number of IDs: 21436\n"
     ]
    }
   ],
   "source": [
    "# Search for duplicates\n",
    "print('Number of rows: {}'.format(df2.shape[0]))\n",
    "print('Number of IDs: {}'.format(len(df2['id'].unique())))"
   ]
  },
  {
   "cell_type": "code",
   "execution_count": 16,
   "id": "a543bf2b",
   "metadata": {
    "ExecuteTime": {
     "end_time": "2021-11-23T17:23:54.874961Z",
     "start_time": "2021-11-23T17:23:54.843703Z"
    }
   },
   "outputs": [],
   "source": [
    "# Drop duplicate ID's\n",
    "df2 = df2.drop_duplicates(subset = ['id'], keep = 'last')"
   ]
  },
  {
   "cell_type": "code",
   "execution_count": 17,
   "id": "2831fc7b",
   "metadata": {
    "ExecuteTime": {
     "end_time": "2021-11-23T17:23:54.906189Z",
     "start_time": "2021-11-23T17:23:54.874961Z"
    }
   },
   "outputs": [],
   "source": [
    "# Drop NA\n",
    "df2 = df2.dropna()\n",
    "df2 = df2.reset_index(drop=True)"
   ]
  },
  {
   "cell_type": "code",
   "execution_count": 18,
   "id": "1af02cc8",
   "metadata": {
    "ExecuteTime": {
     "end_time": "2021-11-23T17:23:54.928329Z",
     "start_time": "2021-11-23T17:23:54.906189Z"
    }
   },
   "outputs": [
    {
     "name": "stdout",
     "output_type": "stream",
     "text": [
      "Attribute: bedrooms - [3, 2, 4, 5, 1, 6, 7, 0, 8, 9, 11, 10, 33]\n",
      "Attribute: bathrooms - [1.0, 2.25, 3.0, 2.0, 4.5, 1.5, 2.5, 1.75, 2.75, 3.25, 4.0, 3.5, 0.75, 4.75, 5.0, 4.25, 3.75, 0.0, 1.25, 5.25, 6.0, 0.5, 5.5, 6.75, 5.75, 8.0, 7.5, 7.75, 6.25, 6.5]\n",
      "Attribute: floors - [1.0, 2.0, 1.5, 3.0, 2.5, 3.5]\n",
      "Attribute: waterfront - ['0', '1']\n",
      "Attribute: view - ['0', '3', '4', '2', '1']\n",
      "Attribute: condition - ['3', '5', '4', '1', '2']\n",
      "Attribute: grade - [7, 6, 8, 11, 9, 5, 10, 12, 4, 3, 13, 1]\n"
     ]
    }
   ],
   "source": [
    "# Watching for outliers\n",
    "\n",
    "unique = df2[['bedrooms','bathrooms','floors','waterfront','view','condition','grade']]\n",
    "\n",
    "for i in unique:\n",
    "    print('Attribute: {} - {}'.format(i, df2[i].unique().tolist()))"
   ]
  },
  {
   "cell_type": "code",
   "execution_count": 19,
   "id": "259de480",
   "metadata": {
    "ExecuteTime": {
     "end_time": "2021-11-23T17:23:54.959570Z",
     "start_time": "2021-11-23T17:23:54.928329Z"
    }
   },
   "outputs": [],
   "source": [
    "# Removing outlier from 'bedrooms' column\n",
    "df2.drop(df2.loc[df2['bedrooms'] == 33].index, inplace = True)"
   ]
  },
  {
   "cell_type": "markdown",
   "id": "140c6c91",
   "metadata": {},
   "source": [
    "## Creating new features"
   ]
  },
  {
   "cell_type": "code",
   "execution_count": 20,
   "id": "defe02c7",
   "metadata": {
    "ExecuteTime": {
     "end_time": "2021-11-23T17:23:55.244681Z",
     "start_time": "2021-11-23T17:23:54.959570Z"
    }
   },
   "outputs": [],
   "source": [
    "# year\n",
    "df2['year'] = df2['date'].dt.year\n",
    "\n",
    "# month\n",
    "df2['month'] = df2['date'].dt.month\n",
    "\n",
    "# day\n",
    "df2['day'] = df2['date'].dt.day\n",
    "\n",
    "# week of year\n",
    "df2['week_of_year'] = df2['date'].dt.weekofyear\n",
    "\n",
    "# year-week\n",
    "df2['year_week'] = df2['date'].dt.strftime( '%Y-%W' )\n",
    "\n",
    "# house age\n",
    "df2['house_age'] = 'NA'\n",
    "df2.loc[df2['date'] > '2014-01-01', 'house_age'] = 'new_house'\n",
    "df2.loc[df2['date'] < '2014-01-01', 'house_age'] = 'old_house'\n",
    "\n",
    "# condition type\n",
    "df2['condition'] = df2['condition'].astype(int64)\n",
    "df2['condition_type'] = df2['condition'].apply(lambda x: 'bad' if x<=2 else 'regular' if (x==3)| (x==4) else 'good')\n",
    "\n",
    "# Basement\n",
    "df2['basement'] = df2['sqft_basement'].apply(lambda x: 'no' if x == 0 else 'yes')        \n",
    "\n",
    "# Season\n",
    "df2['season'] = df2['month'].apply(lambda x: 'summer' if (x > 5) & (x < 8)  else\n",
    "                                             'spring' if (x > 2) & (x < 5)  else\n",
    "                                             'fall'   if (x > 8) & (x < 12) else\n",
    "                                             'winter')\n",
    "# Renovated\n",
    "df2['renovated'] = df2['yr_renovated'].apply(lambda x: 'no' if x == 0 else 'yes')\n",
    "\n",
    "# Year of Construction\n",
    "df2['yr_built'] = df2['yr_built'].astype(int64)\n",
    "df2['construction'] = df2['yr_built'].apply(lambda x: '<1955' if x <= 1955 else '>1955')\n",
    "\n",
    "# Describe condition\n",
    "df2['describe_condition'] = df2['condition'].apply(lambda x: 'too bad' if x == 1 else\n",
    "                                                             'bad'     if x == 2 else\n",
    "                                                             'median'  if x == 3 else\n",
    "                                                             'good'    if x == 4 else\n",
    "                                                             'excellent')"
   ]
  },
  {
   "cell_type": "code",
   "execution_count": 21,
   "id": "02f40948",
   "metadata": {
    "ExecuteTime": {
     "end_time": "2021-11-23T17:24:05.816335Z",
     "start_time": "2021-11-23T17:23:55.244681Z"
    }
   },
   "outputs": [],
   "source": [
    "# Describe price level\n",
    "df2['price_level'] = 'NA'  \n",
    "for i in range(len(df2)):\n",
    "    if (df2.iloc[i, 2] > 0) & (df2.iloc[i, 2] < 321950):\n",
    "        df2.loc[i, 'price_level'] = 0\n",
    "    elif (df2.iloc[i, 2] >= 321950) & (df2.iloc[i, 2] < 450000):\n",
    "        df2.loc[i, 'price_level'] = 1\n",
    "    elif (df2.iloc[i, 2] >= 450000) & (df2.iloc[i, 2] < 645000):\n",
    "        df2.loc[i, 'price_level'] = 2\n",
    "    else:\n",
    "        df2.loc[i, 'price_level'] = 3"
   ]
  },
  {
   "cell_type": "code",
   "execution_count": 22,
   "id": "840ca007",
   "metadata": {
    "ExecuteTime": {
     "end_time": "2021-11-23T17:24:09.256585Z",
     "start_time": "2021-11-23T17:24:05.816335Z"
    }
   },
   "outputs": [],
   "source": [
    "# Describe standard (price < 540,000) and high standard (price > 540,000)\n",
    "df2['standard'] = 'standard'  \n",
    "for i in range(len(df2)):\n",
    "    if (df2.iloc[i, 2] > 540000):\n",
    "        df2.loc[i, 'standard'] = 'high_standard'"
   ]
  },
  {
   "cell_type": "markdown",
   "id": "1f8ec442",
   "metadata": {},
   "source": [
    "### Using API geolocator, add the following features to dataset:\n",
    "- Place ID: property location identification\n",
    "- OSM Type: Open Street Map type\n",
    "- County: name of the county"
   ]
  },
  {
   "cell_type": "code",
   "execution_count": 23,
   "id": "2f3e4ad4",
   "metadata": {
    "ExecuteTime": {
     "end_time": "2021-11-23T17:24:09.526595Z",
     "start_time": "2021-11-23T17:24:09.256585Z"
    }
   },
   "outputs": [],
   "source": [
    "df2['query'] = df2[['lat', 'long']].apply(lambda x: str(x['lat']) + ',' + str(x['long']), axis=1)"
   ]
  },
  {
   "cell_type": "code",
   "execution_count": 24,
   "id": "7b40765d",
   "metadata": {
    "ExecuteTime": {
     "end_time": "2021-11-23T17:24:09.546497Z",
     "start_time": "2021-11-23T17:24:09.526595Z"
    }
   },
   "outputs": [],
   "source": [
    "# As Jupyter Notebook doesn't run multi-thread parallelism processes, this function is saved in a separate file \n",
    "# and has been imported as a module in the next snippet. \n",
    "\n",
    "# def get_data(x):\n",
    "#     index, row = x\n",
    "#     time.sleep(1)\n",
    "    \n",
    "#     # API call\n",
    "#     response = geolocator.reverse(row['query'])\n",
    "    \n",
    "#     place_id = response.raw['place_id']\n",
    "#     osm_type = response.raw['osm_type']\n",
    "#     county = response.raw['address']['county']\n",
    "        \n",
    "#     return place_id, osm_type, county"
   ]
  },
  {
   "cell_type": "code",
   "execution_count": 25,
   "id": "3c291fcc",
   "metadata": {
    "ExecuteTime": {
     "end_time": "2021-11-23T17:24:25.806459Z",
     "start_time": "2021-11-23T17:24:09.546497Z"
    }
   },
   "outputs": [
    {
     "name": "stdout",
     "output_type": "stream",
     "text": [
      "Time elapsed: 0.0\n"
     ]
    }
   ],
   "source": [
    "import defs\n",
    "\n",
    "df_api = df2[['id', 'query']].sample(5).copy()\n",
    "\n",
    "p = Pool(3)\n",
    "\n",
    "start = time.process_time()\n",
    "df_api[['place_id', 'osm_type', 'county']] = p.map(defs.get_data, df_api.iterrows())\n",
    "end = time.process_time()\n",
    "\n",
    "print('Time elapsed: {}'.format(end - start))"
   ]
  },
  {
   "cell_type": "code",
   "execution_count": 26,
   "id": "ad3ebcc8",
   "metadata": {
    "ExecuteTime": {
     "end_time": "2021-11-23T17:24:25.826389Z",
     "start_time": "2021-11-23T17:24:25.806459Z"
    }
   },
   "outputs": [
    {
     "data": {
      "text/html": [
       "<div>\n",
       "<style scoped>\n",
       "    .dataframe tbody tr th:only-of-type {\n",
       "        vertical-align: middle;\n",
       "    }\n",
       "\n",
       "    .dataframe tbody tr th {\n",
       "        vertical-align: top;\n",
       "    }\n",
       "\n",
       "    .dataframe thead th {\n",
       "        text-align: right;\n",
       "    }\n",
       "</style>\n",
       "<table border=\"1\" class=\"dataframe\">\n",
       "  <thead>\n",
       "    <tr style=\"text-align: right;\">\n",
       "      <th></th>\n",
       "      <th>19151</th>\n",
       "      <th>12495</th>\n",
       "      <th>11114</th>\n",
       "      <th>17039</th>\n",
       "      <th>3793</th>\n",
       "    </tr>\n",
       "  </thead>\n",
       "  <tbody>\n",
       "    <tr>\n",
       "      <th>id</th>\n",
       "      <td>2591700037</td>\n",
       "      <td>3812400455</td>\n",
       "      <td>7504180070</td>\n",
       "      <td>2624079028</td>\n",
       "      <td>2916600110</td>\n",
       "    </tr>\n",
       "    <tr>\n",
       "      <th>query</th>\n",
       "      <td>47.5995,-122.198</td>\n",
       "      <td>47.5432,-122.277</td>\n",
       "      <td>47.619,-122.054</td>\n",
       "      <td>47.5352,-121.883</td>\n",
       "      <td>47.3655,-122.08</td>\n",
       "    </tr>\n",
       "    <tr>\n",
       "      <th>place_id</th>\n",
       "      <td>293784736</td>\n",
       "      <td>157324817</td>\n",
       "      <td>293685208</td>\n",
       "      <td>97274499</td>\n",
       "      <td>230817343</td>\n",
       "    </tr>\n",
       "    <tr>\n",
       "      <th>osm_type</th>\n",
       "      <td>way</td>\n",
       "      <td>way</td>\n",
       "      <td>way</td>\n",
       "      <td>way</td>\n",
       "      <td>way</td>\n",
       "    </tr>\n",
       "    <tr>\n",
       "      <th>county</th>\n",
       "      <td>King County</td>\n",
       "      <td>King County</td>\n",
       "      <td>King County</td>\n",
       "      <td>King County</td>\n",
       "      <td>King County</td>\n",
       "    </tr>\n",
       "  </tbody>\n",
       "</table>\n",
       "</div>"
      ],
      "text/plain": [
       "                     19151             12495            11114             17039            3793 \n",
       "id              2591700037        3812400455       7504180070        2624079028       2916600110\n",
       "query     47.5995,-122.198  47.5432,-122.277  47.619,-122.054  47.5352,-121.883  47.3655,-122.08\n",
       "place_id         293784736         157324817        293685208          97274499        230817343\n",
       "osm_type               way               way              way               way              way\n",
       "county         King County       King County      King County       King County      King County"
      ]
     },
     "execution_count": 26,
     "metadata": {},
     "output_type": "execute_result"
    }
   ],
   "source": [
    "df_api.head(5).T"
   ]
  },
  {
   "cell_type": "markdown",
   "id": "3f26c1fd",
   "metadata": {},
   "source": [
    "# 3.0 EDA - Exploratory Data Analysis"
   ]
  },
  {
   "cell_type": "code",
   "execution_count": 27,
   "id": "7767f9a5",
   "metadata": {
    "ExecuteTime": {
     "end_time": "2021-11-23T17:24:25.846373Z",
     "start_time": "2021-11-23T17:24:25.826389Z"
    }
   },
   "outputs": [],
   "source": [
    "df3 = df2.copy()"
   ]
  },
  {
   "cell_type": "markdown",
   "id": "3f5df731",
   "metadata": {},
   "source": [
    "## 3.1 Hipothesis & Insights"
   ]
  },
  {
   "cell_type": "markdown",
   "id": "ee752824",
   "metadata": {},
   "source": [
    "### H1: Properties with water view would be more expensive"
   ]
  },
  {
   "cell_type": "code",
   "execution_count": 28,
   "id": "85f10822",
   "metadata": {
    "ExecuteTime": {
     "end_time": "2021-11-23T17:24:26.006223Z",
     "start_time": "2021-11-23T17:24:25.846373Z"
    },
    "code_folding": []
   },
   "outputs": [
    {
     "data": {
      "text/plain": [
       "<AxesSubplot:xlabel='waterfront', ylabel='price'>"
      ]
     },
     "execution_count": 28,
     "metadata": {},
     "output_type": "execute_result"
    },
    {
     "data": {
      "image/png": "[encoded data removed]",
      "text/plain": [
       "<Figure size 720x432 with 1 Axes>"
      ]
     },
     "metadata": {},
     "output_type": "display_data"
    }
   ],
   "source": [
    "h1 = df3[['price','waterfront']].groupby('waterfront').mean().reset_index()\n",
    "plt.figure(figsize=(10,6))\n",
    "sns.barplot(h1['waterfront'],h1['price'])"
   ]
  },
  {
   "cell_type": "code",
   "execution_count": 29,
   "id": "88c7cd22",
   "metadata": {
    "ExecuteTime": {
     "end_time": "2021-11-23T17:24:26.021327Z",
     "start_time": "2021-11-23T17:24:26.006739Z"
    }
   },
   "outputs": [
    {
     "name": "stdout",
     "output_type": "stream",
     "text": [
      "H1 is True: properties with waterview are in the mean 212% more expensive\n"
     ]
    }
   ],
   "source": [
    "h1_percent = (h1.loc[1,'price'] - h1.loc[0,'price']) / h1.loc[0,'price']\n",
    "print('H1 is True: properties with waterview are in the mean {0:.0%} more expensive'.format(h1_percent))"
   ]
  },
  {
   "cell_type": "markdown",
   "id": "e000a5c2",
   "metadata": {},
   "source": [
    "### H2: Properties constructed before 1955 would be less expensive"
   ]
  },
  {
   "cell_type": "code",
   "execution_count": 30,
   "id": "f0d2ea73",
   "metadata": {
    "ExecuteTime": {
     "end_time": "2021-11-23T17:24:26.141167Z",
     "start_time": "2021-11-23T17:24:26.021327Z"
    }
   },
   "outputs": [
    {
     "data": {
      "text/plain": [
       "<AxesSubplot:xlabel='construction', ylabel='price'>"
      ]
     },
     "execution_count": 30,
     "metadata": {},
     "output_type": "execute_result"
    },
    {
     "data": {
      "image/png": "[encoded data removed]",
      "text/plain": [
       "<Figure size 720x432 with 1 Axes>"
      ]
     },
     "metadata": {},
     "output_type": "display_data"
    }
   ],
   "source": [
    "h2 = df3[['price','construction']].groupby('construction').mean().reset_index()\n",
    "plt.figure(figsize=(10,6))\n",
    "sns.barplot(h2['construction'],h2['price'])"
   ]
  },
  {
   "cell_type": "code",
   "execution_count": 31,
   "id": "dea098bd",
   "metadata": {
    "ExecuteTime": {
     "end_time": "2021-11-23T17:24:26.166282Z",
     "start_time": "2021-11-23T17:24:26.141167Z"
    }
   },
   "outputs": [
    {
     "name": "stdout",
     "output_type": "stream",
     "text": [
      "H2 is False: properties constructed before 1955 are in the mean only 1% less expensive\n"
     ]
    }
   ],
   "source": [
    "h2_percent = (h2.loc[1,'price'] - h2.loc[0,'price']) / h2.loc[1,'price']\n",
    "print('H2 is False: properties constructed before 1955 are in the mean only {0:.0%} less expensive'.format(h2_percent))"
   ]
  },
  {
   "cell_type": "markdown",
   "id": "232a0858",
   "metadata": {},
   "source": [
    "### H3: Properties without basement would have larger square footage"
   ]
  },
  {
   "cell_type": "code",
   "execution_count": 32,
   "id": "4f2d769c",
   "metadata": {
    "ExecuteTime": {
     "end_time": "2021-11-23T17:24:26.346083Z",
     "start_time": "2021-11-23T17:24:26.166282Z"
    },
    "code_folding": []
   },
   "outputs": [
    {
     "data": {
      "text/plain": [
       "<AxesSubplot:xlabel='basement', ylabel='sqft_lot'>"
      ]
     },
     "execution_count": 32,
     "metadata": {},
     "output_type": "execute_result"
    },
    {
     "data": {
      "image/png": "[encoded data removed]",
      "text/plain": [
       "<Figure size 720x432 with 1 Axes>"
      ]
     },
     "metadata": {},
     "output_type": "display_data"
    }
   ],
   "source": [
    "h3 = df3[['sqft_lot','basement']].groupby('basement').mean().reset_index()\n",
    "\n",
    "plt.figure(figsize=(10,6))\n",
    "sns.barplot(h3['basement'],h3['sqft_lot'])"
   ]
  },
  {
   "cell_type": "code",
   "execution_count": 33,
   "id": "5c203f8b",
   "metadata": {
    "ExecuteTime": {
     "end_time": "2021-11-23T17:24:26.366340Z",
     "start_time": "2021-11-23T17:24:26.346083Z"
    }
   },
   "outputs": [
    {
     "name": "stdout",
     "output_type": "stream",
     "text": [
      "H3 is True: properties with no basement have square footage 23% larger\n"
     ]
    }
   ],
   "source": [
    "h3_percent = (h3.loc[0,'sqft_lot'] - h3.loc[1,'sqft_lot']) / h3.loc[1,'sqft_lot']\n",
    "print('H3 is True: properties with no basement have square footage {0:.0%} larger'.format(h3_percent))"
   ]
  },
  {
   "cell_type": "markdown",
   "id": "a171e517",
   "metadata": {},
   "source": [
    "### H4: Prices would have rised up YoY (Year over Year)"
   ]
  },
  {
   "cell_type": "code",
   "execution_count": 34,
   "id": "7128e800",
   "metadata": {
    "ExecuteTime": {
     "end_time": "2021-11-23T17:24:26.506141Z",
     "start_time": "2021-11-23T17:24:26.366340Z"
    },
    "code_folding": []
   },
   "outputs": [
    {
     "data": {
      "text/plain": [
       "<AxesSubplot:xlabel='year', ylabel='price'>"
      ]
     },
     "execution_count": 34,
     "metadata": {},
     "output_type": "execute_result"
    },
    {
     "data": {
      "image/png": "[encoded data removed]",
      "text/plain": [
       "<Figure size 720x432 with 1 Axes>"
      ]
     },
     "metadata": {},
     "output_type": "display_data"
    }
   ],
   "source": [
    "h4 = df3[['price','year']].groupby('year').mean().reset_index()\n",
    "plt.figure(figsize=(10,6))\n",
    "sns.barplot(h4['year'],h4['price'])"
   ]
  },
  {
   "cell_type": "code",
   "execution_count": 35,
   "id": "2c0e4f98",
   "metadata": {
    "ExecuteTime": {
     "end_time": "2021-11-23T17:24:26.546233Z",
     "start_time": "2021-11-23T17:24:26.507700Z"
    }
   },
   "outputs": [
    {
     "name": "stdout",
     "output_type": "stream",
     "text": [
      "H4 is False: price growth from 2014 to 2015 was 0%\n"
     ]
    }
   ],
   "source": [
    "h4_percent = (h4.loc[1,'price'] - h4.loc[0,'price']) / h4.loc[0,'price']\n",
    "print('H4 is False: price growth from 2014 to 2015 was {0:.0%}'.format(h4_percent))"
   ]
  },
  {
   "cell_type": "markdown",
   "id": "381a9891",
   "metadata": {
    "ExecuteTime": {
     "end_time": "2021-09-04T19:46:11.631088Z",
     "start_time": "2021-09-04T19:46:11.312707Z"
    }
   },
   "source": [
    "### H5: Properties with more bedrooms would be more expensive"
   ]
  },
  {
   "cell_type": "code",
   "execution_count": 36,
   "id": "53d4a3c5",
   "metadata": {
    "ExecuteTime": {
     "end_time": "2021-11-23T17:24:26.766874Z",
     "start_time": "2021-11-23T17:24:26.546233Z"
    },
    "code_folding": []
   },
   "outputs": [
    {
     "data": {
      "image/png": "[encoded data removed]",
      "text/plain": [
       "<Figure size 1080x360 with 1 Axes>"
      ]
     },
     "metadata": {},
     "output_type": "display_data"
    }
   ],
   "source": [
    "h5 = df3[['price','bedrooms']].groupby('bedrooms').mean().reset_index()\n",
    "\n",
    "plt.figure(figsize=(15,5))\n",
    "sns.barplot(h5['bedrooms'],h5['price'])\n",
    "\n",
    "median = h5['bedrooms'].median()\n",
    "\n",
    "bed_above = h5['price'][h5['bedrooms'] > median].mean()\n",
    "bed_below = h5['price'][h5['bedrooms'] < median].mean()"
   ]
  },
  {
   "cell_type": "code",
   "execution_count": 37,
   "id": "5f886aca",
   "metadata": {
    "ExecuteTime": {
     "end_time": "2021-11-23T17:24:26.786227Z",
     "start_time": "2021-11-23T17:24:26.766874Z"
    }
   },
   "outputs": [
    {
     "name": "stdout",
     "output_type": "stream",
     "text": [
      "H5 is True: properties with more than 5 beds are 69% more expensive.\n"
     ]
    }
   ],
   "source": [
    "h5_percent = (bed_above - bed_below) / bed_below\n",
    "print('H5 is True: properties with more than 5 beds are {0:.0%} more expensive.'.format(h5_percent))"
   ]
  },
  {
   "cell_type": "markdown",
   "id": "9da6a474",
   "metadata": {},
   "source": [
    "# 4.0 BUSINESS QUESTIONS & SOLUTIONS"
   ]
  },
  {
   "cell_type": "code",
   "execution_count": 38,
   "id": "52259400",
   "metadata": {
    "ExecuteTime": {
     "end_time": "2021-11-23T17:24:26.846558Z",
     "start_time": "2021-11-23T17:24:26.786227Z"
    }
   },
   "outputs": [],
   "source": [
    "df4 = df2.copy()\n",
    "df4 = df4.dropna(axis=0)"
   ]
  },
  {
   "cell_type": "markdown",
   "id": "21aaae77",
   "metadata": {},
   "source": [
    "## 4.1 Map showing where the houses are geographically located"
   ]
  },
  {
   "cell_type": "code",
   "execution_count": 39,
   "id": "5939ef1f",
   "metadata": {
    "ExecuteTime": {
     "end_time": "2021-11-23T17:24:26.886269Z",
     "start_time": "2021-11-23T17:24:26.846558Z"
    }
   },
   "outputs": [],
   "source": [
    "df4['lat'] = df4['lat'].astype(float64)\n",
    "df4['long'] = df4['long'].astype(float64)"
   ]
  },
  {
   "cell_type": "code",
   "execution_count": 40,
   "id": "0d36d47c",
   "metadata": {
    "ExecuteTime": {
     "end_time": "2021-11-23T17:24:26.906112Z",
     "start_time": "2021-11-23T17:24:26.886269Z"
    }
   },
   "outputs": [],
   "source": [
    "df4['price'].fillna(0, inplace=True)"
   ]
  },
  {
   "cell_type": "code",
   "execution_count": 41,
   "id": "156edfb7",
   "metadata": {
    "ExecuteTime": {
     "end_time": "2021-11-23T17:24:26.921181Z",
     "start_time": "2021-11-23T17:24:26.908148Z"
    }
   },
   "outputs": [],
   "source": [
    "df4['waterfront'] = df4['waterfront'].apply(lambda x: \"yes\" if x==\"1\" else \"no\")"
   ]
  },
  {
   "cell_type": "code",
   "execution_count": 42,
   "id": "c87fd992",
   "metadata": {
    "ExecuteTime": {
     "end_time": "2021-11-23T17:24:27.026084Z",
     "start_time": "2021-11-23T17:24:26.926279Z"
    }
   },
   "outputs": [],
   "source": [
    "# Interactive buttons - widgets to control data\n",
    "\n",
    "style = {'description_width': 'initial'}\n",
    "\n",
    "# filter by waterfront\n",
    "waterfront_bar = widgets.Dropdown(\n",
    "    options=df4['waterfront'].unique().tolist(),\n",
    "    value='no',\n",
    "    description='Water View',\n",
    "    disable=False)\n",
    "\n",
    "# limit by price\n",
    "price_limit = widgets.IntSlider(\n",
    "    value=int(df4['price'].mean()),\n",
    "    min=int(df4['price'].min()),\n",
    "    max=int(df4['price'].max()),\n",
    "    step=1,\n",
    "    description='Maximum Price',\n",
    "    disable=False,\n",
    "    style={'description_width': 'initial'})\n",
    "\n",
    "# limit living room squarefootage\n",
    "livingroom_limit = widgets.IntSlider(\n",
    "    value=int(df4['sqft_living'].mean()),\n",
    "    min=df4['sqft_living'].min(),\n",
    "    max=df4['sqft_living'].max(),\n",
    "    step=1,\n",
    "    description='Minimum Living Room Size',\n",
    "    disable=False,\n",
    "    style={'description_width': 'initial'})\n",
    "\n",
    "# limit by bathrooms\n",
    "bathroom_limit = widgets.IntSlider(\n",
    "    value=df4['bathrooms'].min(),\n",
    "    min=df4['bathrooms'].min(),\n",
    "    max=df4['bathrooms'].max(),\n",
    "    step=1,\n",
    "    description='Minimum Number of Bathrooms',\n",
    "    disable=False,\n",
    "    style={'description_width': 'initial'})\n",
    "\n",
    "# limit basement squarefootage\n",
    "basement_limit = widgets.IntSlider(\n",
    "    value=int(df4['sqft_basement'].mean()),\n",
    "    min=df4['sqft_basement'].min(),\n",
    "    max=df4['sqft_basement'].max(),\n",
    "    step=1,\n",
    "    description='Maximum Basement Size',\n",
    "    disable=False,\n",
    "    style={'description_width': 'initial'})\n",
    "\n",
    "# limit property condition\n",
    "condition_limit = widgets.IntSlider(\n",
    "    value=df4['condition'].min(),\n",
    "    min=df4['condition'].min(),\n",
    "    max=df4['condition'].max(),\n",
    "    step=1,\n",
    "    description='Property Minimum Condition',\n",
    "    disable=False,\n",
    "    style={'description_width': 'initial'})\n",
    "\n",
    "# limit construction year\n",
    "construction_limit = widgets.IntSlider(\n",
    "    value=int(df4['yr_built'].mean()),\n",
    "    min=df4['yr_built'].min(),\n",
    "    max=df4['yr_built'].max(),\n",
    "    step=1,\n",
    "    description='Year of Construction from',\n",
    "    disable=False,\n",
    "    style={'description_width': 'initial'})"
   ]
  },
  {
   "cell_type": "code",
   "execution_count": 43,
   "id": "9bf35b9e",
   "metadata": {
    "ExecuteTime": {
     "end_time": "2021-11-23T17:24:27.045938Z",
     "start_time": "2021-11-23T17:24:27.026084Z"
    }
   },
   "outputs": [],
   "source": [
    "def update_map (df4, waterfront, limit, livingroom_limit, bathroom_limit, basement_limit, condition_limit, construction_limit):\n",
    "    \n",
    "    houses = df4[(df4['waterfront'] == waterfront) &\n",
    "                 (df4['price'] <= limit) & \n",
    "                 (df4['sqft_living'] >= livingroom_limit) &\n",
    "                 (df4['bathrooms'] >= bathroom_limit) &\n",
    "                 (df4['sqft_basement'] <= basement_limit) &\n",
    "                 (df4['condition'] >= condition_limit) &\n",
    "                 (df4['yr_built'] >= construction_limit)\n",
    "                ][['id', 'lat', 'long', 'price', 'price_level', 'sqft_living', 'bathrooms', 'sqft_basement', 'condition', 'yr_built']].copy()\n",
    "    \n",
    "    fig = px.scatter_mapbox(houses, lat='lat', lon='long', color='price_level', size='price', \n",
    "                         color_continuous_scale=px.colors.named_colorscales(),\n",
    "                         size_max=15,\n",
    "                         zoom=10)\n",
    "    fig.update_layout(mapbox_style='open-street-map')\n",
    "    fig.update_layout(height=600, margin={'r':0, 't':0, 'l':0, 'b':0})\n",
    "    fig.show()"
   ]
  },
  {
   "cell_type": "code",
   "execution_count": 44,
   "id": "7bc38b55",
   "metadata": {
    "ExecuteTime": {
     "end_time": "2021-11-23T17:24:28.156253Z",
     "start_time": "2021-11-23T17:24:27.045938Z"
    }
   },
   "outputs": [
    {
     "data": {
      "application/vnd.jupyter.widget-view+json": {
       "model_id": "865d2d71ce7449c498b805741b9e97cd",
       "version_major": 2,
       "version_minor": 0
      },
      "text/plain": [
       "interactive(children=(Dropdown(description='Water View', options=('no', 'yes'), value='no'), IntSlider(value=5…"
      ]
     },
     "metadata": {},
     "output_type": "display_data"
    }
   ],
   "source": [
    "widgets.interactive(update_map, df4=fixed(df4), \n",
    "                    waterfront=waterfront_bar, limit=price_limit, livingroom_limit=livingroom_limit, \n",
    "                    bathroom_limit=bathroom_limit, basement_limit=basement_limit, condition_limit=condition_limit, \n",
    "                    construction_limit=construction_limit)\n",
    "\n",
    "# USE KEYBOARD \"+\" AND \"-\" TO ZOOM IN/OUT THE MAP\n",
    "# EACH POINT INDICATES A PROPERTY AND ITS FEATURES"
   ]
  },
  {
   "cell_type": "markdown",
   "id": "918609e2",
   "metadata": {
    "ExecuteTime": {
     "end_time": "2021-11-02T00:28:38.046860Z",
     "start_time": "2021-11-02T00:28:37.780202Z"
    }
   },
   "source": [
    "## 4.2 Dashboard with interactive charts"
   ]
  },
  {
   "cell_type": "code",
   "execution_count": 45,
   "id": "327efae8",
   "metadata": {
    "ExecuteTime": {
     "end_time": "2021-11-23T17:24:28.176073Z",
     "start_time": "2021-11-23T17:24:28.156253Z"
    }
   },
   "outputs": [],
   "source": [
    "df5 = data.copy()"
   ]
  },
  {
   "cell_type": "code",
   "execution_count": 46,
   "id": "c1c2d040",
   "metadata": {
    "ExecuteTime": {
     "end_time": "2021-11-23T17:24:28.736286Z",
     "start_time": "2021-11-23T17:24:28.176073Z"
    }
   },
   "outputs": [],
   "source": [
    "# change date format\n",
    "df5['year'] = pd.to_datetime(data['date']).dt.strftime('%Y')\n",
    "df5['date'] = pd.to_datetime(data['date']).dt.strftime('%Y-%m-%d')\n",
    "df5['year_week'] = pd.to_datetime(data['date']).dt.strftime('%Y-%U')"
   ]
  },
  {
   "cell_type": "code",
   "execution_count": 47,
   "id": "bb67a06b",
   "metadata": {
    "ExecuteTime": {
     "end_time": "2021-11-23T17:24:28.756393Z",
     "start_time": "2021-11-23T17:24:28.736286Z"
    }
   },
   "outputs": [],
   "source": [
    "df5['id'] = df5['id'].astype(int64)\n",
    "df5['yr_built'] = df5['yr_built'].astype(int64)\n",
    "df5['yr_renovated'] = df5['yr_renovated'].astype(int64)"
   ]
  },
  {
   "cell_type": "code",
   "execution_count": 48,
   "id": "3f31cb4d",
   "metadata": {
    "ExecuteTime": {
     "end_time": "2021-11-23T17:24:28.776265Z",
     "start_time": "2021-11-23T17:24:28.756393Z"
    }
   },
   "outputs": [],
   "source": [
    "df5['yr_renovated'] = df5['yr_renovated'].replace(0, 1900)"
   ]
  },
  {
   "cell_type": "code",
   "execution_count": 49,
   "id": "deb4f388",
   "metadata": {
    "ExecuteTime": {
     "end_time": "2021-11-23T17:24:28.855970Z",
     "start_time": "2021-11-23T17:24:28.776265Z"
    }
   },
   "outputs": [],
   "source": [
    "# Interactive buttons - widgets to control data\n",
    "\n",
    "# filter by waterfront\n",
    "waterfront_box = widgets.Checkbox(\n",
    "    value=False,\n",
    "    options=df5.loc[:, 'waterfront'].unique().tolist(),\n",
    "    description='Water View',\n",
    "    disable=False,\n",
    "    indent=False)\n",
    "\n",
    "# property availability\n",
    "date_limit = widgets.SelectionSlider(\n",
    "    options=df5.loc[:, 'date'].sort_values().unique().tolist(),\n",
    "    value = df5['date'].max(),\n",
    "    description = \"Availability\",\n",
    "    style={'description_width':'initial'},\n",
    "    #disable=False,\n",
    "    continuous_update=False,\n",
    "    #orientation='horizontal',\n",
    "    readout=True )\n",
    "\n",
    "# renovation year\n",
    "renovation_limit = widgets.SelectionSlider(\n",
    "    options=df5.loc[:, 'yr_renovated'].sort_values().unique().tolist(),\n",
    "    value = 2000,\n",
    "    description = \"Renovation Year from\",\n",
    "    style={'description_width':'initial'},\n",
    "    disable=False,\n",
    "    continuous_update=False,\n",
    "    orientation='horizontal',\n",
    "    readout=True )"
   ]
  },
  {
   "cell_type": "code",
   "execution_count": 50,
   "id": "de5d65b3",
   "metadata": {
    "ExecuteTime": {
     "end_time": "2021-11-23T17:24:28.876238Z",
     "start_time": "2021-11-23T17:24:28.855970Z"
    }
   },
   "outputs": [],
   "source": [
    "def update_dashboard( df5, date_limit, renovation_limit, waterfront_box ):\n",
    "    \n",
    "    # Filtering data\n",
    "    df = df5[(df5['date'] <= date_limit) &\n",
    "             (df5['yr_renovated'] >= renovation_limit) &\n",
    "             (df5['waterfront'] == waterfront_box)][['id', 'price', 'date', 'yr_renovated', 'waterfront', 'year_week', 'year']].copy()\n",
    "    \n",
    "    fig = plt.figure(figsize=(24, 12))\n",
    "    \n",
    "    specs = gridspec.GridSpec( ncols=2, nrows=2, figure=fig )\n",
    "    \n",
    "    ax1 = fig.add_subplot( specs[0, :] ) # First row\n",
    "    ax2 = fig.add_subplot( specs[1, 0] ) # Second Row First Column\n",
    "    ax3 = fig.add_subplot( specs[1, 1] ) # Second Row Second Column  rows\n",
    "    \n",
    "    # first graph\n",
    "    by_year = df[['price', 'year']].groupby( 'year').sum().reset_index()\n",
    "#     ax1.bar( by_year['year'], by_year['id'] )\n",
    "    sns.barplot(x='year', y='price', data=by_year, ax=ax1)\n",
    "    \n",
    "    # second graph\n",
    "    by_day = df[['price', 'date']].groupby('date').mean().reset_index()\n",
    "#     ax2.plot( by_day['date'], by_day['price'] )\n",
    "#     ax2.set_title( 'title: Avg Price by Day' )\n",
    "    sns.lineplot(x='date', y='price', data=by_day, ax=ax2)\n",
    "    plt.xticks( rotation=90 );\n",
    "    \n",
    "    # third graph\n",
    "    by_week_of_year = df[['price', 'year_week']].groupby('year_week').mean().reset_index()\n",
    "#     ax3.bar( by_week_of_year['year_week'], by_week_of_year['price'] )\n",
    "#     ax3.set_title( 'title: Avg Price by Week Of Year' )\n",
    "#     plt.xticks( rotation=60 );\n",
    "    sns.barplot(x='year_week', y='price', data=by_week_of_year, ax=ax3)\n",
    "    plt.xticks( rotation=90 );"
   ]
  },
  {
   "cell_type": "code",
   "execution_count": 51,
   "id": "b7da199d",
   "metadata": {
    "ExecuteTime": {
     "end_time": "2021-11-23T17:26:38.977897Z",
     "start_time": "2021-11-23T17:26:33.959046Z"
    }
   },
   "outputs": [
    {
     "data": {
      "application/vnd.jupyter.widget-view+json": {
       "model_id": "29d20cc32f2246b385c44bd4d41933ea",
       "version_major": 2,
       "version_minor": 0
      },
      "text/plain": [
       "interactive(children=(SelectionSlider(continuous_update=False, description='Availability', index=371, options=…"
      ]
     },
     "metadata": {},
     "output_type": "display_data"
    }
   ],
   "source": [
    "widgets.interactive(update_dashboard, df5=fixed(df5), \n",
    "                    date_limit=date_limit, \n",
    "                    renovation_limit=renovation_limit, \n",
    "                    waterfront_box=waterfront_box)"
   ]
  }
 ],
 "metadata": {
  "kernelspec": {
   "display_name": "Python 3 (ipykernel)",
   "language": "python",
   "name": "python3"
  },
  "language_info": {
   "codemirror_mode": {
    "name": "ipython",
    "version": 3
   },
   "file_extension": ".py",
   "mimetype": "text/x-python",
   "name": "python",
   "nbconvert_exporter": "python",
   "pygments_lexer": "ipython3",
   "version": "3.9.7"
  }
 },
 "nbformat": 4,
 "nbformat_minor": 5
}
